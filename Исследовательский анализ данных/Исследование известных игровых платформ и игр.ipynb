{
 "cells": [
  {
   "cell_type": "markdown",
   "metadata": {},
   "source": [
    "## Сборный проект №1. Исследование известных игровых платформ и игр\n",
    "### Описание проекта"
   ]
  },
  {
   "cell_type": "markdown",
   "metadata": {},
   "source": [
    "В ходе проекта необходимо провести исследование опыта известных платформ и игр. Для анализа имеется информация об играх и продажах в Европе (EU), Северной Америке (NA) и России (RU). В результате проекта нужно принять решение, какую игру следует разработать."
   ]
  },
  {
   "cell_type": "markdown",
   "metadata": {},
   "source": [
    "### Цели проекта\n",
    "* Провести предобработку данных\n",
    "* Провести исследовательский анализ данных\n",
    "* Составить портрет пользователя для каждого региона\n",
    "* Проверить гипотезы\n",
    "* Написать выводы по проекту\n",
    "\n",
    "------"
   ]
  },
  {
   "cell_type": "markdown",
   "metadata": {},
   "source": [
    "## Этап 1. Предобработка данных\n",
    "### Общая информация о данных"
   ]
  },
  {
   "cell_type": "markdown",
   "metadata": {},
   "source": [
    "Импортируем необходимые модули и библиотеки."
   ]
  },
  {
   "cell_type": "code",
   "execution_count": 2,
   "metadata": {},
   "outputs": [],
   "source": [
    "import pandas as pd\n",
    "import matplotlib.pyplot as plt \n",
    "import numpy as np\n",
    "from scipy import stats as st"
   ]
  },
  {
   "cell_type": "markdown",
   "metadata": {},
   "source": [
    "Прочитаем файлы *games.csv* и *rating.csv* и сохраним их в переменных `data_games` и `data_rating` соответственно."
   ]
  },
  {
   "cell_type": "code",
   "execution_count": 51,
   "metadata": {},
   "outputs": [],
   "source": [
    "data_games = pd.read_csv('/datasets/games.csv')"
   ]
  },
  {
   "cell_type": "code",
   "execution_count": 52,
   "metadata": {},
   "outputs": [],
   "source": [
    "data_rating = pd.read_csv('/datasets/rating.csv')"
   ]
  },
  {
   "cell_type": "markdown",
   "metadata": {},
   "source": [
    "Выведем на экран первые 10 строк таблиц `data_games` и `data_rating` и общую информацию о данных."
   ]
  },
  {
   "cell_type": "code",
   "execution_count": 53,
   "metadata": {},
   "outputs": [
    {
     "data": {
      "text/html": [
       "<div>\n",
       "<style scoped>\n",
       "    .dataframe tbody tr th:only-of-type {\n",
       "        vertical-align: middle;\n",
       "    }\n",
       "\n",
       "    .dataframe tbody tr th {\n",
       "        vertical-align: top;\n",
       "    }\n",
       "\n",
       "    .dataframe thead th {\n",
       "        text-align: right;\n",
       "    }\n",
       "</style>\n",
       "<table border=\"1\" class=\"dataframe\">\n",
       "  <thead>\n",
       "    <tr style=\"text-align: right;\">\n",
       "      <th></th>\n",
       "      <th>Name</th>\n",
       "      <th>Platform</th>\n",
       "      <th>Year_of_Release</th>\n",
       "      <th>Genre</th>\n",
       "      <th>NA_players</th>\n",
       "      <th>EU_players</th>\n",
       "      <th>RU_players</th>\n",
       "      <th>Other_players</th>\n",
       "      <th>Critic_Score</th>\n",
       "      <th>User_Score</th>\n",
       "      <th>Rating</th>\n",
       "    </tr>\n",
       "  </thead>\n",
       "  <tbody>\n",
       "    <tr>\n",
       "      <th>0</th>\n",
       "      <td>Wii Sports</td>\n",
       "      <td>Wii</td>\n",
       "      <td>2006.0</td>\n",
       "      <td>Sports</td>\n",
       "      <td>41.36</td>\n",
       "      <td>28.96</td>\n",
       "      <td>3.77</td>\n",
       "      <td>8.45</td>\n",
       "      <td>76.0</td>\n",
       "      <td>8</td>\n",
       "      <td>E</td>\n",
       "    </tr>\n",
       "    <tr>\n",
       "      <th>1</th>\n",
       "      <td>Super Mario Bros.</td>\n",
       "      <td>NES</td>\n",
       "      <td>1985.0</td>\n",
       "      <td>Platform</td>\n",
       "      <td>29.08</td>\n",
       "      <td>3.58</td>\n",
       "      <td>6.81</td>\n",
       "      <td>0.77</td>\n",
       "      <td>NaN</td>\n",
       "      <td>NaN</td>\n",
       "      <td>NaN</td>\n",
       "    </tr>\n",
       "    <tr>\n",
       "      <th>2</th>\n",
       "      <td>Mario Kart Wii</td>\n",
       "      <td>Wii</td>\n",
       "      <td>2008.0</td>\n",
       "      <td>Racing</td>\n",
       "      <td>15.68</td>\n",
       "      <td>12.76</td>\n",
       "      <td>3.79</td>\n",
       "      <td>3.29</td>\n",
       "      <td>82.0</td>\n",
       "      <td>8.3</td>\n",
       "      <td>E</td>\n",
       "    </tr>\n",
       "    <tr>\n",
       "      <th>3</th>\n",
       "      <td>Wii Sports Resort</td>\n",
       "      <td>Wii</td>\n",
       "      <td>2009.0</td>\n",
       "      <td>Sports</td>\n",
       "      <td>15.61</td>\n",
       "      <td>10.93</td>\n",
       "      <td>3.28</td>\n",
       "      <td>2.95</td>\n",
       "      <td>80.0</td>\n",
       "      <td>8</td>\n",
       "      <td>E</td>\n",
       "    </tr>\n",
       "    <tr>\n",
       "      <th>4</th>\n",
       "      <td>Pokemon Red/Pokemon Blue</td>\n",
       "      <td>GB</td>\n",
       "      <td>1996.0</td>\n",
       "      <td>Role-Playing</td>\n",
       "      <td>11.27</td>\n",
       "      <td>8.89</td>\n",
       "      <td>10.22</td>\n",
       "      <td>1.00</td>\n",
       "      <td>NaN</td>\n",
       "      <td>NaN</td>\n",
       "      <td>NaN</td>\n",
       "    </tr>\n",
       "    <tr>\n",
       "      <th>5</th>\n",
       "      <td>Tetris</td>\n",
       "      <td>GB</td>\n",
       "      <td>1989.0</td>\n",
       "      <td>Puzzle</td>\n",
       "      <td>23.20</td>\n",
       "      <td>2.26</td>\n",
       "      <td>4.22</td>\n",
       "      <td>0.58</td>\n",
       "      <td>NaN</td>\n",
       "      <td>NaN</td>\n",
       "      <td>NaN</td>\n",
       "    </tr>\n",
       "    <tr>\n",
       "      <th>6</th>\n",
       "      <td>New Super Mario Bros.</td>\n",
       "      <td>DS</td>\n",
       "      <td>2006.0</td>\n",
       "      <td>Platform</td>\n",
       "      <td>11.28</td>\n",
       "      <td>9.14</td>\n",
       "      <td>6.50</td>\n",
       "      <td>2.88</td>\n",
       "      <td>89.0</td>\n",
       "      <td>8.5</td>\n",
       "      <td>E</td>\n",
       "    </tr>\n",
       "    <tr>\n",
       "      <th>7</th>\n",
       "      <td>Wii Play</td>\n",
       "      <td>Wii</td>\n",
       "      <td>2006.0</td>\n",
       "      <td>Misc</td>\n",
       "      <td>13.96</td>\n",
       "      <td>9.18</td>\n",
       "      <td>2.93</td>\n",
       "      <td>2.84</td>\n",
       "      <td>58.0</td>\n",
       "      <td>6.6</td>\n",
       "      <td>E</td>\n",
       "    </tr>\n",
       "    <tr>\n",
       "      <th>8</th>\n",
       "      <td>New Super Mario Bros. Wii</td>\n",
       "      <td>Wii</td>\n",
       "      <td>2009.0</td>\n",
       "      <td>Platform</td>\n",
       "      <td>14.44</td>\n",
       "      <td>6.94</td>\n",
       "      <td>4.70</td>\n",
       "      <td>2.24</td>\n",
       "      <td>87.0</td>\n",
       "      <td>8.4</td>\n",
       "      <td>E</td>\n",
       "    </tr>\n",
       "    <tr>\n",
       "      <th>9</th>\n",
       "      <td>Duck Hunt</td>\n",
       "      <td>NES</td>\n",
       "      <td>1984.0</td>\n",
       "      <td>Shooter</td>\n",
       "      <td>26.93</td>\n",
       "      <td>0.63</td>\n",
       "      <td>0.28</td>\n",
       "      <td>0.47</td>\n",
       "      <td>NaN</td>\n",
       "      <td>NaN</td>\n",
       "      <td>NaN</td>\n",
       "    </tr>\n",
       "  </tbody>\n",
       "</table>\n",
       "</div>"
      ],
      "text/plain": [
       "                        Name Platform  Year_of_Release         Genre  \\\n",
       "0                 Wii Sports      Wii           2006.0        Sports   \n",
       "1          Super Mario Bros.      NES           1985.0      Platform   \n",
       "2             Mario Kart Wii      Wii           2008.0        Racing   \n",
       "3          Wii Sports Resort      Wii           2009.0        Sports   \n",
       "4   Pokemon Red/Pokemon Blue       GB           1996.0  Role-Playing   \n",
       "5                     Tetris       GB           1989.0        Puzzle   \n",
       "6      New Super Mario Bros.       DS           2006.0      Platform   \n",
       "7                   Wii Play      Wii           2006.0          Misc   \n",
       "8  New Super Mario Bros. Wii      Wii           2009.0      Platform   \n",
       "9                  Duck Hunt      NES           1984.0       Shooter   \n",
       "\n",
       "   NA_players  EU_players  RU_players  Other_players  Critic_Score User_Score  \\\n",
       "0       41.36       28.96        3.77           8.45          76.0          8   \n",
       "1       29.08        3.58        6.81           0.77           NaN        NaN   \n",
       "2       15.68       12.76        3.79           3.29          82.0        8.3   \n",
       "3       15.61       10.93        3.28           2.95          80.0          8   \n",
       "4       11.27        8.89       10.22           1.00           NaN        NaN   \n",
       "5       23.20        2.26        4.22           0.58           NaN        NaN   \n",
       "6       11.28        9.14        6.50           2.88          89.0        8.5   \n",
       "7       13.96        9.18        2.93           2.84          58.0        6.6   \n",
       "8       14.44        6.94        4.70           2.24          87.0        8.4   \n",
       "9       26.93        0.63        0.28           0.47           NaN        NaN   \n",
       "\n",
       "  Rating  \n",
       "0      E  \n",
       "1    NaN  \n",
       "2      E  \n",
       "3      E  \n",
       "4    NaN  \n",
       "5    NaN  \n",
       "6      E  \n",
       "7      E  \n",
       "8      E  \n",
       "9    NaN  "
      ]
     },
     "execution_count": 53,
     "metadata": {},
     "output_type": "execute_result"
    }
   ],
   "source": [
    "data_games.head(10)"
   ]
  },
  {
   "cell_type": "code",
   "execution_count": 54,
   "metadata": {},
   "outputs": [
    {
     "name": "stdout",
     "output_type": "stream",
     "text": [
      "<class 'pandas.core.frame.DataFrame'>\n",
      "RangeIndex: 16719 entries, 0 to 16718\n",
      "Data columns (total 11 columns):\n",
      "Name               16717 non-null object\n",
      "Platform           16719 non-null object\n",
      "Year_of_Release    16450 non-null float64\n",
      "Genre              16717 non-null object\n",
      "NA_players         16719 non-null float64\n",
      "EU_players         16719 non-null float64\n",
      "RU_players         16719 non-null float64\n",
      "Other_players      16719 non-null float64\n",
      "Critic_Score       8137 non-null float64\n",
      "User_Score         10015 non-null object\n",
      "Rating             9950 non-null object\n",
      "dtypes: float64(6), object(5)\n",
      "memory usage: 1.4+ MB\n"
     ]
    }
   ],
   "source": [
    "data_games.info()"
   ]
  },
  {
   "cell_type": "code",
   "execution_count": 55,
   "metadata": {},
   "outputs": [
    {
     "data": {
      "text/html": [
       "<div>\n",
       "<style scoped>\n",
       "    .dataframe tbody tr th:only-of-type {\n",
       "        vertical-align: middle;\n",
       "    }\n",
       "\n",
       "    .dataframe tbody tr th {\n",
       "        vertical-align: top;\n",
       "    }\n",
       "\n",
       "    .dataframe thead th {\n",
       "        text-align: right;\n",
       "    }\n",
       "</style>\n",
       "<table border=\"1\" class=\"dataframe\">\n",
       "  <thead>\n",
       "    <tr style=\"text-align: right;\">\n",
       "      <th></th>\n",
       "      <th>rating_type</th>\n",
       "      <th>decryption</th>\n",
       "    </tr>\n",
       "  </thead>\n",
       "  <tbody>\n",
       "    <tr>\n",
       "      <th>0</th>\n",
       "      <td>E</td>\n",
       "      <td>Для всех</td>\n",
       "    </tr>\n",
       "    <tr>\n",
       "      <th>1</th>\n",
       "      <td>M</td>\n",
       "      <td>От 17 лет</td>\n",
       "    </tr>\n",
       "    <tr>\n",
       "      <th>2</th>\n",
       "      <td>T</td>\n",
       "      <td>Подросткам 13—19 лет</td>\n",
       "    </tr>\n",
       "    <tr>\n",
       "      <th>3</th>\n",
       "      <td>E10+</td>\n",
       "      <td>Для всех старше 10 лет</td>\n",
       "    </tr>\n",
       "    <tr>\n",
       "      <th>4</th>\n",
       "      <td>K-A</td>\n",
       "      <td>Для всех(до 1998 года)</td>\n",
       "    </tr>\n",
       "    <tr>\n",
       "      <th>5</th>\n",
       "      <td>AO</td>\n",
       "      <td>Только для взрослых</td>\n",
       "    </tr>\n",
       "    <tr>\n",
       "      <th>6</th>\n",
       "      <td>EC</td>\n",
       "      <td>Для детей младшего возраста</td>\n",
       "    </tr>\n",
       "    <tr>\n",
       "      <th>7</th>\n",
       "      <td>RP</td>\n",
       "      <td>Рейтинг ожидается</td>\n",
       "    </tr>\n",
       "  </tbody>\n",
       "</table>\n",
       "</div>"
      ],
      "text/plain": [
       "  rating_type                   decryption\n",
       "0           E                     Для всех\n",
       "1           M                    От 17 лет\n",
       "2           T         Подросткам 13—19 лет\n",
       "3        E10+       Для всех старше 10 лет\n",
       "4         K-A       Для всех(до 1998 года)\n",
       "5          AO          Только для взрослых\n",
       "6          EC  Для детей младшего возраста\n",
       "7          RP            Рейтинг ожидается"
      ]
     },
     "execution_count": 55,
     "metadata": {},
     "output_type": "execute_result"
    }
   ],
   "source": [
    "data_rating"
   ]
  },
  {
   "cell_type": "code",
   "execution_count": 56,
   "metadata": {},
   "outputs": [
    {
     "name": "stdout",
     "output_type": "stream",
     "text": [
      "<class 'pandas.core.frame.DataFrame'>\n",
      "RangeIndex: 8 entries, 0 to 7\n",
      "Data columns (total 2 columns):\n",
      "rating_type    8 non-null object\n",
      "decryption     8 non-null object\n",
      "dtypes: object(2)\n",
      "memory usage: 208.0+ bytes\n"
     ]
    }
   ],
   "source": [
    "data_rating.info()"
   ]
  },
  {
   "cell_type": "markdown",
   "metadata": {},
   "source": [
    "В данных имеются пропуски и некорректные типы данных, например, в столбцах *'Year_of_Release'* и *'Critic_Score'*. Пропуски в столбцах *'Name'* и *'Year_of_Release'* возникли, скорее всего, в результате ошибок в сборе информации, либо выгрузке данных, так как такая информация у игр должна быть точно. \n",
    "\n",
    "Пропуски в столбцах *'Critic_Score'* и *'User_Score'* скорее всего означают, что на данные игры просто отсутствуют отзывы, либо это опять же ошибки в сборе информации, загрузке / выгрузке данных.\n",
    "\n",
    "Пропуски в столбце *'Rating'* означают, скорее всего, ошибки при сборе информации и загрузке / выгрузке данных, так как их очень много, и мало верится, что у такого количества игр нет рейтинка возрастной категории. В этом случае необходимо отправить запрос на уточнение данных специалистам, которые предоставили данные."
   ]
  },
  {
   "cell_type": "markdown",
   "metadata": {},
   "source": [
    "Для удобства работы поменяем названия столобцов."
   ]
  },
  {
   "cell_type": "code",
   "execution_count": 57,
   "metadata": {},
   "outputs": [],
   "source": [
    "new_columns = ['name', 'platform', 'year_of_release', 'genre', 'north_america', 'europe', 'russia', 'other', 'critic_score', \n",
    "               'user_score', 'rating']"
   ]
  },
  {
   "cell_type": "code",
   "execution_count": 58,
   "metadata": {},
   "outputs": [],
   "source": [
    "data_games.set_axis (new_columns, axis='columns', inplace=True)"
   ]
  },
  {
   "cell_type": "markdown",
   "metadata": {},
   "source": [
    "Посчитаем количество продаж во всех регионах, добавим новый столбец *'total_sales'*."
   ]
  },
  {
   "cell_type": "code",
   "execution_count": 59,
   "metadata": {},
   "outputs": [],
   "source": [
    "data_games['total_sales'] = data_games['north_america'] + data_games['europe'] + data_games['russia'] + data_games['other']"
   ]
  },
  {
   "cell_type": "markdown",
   "metadata": {},
   "source": [
    "------"
   ]
  },
  {
   "cell_type": "markdown",
   "metadata": {},
   "source": [
    "### Работа с пропусками и приведение данных к нужным типам"
   ]
  },
  {
   "cell_type": "markdown",
   "metadata": {},
   "source": [
    "Заменим пропуски в столбцах *'name'*, *'genre'* и *'rating'* на *'unknown'*."
   ]
  },
  {
   "cell_type": "code",
   "execution_count": 60,
   "metadata": {},
   "outputs": [],
   "source": [
    "data_games['name'] = data_games['name'].fillna('unknown')"
   ]
  },
  {
   "cell_type": "code",
   "execution_count": 61,
   "metadata": {},
   "outputs": [],
   "source": [
    "data_games['genre'] = data_games['genre'].fillna('unknown')"
   ]
  },
  {
   "cell_type": "code",
   "execution_count": 62,
   "metadata": {},
   "outputs": [],
   "source": [
    "data_games['rating'] = data_games['rating'].fillna('unknown')"
   ]
  },
  {
   "cell_type": "markdown",
   "metadata": {},
   "source": [
    "По поводу пропусков в значениях столбца *'year_of_release'* замена медианой или средним выглядит не совсем корректно. Учитывая относительно небольшое количество пропусков удалим из данных строки с пропусками."
   ]
  },
  {
   "cell_type": "code",
   "execution_count": 63,
   "metadata": {},
   "outputs": [],
   "source": [
    "data_games.dropna(subset = ['year_of_release'], inplace = True)"
   ]
  },
  {
   "cell_type": "markdown",
   "metadata": {},
   "source": [
    "Поменяем тип данных на целочисленный."
   ]
  },
  {
   "cell_type": "code",
   "execution_count": 64,
   "metadata": {},
   "outputs": [],
   "source": [
    "data_games['year_of_release'] = data_games['year_of_release'].astype('int')"
   ]
  },
  {
   "cell_type": "markdown",
   "metadata": {},
   "source": [
    "Займемся пропусками в значениях столбца *'critic_score'*. Для начала посмотрим на уникальные значения столбца."
   ]
  },
  {
   "cell_type": "code",
   "execution_count": 65,
   "metadata": {},
   "outputs": [
    {
     "data": {
      "text/plain": [
       "array([76., nan, 82., 80., 89., 58., 87., 91., 61., 97., 95., 77., 88.,\n",
       "       83., 94., 93., 85., 86., 98., 96., 90., 84., 73., 74., 78., 92.,\n",
       "       71., 72., 68., 62., 49., 67., 81., 66., 56., 79., 70., 59., 64.,\n",
       "       75., 60., 63., 69., 50., 25., 42., 44., 55., 48., 57., 29., 47.,\n",
       "       65., 54., 20., 53., 37., 38., 33., 52., 30., 32., 43., 45., 51.,\n",
       "       40., 46., 39., 34., 41., 36., 31., 27., 35., 26., 19., 28., 23.,\n",
       "       24., 21., 17., 13.])"
      ]
     },
     "execution_count": 65,
     "metadata": {},
     "output_type": "execute_result"
    }
   ],
   "source": [
    "data_games['critic_score'].unique()"
   ]
  },
  {
   "cell_type": "markdown",
   "metadata": {},
   "source": [
    "Заменим пропуски на значение 0 и поменяем тип данных на целочисленный."
   ]
  },
  {
   "cell_type": "code",
   "execution_count": 66,
   "metadata": {},
   "outputs": [],
   "source": [
    "data_games['critic_score'] = data_games['critic_score'].fillna(0)"
   ]
  },
  {
   "cell_type": "code",
   "execution_count": 67,
   "metadata": {},
   "outputs": [],
   "source": [
    "data_games['critic_score'] = data_games['critic_score'].astype('int')"
   ]
  },
  {
   "cell_type": "markdown",
   "metadata": {},
   "source": [
    "Займемся пропусками в значениях столбца *'user_score'*. Для начала посмотрим на уникальные значения столбца."
   ]
  },
  {
   "cell_type": "code",
   "execution_count": 68,
   "metadata": {},
   "outputs": [
    {
     "data": {
      "text/plain": [
       "array(['8', nan, '8.3', '8.5', '6.6', '8.4', '8.6', '7.7', '6.3', '7.4',\n",
       "       '8.2', '9', '7.9', '8.1', '8.7', '7.1', '3.4', '5.3', '4.8', '3.2',\n",
       "       '8.9', '6.4', '7.8', '7.5', '2.6', '7.2', '9.2', '7', '7.3', '4.3',\n",
       "       '7.6', '5.7', '5', '9.1', '6.5', 'tbd', '8.8', '6.9', '9.4', '6.8',\n",
       "       '6.1', '6.7', '5.4', '4', '4.9', '4.5', '9.3', '6.2', '4.2', '6',\n",
       "       '3.7', '4.1', '5.8', '5.6', '5.5', '4.4', '4.6', '5.9', '3.9',\n",
       "       '3.1', '2.9', '5.2', '3.3', '4.7', '5.1', '3.5', '2.5', '1.9', '3',\n",
       "       '2.7', '2.2', '2', '9.5', '2.1', '3.6', '2.8', '1.8', '3.8', '0',\n",
       "       '1.6', '9.6', '2.4', '1.7', '1.1', '0.3', '1.5', '0.7', '1.2',\n",
       "       '2.3', '0.5', '1.3', '0.2', '0.6', '1.4', '0.9', '1', '9.7'],\n",
       "      dtype=object)"
      ]
     },
     "execution_count": 68,
     "metadata": {},
     "output_type": "execute_result"
    }
   ],
   "source": [
    "data_games['user_score'].unique()"
   ]
  },
  {
   "cell_type": "markdown",
   "metadata": {},
   "source": [
    "Замениим пропуски и значения 'tbd' на '0'."
   ]
  },
  {
   "cell_type": "code",
   "execution_count": 69,
   "metadata": {},
   "outputs": [],
   "source": [
    "data_games['user_score'] = data_games['user_score'].fillna('0')"
   ]
  },
  {
   "cell_type": "code",
   "execution_count": 70,
   "metadata": {},
   "outputs": [],
   "source": [
    "data_games.loc[data_games['user_score'] == 'tbd', 'user_score'] = '0'"
   ]
  },
  {
   "cell_type": "markdown",
   "metadata": {},
   "source": [
    "Для перевода строковых значений в числа используем метод `to_numeric()`."
   ]
  },
  {
   "cell_type": "code",
   "execution_count": 71,
   "metadata": {},
   "outputs": [],
   "source": [
    "data_games['user_score'] = pd.to_numeric(data_games['user_score'])"
   ]
  },
  {
   "cell_type": "markdown",
   "metadata": {},
   "source": [
    "Посмотрим, что получилось, выведем первые 10 строк и информацию о данных таблицы `data_games` на экран."
   ]
  },
  {
   "cell_type": "code",
   "execution_count": 72,
   "metadata": {},
   "outputs": [
    {
     "data": {
      "text/html": [
       "<div>\n",
       "<style scoped>\n",
       "    .dataframe tbody tr th:only-of-type {\n",
       "        vertical-align: middle;\n",
       "    }\n",
       "\n",
       "    .dataframe tbody tr th {\n",
       "        vertical-align: top;\n",
       "    }\n",
       "\n",
       "    .dataframe thead th {\n",
       "        text-align: right;\n",
       "    }\n",
       "</style>\n",
       "<table border=\"1\" class=\"dataframe\">\n",
       "  <thead>\n",
       "    <tr style=\"text-align: right;\">\n",
       "      <th></th>\n",
       "      <th>name</th>\n",
       "      <th>platform</th>\n",
       "      <th>year_of_release</th>\n",
       "      <th>genre</th>\n",
       "      <th>north_america</th>\n",
       "      <th>europe</th>\n",
       "      <th>russia</th>\n",
       "      <th>other</th>\n",
       "      <th>critic_score</th>\n",
       "      <th>user_score</th>\n",
       "      <th>rating</th>\n",
       "      <th>total_sales</th>\n",
       "    </tr>\n",
       "  </thead>\n",
       "  <tbody>\n",
       "    <tr>\n",
       "      <th>0</th>\n",
       "      <td>Wii Sports</td>\n",
       "      <td>Wii</td>\n",
       "      <td>2006</td>\n",
       "      <td>Sports</td>\n",
       "      <td>41.36</td>\n",
       "      <td>28.96</td>\n",
       "      <td>3.77</td>\n",
       "      <td>8.45</td>\n",
       "      <td>76</td>\n",
       "      <td>8.0</td>\n",
       "      <td>E</td>\n",
       "      <td>82.54</td>\n",
       "    </tr>\n",
       "    <tr>\n",
       "      <th>1</th>\n",
       "      <td>Super Mario Bros.</td>\n",
       "      <td>NES</td>\n",
       "      <td>1985</td>\n",
       "      <td>Platform</td>\n",
       "      <td>29.08</td>\n",
       "      <td>3.58</td>\n",
       "      <td>6.81</td>\n",
       "      <td>0.77</td>\n",
       "      <td>0</td>\n",
       "      <td>0.0</td>\n",
       "      <td>unknown</td>\n",
       "      <td>40.24</td>\n",
       "    </tr>\n",
       "    <tr>\n",
       "      <th>2</th>\n",
       "      <td>Mario Kart Wii</td>\n",
       "      <td>Wii</td>\n",
       "      <td>2008</td>\n",
       "      <td>Racing</td>\n",
       "      <td>15.68</td>\n",
       "      <td>12.76</td>\n",
       "      <td>3.79</td>\n",
       "      <td>3.29</td>\n",
       "      <td>82</td>\n",
       "      <td>8.3</td>\n",
       "      <td>E</td>\n",
       "      <td>35.52</td>\n",
       "    </tr>\n",
       "    <tr>\n",
       "      <th>3</th>\n",
       "      <td>Wii Sports Resort</td>\n",
       "      <td>Wii</td>\n",
       "      <td>2009</td>\n",
       "      <td>Sports</td>\n",
       "      <td>15.61</td>\n",
       "      <td>10.93</td>\n",
       "      <td>3.28</td>\n",
       "      <td>2.95</td>\n",
       "      <td>80</td>\n",
       "      <td>8.0</td>\n",
       "      <td>E</td>\n",
       "      <td>32.77</td>\n",
       "    </tr>\n",
       "    <tr>\n",
       "      <th>4</th>\n",
       "      <td>Pokemon Red/Pokemon Blue</td>\n",
       "      <td>GB</td>\n",
       "      <td>1996</td>\n",
       "      <td>Role-Playing</td>\n",
       "      <td>11.27</td>\n",
       "      <td>8.89</td>\n",
       "      <td>10.22</td>\n",
       "      <td>1.00</td>\n",
       "      <td>0</td>\n",
       "      <td>0.0</td>\n",
       "      <td>unknown</td>\n",
       "      <td>31.38</td>\n",
       "    </tr>\n",
       "    <tr>\n",
       "      <th>5</th>\n",
       "      <td>Tetris</td>\n",
       "      <td>GB</td>\n",
       "      <td>1989</td>\n",
       "      <td>Puzzle</td>\n",
       "      <td>23.20</td>\n",
       "      <td>2.26</td>\n",
       "      <td>4.22</td>\n",
       "      <td>0.58</td>\n",
       "      <td>0</td>\n",
       "      <td>0.0</td>\n",
       "      <td>unknown</td>\n",
       "      <td>30.26</td>\n",
       "    </tr>\n",
       "    <tr>\n",
       "      <th>6</th>\n",
       "      <td>New Super Mario Bros.</td>\n",
       "      <td>DS</td>\n",
       "      <td>2006</td>\n",
       "      <td>Platform</td>\n",
       "      <td>11.28</td>\n",
       "      <td>9.14</td>\n",
       "      <td>6.50</td>\n",
       "      <td>2.88</td>\n",
       "      <td>89</td>\n",
       "      <td>8.5</td>\n",
       "      <td>E</td>\n",
       "      <td>29.80</td>\n",
       "    </tr>\n",
       "    <tr>\n",
       "      <th>7</th>\n",
       "      <td>Wii Play</td>\n",
       "      <td>Wii</td>\n",
       "      <td>2006</td>\n",
       "      <td>Misc</td>\n",
       "      <td>13.96</td>\n",
       "      <td>9.18</td>\n",
       "      <td>2.93</td>\n",
       "      <td>2.84</td>\n",
       "      <td>58</td>\n",
       "      <td>6.6</td>\n",
       "      <td>E</td>\n",
       "      <td>28.91</td>\n",
       "    </tr>\n",
       "    <tr>\n",
       "      <th>8</th>\n",
       "      <td>New Super Mario Bros. Wii</td>\n",
       "      <td>Wii</td>\n",
       "      <td>2009</td>\n",
       "      <td>Platform</td>\n",
       "      <td>14.44</td>\n",
       "      <td>6.94</td>\n",
       "      <td>4.70</td>\n",
       "      <td>2.24</td>\n",
       "      <td>87</td>\n",
       "      <td>8.4</td>\n",
       "      <td>E</td>\n",
       "      <td>28.32</td>\n",
       "    </tr>\n",
       "    <tr>\n",
       "      <th>9</th>\n",
       "      <td>Duck Hunt</td>\n",
       "      <td>NES</td>\n",
       "      <td>1984</td>\n",
       "      <td>Shooter</td>\n",
       "      <td>26.93</td>\n",
       "      <td>0.63</td>\n",
       "      <td>0.28</td>\n",
       "      <td>0.47</td>\n",
       "      <td>0</td>\n",
       "      <td>0.0</td>\n",
       "      <td>unknown</td>\n",
       "      <td>28.31</td>\n",
       "    </tr>\n",
       "  </tbody>\n",
       "</table>\n",
       "</div>"
      ],
      "text/plain": [
       "                        name platform  year_of_release         genre  \\\n",
       "0                 Wii Sports      Wii             2006        Sports   \n",
       "1          Super Mario Bros.      NES             1985      Platform   \n",
       "2             Mario Kart Wii      Wii             2008        Racing   \n",
       "3          Wii Sports Resort      Wii             2009        Sports   \n",
       "4   Pokemon Red/Pokemon Blue       GB             1996  Role-Playing   \n",
       "5                     Tetris       GB             1989        Puzzle   \n",
       "6      New Super Mario Bros.       DS             2006      Platform   \n",
       "7                   Wii Play      Wii             2006          Misc   \n",
       "8  New Super Mario Bros. Wii      Wii             2009      Platform   \n",
       "9                  Duck Hunt      NES             1984       Shooter   \n",
       "\n",
       "   north_america  europe  russia  other  critic_score  user_score   rating  \\\n",
       "0          41.36   28.96    3.77   8.45            76         8.0        E   \n",
       "1          29.08    3.58    6.81   0.77             0         0.0  unknown   \n",
       "2          15.68   12.76    3.79   3.29            82         8.3        E   \n",
       "3          15.61   10.93    3.28   2.95            80         8.0        E   \n",
       "4          11.27    8.89   10.22   1.00             0         0.0  unknown   \n",
       "5          23.20    2.26    4.22   0.58             0         0.0  unknown   \n",
       "6          11.28    9.14    6.50   2.88            89         8.5        E   \n",
       "7          13.96    9.18    2.93   2.84            58         6.6        E   \n",
       "8          14.44    6.94    4.70   2.24            87         8.4        E   \n",
       "9          26.93    0.63    0.28   0.47             0         0.0  unknown   \n",
       "\n",
       "   total_sales  \n",
       "0        82.54  \n",
       "1        40.24  \n",
       "2        35.52  \n",
       "3        32.77  \n",
       "4        31.38  \n",
       "5        30.26  \n",
       "6        29.80  \n",
       "7        28.91  \n",
       "8        28.32  \n",
       "9        28.31  "
      ]
     },
     "execution_count": 72,
     "metadata": {},
     "output_type": "execute_result"
    }
   ],
   "source": [
    "data_games.head(10)"
   ]
  },
  {
   "cell_type": "code",
   "execution_count": 73,
   "metadata": {},
   "outputs": [
    {
     "name": "stdout",
     "output_type": "stream",
     "text": [
      "<class 'pandas.core.frame.DataFrame'>\n",
      "Int64Index: 16450 entries, 0 to 16718\n",
      "Data columns (total 12 columns):\n",
      "name               16450 non-null object\n",
      "platform           16450 non-null object\n",
      "year_of_release    16450 non-null int64\n",
      "genre              16450 non-null object\n",
      "north_america      16450 non-null float64\n",
      "europe             16450 non-null float64\n",
      "russia             16450 non-null float64\n",
      "other              16450 non-null float64\n",
      "critic_score       16450 non-null int64\n",
      "user_score         16450 non-null float64\n",
      "rating             16450 non-null object\n",
      "total_sales        16450 non-null float64\n",
      "dtypes: float64(6), int64(2), object(4)\n",
      "memory usage: 1.6+ MB\n"
     ]
    }
   ],
   "source": [
    "data_games.info()"
   ]
  },
  {
   "cell_type": "markdown",
   "metadata": {},
   "source": [
    "Проверим данные на дубликаты."
   ]
  },
  {
   "cell_type": "code",
   "execution_count": 74,
   "metadata": {},
   "outputs": [
    {
     "data": {
      "text/plain": [
       "0"
      ]
     },
     "execution_count": 74,
     "metadata": {},
     "output_type": "execute_result"
    }
   ],
   "source": [
    "data_games.duplicated().sum()"
   ]
  },
  {
   "cell_type": "markdown",
   "metadata": {},
   "source": [
    "Итак, пропусков нет, типы данных приведены, дубликатов нет, данные готовы для анализа.\n",
    "\n",
    "------"
   ]
  },
  {
   "cell_type": "markdown",
   "metadata": {},
   "source": [
    "## Этап 2. Исследовательский анализ данных"
   ]
  },
  {
   "cell_type": "markdown",
   "metadata": {},
   "source": [
    "Построим гистограмму распределения по годам релиза. Настроим число столбцов так, чтобы один столбец означал один год."
   ]
  },
  {
   "cell_type": "code",
   "execution_count": 75,
   "metadata": {},
   "outputs": [
    {
     "data": {
      "image/png": "[encoded data removed]",
      "text/plain": [
       "<Figure size 720x720 with 1 Axes>"
      ]
     },
     "metadata": {
      "needs_background": "light"
     },
     "output_type": "display_data"
    }
   ],
   "source": [
    "data_games['year_of_release'].plot(kind='hist', bins=40, grid=True, figsize=(10,10))\n",
    "plt.title('Распределение по годам релиза');\n",
    "plt.xlabel('Год релиза');"
   ]
  },
  {
   "cell_type": "markdown",
   "metadata": {},
   "source": [
    "* Начиная с 90-х годов наблюдается стремительный рост разработки игр. Самое большое количество выпущенных игр приходится на период с 2006 по 2011 годы. Затем, судя по данным, происходи резкий спад количества релизов, а, например, в период с 2017 по настоящее время релизов почти нет, что выглядит очень странным, видимо информации об играх, выпущенных в последние 2 года, нет в данных."
   ]
  },
  {
   "cell_type": "markdown",
   "metadata": {},
   "source": [
    "Построим гистограммы распределения по годам релиза для игр с отзывом и без отзыва."
   ]
  },
  {
   "cell_type": "code",
   "execution_count": 76,
   "metadata": {},
   "outputs": [
    {
     "data": {
      "image/png": "[encoded data removed]",
      "text/plain": [
       "<Figure size 1080x576 with 2 Axes>"
      ]
     },
     "metadata": {
      "needs_background": "light"
     },
     "output_type": "display_data"
    }
   ],
   "source": [
    "(data_games\n",
    " # выбираем срез с играми, для которых етсь оценка критика или оценка пользователя \n",
    " .query('critic_score != 0 or user_score != 0.0')['year_of_release']\n",
    " # настриваем число столбцов, чтобы один столбец соответствовал одному году\n",
    " # отображаем графики в одну строку и настраиваем одинаковое ограничение по оси ординат\n",
    " .plot(kind='hist', bins=31, grid=True, figsize=(15,8), ylim=(0,800), ax = plt.subplot(1,2,1))\n",
    ")\n",
    "plt.title('Распределение по годам релиза для игр с отзывом');\n",
    "plt.xlabel('Год релиза');\n",
    "(data_games\n",
    " # выбираем срез с играми, у которых нет оценок\n",
    " .query('critic_score == 0 and user_score == 0.0')['year_of_release']\n",
    " .plot(kind='hist', bins=40, grid=True, figsize=(15,8), ylim=(0,800), ax = plt.subplot(1,2,2))\n",
    ")\n",
    "plt.title('Распределение по годам релиза для игр без отзыва');\n",
    "plt.xlabel('Год релиза');"
   ]
  },
  {
   "cell_type": "markdown",
   "metadata": {},
   "source": [
    "* Сравнивая данные распределения, можно сказать, что на период с 1990 по 2000 года большая часть выпускаемых игр была без каких-либо оценок. Обратное можно сказать про период с 2000 по 2007 годы, большая часть выпущенных игр была с отзывами. Затем, насколько это можно судить по гистограммам, количество игр с отзывом и без примерно одинаковое."
   ]
  },
  {
   "cell_type": "markdown",
   "metadata": {},
   "source": [
    "Построим график продаж по каждому году. Для наглядности используем столбчатый график. Величина каждого столбца будет состоять из суммы продаж в каждом регионе. "
   ]
  },
  {
   "cell_type": "code",
   "execution_count": 77,
   "metadata": {},
   "outputs": [
    {
     "data": {
      "image/png": "[encoded data removed]",
      "text/plain": [
       "<Figure size 1080x576 with 1 Axes>"
      ]
     },
     "metadata": {
      "needs_background": "light"
     },
     "output_type": "display_data"
    }
   ],
   "source": [
    "(data_games\n",
    " # группируем данные по году релиза и с помощью метода agg() применяем к значениям столбцов регионов функцию sum\n",
    " .groupby('year_of_release').agg({'north_america':['sum'],'europe':['sum'], 'russia':['sum'],'other':['sum']})\n",
    " # для пропорционального отображения 4 значений таблицы одном столбике применяем атрибут stacked=True\n",
    " .plot(kind='bar', stacked=True, figsize=(15,8))\n",
    ")\n",
    "plt.title('График продаж в зависимости от года релиза');\n",
    "# меняем стиль отображения сетки\n",
    "plt.grid(axis = 'y', color ='gray', linestyle='--')\n",
    "plt.ylabel('Сумма продаж (млн. долларов)');\n",
    "# добавляем необходимые деления на оси ординат\n",
    "plt.yticks(range(0,700,50));\n",
    "plt.xlabel('Год релиза');"
   ]
  },
  {
   "cell_type": "markdown",
   "metadata": {},
   "source": [
    "* Продажи игр начинают расти начиная с 1996 года. Максимум продаж приходится на 2008 и 2009 годы, суммарные продажи игр - свыше 650 млн. долларов. Затем продажи игр падают до 2016 года. За последующие годы в выборке нет информации. Судя по графику, большая часть игр продается в Северной Америке и Европе, причем в Северной Америке в среднем в полтора - два раза больше, чем в Европе."
   ]
  },
  {
   "cell_type": "markdown",
   "metadata": {},
   "source": [
    "Построим ящик с усами по глобальным продажам."
   ]
  },
  {
   "cell_type": "code",
   "execution_count": 78,
   "metadata": {},
   "outputs": [
    {
     "data": {
      "image/png": "[encoded data removed]",
      "text/plain": [
       "<Figure size 1080x720 with 2 Axes>"
      ]
     },
     "metadata": {
      "needs_background": "light"
     },
     "output_type": "display_data"
    },
    {
     "name": "stdout",
     "output_type": "stream",
     "text": [
      "count    16450.000000\n",
      "mean         0.535996\n",
      "std          1.558590\n",
      "min          0.000000\n",
      "25%          0.060000\n",
      "50%          0.170000\n",
      "75%          0.470000\n",
      "max         82.540000\n",
      "Name: total_sales, dtype: float64\n"
     ]
    }
   ],
   "source": [
    "fig = plt.figure(figsize=(15,10))\n",
    "data_games.boxplot(column=['total_sales'], ax = plt.subplot(1,2,1))\n",
    "plt.title('Диаграмма размаха глобальных продаж');\n",
    "plt.ylabel('Сумма продаж (млн. долларов)');\n",
    "(data_games\n",
    " .query('total_sales < 1')\n",
    " .boxplot(column=['total_sales'], ax = plt.subplot(1,2,2))\n",
    ")\n",
    "plt.title('Диаграмма размаха глобальных продаж');\n",
    "plt.ylabel('Сумма продаж (млн. долларов)');\n",
    "plt.show()\n",
    "print(data_games['total_sales'].describe())"
   ]
  },
  {
   "cell_type": "markdown",
   "metadata": {},
   "source": [
    "Интересно посмотреть, какую долю составляют от общего числа игр, игры сумма глобальных продаж которых превысила 1, 5 и 10 млн. долларов."
   ]
  },
  {
   "cell_type": "code",
   "execution_count": 95,
   "metadata": {},
   "outputs": [
    {
     "name": "stdout",
     "output_type": "stream",
     "text": [
      "Доля игр с глобальными продажами более 1 млн. долларов - 14%\n",
      "Доля игр с глобальными продажами более 5 млн. долларов - 1.27%\n",
      "Доля игр с глобальными продажами более 10 млн. долларов - 0.38%\n"
     ]
    }
   ],
   "source": [
    "games_after_1 = data_games.query('total_sales > 1')['name'].count()\n",
    "games_before_1 = data_games.query('total_sales <= 1')['name'].count()\n",
    "ratio_1 = games_after_1 / games_before_1\n",
    "print('Доля игр с глобальными продажами более 1 млн. долларов - {:.0%}'.format(ratio_1))\n",
    "games_after_5 = data_games.query('total_sales > 5')['name'].count()\n",
    "games_before_5 = data_games.query('total_sales <= 5')['name'].count()\n",
    "ratio_5 = games_after_5 / games_before_5\n",
    "print('Доля игр с глобальными продажами более 5 млн. долларов - {:.2%}'.format(ratio_5))\n",
    "games_after_10 = data_games.query('total_sales > 10')['name'].count()\n",
    "games_before_10 = data_games.query('total_sales <= 10')['name'].count()\n",
    "ratio_10 = games_after_10 / games_before_10\n",
    "print('Доля игр с глобальными продажами более 10 млн. долларов - {:.2%}'.format(ratio_10))\n"
   ]
  },
  {
   "cell_type": "markdown",
   "metadata": {},
   "source": [
    "После построения диаграммы размаха по глобальным продажам оказалось, что произвести оценку статистических значений продаж по такому графику невозможно. Был построен еще один график с условием, что сумма глобальных продаж игры меньше 1 млн. долларов, также выведена информация о значимых статистических характеристиках значений глобальных продаж.\n",
    "* Диапазон значений глобальных продаж игр от 0 до 700 тыс. долларов. Межквартильный размах - от 60 до 470 тыс. долларов. Медиана 170 тыс. долларов. Эта информация о типичных выпускаемых играх. Достаточно много игр с продажами более 1 млн. долларов (14 % от общего числа продаж)"
   ]
  },
  {
   "cell_type": "markdown",
   "metadata": {},
   "source": [
    "Узнаем, на какой платформе было выпущено больше всего игр."
   ]
  },
  {
   "cell_type": "code",
   "execution_count": 80,
   "metadata": {},
   "outputs": [
    {
     "data": {
      "text/html": [
       "<div>\n",
       "<style scoped>\n",
       "    .dataframe tbody tr th:only-of-type {\n",
       "        vertical-align: middle;\n",
       "    }\n",
       "\n",
       "    .dataframe tbody tr th {\n",
       "        vertical-align: top;\n",
       "    }\n",
       "\n",
       "    .dataframe thead th {\n",
       "        text-align: right;\n",
       "    }\n",
       "</style>\n",
       "<table border=\"1\" class=\"dataframe\">\n",
       "  <thead>\n",
       "    <tr style=\"text-align: right;\">\n",
       "      <th></th>\n",
       "      <th>name</th>\n",
       "    </tr>\n",
       "    <tr>\n",
       "      <th>platform</th>\n",
       "      <th></th>\n",
       "    </tr>\n",
       "  </thead>\n",
       "  <tbody>\n",
       "    <tr>\n",
       "      <th>PS2</th>\n",
       "      <td>2127</td>\n",
       "    </tr>\n",
       "    <tr>\n",
       "      <th>DS</th>\n",
       "      <td>2122</td>\n",
       "    </tr>\n",
       "    <tr>\n",
       "      <th>PS3</th>\n",
       "      <td>1306</td>\n",
       "    </tr>\n",
       "    <tr>\n",
       "      <th>Wii</th>\n",
       "      <td>1286</td>\n",
       "    </tr>\n",
       "    <tr>\n",
       "      <th>X360</th>\n",
       "      <td>1232</td>\n",
       "    </tr>\n",
       "  </tbody>\n",
       "</table>\n",
       "</div>"
      ],
      "text/plain": [
       "          name\n",
       "platform      \n",
       "PS2       2127\n",
       "DS        2122\n",
       "PS3       1306\n",
       "Wii       1286\n",
       "X360      1232"
      ]
     },
     "execution_count": 80,
     "metadata": {},
     "output_type": "execute_result"
    }
   ],
   "source": [
    "(data_games\n",
    " .pivot_table(index='platform', values='name', aggfunc='count')\n",
    " .sort_values('name', ascending=False)\n",
    " .head()\n",
    ")"
   ]
  },
  {
   "cell_type": "markdown",
   "metadata": {},
   "source": [
    "* Самыми распространенными платформами для игр являются PlayStation 2 и Nintendo DS Lite."
   ]
  },
  {
   "cell_type": "markdown",
   "metadata": {},
   "source": [
    "Определим самый распространенный игровой жанр."
   ]
  },
  {
   "cell_type": "code",
   "execution_count": 81,
   "metadata": {},
   "outputs": [
    {
     "data": {
      "text/html": [
       "<div>\n",
       "<style scoped>\n",
       "    .dataframe tbody tr th:only-of-type {\n",
       "        vertical-align: middle;\n",
       "    }\n",
       "\n",
       "    .dataframe tbody tr th {\n",
       "        vertical-align: top;\n",
       "    }\n",
       "\n",
       "    .dataframe thead th {\n",
       "        text-align: right;\n",
       "    }\n",
       "</style>\n",
       "<table border=\"1\" class=\"dataframe\">\n",
       "  <thead>\n",
       "    <tr style=\"text-align: right;\">\n",
       "      <th></th>\n",
       "      <th>name</th>\n",
       "    </tr>\n",
       "    <tr>\n",
       "      <th>genre</th>\n",
       "      <th></th>\n",
       "    </tr>\n",
       "  </thead>\n",
       "  <tbody>\n",
       "    <tr>\n",
       "      <th>Action</th>\n",
       "      <td>3308</td>\n",
       "    </tr>\n",
       "    <tr>\n",
       "      <th>Sports</th>\n",
       "      <td>2306</td>\n",
       "    </tr>\n",
       "    <tr>\n",
       "      <th>Misc</th>\n",
       "      <td>1721</td>\n",
       "    </tr>\n",
       "    <tr>\n",
       "      <th>Role-Playing</th>\n",
       "      <td>1483</td>\n",
       "    </tr>\n",
       "    <tr>\n",
       "      <th>Shooter</th>\n",
       "      <td>1296</td>\n",
       "    </tr>\n",
       "    <tr>\n",
       "      <th>Adventure</th>\n",
       "      <td>1293</td>\n",
       "    </tr>\n",
       "    <tr>\n",
       "      <th>Racing</th>\n",
       "      <td>1226</td>\n",
       "    </tr>\n",
       "    <tr>\n",
       "      <th>Platform</th>\n",
       "      <td>878</td>\n",
       "    </tr>\n",
       "    <tr>\n",
       "      <th>Simulation</th>\n",
       "      <td>858</td>\n",
       "    </tr>\n",
       "    <tr>\n",
       "      <th>Fighting</th>\n",
       "      <td>837</td>\n",
       "    </tr>\n",
       "  </tbody>\n",
       "</table>\n",
       "</div>"
      ],
      "text/plain": [
       "              name\n",
       "genre             \n",
       "Action        3308\n",
       "Sports        2306\n",
       "Misc          1721\n",
       "Role-Playing  1483\n",
       "Shooter       1296\n",
       "Adventure     1293\n",
       "Racing        1226\n",
       "Platform       878\n",
       "Simulation     858\n",
       "Fighting       837"
      ]
     },
     "execution_count": 81,
     "metadata": {},
     "output_type": "execute_result"
    }
   ],
   "source": [
    "(data_games\n",
    " .pivot_table(index='genre', values='name', aggfunc='count')\n",
    " .sort_values('name', ascending=False)\n",
    " .head(10)\n",
    ")"
   ]
  },
  {
   "cell_type": "markdown",
   "metadata": {},
   "source": [
    "* Самым распространенным игровым жанром является \"Action\"."
   ]
  },
  {
   "cell_type": "markdown",
   "metadata": {},
   "source": [
    "Найдем игры с наибольшей и наименьшей оценкой от пользователей."
   ]
  },
  {
   "cell_type": "code",
   "execution_count": 82,
   "metadata": {},
   "outputs": [
    {
     "data": {
      "text/html": [
       "<div>\n",
       "<style scoped>\n",
       "    .dataframe tbody tr th:only-of-type {\n",
       "        vertical-align: middle;\n",
       "    }\n",
       "\n",
       "    .dataframe tbody tr th {\n",
       "        vertical-align: top;\n",
       "    }\n",
       "\n",
       "    .dataframe thead th {\n",
       "        text-align: right;\n",
       "    }\n",
       "</style>\n",
       "<table border=\"1\" class=\"dataframe\">\n",
       "  <thead>\n",
       "    <tr style=\"text-align: right;\">\n",
       "      <th></th>\n",
       "      <th>name</th>\n",
       "      <th>genre</th>\n",
       "      <th>platform</th>\n",
       "      <th>user_score</th>\n",
       "    </tr>\n",
       "  </thead>\n",
       "  <tbody>\n",
       "    <tr>\n",
       "      <th>14414</th>\n",
       "      <td>Breath of Fire III</td>\n",
       "      <td>Role-Playing</td>\n",
       "      <td>PSP</td>\n",
       "      <td>9.7</td>\n",
       "    </tr>\n",
       "    <tr>\n",
       "      <th>3417</th>\n",
       "      <td>Harvest Moon: Friends of Mineral Town</td>\n",
       "      <td>Simulation</td>\n",
       "      <td>GBA</td>\n",
       "      <td>9.6</td>\n",
       "    </tr>\n",
       "    <tr>\n",
       "      <th>8976</th>\n",
       "      <td>Boktai: The Sun is in Your Hand</td>\n",
       "      <td>Role-Playing</td>\n",
       "      <td>GBA</td>\n",
       "      <td>9.6</td>\n",
       "    </tr>\n",
       "    <tr>\n",
       "      <th>16550</th>\n",
       "      <td>Wade Hixton's Counter Punch</td>\n",
       "      <td>Sports</td>\n",
       "      <td>GBA</td>\n",
       "      <td>9.5</td>\n",
       "    </tr>\n",
       "    <tr>\n",
       "      <th>1645</th>\n",
       "      <td>Golden Sun: The Lost Age</td>\n",
       "      <td>Role-Playing</td>\n",
       "      <td>GBA</td>\n",
       "      <td>9.5</td>\n",
       "    </tr>\n",
       "    <tr>\n",
       "      <th>16631</th>\n",
       "      <td>Karnaaj Rally</td>\n",
       "      <td>Racing</td>\n",
       "      <td>GBA</td>\n",
       "      <td>9.5</td>\n",
       "    </tr>\n",
       "    <tr>\n",
       "      <th>10106</th>\n",
       "      <td>Cory in the House</td>\n",
       "      <td>Action</td>\n",
       "      <td>DS</td>\n",
       "      <td>9.5</td>\n",
       "    </tr>\n",
       "    <tr>\n",
       "      <th>5920</th>\n",
       "      <td>MLB SlugFest Loaded</td>\n",
       "      <td>Sports</td>\n",
       "      <td>PS2</td>\n",
       "      <td>9.5</td>\n",
       "    </tr>\n",
       "    <tr>\n",
       "      <th>13289</th>\n",
       "      <td>Rock 'N Roll Racing</td>\n",
       "      <td>Racing</td>\n",
       "      <td>GBA</td>\n",
       "      <td>9.4</td>\n",
       "    </tr>\n",
       "    <tr>\n",
       "      <th>712</th>\n",
       "      <td>Paper Mario: The Thousand-Year Door</td>\n",
       "      <td>Role-Playing</td>\n",
       "      <td>GC</td>\n",
       "      <td>9.4</td>\n",
       "    </tr>\n",
       "  </tbody>\n",
       "</table>\n",
       "</div>"
      ],
      "text/plain": [
       "                                        name         genre platform  \\\n",
       "14414                     Breath of Fire III  Role-Playing      PSP   \n",
       "3417   Harvest Moon: Friends of Mineral Town    Simulation      GBA   \n",
       "8976         Boktai: The Sun is in Your Hand  Role-Playing      GBA   \n",
       "16550            Wade Hixton's Counter Punch        Sports      GBA   \n",
       "1645                Golden Sun: The Lost Age  Role-Playing      GBA   \n",
       "16631                          Karnaaj Rally        Racing      GBA   \n",
       "10106                      Cory in the House        Action       DS   \n",
       "5920                     MLB SlugFest Loaded        Sports      PS2   \n",
       "13289                    Rock 'N Roll Racing        Racing      GBA   \n",
       "712      Paper Mario: The Thousand-Year Door  Role-Playing       GC   \n",
       "\n",
       "       user_score  \n",
       "14414         9.7  \n",
       "3417          9.6  \n",
       "8976          9.6  \n",
       "16550         9.5  \n",
       "1645          9.5  \n",
       "16631         9.5  \n",
       "10106         9.5  \n",
       "5920          9.5  \n",
       "13289         9.4  \n",
       "712           9.4  "
      ]
     },
     "execution_count": 82,
     "metadata": {},
     "output_type": "execute_result"
    }
   ],
   "source": [
    "(data_games\n",
    " .loc[:,['name', 'genre', 'platform', 'user_score']]\n",
    " .sort_values('user_score', ascending=False)\n",
    " .head(10)\n",
    ")"
   ]
  },
  {
   "cell_type": "code",
   "execution_count": 83,
   "metadata": {},
   "outputs": [
    {
     "data": {
      "text/html": [
       "<div>\n",
       "<style scoped>\n",
       "    .dataframe tbody tr th:only-of-type {\n",
       "        vertical-align: middle;\n",
       "    }\n",
       "\n",
       "    .dataframe tbody tr th {\n",
       "        vertical-align: top;\n",
       "    }\n",
       "\n",
       "    .dataframe thead th {\n",
       "        text-align: right;\n",
       "    }\n",
       "</style>\n",
       "<table border=\"1\" class=\"dataframe\">\n",
       "  <thead>\n",
       "    <tr style=\"text-align: right;\">\n",
       "      <th></th>\n",
       "      <th>name</th>\n",
       "      <th>genre</th>\n",
       "      <th>platform</th>\n",
       "      <th>user_score</th>\n",
       "    </tr>\n",
       "  </thead>\n",
       "  <tbody>\n",
       "    <tr>\n",
       "      <th>13683</th>\n",
       "      <td>Myth Makers: Trixie in Toyland</td>\n",
       "      <td>Platform</td>\n",
       "      <td>Wii</td>\n",
       "      <td>0.2</td>\n",
       "    </tr>\n",
       "    <tr>\n",
       "      <th>9971</th>\n",
       "      <td>Madden NFL 17</td>\n",
       "      <td>Sports</td>\n",
       "      <td>PS3</td>\n",
       "      <td>0.2</td>\n",
       "    </tr>\n",
       "    <tr>\n",
       "      <th>5764</th>\n",
       "      <td>Happy Feet</td>\n",
       "      <td>Action</td>\n",
       "      <td>DS</td>\n",
       "      <td>0.3</td>\n",
       "    </tr>\n",
       "    <tr>\n",
       "      <th>13381</th>\n",
       "      <td>Billy the Wizard: Rocket Broomstick Racing</td>\n",
       "      <td>Racing</td>\n",
       "      <td>Wii</td>\n",
       "      <td>0.3</td>\n",
       "    </tr>\n",
       "    <tr>\n",
       "      <th>10263</th>\n",
       "      <td>Charlie and the Chocolate Factory</td>\n",
       "      <td>Adventure</td>\n",
       "      <td>XB</td>\n",
       "      <td>0.5</td>\n",
       "    </tr>\n",
       "    <tr>\n",
       "      <th>9148</th>\n",
       "      <td>Power Gig: Rise of the SixString</td>\n",
       "      <td>Misc</td>\n",
       "      <td>PS3</td>\n",
       "      <td>0.5</td>\n",
       "    </tr>\n",
       "    <tr>\n",
       "      <th>15219</th>\n",
       "      <td>Kawasaki Jet Ski</td>\n",
       "      <td>Racing</td>\n",
       "      <td>Wii</td>\n",
       "      <td>0.6</td>\n",
       "    </tr>\n",
       "    <tr>\n",
       "      <th>10483</th>\n",
       "      <td>Thrillville: Off the Rails</td>\n",
       "      <td>Strategy</td>\n",
       "      <td>PSP</td>\n",
       "      <td>0.6</td>\n",
       "    </tr>\n",
       "    <tr>\n",
       "      <th>13427</th>\n",
       "      <td>Pool Party</td>\n",
       "      <td>Sports</td>\n",
       "      <td>Wii</td>\n",
       "      <td>0.7</td>\n",
       "    </tr>\n",
       "    <tr>\n",
       "      <th>8266</th>\n",
       "      <td>Madden NFL 17</td>\n",
       "      <td>Sports</td>\n",
       "      <td>X360</td>\n",
       "      <td>0.7</td>\n",
       "    </tr>\n",
       "  </tbody>\n",
       "</table>\n",
       "</div>"
      ],
      "text/plain": [
       "                                             name      genre platform  \\\n",
       "13683              Myth Makers: Trixie in Toyland   Platform      Wii   \n",
       "9971                                Madden NFL 17     Sports      PS3   \n",
       "5764                                   Happy Feet     Action       DS   \n",
       "13381  Billy the Wizard: Rocket Broomstick Racing     Racing      Wii   \n",
       "10263           Charlie and the Chocolate Factory  Adventure       XB   \n",
       "9148             Power Gig: Rise of the SixString       Misc      PS3   \n",
       "15219                            Kawasaki Jet Ski     Racing      Wii   \n",
       "10483                  Thrillville: Off the Rails   Strategy      PSP   \n",
       "13427                                  Pool Party     Sports      Wii   \n",
       "8266                                Madden NFL 17     Sports     X360   \n",
       "\n",
       "       user_score  \n",
       "13683         0.2  \n",
       "9971          0.2  \n",
       "5764          0.3  \n",
       "13381         0.3  \n",
       "10263         0.5  \n",
       "9148          0.5  \n",
       "15219         0.6  \n",
       "10483         0.6  \n",
       "13427         0.7  \n",
       "8266          0.7  "
      ]
     },
     "execution_count": 83,
     "metadata": {},
     "output_type": "execute_result"
    }
   ],
   "source": [
    "(data_games\n",
    " .query('user_score != 0.0')\n",
    " .loc[:,['name', 'genre', 'platform', 'user_score']]\n",
    " .sort_values('user_score')\n",
    " .head(10)\n",
    ")"
   ]
  },
  {
   "cell_type": "markdown",
   "metadata": {},
   "source": [
    "Найдем игры с наибольшей и наименьшей оценкой от критиков."
   ]
  },
  {
   "cell_type": "code",
   "execution_count": 84,
   "metadata": {},
   "outputs": [
    {
     "data": {
      "text/html": [
       "<div>\n",
       "<style scoped>\n",
       "    .dataframe tbody tr th:only-of-type {\n",
       "        vertical-align: middle;\n",
       "    }\n",
       "\n",
       "    .dataframe tbody tr th {\n",
       "        vertical-align: top;\n",
       "    }\n",
       "\n",
       "    .dataframe thead th {\n",
       "        text-align: right;\n",
       "    }\n",
       "</style>\n",
       "<table border=\"1\" class=\"dataframe\">\n",
       "  <thead>\n",
       "    <tr style=\"text-align: right;\">\n",
       "      <th></th>\n",
       "      <th>name</th>\n",
       "      <th>genre</th>\n",
       "      <th>platform</th>\n",
       "      <th>critic_score</th>\n",
       "    </tr>\n",
       "  </thead>\n",
       "  <tbody>\n",
       "    <tr>\n",
       "      <th>57</th>\n",
       "      <td>Grand Theft Auto IV</td>\n",
       "      <td>Action</td>\n",
       "      <td>PS3</td>\n",
       "      <td>98</td>\n",
       "    </tr>\n",
       "    <tr>\n",
       "      <th>5350</th>\n",
       "      <td>SoulCalibur</td>\n",
       "      <td>Fighting</td>\n",
       "      <td>DC</td>\n",
       "      <td>98</td>\n",
       "    </tr>\n",
       "    <tr>\n",
       "      <th>51</th>\n",
       "      <td>Grand Theft Auto IV</td>\n",
       "      <td>Action</td>\n",
       "      <td>X360</td>\n",
       "      <td>98</td>\n",
       "    </tr>\n",
       "    <tr>\n",
       "      <th>227</th>\n",
       "      <td>Tony Hawk's Pro Skater 2</td>\n",
       "      <td>Sports</td>\n",
       "      <td>PS</td>\n",
       "      <td>98</td>\n",
       "    </tr>\n",
       "    <tr>\n",
       "      <th>16</th>\n",
       "      <td>Grand Theft Auto V</td>\n",
       "      <td>Action</td>\n",
       "      <td>PS3</td>\n",
       "      <td>97</td>\n",
       "    </tr>\n",
       "    <tr>\n",
       "      <th>38</th>\n",
       "      <td>Grand Theft Auto III</td>\n",
       "      <td>Action</td>\n",
       "      <td>PS2</td>\n",
       "      <td>97</td>\n",
       "    </tr>\n",
       "    <tr>\n",
       "      <th>517</th>\n",
       "      <td>Metroid Prime</td>\n",
       "      <td>Shooter</td>\n",
       "      <td>GC</td>\n",
       "      <td>97</td>\n",
       "    </tr>\n",
       "    <tr>\n",
       "      <th>97</th>\n",
       "      <td>Super Mario Galaxy 2</td>\n",
       "      <td>Platform</td>\n",
       "      <td>Wii</td>\n",
       "      <td>97</td>\n",
       "    </tr>\n",
       "    <tr>\n",
       "      <th>249</th>\n",
       "      <td>Tony Hawk's Pro Skater 3</td>\n",
       "      <td>Sports</td>\n",
       "      <td>PS2</td>\n",
       "      <td>97</td>\n",
       "    </tr>\n",
       "    <tr>\n",
       "      <th>23</th>\n",
       "      <td>Grand Theft Auto V</td>\n",
       "      <td>Action</td>\n",
       "      <td>X360</td>\n",
       "      <td>97</td>\n",
       "    </tr>\n",
       "  </tbody>\n",
       "</table>\n",
       "</div>"
      ],
      "text/plain": [
       "                          name     genre platform  critic_score\n",
       "57         Grand Theft Auto IV    Action      PS3            98\n",
       "5350               SoulCalibur  Fighting       DC            98\n",
       "51         Grand Theft Auto IV    Action     X360            98\n",
       "227   Tony Hawk's Pro Skater 2    Sports       PS            98\n",
       "16          Grand Theft Auto V    Action      PS3            97\n",
       "38        Grand Theft Auto III    Action      PS2            97\n",
       "517              Metroid Prime   Shooter       GC            97\n",
       "97        Super Mario Galaxy 2  Platform      Wii            97\n",
       "249   Tony Hawk's Pro Skater 3    Sports      PS2            97\n",
       "23          Grand Theft Auto V    Action     X360            97"
      ]
     },
     "execution_count": 84,
     "metadata": {},
     "output_type": "execute_result"
    }
   ],
   "source": [
    "(data_games\n",
    " .loc[:,['name', 'genre', 'platform', 'critic_score']]\n",
    " .sort_values('critic_score', ascending=False)\n",
    " .head(10)\n",
    ")"
   ]
  },
  {
   "cell_type": "code",
   "execution_count": 85,
   "metadata": {},
   "outputs": [
    {
     "data": {
      "text/html": [
       "<div>\n",
       "<style scoped>\n",
       "    .dataframe tbody tr th:only-of-type {\n",
       "        vertical-align: middle;\n",
       "    }\n",
       "\n",
       "    .dataframe tbody tr th {\n",
       "        vertical-align: top;\n",
       "    }\n",
       "\n",
       "    .dataframe thead th {\n",
       "        text-align: right;\n",
       "    }\n",
       "</style>\n",
       "<table border=\"1\" class=\"dataframe\">\n",
       "  <thead>\n",
       "    <tr style=\"text-align: right;\">\n",
       "      <th></th>\n",
       "      <th>name</th>\n",
       "      <th>genre</th>\n",
       "      <th>platform</th>\n",
       "      <th>critic_score</th>\n",
       "    </tr>\n",
       "  </thead>\n",
       "  <tbody>\n",
       "    <tr>\n",
       "      <th>13690</th>\n",
       "      <td>Ride to Hell</td>\n",
       "      <td>Racing</td>\n",
       "      <td>PS3</td>\n",
       "      <td>13</td>\n",
       "    </tr>\n",
       "    <tr>\n",
       "      <th>10663</th>\n",
       "      <td>Leisure Suit Larry: Box Office Bust</td>\n",
       "      <td>Adventure</td>\n",
       "      <td>PS3</td>\n",
       "      <td>17</td>\n",
       "    </tr>\n",
       "    <tr>\n",
       "      <th>10016</th>\n",
       "      <td>Rugby 15</td>\n",
       "      <td>Sports</td>\n",
       "      <td>PS4</td>\n",
       "      <td>19</td>\n",
       "    </tr>\n",
       "    <tr>\n",
       "      <th>15345</th>\n",
       "      <td>Balls of Fury</td>\n",
       "      <td>Sports</td>\n",
       "      <td>Wii</td>\n",
       "      <td>19</td>\n",
       "    </tr>\n",
       "    <tr>\n",
       "      <th>12132</th>\n",
       "      <td>Anubis II</td>\n",
       "      <td>Platform</td>\n",
       "      <td>Wii</td>\n",
       "      <td>19</td>\n",
       "    </tr>\n",
       "    <tr>\n",
       "      <th>9106</th>\n",
       "      <td>Chicken Shoot</td>\n",
       "      <td>Action</td>\n",
       "      <td>DS</td>\n",
       "      <td>19</td>\n",
       "    </tr>\n",
       "    <tr>\n",
       "      <th>12823</th>\n",
       "      <td>Ride to Hell</td>\n",
       "      <td>Racing</td>\n",
       "      <td>X360</td>\n",
       "      <td>19</td>\n",
       "    </tr>\n",
       "    <tr>\n",
       "      <th>7219</th>\n",
       "      <td>Nickelodeon Party Blast</td>\n",
       "      <td>Misc</td>\n",
       "      <td>XB</td>\n",
       "      <td>19</td>\n",
       "    </tr>\n",
       "    <tr>\n",
       "      <th>11223</th>\n",
       "      <td>Rugby 15</td>\n",
       "      <td>Sports</td>\n",
       "      <td>XOne</td>\n",
       "      <td>20</td>\n",
       "    </tr>\n",
       "    <tr>\n",
       "      <th>1050</th>\n",
       "      <td>Deal or No Deal</td>\n",
       "      <td>Misc</td>\n",
       "      <td>DS</td>\n",
       "      <td>20</td>\n",
       "    </tr>\n",
       "  </tbody>\n",
       "</table>\n",
       "</div>"
      ],
      "text/plain": [
       "                                      name      genre platform  critic_score\n",
       "13690                         Ride to Hell     Racing      PS3            13\n",
       "10663  Leisure Suit Larry: Box Office Bust  Adventure      PS3            17\n",
       "10016                             Rugby 15     Sports      PS4            19\n",
       "15345                        Balls of Fury     Sports      Wii            19\n",
       "12132                            Anubis II   Platform      Wii            19\n",
       "9106                         Chicken Shoot     Action       DS            19\n",
       "12823                         Ride to Hell     Racing     X360            19\n",
       "7219               Nickelodeon Party Blast       Misc       XB            19\n",
       "11223                             Rugby 15     Sports     XOne            20\n",
       "1050                       Deal or No Deal       Misc       DS            20"
      ]
     },
     "execution_count": 85,
     "metadata": {},
     "output_type": "execute_result"
    }
   ],
   "source": [
    "(data_games\n",
    " .query('critic_score != 0')\n",
    " .loc[:,['name', 'genre', 'platform', 'critic_score']]\n",
    " .sort_values('critic_score')\n",
    " .head(10)\n",
    ")"
   ]
  },
  {
   "cell_type": "markdown",
   "metadata": {},
   "source": [
    "Выводы по играм с наибольшими и наименьшими оценками будут в выводах проекта."
   ]
  },
  {
   "cell_type": "markdown",
   "metadata": {},
   "source": [
    "Оценим корреляцию между оценками критиков и пользовательскими оценками."
   ]
  },
  {
   "cell_type": "code",
   "execution_count": 86,
   "metadata": {},
   "outputs": [
    {
     "data": {
      "text/plain": [
       "0.5796706281932222"
      ]
     },
     "execution_count": 86,
     "metadata": {},
     "output_type": "execute_result"
    }
   ],
   "source": [
    "data_games.query('user_score != 0.0')['user_score'].corr(data_games.query('critic_score != 0')['critic_score'])"
   ]
  },
  {
   "cell_type": "markdown",
   "metadata": {},
   "source": [
    "* Между оценками критиков и пользовательскими оценками существует заметная корреляция.\n",
    "\n",
    "------"
   ]
  },
  {
   "cell_type": "markdown",
   "metadata": {},
   "source": [
    "## Этап 3. Составление портрета пользователя для каждого региона"
   ]
  },
  {
   "cell_type": "markdown",
   "metadata": {},
   "source": [
    "Найдем топ-5 предпочтительных жанров игр для каждого региона. Для выделения сегмента для исследования предпочтительных жанров будем использовать межквартильный размах значений продаж игр для каждого региона. Для того, чтобы найти самые известные жанры используем метод `value_counts()`. Для автоматизации расчетов применим цикл."
   ]
  },
  {
   "cell_type": "code",
   "execution_count": 87,
   "metadata": {},
   "outputs": [
    {
     "name": "stdout",
     "output_type": "stream",
     "text": [
      "Top genres in NORTH_AMERICA\n",
      "Action     1658\n",
      "Sports     1130\n",
      "Misc        817\n",
      "Racing      744\n",
      "Shooter     665\n",
      "Name: genre, dtype: int64\n",
      "\n",
      "Top genres in EUROPE\n",
      "Action     1421\n",
      "Sports      925\n",
      "Racing      604\n",
      "Shooter     565\n",
      "Misc        558\n",
      "Name: genre, dtype: int64\n",
      "\n",
      "Top genres in RUSSIA\n",
      "Action          435\n",
      "Adventure       424\n",
      "Role-Playing    205\n",
      "Misc            174\n",
      "Shooter         158\n",
      "Name: genre, dtype: int64\n",
      "\n"
     ]
    }
   ],
   "source": [
    "for name in ['north_america', 'europe', 'russia']:    \n",
    "    print('Top genres in', name.upper())\n",
    "    print(data_games\n",
    "         .loc[(data_games.loc[:, name] < data_games[name].quantile(0.75)) & \n",
    "              (data_games.loc[:, name] > data_games[name].quantile(0.25))]['genre']\n",
    "         .value_counts()\n",
    "         .head()\n",
    "         )\n",
    "    print()"
   ]
  },
  {
   "cell_type": "markdown",
   "metadata": {},
   "source": [
    "Исследуем, в какие года пользователи покупали больше всего игр. Делаем аналогично нахождению топ-5 жанров игр."
   ]
  },
  {
   "cell_type": "code",
   "execution_count": 88,
   "metadata": {},
   "outputs": [
    {
     "name": "stdout",
     "output_type": "stream",
     "text": [
      "NORTH_AMERICA\n",
      "2009    734\n",
      "2008    700\n",
      "2010    610\n",
      "2005    593\n",
      "2002    545\n",
      "Name: year_of_release, dtype: int64\n",
      "\n",
      "EUROPE\n",
      "2005    570\n",
      "2002    507\n",
      "2003    465\n",
      "2011    458\n",
      "2004    439\n",
      "Name: year_of_release, dtype: int64\n",
      "\n",
      "RUSSIA\n",
      "2008    226\n",
      "2010    218\n",
      "2007    191\n",
      "2009    170\n",
      "2006    162\n",
      "Name: year_of_release, dtype: int64\n",
      "\n"
     ]
    }
   ],
   "source": [
    "for name in ['north_america', 'europe', 'russia']:    \n",
    "    print(name.upper())\n",
    "    print(data_games\n",
    "         .loc[(data_games.loc[:, name] < data_games[name].quantile(0.75)) & \n",
    "              (data_games.loc[:, name] > data_games[name].quantile(0.25))]['year_of_release']\n",
    "         .value_counts()\n",
    "         .head()\n",
    "         )\n",
    "    print()"
   ]
  },
  {
   "cell_type": "markdown",
   "metadata": {},
   "source": [
    "Найдем топ-5 предпочтительных платформ игр для каждого региона. Делаем аналогично нахождению топ-5 жанров игр."
   ]
  },
  {
   "cell_type": "code",
   "execution_count": 89,
   "metadata": {},
   "outputs": [
    {
     "name": "stdout",
     "output_type": "stream",
     "text": [
      "Top platforms in NORTH_AMERICA\n",
      "DS      1106\n",
      "PS2     1057\n",
      "Wii      701\n",
      "PS       652\n",
      "X360     606\n",
      "Name: platform, dtype: int64\n",
      "\n",
      "Top platforms in EUROPE\n",
      "PS2    936\n",
      "PC     668\n",
      "XB     602\n",
      "PS     550\n",
      "GBA    511\n",
      "Name: platform, dtype: int64\n",
      "\n",
      "Top platforms in RUSSIA\n",
      "PSP     332\n",
      "X360    272\n",
      "PS2     270\n",
      "PS3     257\n",
      "DS      236\n",
      "Name: platform, dtype: int64\n",
      "\n"
     ]
    }
   ],
   "source": [
    "for name in ['north_america', 'europe', 'russia']:    \n",
    "    print('Top platforms in', name.upper())\n",
    "    print(data_games\n",
    "         .loc[(data_games.loc[:, name] < data_games[name].quantile(0.75)) & \n",
    "              (data_games.loc[:, name] > data_games[name].quantile(0.25))]['platform']\n",
    "         .value_counts()\n",
    "         .head()\n",
    "         )\n",
    "    print()"
   ]
  },
  {
   "cell_type": "markdown",
   "metadata": {},
   "source": [
    "Необходимо посчитать для каждого региона какой рейтинг ESRB встречается чаще всего. Для этого применим метод `value_counts()`. Для выборки сделаем срез по значениям межквартильного размаха продаж игр в интересуемом регионе. Значения межквартильного размаха продаж игр для каждого региона это своего рода сегмент для подсчета значений рейтинга ESRB в каждом регионе. Также уберем значения с неизвестным рейтингом. Для автоматизации расчетов применим цикл."
   ]
  },
  {
   "cell_type": "code",
   "execution_count": 90,
   "metadata": {},
   "outputs": [
    {
     "name": "stdout",
     "output_type": "stream",
     "text": [
      "Rating ESRB NORTH_AMERICA\n",
      "E       2462\n",
      "T       1769\n",
      "E10+     905\n",
      "M        813\n",
      "EC         5\n",
      "Name: rating, dtype: int64\n",
      "\n",
      "Rating ESRB EUROPE\n",
      "E       1742\n",
      "T       1527\n",
      "M        712\n",
      "E10+     606\n",
      "K-A        2\n",
      "Name: rating, dtype: int64\n",
      "\n",
      "Rating ESRB RUSSIA\n",
      "T       278\n",
      "M       208\n",
      "E       169\n",
      "E10+    103\n",
      "Name: rating, dtype: int64\n",
      "\n"
     ]
    }
   ],
   "source": [
    "for name in ['north_america', 'europe', 'russia']:\n",
    "    print('Rating ESRB', name.upper())\n",
    "    print(data_games\n",
    "         .loc[(data_games.loc[:, name] < data_games[name].quantile(0.75)) & \n",
    "              (data_games.loc[:, name] > data_games[name].quantile(0.25)) & \n",
    "              (data_games.loc[:, 'rating'] != 'unknown')]['rating']\n",
    "         .value_counts()\n",
    "         .head()\n",
    "         )\n",
    "    print()"
   ]
  },
  {
   "cell_type": "markdown",
   "metadata": {},
   "source": [
    "Выводы по этапу исследования будут в конце проекта.\n",
    "\n",
    "------"
   ]
  },
  {
   "cell_type": "markdown",
   "metadata": {},
   "source": [
    "## Этап 4. Проверка гипотез"
   ]
  },
  {
   "cell_type": "markdown",
   "metadata": {},
   "source": [
    "Проверим гипотезу: средний пользовательский рейтинг платформ PS2 и PS3 одинаковый.\n",
    "\n",
    "* **Нулевая гипотеза** - средние пользовательские рейтинги платформ PS2 и PS3 **равны** между собой.\n",
    "* **Альтернативная гипотеза** - средние пользовательские рейтинги платформ PS2 и PS3 **не равны** между собой."
   ]
  },
  {
   "cell_type": "markdown",
   "metadata": {},
   "source": [
    "Создадим необходимые для проверки гипотезы выборки и посчитаем их дисперсии."
   ]
  },
  {
   "cell_type": "code",
   "execution_count": 91,
   "metadata": {},
   "outputs": [
    {
     "name": "stdout",
     "output_type": "stream",
     "text": [
      "Дисперсия выборки для платформы PS2 15.20365814944711\n",
      "Дисперсия выборки для платформы PS3 11.552679475573921\n"
     ]
    }
   ],
   "source": [
    "data_games_ps2 = data_games.query('platform == \"PS2\"')['user_score']\n",
    "data_games_ps3 = data_games.query('platform == \"PS3\"')['user_score']\n",
    "print('Дисперсия выборки для платформы PS2', np.var(data_games_ps2))\n",
    "print('Дисперсия выборки для платформы PS3', np.var(data_games_ps3))"
   ]
  },
  {
   "cell_type": "code",
   "execution_count": 92,
   "metadata": {},
   "outputs": [
    {
     "name": "stdout",
     "output_type": "stream",
     "text": [
      "p-значение: 0.656783000071229\n",
      "Не получилось отвергнуть нулевую гипотезу\n"
     ]
    }
   ],
   "source": [
    "# Примем общепринятое пороговое значение 5%\n",
    "alpha = .05\n",
    "\n",
    "# Для проверки гипотезы используем метод scipy.stats.ttest_ind (array1, array2, equal_var)\n",
    "# аргумент equal_var приравняем False, так как дисперсии выборок не равны\n",
    "results = st.ttest_ind(data_games_ps2, data_games_ps3, equal_var = False)\n",
    "print('p-значение:', results.pvalue)\n",
    "\n",
    "# прописываем условия вывода результата проверки гипотезы\n",
    "if (results.pvalue < alpha):\n",
    "    print(\"Отвергаем нулевую гипотезу\")\n",
    "else:\n",
    "    print(\"Не получилось отвергнуть нулевую гипотезу\")"
   ]
  },
  {
   "cell_type": "markdown",
   "metadata": {},
   "source": [
    "* Результат: **не отвергаем** нулевую гипотезу."
   ]
  },
  {
   "cell_type": "markdown",
   "metadata": {},
   "source": [
    "Проверим гипотезу: средний пользовательский рейтинг жанров Action и Sports различается.\n",
    "* **Нулевая гипотеза** - средние пользовательские рейтинги жанров Action и Sports **равны** между собой.\n",
    "* **Альтернативная гипотеза** - средние пользовательские рейтинги жанров Action и Sports **не равны** между собой."
   ]
  },
  {
   "cell_type": "markdown",
   "metadata": {},
   "source": [
    "Создадим необходимые для проверки гипотезы выборки и посчитаем их дисперсии."
   ]
  },
  {
   "cell_type": "code",
   "execution_count": 93,
   "metadata": {},
   "outputs": [
    {
     "name": "stdout",
     "output_type": "stream",
     "text": [
      "Дисперсия выборки для жанра Action 13.462667287101437\n",
      "Дисперсия выборки для жанра Sports 13.26199112726031\n"
     ]
    }
   ],
   "source": [
    "data_games_action = data_games.query('genre == \"Action\"')['user_score']\n",
    "data_games_sports = data_games.query('genre == \"Sports\"')['user_score']\n",
    "print('Дисперсия выборки для жанра Action', np.var(data_games_action))\n",
    "print('Дисперсия выборки для жанра Sports', np.var(data_games_sports))"
   ]
  },
  {
   "cell_type": "code",
   "execution_count": 94,
   "metadata": {},
   "outputs": [
    {
     "name": "stdout",
     "output_type": "stream",
     "text": [
      "p-значение: 7.708465885411047e-09\n",
      "Отвергаем нулевую гипотезу\n"
     ]
    }
   ],
   "source": [
    "# Примем общепринятое пороговое значение 5%\n",
    "alpha = .05\n",
    "\n",
    "# Для проверки гипотезы используем метод scipy.stats.ttest_ind (array1, array2, equal_var)\n",
    "# аргумент equal_var приравняем False, так как дисперсии выборок не равны\n",
    "results = st.ttest_ind(data_games_action, data_games_sports, equal_var = False)\n",
    "print('p-значение:', results.pvalue)\n",
    "\n",
    "# прописываем условия вывода результата проверки гипотезы\n",
    "if (results.pvalue < alpha):\n",
    "    print(\"Отвергаем нулевую гипотезу\")\n",
    "else:\n",
    "    print(\"Не получилось отвергнуть нулевую гипотезу\")"
   ]
  },
  {
   "cell_type": "markdown",
   "metadata": {},
   "source": [
    "* Результат: **отвергаем** нулевую гипотезу."
   ]
  },
  {
   "cell_type": "markdown",
   "metadata": {},
   "source": [
    "## Результаты работы"
   ]
  },
  {
   "cell_type": "markdown",
   "metadata": {},
   "source": [
    "### Исследовательский анализ данных"
   ]
  },
  {
   "cell_type": "markdown",
   "metadata": {},
   "source": [
    "* Анализируя гистограмму распределения по годам релиза можно сказать, что начиная с 90-х годов наблюдается стремительный рост разработки игр. Самое большое количество выпущенных игр приходится на период с 2006 по 2011 годы. Затем, судя по данным, происходи резкий спад количества релизов, а, например, в период с 2017 по настоящее время релизов почти нет, что выглядит очень странным, видимо информации об играх, выпущенных за последние 2 года, нет в данных."
   ]
  },
  {
   "cell_type": "markdown",
   "metadata": {},
   "source": [
    "* Сравнивая гистограммы распределения по годам релиза для игр с отзывом и без, можно сказать, что на период с 1990 по 2000 года большая часть выпускаемых игр была без каких-либо оценок. Обратное можно сказать про период с 2000 по 2007 годы, большая часть выпущенных игр была с отзывами. Затем, насколько это можно судить по гистограммам, количество игр с отзывом и без примерно одинаковое."
   ]
  },
  {
   "cell_type": "markdown",
   "metadata": {},
   "source": [
    "* Судя по графику продаж по каждому году, продажи игр активно растут, начиная с 1996 года. Максимум продаж приходится на 2008 и 2009 годы, суммарные продажи игр - свыше 650 млн. долларов. Затем продажи игр падают до 2016 года. За последующие годы в выборке нет информации. Судя по графику, большая часть игр продается в Северной Америке и Европе, причем в Северной Америке в среднем в полтора - два раза больше, чем в Европе."
   ]
  },
  {
   "cell_type": "markdown",
   "metadata": {},
   "source": [
    "* Анализируя диаграмму размаха по глобальным продажам, можно сказать, что диапазон значений глобальных продаж игр от 0 до 700 тыс. долларов. Межквартильный размах - от 60 до 470 тыс. долларов. Медиана 170 тыс. долларов. Эта информация о типичных выпускаемых играх. Также были посчитаны доли игр, глобальные продажи которых более 1, 5 и 10 млн. долларов."
   ]
  },
  {
   "cell_type": "markdown",
   "metadata": {},
   "source": [
    "| Глобальные продажи     | Доля (%) |\n",
    "| :---:                  | :---:    |\n",
    "| более 1 млн. долларов  | 14       |\n",
    "| более 5 млн. долларов  | 1.27     |\n",
    "| более 10 млн. долларов | 0.38     |"
   ]
  },
  {
   "cell_type": "markdown",
   "metadata": {},
   "source": [
    "* Самыми распространенными платформами для игр являются PlayStation 2 и Nintendo DS Lite."
   ]
  },
  {
   "cell_type": "markdown",
   "metadata": {},
   "source": [
    "* Самым распространенным игровым жанром является \"Action\". Затем идет жанр \"Sports\"."
   ]
  },
  {
   "cell_type": "markdown",
   "metadata": {},
   "source": [
    "* Топ-5 игр с наибольшей и наименьшей оценкой от пользователей. Выведем результаты в виде таблицы."
   ]
  },
  {
   "cell_type": "markdown",
   "metadata": {},
   "source": [
    "Оценка пользователей | Название игры | Жанр | Платформа\n",
    ":---: |---------------|------| :---:\n",
    "**Наибольшая** | | | \n",
    " | Breath of Fire III | Role-Playing | PSP\n",
    " | Harvest Moon: Friends of Mineral Town | Simulation | GBA\n",
    "| Boktai: The Sun is in Your Hand | Role-Playing | GBA\n",
    " | Wade Hixton's Counter Punch | Sports | GBA\n",
    " | Golden Sun: The Lost Age | Role-Playing | GBA\n",
    "**Наименьшая**  | | |\n",
    "  | Myth Makers: Trixie in Toyland | Platform | Wii\n",
    " | Madden NFL 17 | Sports | PS3\n",
    "| Happy Feet | Action | DS\n",
    "           | Billy the Wizard: Rocket Broomstick Racing | Racing | Wii\n",
    " | Charlie and the Chocolate Factory | Adventure | XB"
   ]
  },
  {
   "cell_type": "markdown",
   "metadata": {},
   "source": [
    "Пользователи больше всего оценили ролевые игры, спортивные игры и симуляции на портативных платформах."
   ]
  },
  {
   "cell_type": "markdown",
   "metadata": {},
   "source": [
    "* Топ-5 игр с наибольшей и наименьшей оценкой от критиков. Выведем результаты в виде таблицы."
   ]
  },
  {
   "cell_type": "markdown",
   "metadata": {},
   "source": [
    "Оценка пользователей | Название игры | Жанр | Платформа\n",
    ":---: |---------------|------| :---: \n",
    "**Наибольшая** | | |\n",
    " | Grand Theft Auto IV | Action | PS3\n",
    " | SoulCalibur | Fighting | DC\n",
    "| Grand Theft Auto IV | Action | X360\n",
    " | Tony Hawk's Pro Skater 2 | Sports | PS\n",
    " | Grand Theft Auto V | Action | PS3\n",
    " **Наименьшая**  | | |\n",
    "  | Ride to Hell | Racing | PS3\n",
    " | Leisure Suit Larry: Box Office Bust | Adventure | PS3\n",
    "| Rugby 15 | Sports | PS4\n",
    "           | Balls of Fury | Sports | Wii\n",
    " | Anubis II | Platform | Wii"
   ]
  },
  {
   "cell_type": "markdown",
   "metadata": {},
   "source": [
    "Критики больше всего оценили игры жанров Action, Fighting и Sports на консолях."
   ]
  },
  {
   "cell_type": "markdown",
   "metadata": {},
   "source": [
    "* Корреляция между оценками критиков и пользовательскими оценками равна 0.58. Данные значения заметно коррелируют между собой.\n"
   ]
  },
  {
   "cell_type": "markdown",
   "metadata": {},
   "source": [
    "### Портрет пользователя для каждого региона"
   ]
  },
  {
   "cell_type": "markdown",
   "metadata": {},
   "source": [
    "Выведем результаты в виде таблицы."
   ]
  },
  {
   "cell_type": "markdown",
   "metadata": {},
   "source": [
    "Категория / Регион | Северная Америка | Европа | Россия\n",
    ":---: | :---: | :---: | :---:\n",
    "**топ-5 жанров** | | | \n",
    " | Action | Action | Action\n",
    " | Sports | Sports | Adventure\n",
    " | Misc | Racing | Role-Playing\n",
    " | Racing | Shooter | Misc\n",
    " | Shooter | Misc | Shooter\n",
    "**активные годы продаж** |  |  | \n",
    "  | 2009 | 2005 | 2008\n",
    "  | 2008 | 2002 | 2010\n",
    "  | 2010 | 2003 | 2007\n",
    " | 2005 | 2011 | 2009\n",
    " | 2002 | 2004 | 2006\n",
    " **топ-5 платформ** |  |  | \n",
    "  | DS | PS2 | PSP\n",
    " | PS2 | PC | X360\n",
    "| Wii | XB | PS2\n",
    " | PS | PS | PS3\n",
    " | X360 | GBA | DS\n",
    " **рейтинг ESRB** | |  | \n",
    "  | E | E | T\n",
    " | T | T | M\n",
    "| E10+ | M | E\n",
    " | M | E10+ | E10+\n",
    " | EC | - | -"
   ]
  },
  {
   "cell_type": "markdown",
   "metadata": {},
   "source": [
    "* Проанализировав данную таблицу, можно сказать что жанры Action, Racing и Shooter уважают во всех регионах. В Северной Америке и Европе еще в почете жанр Sports. \n",
    "* Про продажи можно сказать, что в России и Северной Америке игры активнее продавались в конце первого десятилетия нашего века, в Европе - наоборот в начале.\n",
    "* Во всех регионах наблюдается конкуренция между игровыми приставками и портативными игровыми консолями. Самыми топовыми платформами, судя по результатам, являются модификации Sony PlayStation.\n",
    "* В Северной Америке и Европе большинстов игр с рейтингами \"Для всех\" и \"Подросткам 13-19 лет\". В России сначала рейтинг \"Подросткам 13-19 лет\", потом \"От 17 лет\", а затем \"Для всех\"."
   ]
  },
  {
   "cell_type": "markdown",
   "metadata": {},
   "source": [
    "### Проверка гипотез"
   ]
  },
  {
   "cell_type": "markdown",
   "metadata": {},
   "source": [
    "1. Проверялась гипотеза: средние пользовательские рейтинги платформ PS2 и PS3 **равны** между собой. В результате проверки эта гипотеза **не была отвергнута**.\n",
    "2. Проверялась гипотеза: средние пользовательские рейтинги жанров Action и Sports **равны** между собой. В результате проверки эта гипотеза **была отвергнута**."
   ]
  },
  {
   "cell_type": "markdown",
   "metadata": {},
   "source": [
    "### Общие выводы по проекту"
   ]
  },
  {
   "cell_type": "markdown",
   "metadata": {},
   "source": [
    "По результатам исследования известных игровых платформ и игр, разработчику игры можно дать следующие советы:\n",
    "1. Акцентрировать разработку игры для пользователей Северной Америки и Европы, так как продажи игр там в разы больше.\n",
    "2. Выбрать жанр игры Action или Sports в первую очередь, либо Racing или Shooter во вторую.\n",
    "3. Выпустить первую версию игры для PS4, так как технологии развиваются, а самыми топовыми платформами судя по результатам являются модификации PlayStation. Затем можно подумать над версией игры для X360, для портативной платформы (Nintendo) или для персонального компьютера.\n",
    "4. Постараться, чтобы игра имела рейтинг \"E\" или \"T\".\n",
    "5. Быть талантливыми и иметь удачу, чтобы игра всем понравилась и в итоге била рекорды мировых продаж!\n",
    "\n",
    "------"
   ]
  }
 ],
 "metadata": {
  "kernelspec": {
   "display_name": "Python 3",
   "language": "python",
   "name": "python3"
  },
  "language_info": {
   "codemirror_mode": {
    "name": "ipython",
    "version": 3
   },
   "file_extension": ".py",
   "mimetype": "text/x-python",
   "name": "python",
   "nbconvert_exporter": "python",
   "pygments_lexer": "ipython3",
   "version": "3.7.6"
  }
 },
 "nbformat": 4,
 "nbformat_minor": 2
}
