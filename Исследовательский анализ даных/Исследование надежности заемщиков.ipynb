{
 "cells": [
  {
   "cell_type": "markdown",
   "metadata": {},
   "source": [
    "# Проект. Исследование надежности заемщиков\n",
    "## Описание проекта"
   ]
  },
  {
   "cell_type": "markdown",
   "metadata": {},
   "source": [
    "Заказчик — кредитный отдел банка. Нужно разобраться, влияет ли семейное положение и количество детей клиента на факт погашения кредита в срок. Входные данные от банка — статистика о платёжеспособности клиентов.\n",
    "\n",
    "Результаты исследования будут учтены при построении модели кредитного скоринга — специальной системы, которая оценивает способность потенциального заёмщика вернуть кредит банку.\n",
    "\n",
    "------"
   ]
  },
  {
   "cell_type": "markdown",
   "metadata": {},
   "source": [
    "## Этап 1. Предобработка данных\n",
    "### Общая информация о данных"
   ]
  },
  {
   "cell_type": "code",
   "execution_count": 1,
   "metadata": {},
   "outputs": [],
   "source": [
    "import pandas as pd"
   ]
  },
  {
   "cell_type": "markdown",
   "metadata": {},
   "source": [
    "Прочитаем файл data.csv и сохраним его в переменной data."
   ]
  },
  {
   "cell_type": "code",
   "execution_count": 2,
   "metadata": {},
   "outputs": [],
   "source": [
    "data = pd.read_csv('/datasets/data.csv')"
   ]
  },
  {
   "cell_type": "markdown",
   "metadata": {},
   "source": [
    "Получение первых 10 строк таблицы."
   ]
  },
  {
   "cell_type": "code",
   "execution_count": 3,
   "metadata": {
    "scrolled": false
   },
   "outputs": [
    {
     "data": {
      "text/html": [
       "<div>\n",
       "<style scoped>\n",
       "    .dataframe tbody tr th:only-of-type {\n",
       "        vertical-align: middle;\n",
       "    }\n",
       "\n",
       "    .dataframe tbody tr th {\n",
       "        vertical-align: top;\n",
       "    }\n",
       "\n",
       "    .dataframe thead th {\n",
       "        text-align: right;\n",
       "    }\n",
       "</style>\n",
       "<table border=\"1\" class=\"dataframe\">\n",
       "  <thead>\n",
       "    <tr style=\"text-align: right;\">\n",
       "      <th></th>\n",
       "      <th>children</th>\n",
       "      <th>days_employed</th>\n",
       "      <th>dob_days</th>\n",
       "      <th>education</th>\n",
       "      <th>education_id</th>\n",
       "      <th>family_status</th>\n",
       "      <th>family_status_id</th>\n",
       "      <th>gender</th>\n",
       "      <th>income_type</th>\n",
       "      <th>debt</th>\n",
       "      <th>total_income</th>\n",
       "      <th>purpose</th>\n",
       "    </tr>\n",
       "  </thead>\n",
       "  <tbody>\n",
       "    <tr>\n",
       "      <th>0</th>\n",
       "      <td>1</td>\n",
       "      <td>-8437.673028</td>\n",
       "      <td>42</td>\n",
       "      <td>высшее</td>\n",
       "      <td>0</td>\n",
       "      <td>женат / замужем</td>\n",
       "      <td>0</td>\n",
       "      <td>F</td>\n",
       "      <td>сотрудник</td>\n",
       "      <td>0</td>\n",
       "      <td>253875.639453</td>\n",
       "      <td>покупка жилья</td>\n",
       "    </tr>\n",
       "    <tr>\n",
       "      <th>1</th>\n",
       "      <td>1</td>\n",
       "      <td>-4024.803754</td>\n",
       "      <td>36</td>\n",
       "      <td>среднее</td>\n",
       "      <td>1</td>\n",
       "      <td>женат / замужем</td>\n",
       "      <td>0</td>\n",
       "      <td>F</td>\n",
       "      <td>сотрудник</td>\n",
       "      <td>0</td>\n",
       "      <td>112080.014102</td>\n",
       "      <td>приобретение автомобиля</td>\n",
       "    </tr>\n",
       "    <tr>\n",
       "      <th>2</th>\n",
       "      <td>0</td>\n",
       "      <td>-5623.422610</td>\n",
       "      <td>33</td>\n",
       "      <td>Среднее</td>\n",
       "      <td>1</td>\n",
       "      <td>женат / замужем</td>\n",
       "      <td>0</td>\n",
       "      <td>M</td>\n",
       "      <td>сотрудник</td>\n",
       "      <td>0</td>\n",
       "      <td>145885.952297</td>\n",
       "      <td>покупка жилья</td>\n",
       "    </tr>\n",
       "    <tr>\n",
       "      <th>3</th>\n",
       "      <td>3</td>\n",
       "      <td>-4124.747207</td>\n",
       "      <td>32</td>\n",
       "      <td>среднее</td>\n",
       "      <td>1</td>\n",
       "      <td>женат / замужем</td>\n",
       "      <td>0</td>\n",
       "      <td>M</td>\n",
       "      <td>сотрудник</td>\n",
       "      <td>0</td>\n",
       "      <td>267628.550329</td>\n",
       "      <td>дополнительное образование</td>\n",
       "    </tr>\n",
       "    <tr>\n",
       "      <th>4</th>\n",
       "      <td>0</td>\n",
       "      <td>340266.072047</td>\n",
       "      <td>53</td>\n",
       "      <td>среднее</td>\n",
       "      <td>1</td>\n",
       "      <td>гражданский брак</td>\n",
       "      <td>1</td>\n",
       "      <td>F</td>\n",
       "      <td>пенсионер</td>\n",
       "      <td>0</td>\n",
       "      <td>158616.077870</td>\n",
       "      <td>сыграть свадьбу</td>\n",
       "    </tr>\n",
       "    <tr>\n",
       "      <th>5</th>\n",
       "      <td>0</td>\n",
       "      <td>-926.185831</td>\n",
       "      <td>27</td>\n",
       "      <td>высшее</td>\n",
       "      <td>0</td>\n",
       "      <td>гражданский брак</td>\n",
       "      <td>1</td>\n",
       "      <td>M</td>\n",
       "      <td>компаньон</td>\n",
       "      <td>0</td>\n",
       "      <td>255763.565419</td>\n",
       "      <td>покупка жилья</td>\n",
       "    </tr>\n",
       "    <tr>\n",
       "      <th>6</th>\n",
       "      <td>0</td>\n",
       "      <td>-2879.202052</td>\n",
       "      <td>43</td>\n",
       "      <td>высшее</td>\n",
       "      <td>0</td>\n",
       "      <td>женат / замужем</td>\n",
       "      <td>0</td>\n",
       "      <td>F</td>\n",
       "      <td>компаньон</td>\n",
       "      <td>0</td>\n",
       "      <td>240525.971920</td>\n",
       "      <td>операции с жильем</td>\n",
       "    </tr>\n",
       "    <tr>\n",
       "      <th>7</th>\n",
       "      <td>0</td>\n",
       "      <td>-152.779569</td>\n",
       "      <td>50</td>\n",
       "      <td>СРЕДНЕЕ</td>\n",
       "      <td>1</td>\n",
       "      <td>женат / замужем</td>\n",
       "      <td>0</td>\n",
       "      <td>M</td>\n",
       "      <td>сотрудник</td>\n",
       "      <td>0</td>\n",
       "      <td>135823.934197</td>\n",
       "      <td>образование</td>\n",
       "    </tr>\n",
       "    <tr>\n",
       "      <th>8</th>\n",
       "      <td>2</td>\n",
       "      <td>-6929.865299</td>\n",
       "      <td>35</td>\n",
       "      <td>ВЫСШЕЕ</td>\n",
       "      <td>0</td>\n",
       "      <td>гражданский брак</td>\n",
       "      <td>1</td>\n",
       "      <td>F</td>\n",
       "      <td>сотрудник</td>\n",
       "      <td>0</td>\n",
       "      <td>95856.832424</td>\n",
       "      <td>на проведение свадьбы</td>\n",
       "    </tr>\n",
       "    <tr>\n",
       "      <th>9</th>\n",
       "      <td>0</td>\n",
       "      <td>-2188.756445</td>\n",
       "      <td>41</td>\n",
       "      <td>среднее</td>\n",
       "      <td>1</td>\n",
       "      <td>женат / замужем</td>\n",
       "      <td>0</td>\n",
       "      <td>M</td>\n",
       "      <td>сотрудник</td>\n",
       "      <td>0</td>\n",
       "      <td>144425.938277</td>\n",
       "      <td>покупка жилья для семьи</td>\n",
       "    </tr>\n",
       "  </tbody>\n",
       "</table>\n",
       "</div>"
      ],
      "text/plain": [
       "   children  days_employed  dob_days education  education_id  \\\n",
       "0         1   -8437.673028        42    высшее             0   \n",
       "1         1   -4024.803754        36   среднее             1   \n",
       "2         0   -5623.422610        33   Среднее             1   \n",
       "3         3   -4124.747207        32   среднее             1   \n",
       "4         0  340266.072047        53   среднее             1   \n",
       "5         0    -926.185831        27    высшее             0   \n",
       "6         0   -2879.202052        43    высшее             0   \n",
       "7         0    -152.779569        50   СРЕДНЕЕ             1   \n",
       "8         2   -6929.865299        35    ВЫСШЕЕ             0   \n",
       "9         0   -2188.756445        41   среднее             1   \n",
       "\n",
       "      family_status  family_status_id gender income_type  debt   total_income  \\\n",
       "0   женат / замужем                 0      F   сотрудник     0  253875.639453   \n",
       "1   женат / замужем                 0      F   сотрудник     0  112080.014102   \n",
       "2   женат / замужем                 0      M   сотрудник     0  145885.952297   \n",
       "3   женат / замужем                 0      M   сотрудник     0  267628.550329   \n",
       "4  гражданский брак                 1      F   пенсионер     0  158616.077870   \n",
       "5  гражданский брак                 1      M   компаньон     0  255763.565419   \n",
       "6   женат / замужем                 0      F   компаньон     0  240525.971920   \n",
       "7   женат / замужем                 0      M   сотрудник     0  135823.934197   \n",
       "8  гражданский брак                 1      F   сотрудник     0   95856.832424   \n",
       "9   женат / замужем                 0      M   сотрудник     0  144425.938277   \n",
       "\n",
       "                      purpose  \n",
       "0               покупка жилья  \n",
       "1     приобретение автомобиля  \n",
       "2               покупка жилья  \n",
       "3  дополнительное образование  \n",
       "4             сыграть свадьбу  \n",
       "5               покупка жилья  \n",
       "6           операции с жильем  \n",
       "7                 образование  \n",
       "8       на проведение свадьбы  \n",
       "9     покупка жилья для семьи  "
      ]
     },
     "execution_count": 3,
     "metadata": {},
     "output_type": "execute_result"
    }
   ],
   "source": [
    "data.head(10)"
   ]
  },
  {
   "cell_type": "markdown",
   "metadata": {},
   "source": [
    "Общая информация о данных таблицы data."
   ]
  },
  {
   "cell_type": "code",
   "execution_count": 4,
   "metadata": {},
   "outputs": [
    {
     "name": "stdout",
     "output_type": "stream",
     "text": [
      "<class 'pandas.core.frame.DataFrame'>\n",
      "RangeIndex: 21525 entries, 0 to 21524\n",
      "Data columns (total 12 columns):\n",
      "children            21525 non-null int64\n",
      "days_employed       19351 non-null float64\n",
      "dob_days            21525 non-null int64\n",
      "education           21525 non-null object\n",
      "education_id        21525 non-null int64\n",
      "family_status       21525 non-null object\n",
      "family_status_id    21525 non-null int64\n",
      "gender              21525 non-null object\n",
      "income_type         21525 non-null object\n",
      "debt                21525 non-null int64\n",
      "total_income        19351 non-null float64\n",
      "purpose             21525 non-null object\n",
      "dtypes: float64(2), int64(5), object(5)\n",
      "memory usage: 2.0+ MB\n"
     ]
    }
   ],
   "source": [
    "data.info()"
   ]
  },
  {
   "cell_type": "markdown",
   "metadata": {},
   "source": [
    "Значение | Описание\n",
    "---------|---------\n",
    "children | количество детей в семье;\n",
    "days_employed | трудовой стаж в днях;\n",
    "dob_days | возраст клиента в годах;\n",
    "education | образование клиента;\n",
    "education_id | идентификатор образования;\n",
    "family_status | семейное положение;\n",
    "family_status_id | идентификатор семейного положения;\n",
    "gender | пол клиента;\n",
    "income_type | тип занятости;\n",
    "debt | имел ли задолженность по возврату кредитов;\n",
    "total_income | доход в месяц;\n",
    "purpose | цель получения кредита;"
   ]
  },
  {
   "cell_type": "markdown",
   "metadata": {},
   "source": [
    "Всего в таблице имеется 12 столбцов. Количество значений в столбцах 'days_employed' и 'total_income' отличаются, значит есть пропущенные значения. Также в стоблце 'days_employed' присутствуют отрицательные значения. В столбце 'education' различается регистр значений."
   ]
  },
  {
   "cell_type": "markdown",
   "metadata": {},
   "source": [
    "### Работа с пропусками"
   ]
  },
  {
   "cell_type": "markdown",
   "metadata": {},
   "source": [
    "Проверим данные на наличие пропусков вызовом набора методов для суммирования пропущенных значений."
   ]
  },
  {
   "cell_type": "code",
   "execution_count": 5,
   "metadata": {},
   "outputs": [
    {
     "data": {
      "text/plain": [
       "children               0\n",
       "days_employed       2174\n",
       "dob_days               0\n",
       "education              0\n",
       "education_id           0\n",
       "family_status          0\n",
       "family_status_id       0\n",
       "gender                 0\n",
       "income_type            0\n",
       "debt                   0\n",
       "total_income        2174\n",
       "purpose                0\n",
       "dtype: int64"
      ]
     },
     "execution_count": 5,
     "metadata": {},
     "output_type": "execute_result"
    }
   ],
   "source": [
    "data.isnull().sum()"
   ]
  },
  {
   "cell_type": "markdown",
   "metadata": {},
   "source": [
    "Обнаружили пропуски в количественных переменных 'days_employed' и 'total_income'.\n",
    "\n",
    "Проверим, случайны ли данные пропуски."
   ]
  },
  {
   "cell_type": "code",
   "execution_count": 6,
   "metadata": {},
   "outputs": [
    {
     "name": "stdout",
     "output_type": "stream",
     "text": [
      "       children  days_employed  dob_days            education  education_id  \\\n",
      "12            0            NaN        65              среднее             1   \n",
      "26            0            NaN        41              среднее             1   \n",
      "29            0            NaN        63              среднее             1   \n",
      "41            0            NaN        50              среднее             1   \n",
      "55            0            NaN        54              среднее             1   \n",
      "65            0            NaN        21              среднее             1   \n",
      "67            0            NaN        52               высшее             0   \n",
      "72            1            NaN        32               высшее             0   \n",
      "82            2            NaN        50               высшее             0   \n",
      "83            0            NaN        52              среднее             1   \n",
      "90            2            NaN        35               высшее             0   \n",
      "94            1            NaN        34               высшее             0   \n",
      "96            0            NaN        44              СРЕДНЕЕ             1   \n",
      "97            0            NaN        47               высшее             0   \n",
      "120           0            NaN        46              среднее             1   \n",
      "121           0            NaN        29               высшее             0   \n",
      "135           0            NaN        27              среднее             1   \n",
      "141           0            NaN        39              среднее             1   \n",
      "145           0            NaN        62              среднее             1   \n",
      "174           0            NaN        55               высшее             0   \n",
      "181           0            NaN        26              среднее             1   \n",
      "189           1            NaN        30              среднее             1   \n",
      "205           1            NaN        31               высшее             0   \n",
      "220           1            NaN        23  неоконченное высшее             2   \n",
      "241           0            NaN        47              среднее             1   \n",
      "242           0            NaN        58              среднее             1   \n",
      "247           1            NaN        60               высшее             0   \n",
      "250           0            NaN        54               высшее             0   \n",
      "264           2            NaN        40              среднее             1   \n",
      "278           1            NaN        23              Среднее             1   \n",
      "...         ...            ...       ...                  ...           ...   \n",
      "21226         3            NaN        38              среднее             1   \n",
      "21242         1            NaN        33               высшее             0   \n",
      "21251         0            NaN        57  неоконченное высшее             2   \n",
      "21258         1            NaN        40              среднее             1   \n",
      "21268         1            NaN        44               высшее             0   \n",
      "21271         2            NaN        42              среднее             1   \n",
      "21281         1            NaN        30               высшее             0   \n",
      "21294         0            NaN        45               ВЫСШЕЕ             0   \n",
      "21300         2            NaN        45              Среднее             1   \n",
      "21305         0            NaN        59              среднее             1   \n",
      "21308         0            NaN        48              среднее             1   \n",
      "21311         0            NaN        49              среднее             1   \n",
      "21321         0            NaN        56              Среднее             1   \n",
      "21350         0            NaN        21              среднее             1   \n",
      "21364         0            NaN        50              среднее             1   \n",
      "21369         2            NaN        42              среднее             1   \n",
      "21390        20            NaN        53              среднее             1   \n",
      "21391         0            NaN        52              среднее             1   \n",
      "21407         1            NaN        36              среднее             1   \n",
      "21414         0            NaN        65              среднее             1   \n",
      "21415         0            NaN        54              среднее             1   \n",
      "21423         0            NaN        63              среднее             1   \n",
      "21426         0            NaN        49              среднее             1   \n",
      "21432         1            NaN        38  неоконченное высшее             2   \n",
      "21463         1            NaN        35               высшее             0   \n",
      "21489         2            NaN        47              Среднее             1   \n",
      "21495         1            NaN        50              среднее             1   \n",
      "21497         0            NaN        48               ВЫСШЕЕ             0   \n",
      "21502         1            NaN        42              среднее             1   \n",
      "21510         2            NaN        28              среднее             1   \n",
      "\n",
      "               family_status  family_status_id gender  income_type  debt  \\\n",
      "12          гражданский брак                 1      M    пенсионер     0   \n",
      "26           женат / замужем                 0      M  госслужащий     0   \n",
      "29     Не женат / не замужем                 4      F    пенсионер     0   \n",
      "41           женат / замужем                 0      F  госслужащий     0   \n",
      "55          гражданский брак                 1      F    пенсионер     1   \n",
      "65     Не женат / не замужем                 4      M    компаньон     0   \n",
      "67           женат / замужем                 0      F    пенсионер     0   \n",
      "72           женат / замужем                 0      M  госслужащий     0   \n",
      "82           женат / замужем                 0      F    сотрудник     0   \n",
      "83           женат / замужем                 0      M    сотрудник     0   \n",
      "90           женат / замужем                 0      F    сотрудник     0   \n",
      "94          гражданский брак                 1      F    компаньон     0   \n",
      "96           женат / замужем                 0      F    сотрудник     0   \n",
      "97           женат / замужем                 0      F    сотрудник     0   \n",
      "120          женат / замужем                 0      F    сотрудник     0   \n",
      "121          женат / замужем                 0      F    компаньон     0   \n",
      "135          женат / замужем                 0      M    компаньон     0   \n",
      "141         гражданский брак                 1      M    сотрудник     0   \n",
      "145          женат / замужем                 0      M    пенсионер     0   \n",
      "174           вдовец / вдова                 2      F    компаньон     0   \n",
      "181         гражданский брак                 1      F    компаньон     1   \n",
      "189    Не женат / не замужем                 4      F    сотрудник     0   \n",
      "205          женат / замужем                 0      F    сотрудник     0   \n",
      "220         гражданский брак                 1      F    компаньон     0   \n",
      "241          женат / замужем                 0      M    сотрудник     0   \n",
      "242          женат / замужем                 0      F  госслужащий     0   \n",
      "247          женат / замужем                 0      F    пенсионер     1   \n",
      "250          женат / замужем                 0      F    сотрудник     0   \n",
      "264                в разводе                 3      F    сотрудник     0   \n",
      "278         гражданский брак                 1      F    сотрудник     1   \n",
      "...                      ...               ...    ...          ...   ...   \n",
      "21226       гражданский брак                 1      M    сотрудник     0   \n",
      "21242  Не женат / не замужем                 4      F  госслужащий     0   \n",
      "21251       гражданский брак                 1      F    сотрудник     0   \n",
      "21258  Не женат / не замужем                 4      M    сотрудник     0   \n",
      "21268       гражданский брак                 1      F  госслужащий     0   \n",
      "21271       гражданский брак                 1      M    сотрудник     1   \n",
      "21281        женат / замужем                 0      F    сотрудник     0   \n",
      "21294        женат / замужем                 0      F    сотрудник     0   \n",
      "21300       гражданский брак                 1      M    компаньон     0   \n",
      "21305  Не женат / не замужем                 4      F    пенсионер     0   \n",
      "21308        женат / замужем                 0      F    компаньон     0   \n",
      "21311        женат / замужем                 0      F    пенсионер     0   \n",
      "21321        женат / замужем                 0      F    пенсионер     0   \n",
      "21350  Не женат / не замужем                 4      M    компаньон     0   \n",
      "21364        женат / замужем                 0      M    сотрудник     0   \n",
      "21369              в разводе                 3      M    компаньон     0   \n",
      "21390        женат / замужем                 0      M    компаньон     0   \n",
      "21391        женат / замужем                 0      F    компаньон     0   \n",
      "21407        женат / замужем                 0      F    компаньон     0   \n",
      "21414        женат / замужем                 0      F    пенсионер     0   \n",
      "21415        женат / замужем                 0      F    пенсионер     0   \n",
      "21423        женат / замужем                 0      M    пенсионер     0   \n",
      "21426        женат / замужем                 0      F    сотрудник     1   \n",
      "21432  Не женат / не замужем                 4      F    сотрудник     0   \n",
      "21463       гражданский брак                 1      M    сотрудник     0   \n",
      "21489        женат / замужем                 0      M    компаньон     0   \n",
      "21495       гражданский брак                 1      F    сотрудник     0   \n",
      "21497        женат / замужем                 0      F    компаньон     0   \n",
      "21502        женат / замужем                 0      F    сотрудник     0   \n",
      "21510        женат / замужем                 0      F    сотрудник     0   \n",
      "\n",
      "       total_income                                 purpose  \n",
      "12              NaN                         сыграть свадьбу  \n",
      "26              NaN                             образование  \n",
      "29              NaN        строительство жилой недвижимости  \n",
      "41              NaN        сделка с подержанным автомобилем  \n",
      "55              NaN                         сыграть свадьбу  \n",
      "65              NaN   операции с коммерческой недвижимостью  \n",
      "67              NaN                 покупка жилья для семьи  \n",
      "72              NaN   операции с коммерческой недвижимостью  \n",
      "82              NaN                                   жилье  \n",
      "83              NaN                                   жилье  \n",
      "90              NaN                       операции с жильем  \n",
      "94              NaN                   на проведение свадьбы  \n",
      "96              NaN              покупка жилой недвижимости  \n",
      "97              NaN                  профильное образование  \n",
      "120             NaN                      высшее образование  \n",
      "121             NaN                              автомобиль  \n",
      "135             NaN                                   жилье  \n",
      "141             NaN                                 свадьба  \n",
      "145             NaN              строительство недвижимости  \n",
      "174             NaN                         свой автомобиль  \n",
      "181             NaN                 покупка жилья для семьи  \n",
      "189             NaN                         свой автомобиль  \n",
      "205             NaN      на покупку подержанного автомобиля  \n",
      "220             NaN                         сыграть свадьбу  \n",
      "241             NaN  строительство собственной недвижимости  \n",
      "242             NaN                    покупка своего жилья  \n",
      "247             NaN            заняться высшим образованием  \n",
      "250             NaN        сделка с подержанным автомобилем  \n",
      "264             NaN                            недвижимость  \n",
      "278             NaN                              автомобиль  \n",
      "...             ...                                     ...  \n",
      "21226           NaN                   получение образования  \n",
      "21242           NaN  строительство собственной недвижимости  \n",
      "21251           NaN                                 свадьба  \n",
      "21258           NaN                       операции с жильем  \n",
      "21268           NaN                   на проведение свадьбы  \n",
      "21271           NaN         операции со своей недвижимостью  \n",
      "21281           NaN       покупка коммерческой недвижимости  \n",
      "21294           NaN                      высшее образование  \n",
      "21300           NaN   получение дополнительного образования  \n",
      "21305           NaN  строительство собственной недвижимости  \n",
      "21308           NaN                 покупка жилья для сдачи  \n",
      "21311           NaN                 покупка жилья для сдачи  \n",
      "21321           NaN                операции с недвижимостью  \n",
      "21350           NaN                   на покупку автомобиля  \n",
      "21364           NaN         операции со своей недвижимостью  \n",
      "21369           NaN              покупка жилой недвижимости  \n",
      "21390           NaN              покупка жилой недвижимости  \n",
      "21391           NaN                 покупка жилья для семьи  \n",
      "21407           NaN        строительство жилой недвижимости  \n",
      "21414           NaN                    покупка своего жилья  \n",
      "21415           NaN                       операции с жильем  \n",
      "21423           NaN                    сделка с автомобилем  \n",
      "21426           NaN                            недвижимость  \n",
      "21432           NaN                       операции с жильем  \n",
      "21463           NaN                   на проведение свадьбы  \n",
      "21489           NaN                    сделка с автомобилем  \n",
      "21495           NaN                                 свадьба  \n",
      "21497           NaN              строительство недвижимости  \n",
      "21502           NaN        строительство жилой недвижимости  \n",
      "21510           NaN                 приобретение автомобиля  \n",
      "\n",
      "[2174 rows x 12 columns]\n"
     ]
    }
   ],
   "source": [
    "print(data[(data['days_employed'].isnull()) & (data['total_income'].isnull())])"
   ]
  },
  {
   "cell_type": "markdown",
   "metadata": {},
   "source": [
    "У нас получилась выборка, в которой 2174 строки, следовательно пропуски не случайны: клиенты, которые не указали трудовой стаж, также не указали уровень дохода в месяц."
   ]
  },
  {
   "cell_type": "markdown",
   "metadata": {},
   "source": [
    "Займемся заполнением пропусков, но для начала необходимо сделать отрицательные значения столбца 'days_employed' положительными."
   ]
  },
  {
   "cell_type": "markdown",
   "metadata": {},
   "source": [
    "Применим метод abs() к столбцу 'days_employed'."
   ]
  },
  {
   "cell_type": "code",
   "execution_count": 8,
   "metadata": {},
   "outputs": [],
   "source": [
    "data['days_employed'] = data['days_employed'].abs()"
   ]
  },
  {
   "cell_type": "markdown",
   "metadata": {},
   "source": [
    "Удостоверимся, что в столбце 'days_employed' теперь только положительные значения."
   ]
  },
  {
   "cell_type": "code",
   "execution_count": 9,
   "metadata": {},
   "outputs": [
    {
     "data": {
      "text/plain": [
       "0"
      ]
     },
     "execution_count": 9,
     "metadata": {},
     "output_type": "execute_result"
    }
   ],
   "source": [
    "data[data['days_employed'] < 0]['days_employed'].count() # с помощью метода .count() посчитаем количество отрицательных значений "
   ]
  },
  {
   "cell_type": "markdown",
   "metadata": {},
   "source": [
    "Так как в задании проекта нужно определить влияет ли семейное положение и количество детей клиента на факт возврата кредита в срок, то без особого вреда на результат можно заменить пропущенные значения столбцов 'days_employed' и 'total_income' средним арифметическим значений или медианой."
   ]
  },
  {
   "cell_type": "markdown",
   "metadata": {},
   "source": [
    "Найдем среднее арифметическое значение для значений столбца 'days_employed'."
   ]
  },
  {
   "cell_type": "code",
   "execution_count": 10,
   "metadata": {},
   "outputs": [
    {
     "name": "stdout",
     "output_type": "stream",
     "text": [
      "66914.72890682236\n"
     ]
    }
   ],
   "source": [
    "days_employed_mean = data['days_employed'].mean()\n",
    "print(days_employed_mean)"
   ]
  },
  {
   "cell_type": "markdown",
   "metadata": {},
   "source": [
    "Найдем медиану для этих же значений."
   ]
  },
  {
   "cell_type": "code",
   "execution_count": 11,
   "metadata": {},
   "outputs": [
    {
     "name": "stdout",
     "output_type": "stream",
     "text": [
      "2194.220566878695\n"
     ]
    }
   ],
   "source": [
    "days_employed_median = data['days_employed'].median()\n",
    "print(days_employed_median)"
   ]
  },
  {
   "cell_type": "markdown",
   "metadata": {},
   "source": [
    "Значение медианы и среднего арифметического различаются в разы. Это означает, что в выборке есть очень большие значения, которые делают среднее арифметическое не соответствующим реальности. Для замены пропущенных значений будем использовать медиану. Для замены пропусков будем использовать метод .fillna с аргументом (value='')."
   ]
  },
  {
   "cell_type": "code",
   "execution_count": 12,
   "metadata": {},
   "outputs": [],
   "source": [
    "data['days_employed'] = data['days_employed'].fillna(value=days_employed_median)"
   ]
  },
  {
   "cell_type": "markdown",
   "metadata": {},
   "source": [
    "Теперь проделаем те же операции для столбца 'total_income'.\n",
    "Найдем среднее арифметическое значение для столбца  'total_income'. "
   ]
  },
  {
   "cell_type": "code",
   "execution_count": 13,
   "metadata": {},
   "outputs": [
    {
     "name": "stdout",
     "output_type": "stream",
     "text": [
      "167422.30220817294\n"
     ]
    }
   ],
   "source": [
    "total_income_mean = data['total_income'].mean()\n",
    "print(total_income_mean)"
   ]
  },
  {
   "cell_type": "markdown",
   "metadata": {},
   "source": [
    "Найдем медиану для этих же значений."
   ]
  },
  {
   "cell_type": "code",
   "execution_count": 14,
   "metadata": {},
   "outputs": [
    {
     "name": "stdout",
     "output_type": "stream",
     "text": [
      "145017.93753253992\n"
     ]
    }
   ],
   "source": [
    "total_income_median = data['total_income'].median()\n",
    "print(total_income_median)"
   ]
  },
  {
   "cell_type": "markdown",
   "metadata": {},
   "source": [
    "В данном случае значения среднего арифметического и медианы одного порядка. Для замены пропусков возьмем значение среднего арифметического."
   ]
  },
  {
   "cell_type": "code",
   "execution_count": 15,
   "metadata": {},
   "outputs": [],
   "source": [
    "data['total_income'] = data['total_income'].fillna(value=total_income_mean)"
   ]
  },
  {
   "cell_type": "markdown",
   "metadata": {},
   "source": [
    "Проверим данные на наличие пропусков вызовом набора методов для суммирования пропущенных значений."
   ]
  },
  {
   "cell_type": "code",
   "execution_count": 16,
   "metadata": {},
   "outputs": [
    {
     "data": {
      "text/plain": [
       "children            0\n",
       "days_employed       0\n",
       "dob_days            0\n",
       "education           0\n",
       "education_id        0\n",
       "family_status       0\n",
       "family_status_id    0\n",
       "gender              0\n",
       "income_type         0\n",
       "debt                0\n",
       "total_income        0\n",
       "purpose             0\n",
       "dtype: int64"
      ]
     },
     "execution_count": 16,
     "metadata": {},
     "output_type": "execute_result"
    }
   ],
   "source": [
    "data.isnull().sum()"
   ]
  },
  {
   "cell_type": "markdown",
   "metadata": {},
   "source": [
    "Мы избавились от пропусков в данных."
   ]
  },
  {
   "cell_type": "markdown",
   "metadata": {},
   "source": [
    "### Изменение типов данных"
   ]
  },
  {
   "cell_type": "markdown",
   "metadata": {},
   "source": [
    "Изменим вещественный тип данных на целочисленный в столбцах 'days_employed' и 'total_income'. Применим метод astype('int')."
   ]
  },
  {
   "cell_type": "code",
   "execution_count": 17,
   "metadata": {},
   "outputs": [],
   "source": [
    "data['days_employed'] = data['days_employed'].astype('int')"
   ]
  },
  {
   "cell_type": "code",
   "execution_count": 18,
   "metadata": {},
   "outputs": [],
   "source": [
    "data['total_income'] = data['total_income'].astype('int')"
   ]
  },
  {
   "cell_type": "markdown",
   "metadata": {},
   "source": [
    "Посмотрим, что у нас получилось."
   ]
  },
  {
   "cell_type": "code",
   "execution_count": 19,
   "metadata": {},
   "outputs": [
    {
     "name": "stdout",
     "output_type": "stream",
     "text": [
      "<class 'pandas.core.frame.DataFrame'>\n",
      "RangeIndex: 21525 entries, 0 to 21524\n",
      "Data columns (total 12 columns):\n",
      "children            21525 non-null int64\n",
      "days_employed       21525 non-null int64\n",
      "dob_days            21525 non-null int64\n",
      "education           21525 non-null object\n",
      "education_id        21525 non-null int64\n",
      "family_status       21525 non-null object\n",
      "family_status_id    21525 non-null int64\n",
      "gender              21525 non-null object\n",
      "income_type         21525 non-null object\n",
      "debt                21525 non-null int64\n",
      "total_income        21525 non-null int64\n",
      "purpose             21525 non-null object\n",
      "dtypes: int64(7), object(5)\n",
      "memory usage: 2.0+ MB\n"
     ]
    }
   ],
   "source": [
    "data.info()"
   ]
  },
  {
   "cell_type": "code",
   "execution_count": 20,
   "metadata": {},
   "outputs": [
    {
     "data": {
      "text/html": [
       "<div>\n",
       "<style scoped>\n",
       "    .dataframe tbody tr th:only-of-type {\n",
       "        vertical-align: middle;\n",
       "    }\n",
       "\n",
       "    .dataframe tbody tr th {\n",
       "        vertical-align: top;\n",
       "    }\n",
       "\n",
       "    .dataframe thead th {\n",
       "        text-align: right;\n",
       "    }\n",
       "</style>\n",
       "<table border=\"1\" class=\"dataframe\">\n",
       "  <thead>\n",
       "    <tr style=\"text-align: right;\">\n",
       "      <th></th>\n",
       "      <th>children</th>\n",
       "      <th>days_employed</th>\n",
       "      <th>dob_days</th>\n",
       "      <th>education</th>\n",
       "      <th>education_id</th>\n",
       "      <th>family_status</th>\n",
       "      <th>family_status_id</th>\n",
       "      <th>gender</th>\n",
       "      <th>income_type</th>\n",
       "      <th>debt</th>\n",
       "      <th>total_income</th>\n",
       "      <th>purpose</th>\n",
       "    </tr>\n",
       "  </thead>\n",
       "  <tbody>\n",
       "    <tr>\n",
       "      <th>0</th>\n",
       "      <td>1</td>\n",
       "      <td>8437</td>\n",
       "      <td>42</td>\n",
       "      <td>высшее</td>\n",
       "      <td>0</td>\n",
       "      <td>женат / замужем</td>\n",
       "      <td>0</td>\n",
       "      <td>F</td>\n",
       "      <td>сотрудник</td>\n",
       "      <td>0</td>\n",
       "      <td>253875</td>\n",
       "      <td>покупка жилья</td>\n",
       "    </tr>\n",
       "    <tr>\n",
       "      <th>1</th>\n",
       "      <td>1</td>\n",
       "      <td>4024</td>\n",
       "      <td>36</td>\n",
       "      <td>среднее</td>\n",
       "      <td>1</td>\n",
       "      <td>женат / замужем</td>\n",
       "      <td>0</td>\n",
       "      <td>F</td>\n",
       "      <td>сотрудник</td>\n",
       "      <td>0</td>\n",
       "      <td>112080</td>\n",
       "      <td>приобретение автомобиля</td>\n",
       "    </tr>\n",
       "    <tr>\n",
       "      <th>2</th>\n",
       "      <td>0</td>\n",
       "      <td>5623</td>\n",
       "      <td>33</td>\n",
       "      <td>Среднее</td>\n",
       "      <td>1</td>\n",
       "      <td>женат / замужем</td>\n",
       "      <td>0</td>\n",
       "      <td>M</td>\n",
       "      <td>сотрудник</td>\n",
       "      <td>0</td>\n",
       "      <td>145885</td>\n",
       "      <td>покупка жилья</td>\n",
       "    </tr>\n",
       "    <tr>\n",
       "      <th>3</th>\n",
       "      <td>3</td>\n",
       "      <td>4124</td>\n",
       "      <td>32</td>\n",
       "      <td>среднее</td>\n",
       "      <td>1</td>\n",
       "      <td>женат / замужем</td>\n",
       "      <td>0</td>\n",
       "      <td>M</td>\n",
       "      <td>сотрудник</td>\n",
       "      <td>0</td>\n",
       "      <td>267628</td>\n",
       "      <td>дополнительное образование</td>\n",
       "    </tr>\n",
       "    <tr>\n",
       "      <th>4</th>\n",
       "      <td>0</td>\n",
       "      <td>340266</td>\n",
       "      <td>53</td>\n",
       "      <td>среднее</td>\n",
       "      <td>1</td>\n",
       "      <td>гражданский брак</td>\n",
       "      <td>1</td>\n",
       "      <td>F</td>\n",
       "      <td>пенсионер</td>\n",
       "      <td>0</td>\n",
       "      <td>158616</td>\n",
       "      <td>сыграть свадьбу</td>\n",
       "    </tr>\n",
       "    <tr>\n",
       "      <th>5</th>\n",
       "      <td>0</td>\n",
       "      <td>926</td>\n",
       "      <td>27</td>\n",
       "      <td>высшее</td>\n",
       "      <td>0</td>\n",
       "      <td>гражданский брак</td>\n",
       "      <td>1</td>\n",
       "      <td>M</td>\n",
       "      <td>компаньон</td>\n",
       "      <td>0</td>\n",
       "      <td>255763</td>\n",
       "      <td>покупка жилья</td>\n",
       "    </tr>\n",
       "    <tr>\n",
       "      <th>6</th>\n",
       "      <td>0</td>\n",
       "      <td>2879</td>\n",
       "      <td>43</td>\n",
       "      <td>высшее</td>\n",
       "      <td>0</td>\n",
       "      <td>женат / замужем</td>\n",
       "      <td>0</td>\n",
       "      <td>F</td>\n",
       "      <td>компаньон</td>\n",
       "      <td>0</td>\n",
       "      <td>240525</td>\n",
       "      <td>операции с жильем</td>\n",
       "    </tr>\n",
       "    <tr>\n",
       "      <th>7</th>\n",
       "      <td>0</td>\n",
       "      <td>152</td>\n",
       "      <td>50</td>\n",
       "      <td>СРЕДНЕЕ</td>\n",
       "      <td>1</td>\n",
       "      <td>женат / замужем</td>\n",
       "      <td>0</td>\n",
       "      <td>M</td>\n",
       "      <td>сотрудник</td>\n",
       "      <td>0</td>\n",
       "      <td>135823</td>\n",
       "      <td>образование</td>\n",
       "    </tr>\n",
       "    <tr>\n",
       "      <th>8</th>\n",
       "      <td>2</td>\n",
       "      <td>6929</td>\n",
       "      <td>35</td>\n",
       "      <td>ВЫСШЕЕ</td>\n",
       "      <td>0</td>\n",
       "      <td>гражданский брак</td>\n",
       "      <td>1</td>\n",
       "      <td>F</td>\n",
       "      <td>сотрудник</td>\n",
       "      <td>0</td>\n",
       "      <td>95856</td>\n",
       "      <td>на проведение свадьбы</td>\n",
       "    </tr>\n",
       "    <tr>\n",
       "      <th>9</th>\n",
       "      <td>0</td>\n",
       "      <td>2188</td>\n",
       "      <td>41</td>\n",
       "      <td>среднее</td>\n",
       "      <td>1</td>\n",
       "      <td>женат / замужем</td>\n",
       "      <td>0</td>\n",
       "      <td>M</td>\n",
       "      <td>сотрудник</td>\n",
       "      <td>0</td>\n",
       "      <td>144425</td>\n",
       "      <td>покупка жилья для семьи</td>\n",
       "    </tr>\n",
       "  </tbody>\n",
       "</table>\n",
       "</div>"
      ],
      "text/plain": [
       "   children  days_employed  dob_days education  education_id  \\\n",
       "0         1           8437        42    высшее             0   \n",
       "1         1           4024        36   среднее             1   \n",
       "2         0           5623        33   Среднее             1   \n",
       "3         3           4124        32   среднее             1   \n",
       "4         0         340266        53   среднее             1   \n",
       "5         0            926        27    высшее             0   \n",
       "6         0           2879        43    высшее             0   \n",
       "7         0            152        50   СРЕДНЕЕ             1   \n",
       "8         2           6929        35    ВЫСШЕЕ             0   \n",
       "9         0           2188        41   среднее             1   \n",
       "\n",
       "      family_status  family_status_id gender income_type  debt  total_income  \\\n",
       "0   женат / замужем                 0      F   сотрудник     0        253875   \n",
       "1   женат / замужем                 0      F   сотрудник     0        112080   \n",
       "2   женат / замужем                 0      M   сотрудник     0        145885   \n",
       "3   женат / замужем                 0      M   сотрудник     0        267628   \n",
       "4  гражданский брак                 1      F   пенсионер     0        158616   \n",
       "5  гражданский брак                 1      M   компаньон     0        255763   \n",
       "6   женат / замужем                 0      F   компаньон     0        240525   \n",
       "7   женат / замужем                 0      M   сотрудник     0        135823   \n",
       "8  гражданский брак                 1      F   сотрудник     0         95856   \n",
       "9   женат / замужем                 0      M   сотрудник     0        144425   \n",
       "\n",
       "                      purpose  \n",
       "0               покупка жилья  \n",
       "1     приобретение автомобиля  \n",
       "2               покупка жилья  \n",
       "3  дополнительное образование  \n",
       "4             сыграть свадьбу  \n",
       "5               покупка жилья  \n",
       "6           операции с жильем  \n",
       "7                 образование  \n",
       "8       на проведение свадьбы  \n",
       "9     покупка жилья для семьи  "
      ]
     },
     "execution_count": 20,
     "metadata": {},
     "output_type": "execute_result"
    }
   ],
   "source": [
    "data.head(10)"
   ]
  },
  {
   "cell_type": "markdown",
   "metadata": {},
   "source": [
    "### Проверка данных на адекватность и обработка дубликатов"
   ]
  },
  {
   "cell_type": "markdown",
   "metadata": {},
   "source": [
    "Исследуем на адекватность важные для нас данные, начнем со столбцов 'family_status' и 'family_status_id'. Применим метод value_counts()."
   ]
  },
  {
   "cell_type": "markdown",
   "metadata": {},
   "source": [
    "**Оставляю переменную data_mod, так как после этого момента я проводил все операции с ней.**"
   ]
  },
  {
   "cell_type": "code",
   "execution_count": 25,
   "metadata": {},
   "outputs": [],
   "source": [
    "data_mod = data"
   ]
  },
  {
   "cell_type": "code",
   "execution_count": 26,
   "metadata": {},
   "outputs": [
    {
     "data": {
      "text/plain": [
       "женат / замужем          12380\n",
       "гражданский брак          4177\n",
       "Не женат / не замужем     2813\n",
       "в разводе                 1195\n",
       "вдовец / вдова             960\n",
       "Name: family_status, dtype: int64"
      ]
     },
     "execution_count": 26,
     "metadata": {},
     "output_type": "execute_result"
    }
   ],
   "source": [
    "data_mod['family_status'].value_counts()"
   ]
  },
  {
   "cell_type": "code",
   "execution_count": 27,
   "metadata": {},
   "outputs": [
    {
     "data": {
      "text/plain": [
       "0    12380\n",
       "1     4177\n",
       "4     2813\n",
       "3     1195\n",
       "2      960\n",
       "Name: family_status_id, dtype: int64"
      ]
     },
     "execution_count": 27,
     "metadata": {},
     "output_type": "execute_result"
    }
   ],
   "source": [
    "data_mod['family_status_id'].value_counts()"
   ]
  },
  {
   "cell_type": "markdown",
   "metadata": {},
   "source": [
    "Данные пригодны для анализа."
   ]
  },
  {
   "cell_type": "markdown",
   "metadata": {},
   "source": [
    "Выведем информацию о таблице data_mod."
   ]
  },
  {
   "cell_type": "code",
   "execution_count": 28,
   "metadata": {},
   "outputs": [
    {
     "name": "stdout",
     "output_type": "stream",
     "text": [
      "<class 'pandas.core.frame.DataFrame'>\n",
      "RangeIndex: 21525 entries, 0 to 21524\n",
      "Data columns (total 12 columns):\n",
      "children            21525 non-null int64\n",
      "days_employed       21525 non-null int64\n",
      "dob_days            21525 non-null int64\n",
      "education           21525 non-null object\n",
      "education_id        21525 non-null int64\n",
      "family_status       21525 non-null object\n",
      "family_status_id    21525 non-null int64\n",
      "gender              21525 non-null object\n",
      "income_type         21525 non-null object\n",
      "debt                21525 non-null int64\n",
      "total_income        21525 non-null int64\n",
      "purpose             21525 non-null object\n",
      "dtypes: int64(7), object(5)\n",
      "memory usage: 2.0+ MB\n"
     ]
    }
   ],
   "source": [
    "data_mod.info()"
   ]
  },
  {
   "cell_type": "markdown",
   "metadata": {},
   "source": [
    "Теперь исследуем стобец 'children'. Применим к столбцу метод value_counts()."
   ]
  },
  {
   "cell_type": "code",
   "execution_count": 29,
   "metadata": {},
   "outputs": [
    {
     "data": {
      "text/plain": [
       " 0     14149\n",
       " 1      4818\n",
       " 2      2055\n",
       " 3       330\n",
       " 20       76\n",
       "-1        47\n",
       " 4        41\n",
       " 5         9\n",
       "Name: children, dtype: int64"
      ]
     },
     "execution_count": 29,
     "metadata": {},
     "output_type": "execute_result"
    }
   ],
   "source": [
    "data_mod['children'].value_counts()"
   ]
  },
  {
   "cell_type": "markdown",
   "metadata": {},
   "source": [
    "Среди значений столбца 'children' есть неадекватные данные, нужно принять это во внимание при категоризации значений."
   ]
  },
  {
   "cell_type": "markdown",
   "metadata": {},
   "source": [
    "Теперь займемся удалением дубликатов из таблицы. Но для начала сделаем значения в столбце 'education' в нижнем регистре с помощью метода .str.lower()."
   ]
  },
  {
   "cell_type": "code",
   "execution_count": 30,
   "metadata": {},
   "outputs": [],
   "source": [
    "data_mod.education = data.education.str.lower() # меняем регистр значений столбца, используя исходную таблицу"
   ]
  },
  {
   "cell_type": "markdown",
   "metadata": {},
   "source": [
    "Проверим, что у нас получилось."
   ]
  },
  {
   "cell_type": "code",
   "execution_count": 31,
   "metadata": {},
   "outputs": [
    {
     "data": {
      "text/plain": [
       "среднее                15233\n",
       "высшее                  5260\n",
       "неоконченное высшее      744\n",
       "начальное                282\n",
       "ученая степень             6\n",
       "Name: education, dtype: int64"
      ]
     },
     "execution_count": 31,
     "metadata": {},
     "output_type": "execute_result"
    }
   ],
   "source": [
    "data_mod['education'].value_counts()"
   ]
  },
  {
   "cell_type": "markdown",
   "metadata": {},
   "source": [
    "Теперь регистр значений столбца 'education' в порядке.\n",
    "\n",
    "Также перед удалением дубликатов необходимо посмотреть текстовые значения столбцов 'family_status', 'income_type', 'purpose'."
   ]
  },
  {
   "cell_type": "code",
   "execution_count": 32,
   "metadata": {},
   "outputs": [
    {
     "data": {
      "text/plain": [
       "женат / замужем          12380\n",
       "гражданский брак          4177\n",
       "Не женат / не замужем     2813\n",
       "в разводе                 1195\n",
       "вдовец / вдова             960\n",
       "Name: family_status, dtype: int64"
      ]
     },
     "execution_count": 32,
     "metadata": {},
     "output_type": "execute_result"
    }
   ],
   "source": [
    "data_mod['family_status'].value_counts()"
   ]
  },
  {
   "cell_type": "code",
   "execution_count": 33,
   "metadata": {},
   "outputs": [
    {
     "data": {
      "text/plain": [
       "сотрудник          11119\n",
       "компаньон           5085\n",
       "пенсионер           3856\n",
       "госслужащий         1459\n",
       "безработный            2\n",
       "предприниматель        2\n",
       "студент                1\n",
       "в декрете              1\n",
       "Name: income_type, dtype: int64"
      ]
     },
     "execution_count": 33,
     "metadata": {},
     "output_type": "execute_result"
    }
   ],
   "source": [
    "data_mod['income_type'].value_counts()"
   ]
  },
  {
   "cell_type": "code",
   "execution_count": 34,
   "metadata": {},
   "outputs": [
    {
     "data": {
      "text/plain": [
       "свадьба                                   797\n",
       "на проведение свадьбы                     777\n",
       "сыграть свадьбу                           774\n",
       "операции с недвижимостью                  676\n",
       "покупка коммерческой недвижимости         664\n",
       "покупка жилья для сдачи                   653\n",
       "операции с жильем                         653\n",
       "операции с коммерческой недвижимостью     651\n",
       "жилье                                     647\n",
       "покупка жилья                             647\n",
       "покупка жилья для семьи                   641\n",
       "строительство собственной недвижимости    635\n",
       "недвижимость                              634\n",
       "операции со своей недвижимостью           630\n",
       "строительство жилой недвижимости          626\n",
       "покупка недвижимости                      624\n",
       "покупка своего жилья                      620\n",
       "строительство недвижимости                620\n",
       "ремонт жилью                              612\n",
       "покупка жилой недвижимости                607\n",
       "на покупку своего автомобиля              505\n",
       "заняться высшим образованием              496\n",
       "автомобиль                                495\n",
       "сделка с подержанным автомобилем          489\n",
       "свой автомобиль                           480\n",
       "на покупку подержанного автомобиля        479\n",
       "автомобили                                478\n",
       "на покупку автомобиля                     472\n",
       "дополнительное образование                462\n",
       "приобретение автомобиля                   462\n",
       "сделка с автомобилем                      455\n",
       "высшее образование                        453\n",
       "получение дополнительного образования     447\n",
       "образование                               447\n",
       "получение образования                     443\n",
       "профильное образование                    436\n",
       "получение высшего образования             426\n",
       "заняться образованием                     412\n",
       "Name: purpose, dtype: int64"
      ]
     },
     "execution_count": 34,
     "metadata": {},
     "output_type": "execute_result"
    }
   ],
   "source": [
    "data_mod['purpose'].value_counts()"
   ]
  },
  {
   "cell_type": "markdown",
   "metadata": {},
   "source": [
    "Данные в порядке, можно приступать к удалению дубликатов.\n",
    "\n",
    "Найдем дубликаты в таблице комбинацией методов duplicated() и sum()."
   ]
  },
  {
   "cell_type": "code",
   "execution_count": 35,
   "metadata": {},
   "outputs": [
    {
     "data": {
      "text/plain": [
       "71"
      ]
     },
     "execution_count": 35,
     "metadata": {},
     "output_type": "execute_result"
    }
   ],
   "source": [
    "data_mod.duplicated().sum()"
   ]
  },
  {
   "cell_type": "markdown",
   "metadata": {},
   "source": [
    "Попробуем разобраться, откуда могли взяться дубликаты.\n",
    "\n",
    "Создадим в таблице data_mod столбец 'duplicates', в котором будет значение True, если это дубликат и False, если нет."
   ]
  },
  {
   "cell_type": "code",
   "execution_count": 36,
   "metadata": {},
   "outputs": [],
   "source": [
    "data_mod['duplicates'] = data_mod.duplicated()"
   ]
  },
  {
   "cell_type": "markdown",
   "metadata": {},
   "source": [
    "Теперь создадим новую таблицу data_duplicate, которая будет состоять из строк, которые являются дубликатами."
   ]
  },
  {
   "cell_type": "code",
   "execution_count": 37,
   "metadata": {},
   "outputs": [],
   "source": [
    "data_duplicate = data_mod[data_mod['duplicates'] != False]"
   ]
  },
  {
   "cell_type": "markdown",
   "metadata": {},
   "source": [
    "Выведем эту таблицу на экран."
   ]
  },
  {
   "cell_type": "code",
   "execution_count": 38,
   "metadata": {},
   "outputs": [
    {
     "data": {
      "text/html": [
       "<div>\n",
       "<style scoped>\n",
       "    .dataframe tbody tr th:only-of-type {\n",
       "        vertical-align: middle;\n",
       "    }\n",
       "\n",
       "    .dataframe tbody tr th {\n",
       "        vertical-align: top;\n",
       "    }\n",
       "\n",
       "    .dataframe thead th {\n",
       "        text-align: right;\n",
       "    }\n",
       "</style>\n",
       "<table border=\"1\" class=\"dataframe\">\n",
       "  <thead>\n",
       "    <tr style=\"text-align: right;\">\n",
       "      <th></th>\n",
       "      <th>children</th>\n",
       "      <th>days_employed</th>\n",
       "      <th>dob_days</th>\n",
       "      <th>education</th>\n",
       "      <th>education_id</th>\n",
       "      <th>family_status</th>\n",
       "      <th>family_status_id</th>\n",
       "      <th>gender</th>\n",
       "      <th>income_type</th>\n",
       "      <th>debt</th>\n",
       "      <th>total_income</th>\n",
       "      <th>purpose</th>\n",
       "      <th>duplicates</th>\n",
       "    </tr>\n",
       "  </thead>\n",
       "  <tbody>\n",
       "    <tr>\n",
       "      <th>2849</th>\n",
       "      <td>0</td>\n",
       "      <td>2194</td>\n",
       "      <td>41</td>\n",
       "      <td>среднее</td>\n",
       "      <td>1</td>\n",
       "      <td>женат / замужем</td>\n",
       "      <td>0</td>\n",
       "      <td>F</td>\n",
       "      <td>сотрудник</td>\n",
       "      <td>0</td>\n",
       "      <td>167422</td>\n",
       "      <td>покупка жилья для семьи</td>\n",
       "      <td>True</td>\n",
       "    </tr>\n",
       "    <tr>\n",
       "      <th>3290</th>\n",
       "      <td>0</td>\n",
       "      <td>2194</td>\n",
       "      <td>58</td>\n",
       "      <td>среднее</td>\n",
       "      <td>1</td>\n",
       "      <td>гражданский брак</td>\n",
       "      <td>1</td>\n",
       "      <td>F</td>\n",
       "      <td>пенсионер</td>\n",
       "      <td>0</td>\n",
       "      <td>167422</td>\n",
       "      <td>сыграть свадьбу</td>\n",
       "      <td>True</td>\n",
       "    </tr>\n",
       "    <tr>\n",
       "      <th>4182</th>\n",
       "      <td>1</td>\n",
       "      <td>2194</td>\n",
       "      <td>34</td>\n",
       "      <td>высшее</td>\n",
       "      <td>0</td>\n",
       "      <td>гражданский брак</td>\n",
       "      <td>1</td>\n",
       "      <td>F</td>\n",
       "      <td>сотрудник</td>\n",
       "      <td>0</td>\n",
       "      <td>167422</td>\n",
       "      <td>свадьба</td>\n",
       "      <td>True</td>\n",
       "    </tr>\n",
       "    <tr>\n",
       "      <th>4851</th>\n",
       "      <td>0</td>\n",
       "      <td>2194</td>\n",
       "      <td>60</td>\n",
       "      <td>среднее</td>\n",
       "      <td>1</td>\n",
       "      <td>гражданский брак</td>\n",
       "      <td>1</td>\n",
       "      <td>F</td>\n",
       "      <td>пенсионер</td>\n",
       "      <td>0</td>\n",
       "      <td>167422</td>\n",
       "      <td>свадьба</td>\n",
       "      <td>True</td>\n",
       "    </tr>\n",
       "    <tr>\n",
       "      <th>5557</th>\n",
       "      <td>0</td>\n",
       "      <td>2194</td>\n",
       "      <td>58</td>\n",
       "      <td>среднее</td>\n",
       "      <td>1</td>\n",
       "      <td>гражданский брак</td>\n",
       "      <td>1</td>\n",
       "      <td>F</td>\n",
       "      <td>пенсионер</td>\n",
       "      <td>0</td>\n",
       "      <td>167422</td>\n",
       "      <td>сыграть свадьбу</td>\n",
       "      <td>True</td>\n",
       "    </tr>\n",
       "    <tr>\n",
       "      <th>6312</th>\n",
       "      <td>0</td>\n",
       "      <td>2194</td>\n",
       "      <td>30</td>\n",
       "      <td>среднее</td>\n",
       "      <td>1</td>\n",
       "      <td>женат / замужем</td>\n",
       "      <td>0</td>\n",
       "      <td>M</td>\n",
       "      <td>сотрудник</td>\n",
       "      <td>0</td>\n",
       "      <td>167422</td>\n",
       "      <td>строительство жилой недвижимости</td>\n",
       "      <td>True</td>\n",
       "    </tr>\n",
       "    <tr>\n",
       "      <th>7808</th>\n",
       "      <td>0</td>\n",
       "      <td>2194</td>\n",
       "      <td>57</td>\n",
       "      <td>среднее</td>\n",
       "      <td>1</td>\n",
       "      <td>гражданский брак</td>\n",
       "      <td>1</td>\n",
       "      <td>F</td>\n",
       "      <td>пенсионер</td>\n",
       "      <td>0</td>\n",
       "      <td>167422</td>\n",
       "      <td>на проведение свадьбы</td>\n",
       "      <td>True</td>\n",
       "    </tr>\n",
       "    <tr>\n",
       "      <th>7921</th>\n",
       "      <td>0</td>\n",
       "      <td>2194</td>\n",
       "      <td>64</td>\n",
       "      <td>высшее</td>\n",
       "      <td>0</td>\n",
       "      <td>гражданский брак</td>\n",
       "      <td>1</td>\n",
       "      <td>F</td>\n",
       "      <td>пенсионер</td>\n",
       "      <td>0</td>\n",
       "      <td>167422</td>\n",
       "      <td>на проведение свадьбы</td>\n",
       "      <td>True</td>\n",
       "    </tr>\n",
       "    <tr>\n",
       "      <th>7938</th>\n",
       "      <td>0</td>\n",
       "      <td>2194</td>\n",
       "      <td>71</td>\n",
       "      <td>среднее</td>\n",
       "      <td>1</td>\n",
       "      <td>гражданский брак</td>\n",
       "      <td>1</td>\n",
       "      <td>F</td>\n",
       "      <td>пенсионер</td>\n",
       "      <td>0</td>\n",
       "      <td>167422</td>\n",
       "      <td>на проведение свадьбы</td>\n",
       "      <td>True</td>\n",
       "    </tr>\n",
       "    <tr>\n",
       "      <th>8583</th>\n",
       "      <td>0</td>\n",
       "      <td>2194</td>\n",
       "      <td>58</td>\n",
       "      <td>высшее</td>\n",
       "      <td>0</td>\n",
       "      <td>Не женат / не замужем</td>\n",
       "      <td>4</td>\n",
       "      <td>F</td>\n",
       "      <td>пенсионер</td>\n",
       "      <td>0</td>\n",
       "      <td>167422</td>\n",
       "      <td>дополнительное образование</td>\n",
       "      <td>True</td>\n",
       "    </tr>\n",
       "    <tr>\n",
       "      <th>9238</th>\n",
       "      <td>2</td>\n",
       "      <td>2194</td>\n",
       "      <td>34</td>\n",
       "      <td>среднее</td>\n",
       "      <td>1</td>\n",
       "      <td>женат / замужем</td>\n",
       "      <td>0</td>\n",
       "      <td>F</td>\n",
       "      <td>сотрудник</td>\n",
       "      <td>0</td>\n",
       "      <td>167422</td>\n",
       "      <td>покупка жилья для сдачи</td>\n",
       "      <td>True</td>\n",
       "    </tr>\n",
       "    <tr>\n",
       "      <th>9528</th>\n",
       "      <td>0</td>\n",
       "      <td>2194</td>\n",
       "      <td>66</td>\n",
       "      <td>среднее</td>\n",
       "      <td>1</td>\n",
       "      <td>вдовец / вдова</td>\n",
       "      <td>2</td>\n",
       "      <td>F</td>\n",
       "      <td>пенсионер</td>\n",
       "      <td>0</td>\n",
       "      <td>167422</td>\n",
       "      <td>операции со своей недвижимостью</td>\n",
       "      <td>True</td>\n",
       "    </tr>\n",
       "    <tr>\n",
       "      <th>9604</th>\n",
       "      <td>0</td>\n",
       "      <td>2194</td>\n",
       "      <td>71</td>\n",
       "      <td>среднее</td>\n",
       "      <td>1</td>\n",
       "      <td>гражданский брак</td>\n",
       "      <td>1</td>\n",
       "      <td>F</td>\n",
       "      <td>пенсионер</td>\n",
       "      <td>0</td>\n",
       "      <td>167422</td>\n",
       "      <td>на проведение свадьбы</td>\n",
       "      <td>True</td>\n",
       "    </tr>\n",
       "    <tr>\n",
       "      <th>9627</th>\n",
       "      <td>0</td>\n",
       "      <td>2194</td>\n",
       "      <td>56</td>\n",
       "      <td>среднее</td>\n",
       "      <td>1</td>\n",
       "      <td>женат / замужем</td>\n",
       "      <td>0</td>\n",
       "      <td>F</td>\n",
       "      <td>пенсионер</td>\n",
       "      <td>0</td>\n",
       "      <td>167422</td>\n",
       "      <td>операции со своей недвижимостью</td>\n",
       "      <td>True</td>\n",
       "    </tr>\n",
       "    <tr>\n",
       "      <th>9855</th>\n",
       "      <td>0</td>\n",
       "      <td>2194</td>\n",
       "      <td>62</td>\n",
       "      <td>среднее</td>\n",
       "      <td>1</td>\n",
       "      <td>женат / замужем</td>\n",
       "      <td>0</td>\n",
       "      <td>F</td>\n",
       "      <td>пенсионер</td>\n",
       "      <td>0</td>\n",
       "      <td>167422</td>\n",
       "      <td>получение дополнительного образования</td>\n",
       "      <td>True</td>\n",
       "    </tr>\n",
       "    <tr>\n",
       "      <th>10462</th>\n",
       "      <td>0</td>\n",
       "      <td>2194</td>\n",
       "      <td>62</td>\n",
       "      <td>среднее</td>\n",
       "      <td>1</td>\n",
       "      <td>женат / замужем</td>\n",
       "      <td>0</td>\n",
       "      <td>F</td>\n",
       "      <td>пенсионер</td>\n",
       "      <td>0</td>\n",
       "      <td>167422</td>\n",
       "      <td>покупка коммерческой недвижимости</td>\n",
       "      <td>True</td>\n",
       "    </tr>\n",
       "    <tr>\n",
       "      <th>10697</th>\n",
       "      <td>0</td>\n",
       "      <td>2194</td>\n",
       "      <td>40</td>\n",
       "      <td>среднее</td>\n",
       "      <td>1</td>\n",
       "      <td>гражданский брак</td>\n",
       "      <td>1</td>\n",
       "      <td>F</td>\n",
       "      <td>компаньон</td>\n",
       "      <td>0</td>\n",
       "      <td>167422</td>\n",
       "      <td>сыграть свадьбу</td>\n",
       "      <td>True</td>\n",
       "    </tr>\n",
       "    <tr>\n",
       "      <th>10864</th>\n",
       "      <td>0</td>\n",
       "      <td>2194</td>\n",
       "      <td>62</td>\n",
       "      <td>среднее</td>\n",
       "      <td>1</td>\n",
       "      <td>женат / замужем</td>\n",
       "      <td>0</td>\n",
       "      <td>F</td>\n",
       "      <td>пенсионер</td>\n",
       "      <td>0</td>\n",
       "      <td>167422</td>\n",
       "      <td>ремонт жилью</td>\n",
       "      <td>True</td>\n",
       "    </tr>\n",
       "    <tr>\n",
       "      <th>10994</th>\n",
       "      <td>0</td>\n",
       "      <td>2194</td>\n",
       "      <td>62</td>\n",
       "      <td>среднее</td>\n",
       "      <td>1</td>\n",
       "      <td>женат / замужем</td>\n",
       "      <td>0</td>\n",
       "      <td>F</td>\n",
       "      <td>пенсионер</td>\n",
       "      <td>0</td>\n",
       "      <td>167422</td>\n",
       "      <td>ремонт жилью</td>\n",
       "      <td>True</td>\n",
       "    </tr>\n",
       "    <tr>\n",
       "      <th>11791</th>\n",
       "      <td>0</td>\n",
       "      <td>2194</td>\n",
       "      <td>47</td>\n",
       "      <td>среднее</td>\n",
       "      <td>1</td>\n",
       "      <td>женат / замужем</td>\n",
       "      <td>0</td>\n",
       "      <td>F</td>\n",
       "      <td>сотрудник</td>\n",
       "      <td>0</td>\n",
       "      <td>167422</td>\n",
       "      <td>строительство недвижимости</td>\n",
       "      <td>True</td>\n",
       "    </tr>\n",
       "    <tr>\n",
       "      <th>12373</th>\n",
       "      <td>0</td>\n",
       "      <td>2194</td>\n",
       "      <td>58</td>\n",
       "      <td>среднее</td>\n",
       "      <td>1</td>\n",
       "      <td>женат / замужем</td>\n",
       "      <td>0</td>\n",
       "      <td>M</td>\n",
       "      <td>сотрудник</td>\n",
       "      <td>0</td>\n",
       "      <td>167422</td>\n",
       "      <td>покупка недвижимости</td>\n",
       "      <td>True</td>\n",
       "    </tr>\n",
       "    <tr>\n",
       "      <th>12375</th>\n",
       "      <td>1</td>\n",
       "      <td>2194</td>\n",
       "      <td>37</td>\n",
       "      <td>среднее</td>\n",
       "      <td>1</td>\n",
       "      <td>женат / замужем</td>\n",
       "      <td>0</td>\n",
       "      <td>F</td>\n",
       "      <td>сотрудник</td>\n",
       "      <td>0</td>\n",
       "      <td>167422</td>\n",
       "      <td>покупка недвижимости</td>\n",
       "      <td>True</td>\n",
       "    </tr>\n",
       "    <tr>\n",
       "      <th>12736</th>\n",
       "      <td>0</td>\n",
       "      <td>2194</td>\n",
       "      <td>59</td>\n",
       "      <td>среднее</td>\n",
       "      <td>1</td>\n",
       "      <td>женат / замужем</td>\n",
       "      <td>0</td>\n",
       "      <td>F</td>\n",
       "      <td>пенсионер</td>\n",
       "      <td>0</td>\n",
       "      <td>167422</td>\n",
       "      <td>заняться образованием</td>\n",
       "      <td>True</td>\n",
       "    </tr>\n",
       "    <tr>\n",
       "      <th>13025</th>\n",
       "      <td>1</td>\n",
       "      <td>2194</td>\n",
       "      <td>44</td>\n",
       "      <td>среднее</td>\n",
       "      <td>1</td>\n",
       "      <td>женат / замужем</td>\n",
       "      <td>0</td>\n",
       "      <td>F</td>\n",
       "      <td>сотрудник</td>\n",
       "      <td>0</td>\n",
       "      <td>167422</td>\n",
       "      <td>сделка с подержанным автомобилем</td>\n",
       "      <td>True</td>\n",
       "    </tr>\n",
       "    <tr>\n",
       "      <th>13639</th>\n",
       "      <td>0</td>\n",
       "      <td>2194</td>\n",
       "      <td>64</td>\n",
       "      <td>среднее</td>\n",
       "      <td>1</td>\n",
       "      <td>женат / замужем</td>\n",
       "      <td>0</td>\n",
       "      <td>F</td>\n",
       "      <td>пенсионер</td>\n",
       "      <td>0</td>\n",
       "      <td>167422</td>\n",
       "      <td>автомобиль</td>\n",
       "      <td>True</td>\n",
       "    </tr>\n",
       "    <tr>\n",
       "      <th>13773</th>\n",
       "      <td>0</td>\n",
       "      <td>2194</td>\n",
       "      <td>35</td>\n",
       "      <td>среднее</td>\n",
       "      <td>1</td>\n",
       "      <td>гражданский брак</td>\n",
       "      <td>1</td>\n",
       "      <td>F</td>\n",
       "      <td>сотрудник</td>\n",
       "      <td>0</td>\n",
       "      <td>167422</td>\n",
       "      <td>сыграть свадьбу</td>\n",
       "      <td>True</td>\n",
       "    </tr>\n",
       "    <tr>\n",
       "      <th>13878</th>\n",
       "      <td>1</td>\n",
       "      <td>2194</td>\n",
       "      <td>31</td>\n",
       "      <td>среднее</td>\n",
       "      <td>1</td>\n",
       "      <td>женат / замужем</td>\n",
       "      <td>0</td>\n",
       "      <td>F</td>\n",
       "      <td>компаньон</td>\n",
       "      <td>0</td>\n",
       "      <td>167422</td>\n",
       "      <td>покупка жилья</td>\n",
       "      <td>True</td>\n",
       "    </tr>\n",
       "    <tr>\n",
       "      <th>13942</th>\n",
       "      <td>0</td>\n",
       "      <td>2194</td>\n",
       "      <td>44</td>\n",
       "      <td>среднее</td>\n",
       "      <td>1</td>\n",
       "      <td>женат / замужем</td>\n",
       "      <td>0</td>\n",
       "      <td>F</td>\n",
       "      <td>сотрудник</td>\n",
       "      <td>0</td>\n",
       "      <td>167422</td>\n",
       "      <td>приобретение автомобиля</td>\n",
       "      <td>True</td>\n",
       "    </tr>\n",
       "    <tr>\n",
       "      <th>14097</th>\n",
       "      <td>0</td>\n",
       "      <td>2194</td>\n",
       "      <td>48</td>\n",
       "      <td>среднее</td>\n",
       "      <td>1</td>\n",
       "      <td>гражданский брак</td>\n",
       "      <td>1</td>\n",
       "      <td>F</td>\n",
       "      <td>сотрудник</td>\n",
       "      <td>0</td>\n",
       "      <td>167422</td>\n",
       "      <td>свадьба</td>\n",
       "      <td>True</td>\n",
       "    </tr>\n",
       "    <tr>\n",
       "      <th>14432</th>\n",
       "      <td>2</td>\n",
       "      <td>2194</td>\n",
       "      <td>36</td>\n",
       "      <td>высшее</td>\n",
       "      <td>0</td>\n",
       "      <td>женат / замужем</td>\n",
       "      <td>0</td>\n",
       "      <td>F</td>\n",
       "      <td>госслужащий</td>\n",
       "      <td>0</td>\n",
       "      <td>167422</td>\n",
       "      <td>получение образования</td>\n",
       "      <td>True</td>\n",
       "    </tr>\n",
       "    <tr>\n",
       "      <th>...</th>\n",
       "      <td>...</td>\n",
       "      <td>...</td>\n",
       "      <td>...</td>\n",
       "      <td>...</td>\n",
       "      <td>...</td>\n",
       "      <td>...</td>\n",
       "      <td>...</td>\n",
       "      <td>...</td>\n",
       "      <td>...</td>\n",
       "      <td>...</td>\n",
       "      <td>...</td>\n",
       "      <td>...</td>\n",
       "      <td>...</td>\n",
       "    </tr>\n",
       "    <tr>\n",
       "      <th>17338</th>\n",
       "      <td>0</td>\n",
       "      <td>2194</td>\n",
       "      <td>64</td>\n",
       "      <td>среднее</td>\n",
       "      <td>1</td>\n",
       "      <td>гражданский брак</td>\n",
       "      <td>1</td>\n",
       "      <td>F</td>\n",
       "      <td>пенсионер</td>\n",
       "      <td>0</td>\n",
       "      <td>167422</td>\n",
       "      <td>сыграть свадьбу</td>\n",
       "      <td>True</td>\n",
       "    </tr>\n",
       "    <tr>\n",
       "      <th>17379</th>\n",
       "      <td>0</td>\n",
       "      <td>2194</td>\n",
       "      <td>54</td>\n",
       "      <td>высшее</td>\n",
       "      <td>0</td>\n",
       "      <td>женат / замужем</td>\n",
       "      <td>0</td>\n",
       "      <td>M</td>\n",
       "      <td>компаньон</td>\n",
       "      <td>0</td>\n",
       "      <td>167422</td>\n",
       "      <td>операции с коммерческой недвижимостью</td>\n",
       "      <td>True</td>\n",
       "    </tr>\n",
       "    <tr>\n",
       "      <th>17755</th>\n",
       "      <td>1</td>\n",
       "      <td>2194</td>\n",
       "      <td>43</td>\n",
       "      <td>среднее</td>\n",
       "      <td>1</td>\n",
       "      <td>женат / замужем</td>\n",
       "      <td>0</td>\n",
       "      <td>M</td>\n",
       "      <td>сотрудник</td>\n",
       "      <td>0</td>\n",
       "      <td>167422</td>\n",
       "      <td>заняться образованием</td>\n",
       "      <td>True</td>\n",
       "    </tr>\n",
       "    <tr>\n",
       "      <th>17774</th>\n",
       "      <td>1</td>\n",
       "      <td>2194</td>\n",
       "      <td>40</td>\n",
       "      <td>среднее</td>\n",
       "      <td>1</td>\n",
       "      <td>гражданский брак</td>\n",
       "      <td>1</td>\n",
       "      <td>F</td>\n",
       "      <td>компаньон</td>\n",
       "      <td>0</td>\n",
       "      <td>167422</td>\n",
       "      <td>строительство жилой недвижимости</td>\n",
       "      <td>True</td>\n",
       "    </tr>\n",
       "    <tr>\n",
       "      <th>18328</th>\n",
       "      <td>0</td>\n",
       "      <td>2194</td>\n",
       "      <td>29</td>\n",
       "      <td>высшее</td>\n",
       "      <td>0</td>\n",
       "      <td>женат / замужем</td>\n",
       "      <td>0</td>\n",
       "      <td>M</td>\n",
       "      <td>сотрудник</td>\n",
       "      <td>0</td>\n",
       "      <td>167422</td>\n",
       "      <td>покупка жилой недвижимости</td>\n",
       "      <td>True</td>\n",
       "    </tr>\n",
       "    <tr>\n",
       "      <th>18349</th>\n",
       "      <td>1</td>\n",
       "      <td>2194</td>\n",
       "      <td>30</td>\n",
       "      <td>высшее</td>\n",
       "      <td>0</td>\n",
       "      <td>женат / замужем</td>\n",
       "      <td>0</td>\n",
       "      <td>F</td>\n",
       "      <td>госслужащий</td>\n",
       "      <td>0</td>\n",
       "      <td>167422</td>\n",
       "      <td>покупка жилья для семьи</td>\n",
       "      <td>True</td>\n",
       "    </tr>\n",
       "    <tr>\n",
       "      <th>18428</th>\n",
       "      <td>0</td>\n",
       "      <td>2194</td>\n",
       "      <td>64</td>\n",
       "      <td>среднее</td>\n",
       "      <td>1</td>\n",
       "      <td>женат / замужем</td>\n",
       "      <td>0</td>\n",
       "      <td>F</td>\n",
       "      <td>пенсионер</td>\n",
       "      <td>0</td>\n",
       "      <td>167422</td>\n",
       "      <td>жилье</td>\n",
       "      <td>True</td>\n",
       "    </tr>\n",
       "    <tr>\n",
       "      <th>18521</th>\n",
       "      <td>0</td>\n",
       "      <td>2194</td>\n",
       "      <td>56</td>\n",
       "      <td>среднее</td>\n",
       "      <td>1</td>\n",
       "      <td>гражданский брак</td>\n",
       "      <td>1</td>\n",
       "      <td>F</td>\n",
       "      <td>сотрудник</td>\n",
       "      <td>0</td>\n",
       "      <td>167422</td>\n",
       "      <td>сыграть свадьбу</td>\n",
       "      <td>True</td>\n",
       "    </tr>\n",
       "    <tr>\n",
       "      <th>18563</th>\n",
       "      <td>0</td>\n",
       "      <td>2194</td>\n",
       "      <td>54</td>\n",
       "      <td>среднее</td>\n",
       "      <td>1</td>\n",
       "      <td>женат / замужем</td>\n",
       "      <td>0</td>\n",
       "      <td>F</td>\n",
       "      <td>сотрудник</td>\n",
       "      <td>0</td>\n",
       "      <td>167422</td>\n",
       "      <td>операции со своей недвижимостью</td>\n",
       "      <td>True</td>\n",
       "    </tr>\n",
       "    <tr>\n",
       "      <th>18755</th>\n",
       "      <td>0</td>\n",
       "      <td>2194</td>\n",
       "      <td>58</td>\n",
       "      <td>среднее</td>\n",
       "      <td>1</td>\n",
       "      <td>женат / замужем</td>\n",
       "      <td>0</td>\n",
       "      <td>F</td>\n",
       "      <td>пенсионер</td>\n",
       "      <td>0</td>\n",
       "      <td>167422</td>\n",
       "      <td>заняться образованием</td>\n",
       "      <td>True</td>\n",
       "    </tr>\n",
       "    <tr>\n",
       "      <th>19041</th>\n",
       "      <td>0</td>\n",
       "      <td>2194</td>\n",
       "      <td>56</td>\n",
       "      <td>среднее</td>\n",
       "      <td>1</td>\n",
       "      <td>гражданский брак</td>\n",
       "      <td>1</td>\n",
       "      <td>F</td>\n",
       "      <td>сотрудник</td>\n",
       "      <td>0</td>\n",
       "      <td>167422</td>\n",
       "      <td>на проведение свадьбы</td>\n",
       "      <td>True</td>\n",
       "    </tr>\n",
       "    <tr>\n",
       "      <th>19184</th>\n",
       "      <td>0</td>\n",
       "      <td>2194</td>\n",
       "      <td>46</td>\n",
       "      <td>среднее</td>\n",
       "      <td>1</td>\n",
       "      <td>женат / замужем</td>\n",
       "      <td>0</td>\n",
       "      <td>F</td>\n",
       "      <td>сотрудник</td>\n",
       "      <td>0</td>\n",
       "      <td>167422</td>\n",
       "      <td>свой автомобиль</td>\n",
       "      <td>True</td>\n",
       "    </tr>\n",
       "    <tr>\n",
       "      <th>19295</th>\n",
       "      <td>0</td>\n",
       "      <td>2194</td>\n",
       "      <td>51</td>\n",
       "      <td>среднее</td>\n",
       "      <td>1</td>\n",
       "      <td>женат / замужем</td>\n",
       "      <td>0</td>\n",
       "      <td>F</td>\n",
       "      <td>сотрудник</td>\n",
       "      <td>0</td>\n",
       "      <td>167422</td>\n",
       "      <td>покупка коммерческой недвижимости</td>\n",
       "      <td>True</td>\n",
       "    </tr>\n",
       "    <tr>\n",
       "      <th>19321</th>\n",
       "      <td>0</td>\n",
       "      <td>2194</td>\n",
       "      <td>23</td>\n",
       "      <td>среднее</td>\n",
       "      <td>1</td>\n",
       "      <td>Не женат / не замужем</td>\n",
       "      <td>4</td>\n",
       "      <td>F</td>\n",
       "      <td>сотрудник</td>\n",
       "      <td>0</td>\n",
       "      <td>167422</td>\n",
       "      <td>сделка с подержанным автомобилем</td>\n",
       "      <td>True</td>\n",
       "    </tr>\n",
       "    <tr>\n",
       "      <th>19369</th>\n",
       "      <td>0</td>\n",
       "      <td>2194</td>\n",
       "      <td>45</td>\n",
       "      <td>среднее</td>\n",
       "      <td>1</td>\n",
       "      <td>гражданский брак</td>\n",
       "      <td>1</td>\n",
       "      <td>F</td>\n",
       "      <td>компаньон</td>\n",
       "      <td>0</td>\n",
       "      <td>167422</td>\n",
       "      <td>свадьба</td>\n",
       "      <td>True</td>\n",
       "    </tr>\n",
       "    <tr>\n",
       "      <th>19387</th>\n",
       "      <td>0</td>\n",
       "      <td>2194</td>\n",
       "      <td>38</td>\n",
       "      <td>высшее</td>\n",
       "      <td>0</td>\n",
       "      <td>гражданский брак</td>\n",
       "      <td>1</td>\n",
       "      <td>F</td>\n",
       "      <td>компаньон</td>\n",
       "      <td>0</td>\n",
       "      <td>167422</td>\n",
       "      <td>на проведение свадьбы</td>\n",
       "      <td>True</td>\n",
       "    </tr>\n",
       "    <tr>\n",
       "      <th>19559</th>\n",
       "      <td>0</td>\n",
       "      <td>2194</td>\n",
       "      <td>41</td>\n",
       "      <td>среднее</td>\n",
       "      <td>1</td>\n",
       "      <td>женат / замужем</td>\n",
       "      <td>0</td>\n",
       "      <td>F</td>\n",
       "      <td>сотрудник</td>\n",
       "      <td>0</td>\n",
       "      <td>167422</td>\n",
       "      <td>свой автомобиль</td>\n",
       "      <td>True</td>\n",
       "    </tr>\n",
       "    <tr>\n",
       "      <th>19688</th>\n",
       "      <td>0</td>\n",
       "      <td>2194</td>\n",
       "      <td>61</td>\n",
       "      <td>среднее</td>\n",
       "      <td>1</td>\n",
       "      <td>женат / замужем</td>\n",
       "      <td>0</td>\n",
       "      <td>F</td>\n",
       "      <td>пенсионер</td>\n",
       "      <td>0</td>\n",
       "      <td>167422</td>\n",
       "      <td>операции с недвижимостью</td>\n",
       "      <td>True</td>\n",
       "    </tr>\n",
       "    <tr>\n",
       "      <th>19832</th>\n",
       "      <td>0</td>\n",
       "      <td>2194</td>\n",
       "      <td>48</td>\n",
       "      <td>среднее</td>\n",
       "      <td>1</td>\n",
       "      <td>женат / замужем</td>\n",
       "      <td>0</td>\n",
       "      <td>F</td>\n",
       "      <td>сотрудник</td>\n",
       "      <td>0</td>\n",
       "      <td>167422</td>\n",
       "      <td>ремонт жилью</td>\n",
       "      <td>True</td>\n",
       "    </tr>\n",
       "    <tr>\n",
       "      <th>19946</th>\n",
       "      <td>0</td>\n",
       "      <td>2194</td>\n",
       "      <td>57</td>\n",
       "      <td>среднее</td>\n",
       "      <td>1</td>\n",
       "      <td>женат / замужем</td>\n",
       "      <td>0</td>\n",
       "      <td>F</td>\n",
       "      <td>сотрудник</td>\n",
       "      <td>0</td>\n",
       "      <td>167422</td>\n",
       "      <td>сделка с подержанным автомобилем</td>\n",
       "      <td>True</td>\n",
       "    </tr>\n",
       "    <tr>\n",
       "      <th>20116</th>\n",
       "      <td>0</td>\n",
       "      <td>2194</td>\n",
       "      <td>57</td>\n",
       "      <td>среднее</td>\n",
       "      <td>1</td>\n",
       "      <td>гражданский брак</td>\n",
       "      <td>1</td>\n",
       "      <td>M</td>\n",
       "      <td>пенсионер</td>\n",
       "      <td>0</td>\n",
       "      <td>167422</td>\n",
       "      <td>свадьба</td>\n",
       "      <td>True</td>\n",
       "    </tr>\n",
       "    <tr>\n",
       "      <th>20165</th>\n",
       "      <td>0</td>\n",
       "      <td>2194</td>\n",
       "      <td>42</td>\n",
       "      <td>среднее</td>\n",
       "      <td>1</td>\n",
       "      <td>женат / замужем</td>\n",
       "      <td>0</td>\n",
       "      <td>F</td>\n",
       "      <td>сотрудник</td>\n",
       "      <td>0</td>\n",
       "      <td>167422</td>\n",
       "      <td>покупка жилья для семьи</td>\n",
       "      <td>True</td>\n",
       "    </tr>\n",
       "    <tr>\n",
       "      <th>20187</th>\n",
       "      <td>0</td>\n",
       "      <td>2194</td>\n",
       "      <td>65</td>\n",
       "      <td>среднее</td>\n",
       "      <td>1</td>\n",
       "      <td>гражданский брак</td>\n",
       "      <td>1</td>\n",
       "      <td>F</td>\n",
       "      <td>пенсионер</td>\n",
       "      <td>0</td>\n",
       "      <td>167422</td>\n",
       "      <td>сыграть свадьбу</td>\n",
       "      <td>True</td>\n",
       "    </tr>\n",
       "    <tr>\n",
       "      <th>20297</th>\n",
       "      <td>1</td>\n",
       "      <td>2194</td>\n",
       "      <td>23</td>\n",
       "      <td>среднее</td>\n",
       "      <td>1</td>\n",
       "      <td>гражданский брак</td>\n",
       "      <td>1</td>\n",
       "      <td>F</td>\n",
       "      <td>сотрудник</td>\n",
       "      <td>0</td>\n",
       "      <td>167422</td>\n",
       "      <td>сыграть свадьбу</td>\n",
       "      <td>True</td>\n",
       "    </tr>\n",
       "    <tr>\n",
       "      <th>20662</th>\n",
       "      <td>0</td>\n",
       "      <td>2194</td>\n",
       "      <td>58</td>\n",
       "      <td>среднее</td>\n",
       "      <td>1</td>\n",
       "      <td>гражданский брак</td>\n",
       "      <td>1</td>\n",
       "      <td>M</td>\n",
       "      <td>сотрудник</td>\n",
       "      <td>0</td>\n",
       "      <td>167422</td>\n",
       "      <td>на проведение свадьбы</td>\n",
       "      <td>True</td>\n",
       "    </tr>\n",
       "    <tr>\n",
       "      <th>20702</th>\n",
       "      <td>0</td>\n",
       "      <td>2194</td>\n",
       "      <td>64</td>\n",
       "      <td>среднее</td>\n",
       "      <td>1</td>\n",
       "      <td>женат / замужем</td>\n",
       "      <td>0</td>\n",
       "      <td>F</td>\n",
       "      <td>пенсионер</td>\n",
       "      <td>0</td>\n",
       "      <td>167422</td>\n",
       "      <td>дополнительное образование</td>\n",
       "      <td>True</td>\n",
       "    </tr>\n",
       "    <tr>\n",
       "      <th>21032</th>\n",
       "      <td>0</td>\n",
       "      <td>2194</td>\n",
       "      <td>60</td>\n",
       "      <td>среднее</td>\n",
       "      <td>1</td>\n",
       "      <td>женат / замужем</td>\n",
       "      <td>0</td>\n",
       "      <td>F</td>\n",
       "      <td>пенсионер</td>\n",
       "      <td>0</td>\n",
       "      <td>167422</td>\n",
       "      <td>заняться образованием</td>\n",
       "      <td>True</td>\n",
       "    </tr>\n",
       "    <tr>\n",
       "      <th>21132</th>\n",
       "      <td>0</td>\n",
       "      <td>2194</td>\n",
       "      <td>47</td>\n",
       "      <td>среднее</td>\n",
       "      <td>1</td>\n",
       "      <td>женат / замужем</td>\n",
       "      <td>0</td>\n",
       "      <td>F</td>\n",
       "      <td>сотрудник</td>\n",
       "      <td>0</td>\n",
       "      <td>167422</td>\n",
       "      <td>ремонт жилью</td>\n",
       "      <td>True</td>\n",
       "    </tr>\n",
       "    <tr>\n",
       "      <th>21281</th>\n",
       "      <td>1</td>\n",
       "      <td>2194</td>\n",
       "      <td>30</td>\n",
       "      <td>высшее</td>\n",
       "      <td>0</td>\n",
       "      <td>женат / замужем</td>\n",
       "      <td>0</td>\n",
       "      <td>F</td>\n",
       "      <td>сотрудник</td>\n",
       "      <td>0</td>\n",
       "      <td>167422</td>\n",
       "      <td>покупка коммерческой недвижимости</td>\n",
       "      <td>True</td>\n",
       "    </tr>\n",
       "    <tr>\n",
       "      <th>21415</th>\n",
       "      <td>0</td>\n",
       "      <td>2194</td>\n",
       "      <td>54</td>\n",
       "      <td>среднее</td>\n",
       "      <td>1</td>\n",
       "      <td>женат / замужем</td>\n",
       "      <td>0</td>\n",
       "      <td>F</td>\n",
       "      <td>пенсионер</td>\n",
       "      <td>0</td>\n",
       "      <td>167422</td>\n",
       "      <td>операции с жильем</td>\n",
       "      <td>True</td>\n",
       "    </tr>\n",
       "  </tbody>\n",
       "</table>\n",
       "<p>71 rows × 13 columns</p>\n",
       "</div>"
      ],
      "text/plain": [
       "       children  days_employed  dob_days education  education_id  \\\n",
       "2849          0           2194        41   среднее             1   \n",
       "3290          0           2194        58   среднее             1   \n",
       "4182          1           2194        34    высшее             0   \n",
       "4851          0           2194        60   среднее             1   \n",
       "5557          0           2194        58   среднее             1   \n",
       "6312          0           2194        30   среднее             1   \n",
       "7808          0           2194        57   среднее             1   \n",
       "7921          0           2194        64    высшее             0   \n",
       "7938          0           2194        71   среднее             1   \n",
       "8583          0           2194        58    высшее             0   \n",
       "9238          2           2194        34   среднее             1   \n",
       "9528          0           2194        66   среднее             1   \n",
       "9604          0           2194        71   среднее             1   \n",
       "9627          0           2194        56   среднее             1   \n",
       "9855          0           2194        62   среднее             1   \n",
       "10462         0           2194        62   среднее             1   \n",
       "10697         0           2194        40   среднее             1   \n",
       "10864         0           2194        62   среднее             1   \n",
       "10994         0           2194        62   среднее             1   \n",
       "11791         0           2194        47   среднее             1   \n",
       "12373         0           2194        58   среднее             1   \n",
       "12375         1           2194        37   среднее             1   \n",
       "12736         0           2194        59   среднее             1   \n",
       "13025         1           2194        44   среднее             1   \n",
       "13639         0           2194        64   среднее             1   \n",
       "13773         0           2194        35   среднее             1   \n",
       "13878         1           2194        31   среднее             1   \n",
       "13942         0           2194        44   среднее             1   \n",
       "14097         0           2194        48   среднее             1   \n",
       "14432         2           2194        36    высшее             0   \n",
       "...         ...            ...       ...       ...           ...   \n",
       "17338         0           2194        64   среднее             1   \n",
       "17379         0           2194        54    высшее             0   \n",
       "17755         1           2194        43   среднее             1   \n",
       "17774         1           2194        40   среднее             1   \n",
       "18328         0           2194        29    высшее             0   \n",
       "18349         1           2194        30    высшее             0   \n",
       "18428         0           2194        64   среднее             1   \n",
       "18521         0           2194        56   среднее             1   \n",
       "18563         0           2194        54   среднее             1   \n",
       "18755         0           2194        58   среднее             1   \n",
       "19041         0           2194        56   среднее             1   \n",
       "19184         0           2194        46   среднее             1   \n",
       "19295         0           2194        51   среднее             1   \n",
       "19321         0           2194        23   среднее             1   \n",
       "19369         0           2194        45   среднее             1   \n",
       "19387         0           2194        38    высшее             0   \n",
       "19559         0           2194        41   среднее             1   \n",
       "19688         0           2194        61   среднее             1   \n",
       "19832         0           2194        48   среднее             1   \n",
       "19946         0           2194        57   среднее             1   \n",
       "20116         0           2194        57   среднее             1   \n",
       "20165         0           2194        42   среднее             1   \n",
       "20187         0           2194        65   среднее             1   \n",
       "20297         1           2194        23   среднее             1   \n",
       "20662         0           2194        58   среднее             1   \n",
       "20702         0           2194        64   среднее             1   \n",
       "21032         0           2194        60   среднее             1   \n",
       "21132         0           2194        47   среднее             1   \n",
       "21281         1           2194        30    высшее             0   \n",
       "21415         0           2194        54   среднее             1   \n",
       "\n",
       "               family_status  family_status_id gender  income_type  debt  \\\n",
       "2849         женат / замужем                 0      F    сотрудник     0   \n",
       "3290        гражданский брак                 1      F    пенсионер     0   \n",
       "4182        гражданский брак                 1      F    сотрудник     0   \n",
       "4851        гражданский брак                 1      F    пенсионер     0   \n",
       "5557        гражданский брак                 1      F    пенсионер     0   \n",
       "6312         женат / замужем                 0      M    сотрудник     0   \n",
       "7808        гражданский брак                 1      F    пенсионер     0   \n",
       "7921        гражданский брак                 1      F    пенсионер     0   \n",
       "7938        гражданский брак                 1      F    пенсионер     0   \n",
       "8583   Не женат / не замужем                 4      F    пенсионер     0   \n",
       "9238         женат / замужем                 0      F    сотрудник     0   \n",
       "9528          вдовец / вдова                 2      F    пенсионер     0   \n",
       "9604        гражданский брак                 1      F    пенсионер     0   \n",
       "9627         женат / замужем                 0      F    пенсионер     0   \n",
       "9855         женат / замужем                 0      F    пенсионер     0   \n",
       "10462        женат / замужем                 0      F    пенсионер     0   \n",
       "10697       гражданский брак                 1      F    компаньон     0   \n",
       "10864        женат / замужем                 0      F    пенсионер     0   \n",
       "10994        женат / замужем                 0      F    пенсионер     0   \n",
       "11791        женат / замужем                 0      F    сотрудник     0   \n",
       "12373        женат / замужем                 0      M    сотрудник     0   \n",
       "12375        женат / замужем                 0      F    сотрудник     0   \n",
       "12736        женат / замужем                 0      F    пенсионер     0   \n",
       "13025        женат / замужем                 0      F    сотрудник     0   \n",
       "13639        женат / замужем                 0      F    пенсионер     0   \n",
       "13773       гражданский брак                 1      F    сотрудник     0   \n",
       "13878        женат / замужем                 0      F    компаньон     0   \n",
       "13942        женат / замужем                 0      F    сотрудник     0   \n",
       "14097       гражданский брак                 1      F    сотрудник     0   \n",
       "14432        женат / замужем                 0      F  госслужащий     0   \n",
       "...                      ...               ...    ...          ...   ...   \n",
       "17338       гражданский брак                 1      F    пенсионер     0   \n",
       "17379        женат / замужем                 0      M    компаньон     0   \n",
       "17755        женат / замужем                 0      M    сотрудник     0   \n",
       "17774       гражданский брак                 1      F    компаньон     0   \n",
       "18328        женат / замужем                 0      M    сотрудник     0   \n",
       "18349        женат / замужем                 0      F  госслужащий     0   \n",
       "18428        женат / замужем                 0      F    пенсионер     0   \n",
       "18521       гражданский брак                 1      F    сотрудник     0   \n",
       "18563        женат / замужем                 0      F    сотрудник     0   \n",
       "18755        женат / замужем                 0      F    пенсионер     0   \n",
       "19041       гражданский брак                 1      F    сотрудник     0   \n",
       "19184        женат / замужем                 0      F    сотрудник     0   \n",
       "19295        женат / замужем                 0      F    сотрудник     0   \n",
       "19321  Не женат / не замужем                 4      F    сотрудник     0   \n",
       "19369       гражданский брак                 1      F    компаньон     0   \n",
       "19387       гражданский брак                 1      F    компаньон     0   \n",
       "19559        женат / замужем                 0      F    сотрудник     0   \n",
       "19688        женат / замужем                 0      F    пенсионер     0   \n",
       "19832        женат / замужем                 0      F    сотрудник     0   \n",
       "19946        женат / замужем                 0      F    сотрудник     0   \n",
       "20116       гражданский брак                 1      M    пенсионер     0   \n",
       "20165        женат / замужем                 0      F    сотрудник     0   \n",
       "20187       гражданский брак                 1      F    пенсионер     0   \n",
       "20297       гражданский брак                 1      F    сотрудник     0   \n",
       "20662       гражданский брак                 1      M    сотрудник     0   \n",
       "20702        женат / замужем                 0      F    пенсионер     0   \n",
       "21032        женат / замужем                 0      F    пенсионер     0   \n",
       "21132        женат / замужем                 0      F    сотрудник     0   \n",
       "21281        женат / замужем                 0      F    сотрудник     0   \n",
       "21415        женат / замужем                 0      F    пенсионер     0   \n",
       "\n",
       "       total_income                                purpose  duplicates  \n",
       "2849         167422                покупка жилья для семьи        True  \n",
       "3290         167422                        сыграть свадьбу        True  \n",
       "4182         167422                                свадьба        True  \n",
       "4851         167422                                свадьба        True  \n",
       "5557         167422                        сыграть свадьбу        True  \n",
       "6312         167422       строительство жилой недвижимости        True  \n",
       "7808         167422                  на проведение свадьбы        True  \n",
       "7921         167422                  на проведение свадьбы        True  \n",
       "7938         167422                  на проведение свадьбы        True  \n",
       "8583         167422             дополнительное образование        True  \n",
       "9238         167422                покупка жилья для сдачи        True  \n",
       "9528         167422        операции со своей недвижимостью        True  \n",
       "9604         167422                  на проведение свадьбы        True  \n",
       "9627         167422        операции со своей недвижимостью        True  \n",
       "9855         167422  получение дополнительного образования        True  \n",
       "10462        167422      покупка коммерческой недвижимости        True  \n",
       "10697        167422                        сыграть свадьбу        True  \n",
       "10864        167422                           ремонт жилью        True  \n",
       "10994        167422                           ремонт жилью        True  \n",
       "11791        167422             строительство недвижимости        True  \n",
       "12373        167422                   покупка недвижимости        True  \n",
       "12375        167422                   покупка недвижимости        True  \n",
       "12736        167422                  заняться образованием        True  \n",
       "13025        167422       сделка с подержанным автомобилем        True  \n",
       "13639        167422                             автомобиль        True  \n",
       "13773        167422                        сыграть свадьбу        True  \n",
       "13878        167422                          покупка жилья        True  \n",
       "13942        167422                приобретение автомобиля        True  \n",
       "14097        167422                                свадьба        True  \n",
       "14432        167422                  получение образования        True  \n",
       "...             ...                                    ...         ...  \n",
       "17338        167422                        сыграть свадьбу        True  \n",
       "17379        167422  операции с коммерческой недвижимостью        True  \n",
       "17755        167422                  заняться образованием        True  \n",
       "17774        167422       строительство жилой недвижимости        True  \n",
       "18328        167422             покупка жилой недвижимости        True  \n",
       "18349        167422                покупка жилья для семьи        True  \n",
       "18428        167422                                  жилье        True  \n",
       "18521        167422                        сыграть свадьбу        True  \n",
       "18563        167422        операции со своей недвижимостью        True  \n",
       "18755        167422                  заняться образованием        True  \n",
       "19041        167422                  на проведение свадьбы        True  \n",
       "19184        167422                        свой автомобиль        True  \n",
       "19295        167422      покупка коммерческой недвижимости        True  \n",
       "19321        167422       сделка с подержанным автомобилем        True  \n",
       "19369        167422                                свадьба        True  \n",
       "19387        167422                  на проведение свадьбы        True  \n",
       "19559        167422                        свой автомобиль        True  \n",
       "19688        167422               операции с недвижимостью        True  \n",
       "19832        167422                           ремонт жилью        True  \n",
       "19946        167422       сделка с подержанным автомобилем        True  \n",
       "20116        167422                                свадьба        True  \n",
       "20165        167422                покупка жилья для семьи        True  \n",
       "20187        167422                        сыграть свадьбу        True  \n",
       "20297        167422                        сыграть свадьбу        True  \n",
       "20662        167422                  на проведение свадьбы        True  \n",
       "20702        167422             дополнительное образование        True  \n",
       "21032        167422                  заняться образованием        True  \n",
       "21132        167422                           ремонт жилью        True  \n",
       "21281        167422      покупка коммерческой недвижимости        True  \n",
       "21415        167422                      операции с жильем        True  \n",
       "\n",
       "[71 rows x 13 columns]"
      ]
     },
     "execution_count": 38,
     "metadata": {},
     "output_type": "execute_result"
    }
   ],
   "source": [
    "data_duplicate"
   ]
  },
  {
   "cell_type": "markdown",
   "metadata": {},
   "source": [
    "Можно заметить что значения столбца *'days_employed'* одинаковы, и значения столбца *'total_income'* одинаковы.\n",
    "\n",
    "Проверим это, применив к столбцам метод `value_counts()`."
   ]
  },
  {
   "cell_type": "code",
   "execution_count": 39,
   "metadata": {},
   "outputs": [
    {
     "data": {
      "text/plain": [
       "2194    71\n",
       "Name: days_employed, dtype: int64"
      ]
     },
     "execution_count": 39,
     "metadata": {},
     "output_type": "execute_result"
    }
   ],
   "source": [
    "data_duplicate['days_employed'].value_counts()"
   ]
  },
  {
   "cell_type": "code",
   "execution_count": 40,
   "metadata": {},
   "outputs": [
    {
     "data": {
      "text/plain": [
       "167422    71\n",
       "Name: total_income, dtype: int64"
      ]
     },
     "execution_count": 40,
     "metadata": {},
     "output_type": "execute_result"
    }
   ],
   "source": [
    "data_duplicate['total_income'].value_counts()"
   ]
  },
  {
   "cell_type": "markdown",
   "metadata": {},
   "source": [
    "Итак, эти значения действительно одинаковые и равны значениям медианы и среднего арифметического, которые были посчитаны для замены пропусков в данных. Теперь понятно, откуда взялись эти строки - дубликаты. В общем, дубликаты выглядят странно, если учесть, что у каждого клиента свой трудовой стаж и свой доход в месяц, и их можно было бы смело удалять, так как это была бы скорей всего ошибка в данных. Но в данном случае, на месте трудового стажа и дохода в месяц были пропуски, а они были заменены на одинаковые значения. Вероятность возникновения дубликатов возросла, и они появились. Поэтому дубликаты в данной ситуации удалять не нужно."
   ]
  },
  {
   "cell_type": "code",
   "execution_count": 43,
   "metadata": {},
   "outputs": [
    {
     "name": "stdout",
     "output_type": "stream",
     "text": [
      "<class 'pandas.core.frame.DataFrame'>\n",
      "RangeIndex: 21525 entries, 0 to 21524\n",
      "Data columns (total 13 columns):\n",
      "children            21525 non-null int64\n",
      "days_employed       21525 non-null int64\n",
      "dob_days            21525 non-null int64\n",
      "education           21525 non-null object\n",
      "education_id        21525 non-null int64\n",
      "family_status       21525 non-null object\n",
      "family_status_id    21525 non-null int64\n",
      "gender              21525 non-null object\n",
      "income_type         21525 non-null object\n",
      "debt                21525 non-null int64\n",
      "total_income        21525 non-null int64\n",
      "purpose             21525 non-null object\n",
      "duplicates          21525 non-null bool\n",
      "dtypes: bool(1), int64(7), object(5)\n",
      "memory usage: 2.0+ MB\n"
     ]
    }
   ],
   "source": [
    "data_mod.info()"
   ]
  },
  {
   "cell_type": "markdown",
   "metadata": {},
   "source": [
    "### Лемматизация"
   ]
  },
  {
   "cell_type": "markdown",
   "metadata": {},
   "source": [
    "Данные готовы для анализа. Выделим леммы для столбца 'purpose'. С помощью метода unique() получим список уникальных значений столбца 'purpose'."
   ]
  },
  {
   "cell_type": "code",
   "execution_count": 44,
   "metadata": {},
   "outputs": [],
   "source": [
    "lemmas_purpose = data_mod['purpose'].unique()"
   ]
  },
  {
   "cell_type": "markdown",
   "metadata": {},
   "source": [
    "Выведем на экран данный список уникальных значений."
   ]
  },
  {
   "cell_type": "code",
   "execution_count": 45,
   "metadata": {},
   "outputs": [
    {
     "data": {
      "text/plain": [
       "array(['покупка жилья', 'приобретение автомобиля',\n",
       "       'дополнительное образование', 'сыграть свадьбу',\n",
       "       'операции с жильем', 'образование', 'на проведение свадьбы',\n",
       "       'покупка жилья для семьи', 'покупка недвижимости',\n",
       "       'покупка коммерческой недвижимости', 'покупка жилой недвижимости',\n",
       "       'строительство собственной недвижимости', 'недвижимость',\n",
       "       'строительство недвижимости', 'на покупку подержанного автомобиля',\n",
       "       'на покупку своего автомобиля',\n",
       "       'операции с коммерческой недвижимостью',\n",
       "       'строительство жилой недвижимости', 'жилье',\n",
       "       'операции со своей недвижимостью', 'автомобили',\n",
       "       'заняться образованием', 'сделка с подержанным автомобилем',\n",
       "       'получение образования', 'автомобиль', 'свадьба',\n",
       "       'получение дополнительного образования', 'покупка своего жилья',\n",
       "       'операции с недвижимостью', 'получение высшего образования',\n",
       "       'свой автомобиль', 'сделка с автомобилем',\n",
       "       'профильное образование', 'высшее образование',\n",
       "       'покупка жилья для сдачи', 'на покупку автомобиля', 'ремонт жилью',\n",
       "       'заняться высшим образованием'], dtype=object)"
      ]
     },
     "execution_count": 45,
     "metadata": {},
     "output_type": "execute_result"
    }
   ],
   "source": [
    "lemmas_purpose"
   ]
  },
  {
   "cell_type": "markdown",
   "metadata": {},
   "source": [
    "Лемматизируем список lemmas_purpose. Используем библиотеку pymystem3."
   ]
  },
  {
   "cell_type": "code",
   "execution_count": 46,
   "metadata": {},
   "outputs": [],
   "source": [
    "from pymystem3 import Mystem        # импортируем библиотеку pymystem3\n",
    "m = Mystem()"
   ]
  },
  {
   "cell_type": "code",
   "execution_count": 47,
   "metadata": {},
   "outputs": [],
   "source": [
    "lemmas_words = []                   # создаем пустой список, который будем использовать для хранения лемм"
   ]
  },
  {
   "cell_type": "code",
   "execution_count": 48,
   "metadata": {},
   "outputs": [
    {
     "name": "stdout",
     "output_type": "stream",
     "text": [
      "['покупка', ' ', 'жилье', '\\n']\n",
      "['приобретение', ' ', 'автомобиль', '\\n']\n",
      "['дополнительный', ' ', 'образование', '\\n']\n",
      "['сыграть', ' ', 'свадьба', '\\n']\n",
      "['операция', ' ', 'с', ' ', 'жилье', '\\n']\n",
      "['образование', '\\n']\n",
      "['на', ' ', 'проведение', ' ', 'свадьба', '\\n']\n",
      "['покупка', ' ', 'жилье', ' ', 'для', ' ', 'семья', '\\n']\n",
      "['покупка', ' ', 'недвижимость', '\\n']\n",
      "['покупка', ' ', 'коммерческий', ' ', 'недвижимость', '\\n']\n",
      "['покупка', ' ', 'жилой', ' ', 'недвижимость', '\\n']\n",
      "['строительство', ' ', 'собственный', ' ', 'недвижимость', '\\n']\n",
      "['недвижимость', '\\n']\n",
      "['строительство', ' ', 'недвижимость', '\\n']\n",
      "['на', ' ', 'покупка', ' ', 'подержать', ' ', 'автомобиль', '\\n']\n",
      "['на', ' ', 'покупка', ' ', 'свой', ' ', 'автомобиль', '\\n']\n",
      "['операция', ' ', 'с', ' ', 'коммерческий', ' ', 'недвижимость', '\\n']\n",
      "['строительство', ' ', 'жилой', ' ', 'недвижимость', '\\n']\n",
      "['жилье', '\\n']\n",
      "['операция', ' ', 'со', ' ', 'свой', ' ', 'недвижимость', '\\n']\n",
      "['автомобиль', '\\n']\n",
      "['заниматься', ' ', 'образование', '\\n']\n",
      "['сделка', ' ', 'с', ' ', 'подержанный', ' ', 'автомобиль', '\\n']\n",
      "['получение', ' ', 'образование', '\\n']\n",
      "['автомобиль', '\\n']\n",
      "['свадьба', '\\n']\n",
      "['получение', ' ', 'дополнительный', ' ', 'образование', '\\n']\n",
      "['покупка', ' ', 'свой', ' ', 'жилье', '\\n']\n",
      "['операция', ' ', 'с', ' ', 'недвижимость', '\\n']\n",
      "['получение', ' ', 'высокий', ' ', 'образование', '\\n']\n",
      "['свой', ' ', 'автомобиль', '\\n']\n",
      "['сделка', ' ', 'с', ' ', 'автомобиль', '\\n']\n",
      "['профильный', ' ', 'образование', '\\n']\n",
      "['высокий', ' ', 'образование', '\\n']\n",
      "['покупка', ' ', 'жилье', ' ', 'для', ' ', 'сдача', '\\n']\n",
      "['на', ' ', 'покупка', ' ', 'автомобиль', '\\n']\n",
      "['ремонт', ' ', 'жилье', '\\n']\n",
      "['заниматься', ' ', 'высокий', ' ', 'образование', '\\n']\n"
     ]
    }
   ],
   "source": [
    "for element in lemmas_purpose:      # с помощью цикла лемматизируем каждый элемент списка lemmas_purpose\n",
    "    lemmas = m.lemmatize(element)   \n",
    "    lemmas_words += lemmas          # \"складываем\" лемматизированные значения в один список\n",
    "    print(lemmas)                   # выводим результат на экран"
   ]
  },
  {
   "cell_type": "markdown",
   "metadata": {},
   "source": [
    "Мы получили леммы уникальных значений столбца *'purpose'*. Теперь посчитаем количество уникальных значений в списке *lemmas_words*. Для этого используем контейнер *Counter*."
   ]
  },
  {
   "cell_type": "code",
   "execution_count": 49,
   "metadata": {},
   "outputs": [
    {
     "data": {
      "text/plain": [
       "Counter({'покупка': 10,\n",
       "         ' ': 59,\n",
       "         'жилье': 7,\n",
       "         '\\n': 38,\n",
       "         'приобретение': 1,\n",
       "         'автомобиль': 9,\n",
       "         'дополнительный': 2,\n",
       "         'образование': 9,\n",
       "         'сыграть': 1,\n",
       "         'свадьба': 3,\n",
       "         'операция': 4,\n",
       "         'с': 5,\n",
       "         'на': 4,\n",
       "         'проведение': 1,\n",
       "         'для': 2,\n",
       "         'семья': 1,\n",
       "         'недвижимость': 10,\n",
       "         'коммерческий': 2,\n",
       "         'жилой': 2,\n",
       "         'строительство': 3,\n",
       "         'собственный': 1,\n",
       "         'подержать': 1,\n",
       "         'свой': 4,\n",
       "         'со': 1,\n",
       "         'заниматься': 2,\n",
       "         'сделка': 2,\n",
       "         'подержанный': 1,\n",
       "         'получение': 3,\n",
       "         'высокий': 3,\n",
       "         'профильный': 1,\n",
       "         'сдача': 1,\n",
       "         'ремонт': 1})"
      ]
     },
     "execution_count": 49,
     "metadata": {},
     "output_type": "execute_result"
    }
   ],
   "source": [
    "from collections import Counter # вызываем контейнер Counter из модуля collections\n",
    "Counter(lemmas_words)           "
   ]
  },
  {
   "cell_type": "markdown",
   "metadata": {},
   "source": [
    "Выбираем для словаря *lemma_dict* значимые и чаще всех встречающиеся леммы из списка - счетчика. Это леммы *жилье*, *автомобиль*, *образование*, *недвижимость* и *свадьба*. Леммы *покупка*, *операция*, *строительство*, *свой* встречаются чаще некоторых выбранных значений для словаря, но по своей сути не являются значимыми, то есть не несут информации о самой цели кредита."
   ]
  },
  {
   "cell_type": "code",
   "execution_count": 50,
   "metadata": {},
   "outputs": [],
   "source": [
    "lemma_dict = ['жилье', 'автомобиль', 'образование', 'свадьба', 'недвижимость']"
   ]
  },
  {
   "cell_type": "markdown",
   "metadata": {},
   "source": [
    "Отсортируем список методом sort()."
   ]
  },
  {
   "cell_type": "code",
   "execution_count": 51,
   "metadata": {},
   "outputs": [],
   "source": [
    "lemma_dict.sort()"
   ]
  },
  {
   "cell_type": "markdown",
   "metadata": {},
   "source": [
    "Проверим результат, выведем список на экран."
   ]
  },
  {
   "cell_type": "code",
   "execution_count": 52,
   "metadata": {},
   "outputs": [
    {
     "data": {
      "text/plain": [
       "['автомобиль', 'жилье', 'недвижимость', 'образование', 'свадьба']"
      ]
     },
     "execution_count": 52,
     "metadata": {},
     "output_type": "execute_result"
    }
   ],
   "source": [
    "lemma_dict"
   ]
  },
  {
   "cell_type": "markdown",
   "metadata": {},
   "source": [
    "Сейчас необходимо перебором сравнить каждую лемматизированную строку столбца 'purpose' со значениями словаря lemma_dict и добавить найденное значение в новый столбец 'purpose_lemm'.\n",
    "\n",
    "Напишем функцию purpose_lemm, которая принимает строку-аргумент, лемматизирует ее, затем ищет соответствие каждой леммы значению словаря lemma_dict и при нахождении соответствия, возващает эту лемму."
   ]
  },
  {
   "cell_type": "code",
   "execution_count": 53,
   "metadata": {},
   "outputs": [],
   "source": [
    "def purpose_lemm(row):\n",
    "    words = m.lemmatize(row)\n",
    "    for element in words:\n",
    "        if element in lemma_dict:\n",
    "            return element"
   ]
  },
  {
   "cell_type": "markdown",
   "metadata": {},
   "source": [
    "Применим функцию purpose_lemm для каждой строки столбца 'purpose'."
   ]
  },
  {
   "cell_type": "code",
   "execution_count": 54,
   "metadata": {},
   "outputs": [],
   "source": [
    "data_mod['purpose_lemm'] = data_mod['purpose'].apply(purpose_lemm)"
   ]
  },
  {
   "cell_type": "markdown",
   "metadata": {},
   "source": [
    "Посмотрим, что у нас получилось. Используем метод value_counts()."
   ]
  },
  {
   "cell_type": "code",
   "execution_count": 55,
   "metadata": {},
   "outputs": [
    {
     "data": {
      "text/plain": [
       "недвижимость    6367\n",
       "жилье           4473\n",
       "автомобиль      4315\n",
       "образование     4022\n",
       "свадьба         2348\n",
       "Name: purpose_lemm, dtype: int64"
      ]
     },
     "execution_count": 55,
     "metadata": {},
     "output_type": "execute_result"
    }
   ],
   "source": [
    "data_mod['purpose_lemm'].value_counts()"
   ]
  },
  {
   "cell_type": "markdown",
   "metadata": {},
   "source": [
    "Мы получили первые результаты нашего исследования. Выводы будем делать позже."
   ]
  },
  {
   "cell_type": "markdown",
   "metadata": {},
   "source": [
    "### Категоризация данных"
   ]
  },
  {
   "cell_type": "markdown",
   "metadata": {},
   "source": [
    "Теперь перейдем к категоризации, для того чтобы ответить на вопросы проекта. Начнем со столбца 'children'. Применим к столбцу метод value_counts()."
   ]
  },
  {
   "cell_type": "code",
   "execution_count": 56,
   "metadata": {},
   "outputs": [
    {
     "data": {
      "text/plain": [
       " 0     14149\n",
       " 1      4818\n",
       " 2      2055\n",
       " 3       330\n",
       " 20       76\n",
       "-1        47\n",
       " 4        41\n",
       " 5         9\n",
       "Name: children, dtype: int64"
      ]
     },
     "execution_count": 56,
     "metadata": {},
     "output_type": "execute_result"
    }
   ],
   "source": [
    "data_mod['children'].value_counts()"
   ]
  },
  {
   "cell_type": "markdown",
   "metadata": {},
   "source": [
    "Итак, среди значений столбца есть \"неправильные\" данные. Это значения \"-1\" и \"20\", возможно, в первом случае по ошибке добавлен знак минус, а во втором - ноль, но мы не будем учитывать эти значения. Напишем функцию children_categories для категоризации значений, на выходе получим две категорий значений: 'есть дети' и 'нет детей'."
   ]
  },
  {
   "cell_type": "code",
   "execution_count": 57,
   "metadata": {},
   "outputs": [],
   "source": [
    "def children_categories(quantity):\n",
    "    if quantity == 0:\n",
    "        return 'нет детей'\n",
    "    if 0 < quantity <= 5:\n",
    "        return 'есть дети'\n",
    "    "
   ]
  },
  {
   "cell_type": "markdown",
   "metadata": {},
   "source": [
    "Применим функцию children_categories к столбцу 'children' и создадим новый столбец 'children_categories' в таблице data_mod."
   ]
  },
  {
   "cell_type": "code",
   "execution_count": 58,
   "metadata": {},
   "outputs": [],
   "source": [
    "data_mod['children_categories'] = data_mod['children'].apply(children_categories)"
   ]
  },
  {
   "cell_type": "markdown",
   "metadata": {},
   "source": [
    "Применим теперь метод value_counts() к столбцу 'children_categories', посмотрим что у нас получилось."
   ]
  },
  {
   "cell_type": "code",
   "execution_count": 59,
   "metadata": {},
   "outputs": [
    {
     "data": {
      "text/plain": [
       "нет детей    14149\n",
       "есть дети     7253\n",
       "Name: children_categories, dtype: int64"
      ]
     },
     "execution_count": 59,
     "metadata": {},
     "output_type": "execute_result"
    }
   ],
   "source": [
    "data_mod['children_categories'].value_counts()"
   ]
  },
  {
   "cell_type": "markdown",
   "metadata": {},
   "source": [
    "Построим новую таблицу children_debt. Группируем значения 'children_categories' с помощью метода groupby(), далее с помощью метода agg() добавляем еще два столбца: в первом количество значений данной категории, во втором сумма невыплаченных кредитов в данной категории."
   ]
  },
  {
   "cell_type": "code",
   "execution_count": 60,
   "metadata": {},
   "outputs": [],
   "source": [
    "children_debt = data_mod.groupby('children_categories').agg({'children':['count'],'debt': ['sum']})"
   ]
  },
  {
   "cell_type": "markdown",
   "metadata": {},
   "source": [
    "Добавим в таблицу children_debt новый столбец 'ratio', как отношение числа невыплаченных кредитов к числу значений в данной категории."
   ]
  },
  {
   "cell_type": "code",
   "execution_count": 61,
   "metadata": {},
   "outputs": [],
   "source": [
    "children_debt['ratio'] = children_debt['debt']['sum'] / children_debt['children']['count']"
   ]
  },
  {
   "cell_type": "markdown",
   "metadata": {},
   "source": [
    "Выведем таблицу children_debt на экран."
   ]
  },
  {
   "cell_type": "code",
   "execution_count": 62,
   "metadata": {},
   "outputs": [
    {
     "data": {
      "text/html": [
       "<div>\n",
       "<style scoped>\n",
       "    .dataframe tbody tr th:only-of-type {\n",
       "        vertical-align: middle;\n",
       "    }\n",
       "\n",
       "    .dataframe tbody tr th {\n",
       "        vertical-align: top;\n",
       "    }\n",
       "\n",
       "    .dataframe thead tr th {\n",
       "        text-align: left;\n",
       "    }\n",
       "\n",
       "    .dataframe thead tr:last-of-type th {\n",
       "        text-align: right;\n",
       "    }\n",
       "</style>\n",
       "<table border=\"1\" class=\"dataframe\">\n",
       "  <thead>\n",
       "    <tr>\n",
       "      <th></th>\n",
       "      <th>children</th>\n",
       "      <th>debt</th>\n",
       "      <th>ratio</th>\n",
       "    </tr>\n",
       "    <tr>\n",
       "      <th></th>\n",
       "      <th>count</th>\n",
       "      <th>sum</th>\n",
       "      <th></th>\n",
       "    </tr>\n",
       "    <tr>\n",
       "      <th>children_categories</th>\n",
       "      <th></th>\n",
       "      <th></th>\n",
       "      <th></th>\n",
       "    </tr>\n",
       "  </thead>\n",
       "  <tbody>\n",
       "    <tr>\n",
       "      <th>есть дети</th>\n",
       "      <td>7253</td>\n",
       "      <td>669</td>\n",
       "      <td>0.092238</td>\n",
       "    </tr>\n",
       "    <tr>\n",
       "      <th>нет детей</th>\n",
       "      <td>14149</td>\n",
       "      <td>1063</td>\n",
       "      <td>0.075129</td>\n",
       "    </tr>\n",
       "  </tbody>\n",
       "</table>\n",
       "</div>"
      ],
      "text/plain": [
       "                    children  debt     ratio\n",
       "                       count   sum          \n",
       "children_categories                         \n",
       "есть дети               7253   669  0.092238\n",
       "нет детей              14149  1063  0.075129"
      ]
     },
     "execution_count": 62,
     "metadata": {},
     "output_type": "execute_result"
    }
   ],
   "source": [
    "children_debt"
   ]
  },
  {
   "cell_type": "markdown",
   "metadata": {},
   "source": [
    "Анализ таблицы будет дан в заключении проекта.\n",
    "\n",
    "Переходим к категоризации значений столбца 'family_status'. Для начала посмотрим уникальные значения столбца, используем метод value_counts()."
   ]
  },
  {
   "cell_type": "code",
   "execution_count": 63,
   "metadata": {},
   "outputs": [
    {
     "data": {
      "text/plain": [
       "женат / замужем          12380\n",
       "гражданский брак          4177\n",
       "Не женат / не замужем     2813\n",
       "в разводе                 1195\n",
       "вдовец / вдова             960\n",
       "Name: family_status, dtype: int64"
      ]
     },
     "execution_count": 63,
     "metadata": {},
     "output_type": "execute_result"
    }
   ],
   "source": [
    "data_mod['family_status'].value_counts()"
   ]
  },
  {
   "cell_type": "markdown",
   "metadata": {},
   "source": [
    "Данные нас устраивают, можно переходить сразу к построению таблицы family_status_debt. Группируем значения столбца 'family_status' с помощью метода groupby(), далее с помощью метода agg() добавляем еще два столбца: в первом количество значений данной категории, во втором сумма невыплаченных кредитов в данной категории."
   ]
  },
  {
   "cell_type": "code",
   "execution_count": 64,
   "metadata": {},
   "outputs": [],
   "source": [
    "family_status_debt = data_mod.groupby('family_status').agg({'family_status':['count'],'debt': ['sum']})"
   ]
  },
  {
   "cell_type": "markdown",
   "metadata": {},
   "source": [
    "Добавим в таблицу family_status_debt новый столбец 'ratio', как отношение числа невыплаченных кредитов к числу значений в данной категории."
   ]
  },
  {
   "cell_type": "code",
   "execution_count": 65,
   "metadata": {},
   "outputs": [],
   "source": [
    "family_status_debt['ratio'] = family_status_debt['debt']['sum'] / family_status_debt['family_status']['count']"
   ]
  },
  {
   "cell_type": "markdown",
   "metadata": {},
   "source": [
    "Выведем таблицу family_status_debt на экран, отсортируя ее методом sort_values с аргументом 'ratio'. Также с помощью аргумента ascending=False сделаем сортировку по убыванию."
   ]
  },
  {
   "cell_type": "code",
   "execution_count": 66,
   "metadata": {},
   "outputs": [
    {
     "data": {
      "text/html": [
       "<div>\n",
       "<style scoped>\n",
       "    .dataframe tbody tr th:only-of-type {\n",
       "        vertical-align: middle;\n",
       "    }\n",
       "\n",
       "    .dataframe tbody tr th {\n",
       "        vertical-align: top;\n",
       "    }\n",
       "\n",
       "    .dataframe thead tr th {\n",
       "        text-align: left;\n",
       "    }\n",
       "\n",
       "    .dataframe thead tr:last-of-type th {\n",
       "        text-align: right;\n",
       "    }\n",
       "</style>\n",
       "<table border=\"1\" class=\"dataframe\">\n",
       "  <thead>\n",
       "    <tr>\n",
       "      <th></th>\n",
       "      <th>family_status</th>\n",
       "      <th>debt</th>\n",
       "      <th>ratio</th>\n",
       "    </tr>\n",
       "    <tr>\n",
       "      <th></th>\n",
       "      <th>count</th>\n",
       "      <th>sum</th>\n",
       "      <th></th>\n",
       "    </tr>\n",
       "    <tr>\n",
       "      <th>family_status</th>\n",
       "      <th></th>\n",
       "      <th></th>\n",
       "      <th></th>\n",
       "    </tr>\n",
       "  </thead>\n",
       "  <tbody>\n",
       "    <tr>\n",
       "      <th>Не женат / не замужем</th>\n",
       "      <td>2813</td>\n",
       "      <td>274</td>\n",
       "      <td>0.097405</td>\n",
       "    </tr>\n",
       "    <tr>\n",
       "      <th>гражданский брак</th>\n",
       "      <td>4177</td>\n",
       "      <td>388</td>\n",
       "      <td>0.092890</td>\n",
       "    </tr>\n",
       "    <tr>\n",
       "      <th>женат / замужем</th>\n",
       "      <td>12380</td>\n",
       "      <td>931</td>\n",
       "      <td>0.075202</td>\n",
       "    </tr>\n",
       "    <tr>\n",
       "      <th>в разводе</th>\n",
       "      <td>1195</td>\n",
       "      <td>85</td>\n",
       "      <td>0.071130</td>\n",
       "    </tr>\n",
       "    <tr>\n",
       "      <th>вдовец / вдова</th>\n",
       "      <td>960</td>\n",
       "      <td>63</td>\n",
       "      <td>0.065625</td>\n",
       "    </tr>\n",
       "  </tbody>\n",
       "</table>\n",
       "</div>"
      ],
      "text/plain": [
       "                      family_status debt     ratio\n",
       "                              count  sum          \n",
       "family_status                                     \n",
       "Не женат / не замужем          2813  274  0.097405\n",
       "гражданский брак               4177  388  0.092890\n",
       "женат / замужем               12380  931  0.075202\n",
       "в разводе                      1195   85  0.071130\n",
       "вдовец / вдова                  960   63  0.065625"
      ]
     },
     "execution_count": 66,
     "metadata": {},
     "output_type": "execute_result"
    }
   ],
   "source": [
    "family_status_debt.sort_values(by='ratio', ascending=False)"
   ]
  },
  {
   "cell_type": "markdown",
   "metadata": {},
   "source": [
    "Отлично, мы получили таблицу, показывающую зависимость семейного положения на возврат кредита.\n",
    "\n",
    "Теперь необходимо категоризировать значения столбца 'total_income'. Проблема в том, что у нас нет точных значений уровня дохода для того, чтобы сделать сравнение по категорям.\n",
    "\n",
    "Чтобы найти адекватные значения уровня дохода для сравнения по категориям, посмотрим минимальное, максимальное значения и медиану."
   ]
  },
  {
   "cell_type": "code",
   "execution_count": 67,
   "metadata": {},
   "outputs": [
    {
     "data": {
      "text/plain": [
       "20667"
      ]
     },
     "execution_count": 67,
     "metadata": {},
     "output_type": "execute_result"
    }
   ],
   "source": [
    "data_mod['total_income'].min()"
   ]
  },
  {
   "cell_type": "code",
   "execution_count": 68,
   "metadata": {},
   "outputs": [
    {
     "data": {
      "text/plain": [
       "2265604"
      ]
     },
     "execution_count": 68,
     "metadata": {},
     "output_type": "execute_result"
    }
   ],
   "source": [
    "data_mod['total_income'].max()"
   ]
  },
  {
   "cell_type": "code",
   "execution_count": 69,
   "metadata": {},
   "outputs": [
    {
     "data": {
      "text/plain": [
       "156400.0"
      ]
     },
     "execution_count": 69,
     "metadata": {},
     "output_type": "execute_result"
    }
   ],
   "source": [
    "data_mod['total_income'].median()"
   ]
  },
  {
   "cell_type": "markdown",
   "metadata": {},
   "source": [
    "Для определения значений, которые будут разделять категории значений не хватает информации. Поэтому для определения категорий клиентов по уровню дохода возьмем другой столбец 'income_type'. Для начала применим к столбцу метод value_counts()."
   ]
  },
  {
   "cell_type": "code",
   "execution_count": 70,
   "metadata": {},
   "outputs": [
    {
     "data": {
      "text/plain": [
       "сотрудник          11119\n",
       "компаньон           5085\n",
       "пенсионер           3856\n",
       "госслужащий         1459\n",
       "безработный            2\n",
       "предприниматель        2\n",
       "студент                1\n",
       "в декрете              1\n",
       "Name: income_type, dtype: int64"
      ]
     },
     "execution_count": 70,
     "metadata": {},
     "output_type": "execute_result"
    }
   ],
   "source": [
    "data_mod['income_type'].value_counts()"
   ]
  },
  {
   "cell_type": "markdown",
   "metadata": {},
   "source": [
    "Создадим новую таблицу *data_income_categories*, в которой будут выводиться средние значения дохода клиентов в месяц в зависимости от типа занятости клиентов. Исользуем метод `groupby()` для группировки и `mean()` для нахождения среднего арифметического."
   ]
  },
  {
   "cell_type": "code",
   "execution_count": 71,
   "metadata": {},
   "outputs": [],
   "source": [
    "data_income_categories = data_mod.groupby('income_type')['total_income'].mean()"
   ]
  },
  {
   "cell_type": "markdown",
   "metadata": {},
   "source": [
    "Отсортируем таблицу методом `sort_values()` и выведем ее на экран."
   ]
  },
  {
   "cell_type": "code",
   "execution_count": 72,
   "metadata": {},
   "outputs": [
    {
     "data": {
      "text/plain": [
       "income_type\n",
       "предприниматель    333292.500000\n",
       "компаньон          198920.912488\n",
       "госслужащий        170547.597670\n",
       "сотрудник          161980.230956\n",
       "пенсионер          140371.744554\n",
       "безработный        131339.000000\n",
       "студент             98201.000000\n",
       "в декрете           53829.000000\n",
       "Name: total_income, dtype: float64"
      ]
     },
     "execution_count": 72,
     "metadata": {},
     "output_type": "execute_result"
    }
   ],
   "source": [
    "data_income_categories.sort_values(ascending=False)"
   ]
  },
  {
   "cell_type": "markdown",
   "metadata": {},
   "source": [
    "Проанализировав полученные данные, принимаем средний уровень дохода, если клиент *сотрудник*, значение - 'низкий', если клиент - *студент, в декрете, безработный или пенсионер*, и значение 'высокий' в остальных случаях."
   ]
  },
  {
   "cell_type": "markdown",
   "metadata": {},
   "source": [
    "Напишем функцию income_type, которая будет выполнять требуемую категоризацию."
   ]
  },
  {
   "cell_type": "code",
   "execution_count": 73,
   "metadata": {},
   "outputs": [],
   "source": [
    "def income_type(types):\n",
    "    if types == 'сотрудник':\n",
    "        return 'средний'\n",
    "    if types == 'компаньон' or types == 'госслужащий' or types == 'предприниматель':\n",
    "        return 'высокий'\n",
    "    return 'низкий'"
   ]
  },
  {
   "cell_type": "markdown",
   "metadata": {},
   "source": [
    "Применим функцию income к столбцу 'total_income' и создадим новый столбец 'income_categories' в таблице data_mod."
   ]
  },
  {
   "cell_type": "code",
   "execution_count": 74,
   "metadata": {},
   "outputs": [],
   "source": [
    "data_mod['income_categories'] = data_mod['income_type'].apply(income_type)"
   ]
  },
  {
   "cell_type": "markdown",
   "metadata": {},
   "source": [
    "Применим к столбцу 'income_categories' метод value_counts(), посмотрим что у нас получилось."
   ]
  },
  {
   "cell_type": "code",
   "execution_count": 75,
   "metadata": {},
   "outputs": [
    {
     "data": {
      "text/plain": [
       "средний    11119\n",
       "высокий     6546\n",
       "низкий      3860\n",
       "Name: income_categories, dtype: int64"
      ]
     },
     "execution_count": 75,
     "metadata": {},
     "output_type": "execute_result"
    }
   ],
   "source": [
    "data_mod['income_categories'].value_counts()"
   ]
  },
  {
   "cell_type": "markdown",
   "metadata": {},
   "source": [
    "\n",
    "\n",
    "Создадим таблицу income_debt. Для этого группируем значения столбца 'income_categories' с помощью метода groupby(), далее с помощью метода agg() добавляем еще два столбца: в первом количество значений данной категории, во втором сумма невыплаченных кредитов в данной категории."
   ]
  },
  {
   "cell_type": "code",
   "execution_count": 76,
   "metadata": {},
   "outputs": [],
   "source": [
    "income_debt = data_mod.groupby('income_categories').agg({'income_categories':['count'],'debt': ['sum']})"
   ]
  },
  {
   "cell_type": "markdown",
   "metadata": {},
   "source": [
    "Добавим в таблицу income_debt новый столбец 'ratio', как отношение числа невыплаченных кредитов к числу значений в данной категории."
   ]
  },
  {
   "cell_type": "code",
   "execution_count": 77,
   "metadata": {},
   "outputs": [],
   "source": [
    "income_debt['ratio'] = income_debt['debt']['sum'] / income_debt['income_categories']['count']"
   ]
  },
  {
   "cell_type": "markdown",
   "metadata": {},
   "source": [
    "Выведем таблицу income_debt на экран, отсортируя ее методом sort_values с аргументом 'ratio'. Также с помощью аргумента ascending=False сделаем сортировку по убыванию."
   ]
  },
  {
   "cell_type": "code",
   "execution_count": 78,
   "metadata": {},
   "outputs": [
    {
     "data": {
      "text/html": [
       "<div>\n",
       "<style scoped>\n",
       "    .dataframe tbody tr th:only-of-type {\n",
       "        vertical-align: middle;\n",
       "    }\n",
       "\n",
       "    .dataframe tbody tr th {\n",
       "        vertical-align: top;\n",
       "    }\n",
       "\n",
       "    .dataframe thead tr th {\n",
       "        text-align: left;\n",
       "    }\n",
       "\n",
       "    .dataframe thead tr:last-of-type th {\n",
       "        text-align: right;\n",
       "    }\n",
       "</style>\n",
       "<table border=\"1\" class=\"dataframe\">\n",
       "  <thead>\n",
       "    <tr>\n",
       "      <th></th>\n",
       "      <th>income_categories</th>\n",
       "      <th>debt</th>\n",
       "      <th>ratio</th>\n",
       "    </tr>\n",
       "    <tr>\n",
       "      <th></th>\n",
       "      <th>count</th>\n",
       "      <th>sum</th>\n",
       "      <th></th>\n",
       "    </tr>\n",
       "    <tr>\n",
       "      <th>income_categories</th>\n",
       "      <th></th>\n",
       "      <th></th>\n",
       "      <th></th>\n",
       "    </tr>\n",
       "  </thead>\n",
       "  <tbody>\n",
       "    <tr>\n",
       "      <th>средний</th>\n",
       "      <td>11119</td>\n",
       "      <td>1061</td>\n",
       "      <td>0.095422</td>\n",
       "    </tr>\n",
       "    <tr>\n",
       "      <th>высокий</th>\n",
       "      <td>6546</td>\n",
       "      <td>462</td>\n",
       "      <td>0.070577</td>\n",
       "    </tr>\n",
       "    <tr>\n",
       "      <th>низкий</th>\n",
       "      <td>3860</td>\n",
       "      <td>218</td>\n",
       "      <td>0.056477</td>\n",
       "    </tr>\n",
       "  </tbody>\n",
       "</table>\n",
       "</div>"
      ],
      "text/plain": [
       "                  income_categories  debt     ratio\n",
       "                              count   sum          \n",
       "income_categories                                  \n",
       "средний                       11119  1061  0.095422\n",
       "высокий                        6546   462  0.070577\n",
       "низкий                         3860   218  0.056477"
      ]
     },
     "execution_count": 78,
     "metadata": {},
     "output_type": "execute_result"
    }
   ],
   "source": [
    "income_debt.sort_values(by='ratio', ascending=False)"
   ]
  },
  {
   "cell_type": "markdown",
   "metadata": {},
   "source": [
    "Мы получили таблицу.\n",
    "\n",
    "Теперь создадим таблицу purpose_debt. Для этого группируем значения столбца 'purpose_lemm' с помощью метода groupby(), далее с помощью метода agg() добавляем еще два столбца: в первом количество значений данной категории, во втором сумма невыплаченных кредитов в данной категории."
   ]
  },
  {
   "cell_type": "code",
   "execution_count": 79,
   "metadata": {},
   "outputs": [],
   "source": [
    "purpose_debt = data_mod.groupby('purpose_lemm').agg({'purpose_lemm':['count'],'debt': ['sum']})"
   ]
  },
  {
   "cell_type": "markdown",
   "metadata": {},
   "source": [
    "Добавим в таблицу income_debt новый столбец 'ratio', как отношение числа невыплаченных кредитов к числу значений в данной категории."
   ]
  },
  {
   "cell_type": "code",
   "execution_count": 80,
   "metadata": {},
   "outputs": [],
   "source": [
    "purpose_debt['ratio'] = purpose_debt['debt']['sum'] / purpose_debt['purpose_lemm']['count']"
   ]
  },
  {
   "cell_type": "markdown",
   "metadata": {},
   "source": [
    "Выведем таблицу purpose_debt на экран, отсортируя ее методом sort_values с аргументом 'ratio'. Также с помощью аргумента ascending=False сделаем сортировку по убыванию."
   ]
  },
  {
   "cell_type": "code",
   "execution_count": 81,
   "metadata": {},
   "outputs": [
    {
     "data": {
      "text/html": [
       "<div>\n",
       "<style scoped>\n",
       "    .dataframe tbody tr th:only-of-type {\n",
       "        vertical-align: middle;\n",
       "    }\n",
       "\n",
       "    .dataframe tbody tr th {\n",
       "        vertical-align: top;\n",
       "    }\n",
       "\n",
       "    .dataframe thead tr th {\n",
       "        text-align: left;\n",
       "    }\n",
       "\n",
       "    .dataframe thead tr:last-of-type th {\n",
       "        text-align: right;\n",
       "    }\n",
       "</style>\n",
       "<table border=\"1\" class=\"dataframe\">\n",
       "  <thead>\n",
       "    <tr>\n",
       "      <th></th>\n",
       "      <th>purpose_lemm</th>\n",
       "      <th>debt</th>\n",
       "      <th>ratio</th>\n",
       "    </tr>\n",
       "    <tr>\n",
       "      <th></th>\n",
       "      <th>count</th>\n",
       "      <th>sum</th>\n",
       "      <th></th>\n",
       "    </tr>\n",
       "    <tr>\n",
       "      <th>purpose_lemm</th>\n",
       "      <th></th>\n",
       "      <th></th>\n",
       "      <th></th>\n",
       "    </tr>\n",
       "  </thead>\n",
       "  <tbody>\n",
       "    <tr>\n",
       "      <th>автомобиль</th>\n",
       "      <td>4315</td>\n",
       "      <td>403</td>\n",
       "      <td>0.093395</td>\n",
       "    </tr>\n",
       "    <tr>\n",
       "      <th>образование</th>\n",
       "      <td>4022</td>\n",
       "      <td>370</td>\n",
       "      <td>0.091994</td>\n",
       "    </tr>\n",
       "    <tr>\n",
       "      <th>свадьба</th>\n",
       "      <td>2348</td>\n",
       "      <td>186</td>\n",
       "      <td>0.079216</td>\n",
       "    </tr>\n",
       "    <tr>\n",
       "      <th>недвижимость</th>\n",
       "      <td>6367</td>\n",
       "      <td>474</td>\n",
       "      <td>0.074446</td>\n",
       "    </tr>\n",
       "    <tr>\n",
       "      <th>жилье</th>\n",
       "      <td>4473</td>\n",
       "      <td>308</td>\n",
       "      <td>0.068858</td>\n",
       "    </tr>\n",
       "  </tbody>\n",
       "</table>\n",
       "</div>"
      ],
      "text/plain": [
       "             purpose_lemm debt     ratio\n",
       "                    count  sum          \n",
       "purpose_lemm                            \n",
       "автомобиль           4315  403  0.093395\n",
       "образование          4022  370  0.091994\n",
       "свадьба              2348  186  0.079216\n",
       "недвижимость         6367  474  0.074446\n",
       "жилье                4473  308  0.068858"
      ]
     },
     "execution_count": 81,
     "metadata": {},
     "output_type": "execute_result"
    }
   ],
   "source": [
    "purpose_debt.sort_values(by='ratio', ascending=False)"
   ]
  },
  {
   "cell_type": "markdown",
   "metadata": {},
   "source": [
    "Теперь перейдем к построению сводных таблиц.\n",
    "\n",
    "Для начала создадим в нашей таблице data_mod столбец со значеними \"1\" для того, чтобы удобно было считать общее количество клиентов определенной категории."
   ]
  },
  {
   "cell_type": "code",
   "execution_count": 82,
   "metadata": {},
   "outputs": [],
   "source": [
    "data_mod['count_clients'] = 1"
   ]
  },
  {
   "cell_type": "code",
   "execution_count": 83,
   "metadata": {},
   "outputs": [
    {
     "data": {
      "text/plain": [
       "1    21525\n",
       "Name: count_clients, dtype: int64"
      ]
     },
     "execution_count": 83,
     "metadata": {},
     "output_type": "execute_result"
    }
   ],
   "source": [
    "data_mod['count_clients'].value_counts()"
   ]
  },
  {
   "cell_type": "markdown",
   "metadata": {},
   "source": [
    "Приступим к созданию сводной таблицы. В качестве столбцов для группировки выбираем последоватально 'children_categories', 'income_categories', 'family_status', в значениях сводной таблицы выбираем столбцы 'count_clients', 'debt' и применяем функцию sum к значениям сводной таблицы."
   ]
  },
  {
   "cell_type": "code",
   "execution_count": 84,
   "metadata": {},
   "outputs": [],
   "source": [
    "data_pivot = data_mod.pivot_table(index=['children_categories', 'income_categories', 'family_status'], values=['count_clients', 'debt'], aggfunc={'count_clients':'sum','debt':'sum'})"
   ]
  },
  {
   "cell_type": "markdown",
   "metadata": {},
   "source": [
    "Добавим в таблицу data_pivot новый столбец 'ratio', как отношение числа невыплаченных кредитов к числу значений в данной категории. Умножим это значение на 100, чтобы в таблице показать это значение в процентах."
   ]
  },
  {
   "cell_type": "code",
   "execution_count": 85,
   "metadata": {},
   "outputs": [],
   "source": [
    "data_pivot['ratio'] = data_pivot['debt'] / data_pivot['count_clients'] * 100"
   ]
  },
  {
   "cell_type": "markdown",
   "metadata": {},
   "source": [
    "Выведем таблицу data_pivot на экран, применив к ней сортировку методом value_counts() по столбцу ratio. Также применим форматирование вывода значений столбца 'ratio', чтобы значения были в процентах и с 2 знаками после запятой."
   ]
  },
  {
   "cell_type": "code",
   "execution_count": 86,
   "metadata": {},
   "outputs": [
    {
     "data": {
      "text/html": [
       "<style  type=\"text/css\" >\n",
       "</style><table id=\"T_de2b31b4_a51b_11e9_9ba0_02420a00004d\" ><thead>    <tr>        <th class=\"blank\" ></th>        <th class=\"blank\" ></th>        <th class=\"blank level0\" ></th>        <th class=\"col_heading level0 col0\" >count_clients</th>        <th class=\"col_heading level0 col1\" >debt</th>        <th class=\"col_heading level0 col2\" >ratio</th>    </tr>    <tr>        <th class=\"index_name level0\" >children_categories</th>        <th class=\"index_name level1\" >income_categories</th>        <th class=\"index_name level2\" >family_status</th>        <th class=\"blank\" ></th>        <th class=\"blank\" ></th>        <th class=\"blank\" ></th>    </tr></thead><tbody>\n",
       "                <tr>\n",
       "                        <th id=\"T_de2b31b4_a51b_11e9_9ba0_02420a00004dlevel0_row0\" class=\"row_heading level0 row0\" rowspan=3>есть дети</th>\n",
       "                        <th id=\"T_de2b31b4_a51b_11e9_9ba0_02420a00004dlevel1_row0\" class=\"row_heading level1 row0\" >низкий</th>\n",
       "                        <th id=\"T_de2b31b4_a51b_11e9_9ba0_02420a00004dlevel2_row0\" class=\"row_heading level2 row0\" >вдовец / вдова</th>\n",
       "                        <td id=\"T_de2b31b4_a51b_11e9_9ba0_02420a00004drow0_col0\" class=\"data row0 col0\" >27</td>\n",
       "                        <td id=\"T_de2b31b4_a51b_11e9_9ba0_02420a00004drow0_col1\" class=\"data row0 col1\" >4</td>\n",
       "                        <td id=\"T_de2b31b4_a51b_11e9_9ba0_02420a00004drow0_col2\" class=\"data row0 col2\" >14.81%</td>\n",
       "            </tr>\n",
       "            <tr>\n",
       "                                <th id=\"T_de2b31b4_a51b_11e9_9ba0_02420a00004dlevel1_row1\" class=\"row_heading level1 row1\" rowspan=2>средний</th>\n",
       "                        <th id=\"T_de2b31b4_a51b_11e9_9ba0_02420a00004dlevel2_row1\" class=\"row_heading level2 row1\" >Не женат / не замужем</th>\n",
       "                        <td id=\"T_de2b31b4_a51b_11e9_9ba0_02420a00004drow1_col0\" class=\"data row1 col0\" >325</td>\n",
       "                        <td id=\"T_de2b31b4_a51b_11e9_9ba0_02420a00004drow1_col1\" class=\"data row1 col1\" >46</td>\n",
       "                        <td id=\"T_de2b31b4_a51b_11e9_9ba0_02420a00004drow1_col2\" class=\"data row1 col2\" >14.15%</td>\n",
       "            </tr>\n",
       "            <tr>\n",
       "                                        <th id=\"T_de2b31b4_a51b_11e9_9ba0_02420a00004dlevel2_row2\" class=\"row_heading level2 row2\" >гражданский брак</th>\n",
       "                        <td id=\"T_de2b31b4_a51b_11e9_9ba0_02420a00004drow2_col0\" class=\"data row2 col0\" >869</td>\n",
       "                        <td id=\"T_de2b31b4_a51b_11e9_9ba0_02420a00004drow2_col1\" class=\"data row2 col1\" >109</td>\n",
       "                        <td id=\"T_de2b31b4_a51b_11e9_9ba0_02420a00004drow2_col2\" class=\"data row2 col2\" >12.54%</td>\n",
       "            </tr>\n",
       "            <tr>\n",
       "                        <th id=\"T_de2b31b4_a51b_11e9_9ba0_02420a00004dlevel0_row3\" class=\"row_heading level0 row3\" >нет детей</th>\n",
       "                        <th id=\"T_de2b31b4_a51b_11e9_9ba0_02420a00004dlevel1_row3\" class=\"row_heading level1 row3\" >средний</th>\n",
       "                        <th id=\"T_de2b31b4_a51b_11e9_9ba0_02420a00004dlevel2_row3\" class=\"row_heading level2 row3\" >Не женат / не замужем</th>\n",
       "                        <td id=\"T_de2b31b4_a51b_11e9_9ba0_02420a00004drow3_col0\" class=\"data row3 col0\" >1156</td>\n",
       "                        <td id=\"T_de2b31b4_a51b_11e9_9ba0_02420a00004drow3_col1\" class=\"data row3 col1\" >127</td>\n",
       "                        <td id=\"T_de2b31b4_a51b_11e9_9ba0_02420a00004drow3_col2\" class=\"data row3 col2\" >10.99%</td>\n",
       "            </tr>\n",
       "            <tr>\n",
       "                        <th id=\"T_de2b31b4_a51b_11e9_9ba0_02420a00004dlevel0_row4\" class=\"row_heading level0 row4\" rowspan=3>есть дети</th>\n",
       "                        <th id=\"T_de2b31b4_a51b_11e9_9ba0_02420a00004dlevel1_row4\" class=\"row_heading level1 row4\" >высокий</th>\n",
       "                        <th id=\"T_de2b31b4_a51b_11e9_9ba0_02420a00004dlevel2_row4\" class=\"row_heading level2 row4\" >вдовец / вдова</th>\n",
       "                        <td id=\"T_de2b31b4_a51b_11e9_9ba0_02420a00004drow4_col0\" class=\"data row4 col0\" >19</td>\n",
       "                        <td id=\"T_de2b31b4_a51b_11e9_9ba0_02420a00004drow4_col1\" class=\"data row4 col1\" >2</td>\n",
       "                        <td id=\"T_de2b31b4_a51b_11e9_9ba0_02420a00004drow4_col2\" class=\"data row4 col2\" >10.53%</td>\n",
       "            </tr>\n",
       "            <tr>\n",
       "                                <th id=\"T_de2b31b4_a51b_11e9_9ba0_02420a00004dlevel1_row5\" class=\"row_heading level1 row5\" rowspan=2>средний</th>\n",
       "                        <th id=\"T_de2b31b4_a51b_11e9_9ba0_02420a00004dlevel2_row5\" class=\"row_heading level2 row5\" >в разводе</th>\n",
       "                        <td id=\"T_de2b31b4_a51b_11e9_9ba0_02420a00004drow5_col0\" class=\"data row5 col0\" >251</td>\n",
       "                        <td id=\"T_de2b31b4_a51b_11e9_9ba0_02420a00004drow5_col1\" class=\"data row5 col1\" >25</td>\n",
       "                        <td id=\"T_de2b31b4_a51b_11e9_9ba0_02420a00004drow5_col2\" class=\"data row5 col2\" >9.96%</td>\n",
       "            </tr>\n",
       "            <tr>\n",
       "                                        <th id=\"T_de2b31b4_a51b_11e9_9ba0_02420a00004dlevel2_row6\" class=\"row_heading level2 row6\" >женат / замужем</th>\n",
       "                        <td id=\"T_de2b31b4_a51b_11e9_9ba0_02420a00004drow6_col0\" class=\"data row6 col0\" >2947</td>\n",
       "                        <td id=\"T_de2b31b4_a51b_11e9_9ba0_02420a00004drow6_col1\" class=\"data row6 col1\" >290</td>\n",
       "                        <td id=\"T_de2b31b4_a51b_11e9_9ba0_02420a00004drow6_col2\" class=\"data row6 col2\" >9.84%</td>\n",
       "            </tr>\n",
       "            <tr>\n",
       "                        <th id=\"T_de2b31b4_a51b_11e9_9ba0_02420a00004dlevel0_row7\" class=\"row_heading level0 row7\" rowspan=2>нет детей</th>\n",
       "                        <th id=\"T_de2b31b4_a51b_11e9_9ba0_02420a00004dlevel1_row7\" class=\"row_heading level1 row7\" rowspan=2>средний</th>\n",
       "                        <th id=\"T_de2b31b4_a51b_11e9_9ba0_02420a00004dlevel2_row7\" class=\"row_heading level2 row7\" >гражданский брак</th>\n",
       "                        <td id=\"T_de2b31b4_a51b_11e9_9ba0_02420a00004drow7_col0\" class=\"data row7 col0\" >1359</td>\n",
       "                        <td id=\"T_de2b31b4_a51b_11e9_9ba0_02420a00004drow7_col1\" class=\"data row7 col1\" >128</td>\n",
       "                        <td id=\"T_de2b31b4_a51b_11e9_9ba0_02420a00004drow7_col2\" class=\"data row7 col2\" >9.42%</td>\n",
       "            </tr>\n",
       "            <tr>\n",
       "                                        <th id=\"T_de2b31b4_a51b_11e9_9ba0_02420a00004dlevel2_row8\" class=\"row_heading level2 row8\" >в разводе</th>\n",
       "                        <td id=\"T_de2b31b4_a51b_11e9_9ba0_02420a00004drow8_col0\" class=\"data row8 col0\" >369</td>\n",
       "                        <td id=\"T_de2b31b4_a51b_11e9_9ba0_02420a00004drow8_col1\" class=\"data row8 col1\" >34</td>\n",
       "                        <td id=\"T_de2b31b4_a51b_11e9_9ba0_02420a00004drow8_col2\" class=\"data row8 col2\" >9.21%</td>\n",
       "            </tr>\n",
       "            <tr>\n",
       "                        <th id=\"T_de2b31b4_a51b_11e9_9ba0_02420a00004dlevel0_row9\" class=\"row_heading level0 row9\" rowspan=2>есть дети</th>\n",
       "                        <th id=\"T_de2b31b4_a51b_11e9_9ba0_02420a00004dlevel1_row9\" class=\"row_heading level1 row9\" rowspan=2>высокий</th>\n",
       "                        <th id=\"T_de2b31b4_a51b_11e9_9ba0_02420a00004dlevel2_row9\" class=\"row_heading level2 row9\" >гражданский брак</th>\n",
       "                        <td id=\"T_de2b31b4_a51b_11e9_9ba0_02420a00004drow9_col0\" class=\"data row9 col0\" >483</td>\n",
       "                        <td id=\"T_de2b31b4_a51b_11e9_9ba0_02420a00004drow9_col1\" class=\"data row9 col1\" >43</td>\n",
       "                        <td id=\"T_de2b31b4_a51b_11e9_9ba0_02420a00004drow9_col2\" class=\"data row9 col2\" >8.90%</td>\n",
       "            </tr>\n",
       "            <tr>\n",
       "                                        <th id=\"T_de2b31b4_a51b_11e9_9ba0_02420a00004dlevel2_row10\" class=\"row_heading level2 row10\" >Не женат / не замужем</th>\n",
       "                        <td id=\"T_de2b31b4_a51b_11e9_9ba0_02420a00004drow10_col0\" class=\"data row10 col0\" >183</td>\n",
       "                        <td id=\"T_de2b31b4_a51b_11e9_9ba0_02420a00004drow10_col1\" class=\"data row10 col1\" >16</td>\n",
       "                        <td id=\"T_de2b31b4_a51b_11e9_9ba0_02420a00004drow10_col2\" class=\"data row10 col2\" >8.74%</td>\n",
       "            </tr>\n",
       "            <tr>\n",
       "                        <th id=\"T_de2b31b4_a51b_11e9_9ba0_02420a00004dlevel0_row11\" class=\"row_heading level0 row11\" rowspan=4>нет детей</th>\n",
       "                        <th id=\"T_de2b31b4_a51b_11e9_9ba0_02420a00004dlevel1_row11\" class=\"row_heading level1 row11\" rowspan=2>высокий</th>\n",
       "                        <th id=\"T_de2b31b4_a51b_11e9_9ba0_02420a00004dlevel2_row11\" class=\"row_heading level2 row11\" >гражданский брак</th>\n",
       "                        <td id=\"T_de2b31b4_a51b_11e9_9ba0_02420a00004drow11_col0\" class=\"data row11 col0\" >790</td>\n",
       "                        <td id=\"T_de2b31b4_a51b_11e9_9ba0_02420a00004drow11_col1\" class=\"data row11 col1\" >69</td>\n",
       "                        <td id=\"T_de2b31b4_a51b_11e9_9ba0_02420a00004drow11_col2\" class=\"data row11 col2\" >8.73%</td>\n",
       "            </tr>\n",
       "            <tr>\n",
       "                                        <th id=\"T_de2b31b4_a51b_11e9_9ba0_02420a00004dlevel2_row12\" class=\"row_heading level2 row12\" >Не женат / не замужем</th>\n",
       "                        <td id=\"T_de2b31b4_a51b_11e9_9ba0_02420a00004drow12_col0\" class=\"data row12 col0\" >784</td>\n",
       "                        <td id=\"T_de2b31b4_a51b_11e9_9ba0_02420a00004drow12_col1\" class=\"data row12 col1\" >68</td>\n",
       "                        <td id=\"T_de2b31b4_a51b_11e9_9ba0_02420a00004drow12_col2\" class=\"data row12 col2\" >8.67%</td>\n",
       "            </tr>\n",
       "            <tr>\n",
       "                                <th id=\"T_de2b31b4_a51b_11e9_9ba0_02420a00004dlevel1_row13\" class=\"row_heading level1 row13\" >средний</th>\n",
       "                        <th id=\"T_de2b31b4_a51b_11e9_9ba0_02420a00004dlevel2_row13\" class=\"row_heading level2 row13\" >женат / замужем</th>\n",
       "                        <td id=\"T_de2b31b4_a51b_11e9_9ba0_02420a00004drow13_col0\" class=\"data row13 col0\" >3497</td>\n",
       "                        <td id=\"T_de2b31b4_a51b_11e9_9ba0_02420a00004drow13_col1\" class=\"data row13 col1\" >280</td>\n",
       "                        <td id=\"T_de2b31b4_a51b_11e9_9ba0_02420a00004drow13_col2\" class=\"data row13 col2\" >8.01%</td>\n",
       "            </tr>\n",
       "            <tr>\n",
       "                                <th id=\"T_de2b31b4_a51b_11e9_9ba0_02420a00004dlevel1_row14\" class=\"row_heading level1 row14\" >высокий</th>\n",
       "                        <th id=\"T_de2b31b4_a51b_11e9_9ba0_02420a00004dlevel2_row14\" class=\"row_heading level2 row14\" >вдовец / вдова</th>\n",
       "                        <td id=\"T_de2b31b4_a51b_11e9_9ba0_02420a00004drow14_col0\" class=\"data row14 col0\" >123</td>\n",
       "                        <td id=\"T_de2b31b4_a51b_11e9_9ba0_02420a00004drow14_col1\" class=\"data row14 col1\" >9</td>\n",
       "                        <td id=\"T_de2b31b4_a51b_11e9_9ba0_02420a00004drow14_col2\" class=\"data row14 col2\" >7.32%</td>\n",
       "            </tr>\n",
       "            <tr>\n",
       "                        <th id=\"T_de2b31b4_a51b_11e9_9ba0_02420a00004dlevel0_row15\" class=\"row_heading level0 row15\" rowspan=2>есть дети</th>\n",
       "                        <th id=\"T_de2b31b4_a51b_11e9_9ba0_02420a00004dlevel1_row15\" class=\"row_heading level1 row15\" >низкий</th>\n",
       "                        <th id=\"T_de2b31b4_a51b_11e9_9ba0_02420a00004dlevel2_row15\" class=\"row_heading level2 row15\" >гражданский брак</th>\n",
       "                        <td id=\"T_de2b31b4_a51b_11e9_9ba0_02420a00004drow15_col0\" class=\"data row15 col0\" >56</td>\n",
       "                        <td id=\"T_de2b31b4_a51b_11e9_9ba0_02420a00004drow15_col1\" class=\"data row15 col1\" >4</td>\n",
       "                        <td id=\"T_de2b31b4_a51b_11e9_9ba0_02420a00004drow15_col2\" class=\"data row15 col2\" >7.14%</td>\n",
       "            </tr>\n",
       "            <tr>\n",
       "                                <th id=\"T_de2b31b4_a51b_11e9_9ba0_02420a00004dlevel1_row16\" class=\"row_heading level1 row16\" >средний</th>\n",
       "                        <th id=\"T_de2b31b4_a51b_11e9_9ba0_02420a00004dlevel2_row16\" class=\"row_heading level2 row16\" >вдовец / вдова</th>\n",
       "                        <td id=\"T_de2b31b4_a51b_11e9_9ba0_02420a00004drow16_col0\" class=\"data row16 col0\" >58</td>\n",
       "                        <td id=\"T_de2b31b4_a51b_11e9_9ba0_02420a00004drow16_col1\" class=\"data row16 col1\" >4</td>\n",
       "                        <td id=\"T_de2b31b4_a51b_11e9_9ba0_02420a00004drow16_col2\" class=\"data row16 col2\" >6.90%</td>\n",
       "            </tr>\n",
       "            <tr>\n",
       "                        <th id=\"T_de2b31b4_a51b_11e9_9ba0_02420a00004dlevel0_row17\" class=\"row_heading level0 row17\" >нет детей</th>\n",
       "                        <th id=\"T_de2b31b4_a51b_11e9_9ba0_02420a00004dlevel1_row17\" class=\"row_heading level1 row17\" >низкий</th>\n",
       "                        <th id=\"T_de2b31b4_a51b_11e9_9ba0_02420a00004dlevel2_row17\" class=\"row_heading level2 row17\" >в разводе</th>\n",
       "                        <td id=\"T_de2b31b4_a51b_11e9_9ba0_02420a00004drow17_col0\" class=\"data row17 col0\" >198</td>\n",
       "                        <td id=\"T_de2b31b4_a51b_11e9_9ba0_02420a00004drow17_col1\" class=\"data row17 col1\" >13</td>\n",
       "                        <td id=\"T_de2b31b4_a51b_11e9_9ba0_02420a00004drow17_col2\" class=\"data row17 col2\" >6.57%</td>\n",
       "            </tr>\n",
       "            <tr>\n",
       "                        <th id=\"T_de2b31b4_a51b_11e9_9ba0_02420a00004dlevel0_row18\" class=\"row_heading level0 row18\" >есть дети</th>\n",
       "                        <th id=\"T_de2b31b4_a51b_11e9_9ba0_02420a00004dlevel1_row18\" class=\"row_heading level1 row18\" >высокий</th>\n",
       "                        <th id=\"T_de2b31b4_a51b_11e9_9ba0_02420a00004dlevel2_row18\" class=\"row_heading level2 row18\" >женат / замужем</th>\n",
       "                        <td id=\"T_de2b31b4_a51b_11e9_9ba0_02420a00004drow18_col0\" class=\"data row18 col0\" >1680</td>\n",
       "                        <td id=\"T_de2b31b4_a51b_11e9_9ba0_02420a00004drow18_col1\" class=\"data row18 col1\" >110</td>\n",
       "                        <td id=\"T_de2b31b4_a51b_11e9_9ba0_02420a00004drow18_col2\" class=\"data row18 col2\" >6.55%</td>\n",
       "            </tr>\n",
       "            <tr>\n",
       "                        <th id=\"T_de2b31b4_a51b_11e9_9ba0_02420a00004dlevel0_row19\" class=\"row_heading level0 row19\" >нет детей</th>\n",
       "                        <th id=\"T_de2b31b4_a51b_11e9_9ba0_02420a00004dlevel1_row19\" class=\"row_heading level1 row19\" >низкий</th>\n",
       "                        <th id=\"T_de2b31b4_a51b_11e9_9ba0_02420a00004dlevel2_row19\" class=\"row_heading level2 row19\" >вдовец / вдова</th>\n",
       "                        <td id=\"T_de2b31b4_a51b_11e9_9ba0_02420a00004drow19_col0\" class=\"data row19 col0\" >506</td>\n",
       "                        <td id=\"T_de2b31b4_a51b_11e9_9ba0_02420a00004drow19_col1\" class=\"data row19 col1\" >33</td>\n",
       "                        <td id=\"T_de2b31b4_a51b_11e9_9ba0_02420a00004drow19_col2\" class=\"data row19 col2\" >6.52%</td>\n",
       "            </tr>\n",
       "            <tr>\n",
       "                        <th id=\"T_de2b31b4_a51b_11e9_9ba0_02420a00004dlevel0_row20\" class=\"row_heading level0 row20\" >есть дети</th>\n",
       "                        <th id=\"T_de2b31b4_a51b_11e9_9ba0_02420a00004dlevel1_row20\" class=\"row_heading level1 row20\" >низкий</th>\n",
       "                        <th id=\"T_de2b31b4_a51b_11e9_9ba0_02420a00004dlevel2_row20\" class=\"row_heading level2 row20\" >женат / замужем</th>\n",
       "                        <td id=\"T_de2b31b4_a51b_11e9_9ba0_02420a00004drow20_col0\" class=\"data row20 col0\" >175</td>\n",
       "                        <td id=\"T_de2b31b4_a51b_11e9_9ba0_02420a00004drow20_col1\" class=\"data row20 col1\" >11</td>\n",
       "                        <td id=\"T_de2b31b4_a51b_11e9_9ba0_02420a00004drow20_col2\" class=\"data row20 col2\" >6.29%</td>\n",
       "            </tr>\n",
       "            <tr>\n",
       "                        <th id=\"T_de2b31b4_a51b_11e9_9ba0_02420a00004dlevel0_row21\" class=\"row_heading level0 row21\" rowspan=5>нет детей</th>\n",
       "                        <th id=\"T_de2b31b4_a51b_11e9_9ba0_02420a00004dlevel1_row21\" class=\"row_heading level1 row21\" >высокий</th>\n",
       "                        <th id=\"T_de2b31b4_a51b_11e9_9ba0_02420a00004dlevel2_row21\" class=\"row_heading level2 row21\" >женат / замужем</th>\n",
       "                        <td id=\"T_de2b31b4_a51b_11e9_9ba0_02420a00004drow21_col0\" class=\"data row21 col0\" >2096</td>\n",
       "                        <td id=\"T_de2b31b4_a51b_11e9_9ba0_02420a00004drow21_col1\" class=\"data row21 col1\" >131</td>\n",
       "                        <td id=\"T_de2b31b4_a51b_11e9_9ba0_02420a00004drow21_col2\" class=\"data row21 col2\" >6.25%</td>\n",
       "            </tr>\n",
       "            <tr>\n",
       "                                <th id=\"T_de2b31b4_a51b_11e9_9ba0_02420a00004dlevel1_row22\" class=\"row_heading level1 row22\" rowspan=2>низкий</th>\n",
       "                        <th id=\"T_de2b31b4_a51b_11e9_9ba0_02420a00004dlevel2_row22\" class=\"row_heading level2 row22\" >женат / замужем</th>\n",
       "                        <td id=\"T_de2b31b4_a51b_11e9_9ba0_02420a00004drow22_col0\" class=\"data row22 col0\" >1907</td>\n",
       "                        <td id=\"T_de2b31b4_a51b_11e9_9ba0_02420a00004drow22_col1\" class=\"data row22 col1\" >105</td>\n",
       "                        <td id=\"T_de2b31b4_a51b_11e9_9ba0_02420a00004drow22_col2\" class=\"data row22 col2\" >5.51%</td>\n",
       "            </tr>\n",
       "            <tr>\n",
       "                                        <th id=\"T_de2b31b4_a51b_11e9_9ba0_02420a00004dlevel2_row23\" class=\"row_heading level2 row23\" >гражданский брак</th>\n",
       "                        <td id=\"T_de2b31b4_a51b_11e9_9ba0_02420a00004drow23_col0\" class=\"data row23 col0\" >603</td>\n",
       "                        <td id=\"T_de2b31b4_a51b_11e9_9ba0_02420a00004drow23_col1\" class=\"data row23 col1\" >32</td>\n",
       "                        <td id=\"T_de2b31b4_a51b_11e9_9ba0_02420a00004drow23_col2\" class=\"data row23 col2\" >5.31%</td>\n",
       "            </tr>\n",
       "            <tr>\n",
       "                                <th id=\"T_de2b31b4_a51b_11e9_9ba0_02420a00004dlevel1_row24\" class=\"row_heading level1 row24\" >средний</th>\n",
       "                        <th id=\"T_de2b31b4_a51b_11e9_9ba0_02420a00004dlevel2_row24\" class=\"row_heading level2 row24\" >вдовец / вдова</th>\n",
       "                        <td id=\"T_de2b31b4_a51b_11e9_9ba0_02420a00004drow24_col0\" class=\"data row24 col0\" >219</td>\n",
       "                        <td id=\"T_de2b31b4_a51b_11e9_9ba0_02420a00004drow24_col1\" class=\"data row24 col1\" >11</td>\n",
       "                        <td id=\"T_de2b31b4_a51b_11e9_9ba0_02420a00004drow24_col2\" class=\"data row24 col2\" >5.02%</td>\n",
       "            </tr>\n",
       "            <tr>\n",
       "                                <th id=\"T_de2b31b4_a51b_11e9_9ba0_02420a00004dlevel1_row25\" class=\"row_heading level1 row25\" >низкий</th>\n",
       "                        <th id=\"T_de2b31b4_a51b_11e9_9ba0_02420a00004dlevel2_row25\" class=\"row_heading level2 row25\" >Не женат / не замужем</th>\n",
       "                        <td id=\"T_de2b31b4_a51b_11e9_9ba0_02420a00004drow25_col0\" class=\"data row25 col0\" >325</td>\n",
       "                        <td id=\"T_de2b31b4_a51b_11e9_9ba0_02420a00004drow25_col1\" class=\"data row25 col1\" >15</td>\n",
       "                        <td id=\"T_de2b31b4_a51b_11e9_9ba0_02420a00004drow25_col2\" class=\"data row25 col2\" >4.62%</td>\n",
       "            </tr>\n",
       "            <tr>\n",
       "                        <th id=\"T_de2b31b4_a51b_11e9_9ba0_02420a00004dlevel0_row26\" class=\"row_heading level0 row26\" >есть дети</th>\n",
       "                        <th id=\"T_de2b31b4_a51b_11e9_9ba0_02420a00004dlevel1_row26\" class=\"row_heading level1 row26\" >низкий</th>\n",
       "                        <th id=\"T_de2b31b4_a51b_11e9_9ba0_02420a00004dlevel2_row26\" class=\"row_heading level2 row26\" >Не женат / не замужем</th>\n",
       "                        <td id=\"T_de2b31b4_a51b_11e9_9ba0_02420a00004drow26_col0\" class=\"data row26 col0\" >26</td>\n",
       "                        <td id=\"T_de2b31b4_a51b_11e9_9ba0_02420a00004drow26_col1\" class=\"data row26 col1\" >1</td>\n",
       "                        <td id=\"T_de2b31b4_a51b_11e9_9ba0_02420a00004drow26_col2\" class=\"data row26 col2\" >3.85%</td>\n",
       "            </tr>\n",
       "            <tr>\n",
       "                        <th id=\"T_de2b31b4_a51b_11e9_9ba0_02420a00004dlevel0_row27\" class=\"row_heading level0 row27\" >нет детей</th>\n",
       "                        <th id=\"T_de2b31b4_a51b_11e9_9ba0_02420a00004dlevel1_row27\" class=\"row_heading level1 row27\" >высокий</th>\n",
       "                        <th id=\"T_de2b31b4_a51b_11e9_9ba0_02420a00004dlevel2_row27\" class=\"row_heading level2 row27\" >в разводе</th>\n",
       "                        <td id=\"T_de2b31b4_a51b_11e9_9ba0_02420a00004drow27_col0\" class=\"data row27 col0\" >217</td>\n",
       "                        <td id=\"T_de2b31b4_a51b_11e9_9ba0_02420a00004drow27_col1\" class=\"data row27 col1\" >8</td>\n",
       "                        <td id=\"T_de2b31b4_a51b_11e9_9ba0_02420a00004drow27_col2\" class=\"data row27 col2\" >3.69%</td>\n",
       "            </tr>\n",
       "            <tr>\n",
       "                        <th id=\"T_de2b31b4_a51b_11e9_9ba0_02420a00004dlevel0_row28\" class=\"row_heading level0 row28\" rowspan=2>есть дети</th>\n",
       "                        <th id=\"T_de2b31b4_a51b_11e9_9ba0_02420a00004dlevel1_row28\" class=\"row_heading level1 row28\" >высокий</th>\n",
       "                        <th id=\"T_de2b31b4_a51b_11e9_9ba0_02420a00004dlevel2_row28\" class=\"row_heading level2 row28\" >в разводе</th>\n",
       "                        <td id=\"T_de2b31b4_a51b_11e9_9ba0_02420a00004drow28_col0\" class=\"data row28 col0\" >134</td>\n",
       "                        <td id=\"T_de2b31b4_a51b_11e9_9ba0_02420a00004drow28_col1\" class=\"data row28 col1\" >4</td>\n",
       "                        <td id=\"T_de2b31b4_a51b_11e9_9ba0_02420a00004drow28_col2\" class=\"data row28 col2\" >2.99%</td>\n",
       "            </tr>\n",
       "            <tr>\n",
       "                                <th id=\"T_de2b31b4_a51b_11e9_9ba0_02420a00004dlevel1_row29\" class=\"row_heading level1 row29\" >низкий</th>\n",
       "                        <th id=\"T_de2b31b4_a51b_11e9_9ba0_02420a00004dlevel2_row29\" class=\"row_heading level2 row29\" >в разводе</th>\n",
       "                        <td id=\"T_de2b31b4_a51b_11e9_9ba0_02420a00004drow29_col0\" class=\"data row29 col0\" >20</td>\n",
       "                        <td id=\"T_de2b31b4_a51b_11e9_9ba0_02420a00004drow29_col1\" class=\"data row29 col1\" >0</td>\n",
       "                        <td id=\"T_de2b31b4_a51b_11e9_9ba0_02420a00004drow29_col2\" class=\"data row29 col2\" >0.00%</td>\n",
       "            </tr>\n",
       "    </tbody></table>"
      ],
      "text/plain": [
       "<pandas.io.formats.style.Styler at 0x7ff8d1a82908>"
      ]
     },
     "execution_count": 86,
     "metadata": {},
     "output_type": "execute_result"
    }
   ],
   "source": [
    "data_pivot.sort_values(by='ratio', ascending=False).style.format({'ratio':'{:.2f}%'})"
   ]
  },
  {
   "cell_type": "markdown",
   "metadata": {},
   "source": [
    "Приступим к созданию второй сводной таблицы. В качестве столбцов для группировки выбираем последоватально 'children_categories', 'income_categories', 'purpose_lemm', в значениях сводной таблицы выбираем столбцы 'count_clients', 'debt' и применяем функцию sum к значениям сводной таблицы."
   ]
  },
  {
   "cell_type": "code",
   "execution_count": 87,
   "metadata": {},
   "outputs": [],
   "source": [
    "data_pivot_two = data_mod.pivot_table(index=['children_categories','income_categories', 'purpose_lemm'], values=['count_clients', 'debt'], aggfunc={'count_clients':'sum','debt':'sum'})"
   ]
  },
  {
   "cell_type": "markdown",
   "metadata": {},
   "source": [
    "Добавим в таблицу data_pivot новый столбец 'ratio', как отношение числа невыплаченных кредитов к числу значений в данной категории. Умножим это значение на 100, чтобы в таблице показать это значение в процентах."
   ]
  },
  {
   "cell_type": "code",
   "execution_count": 88,
   "metadata": {},
   "outputs": [],
   "source": [
    "data_pivot_two['ratio'] = data_pivot_two['debt'] / data_pivot_two['count_clients'] * 100"
   ]
  },
  {
   "cell_type": "markdown",
   "metadata": {},
   "source": [
    "Выведем таблицу data_pivot_two на экран, применив к ней сортировку методом value_counts() по столбцу ratio. Также применим форматирование вывода значений столбца 'ratio', чтобы значения были в процентах и с 2 знаками после запятой."
   ]
  },
  {
   "cell_type": "code",
   "execution_count": 89,
   "metadata": {},
   "outputs": [
    {
     "data": {
      "text/html": [
       "<style  type=\"text/css\" >\n",
       "</style><table id=\"T_de3d970a_a51b_11e9_9ba0_02420a00004d\" ><thead>    <tr>        <th class=\"blank\" ></th>        <th class=\"blank\" ></th>        <th class=\"blank level0\" ></th>        <th class=\"col_heading level0 col0\" >count_clients</th>        <th class=\"col_heading level0 col1\" >debt</th>        <th class=\"col_heading level0 col2\" >ratio</th>    </tr>    <tr>        <th class=\"index_name level0\" >children_categories</th>        <th class=\"index_name level1\" >income_categories</th>        <th class=\"index_name level2\" >purpose_lemm</th>        <th class=\"blank\" ></th>        <th class=\"blank\" ></th>        <th class=\"blank\" ></th>    </tr></thead><tbody>\n",
       "                <tr>\n",
       "                        <th id=\"T_de3d970a_a51b_11e9_9ba0_02420a00004dlevel0_row0\" class=\"row_heading level0 row0\" rowspan=3>есть дети</th>\n",
       "                        <th id=\"T_de3d970a_a51b_11e9_9ba0_02420a00004dlevel1_row0\" class=\"row_heading level1 row0\" rowspan=3>средний</th>\n",
       "                        <th id=\"T_de3d970a_a51b_11e9_9ba0_02420a00004dlevel2_row0\" class=\"row_heading level2 row0\" >автомобиль</th>\n",
       "                        <td id=\"T_de3d970a_a51b_11e9_9ba0_02420a00004drow0_col0\" class=\"data row0 col0\" >866</td>\n",
       "                        <td id=\"T_de3d970a_a51b_11e9_9ba0_02420a00004drow0_col1\" class=\"data row0 col1\" >107</td>\n",
       "                        <td id=\"T_de3d970a_a51b_11e9_9ba0_02420a00004drow0_col2\" class=\"data row0 col2\" >12.36%</td>\n",
       "            </tr>\n",
       "            <tr>\n",
       "                                        <th id=\"T_de3d970a_a51b_11e9_9ba0_02420a00004dlevel2_row1\" class=\"row_heading level2 row1\" >образование</th>\n",
       "                        <td id=\"T_de3d970a_a51b_11e9_9ba0_02420a00004drow1_col0\" class=\"data row1 col0\" >837</td>\n",
       "                        <td id=\"T_de3d970a_a51b_11e9_9ba0_02420a00004drow1_col1\" class=\"data row1 col1\" >101</td>\n",
       "                        <td id=\"T_de3d970a_a51b_11e9_9ba0_02420a00004drow1_col2\" class=\"data row1 col2\" >12.07%</td>\n",
       "            </tr>\n",
       "            <tr>\n",
       "                                        <th id=\"T_de3d970a_a51b_11e9_9ba0_02420a00004dlevel2_row2\" class=\"row_heading level2 row2\" >недвижимость</th>\n",
       "                        <td id=\"T_de3d970a_a51b_11e9_9ba0_02420a00004drow2_col0\" class=\"data row2 col0\" >1323</td>\n",
       "                        <td id=\"T_de3d970a_a51b_11e9_9ba0_02420a00004drow2_col1\" class=\"data row2 col1\" >140</td>\n",
       "                        <td id=\"T_de3d970a_a51b_11e9_9ba0_02420a00004drow2_col2\" class=\"data row2 col2\" >10.58%</td>\n",
       "            </tr>\n",
       "            <tr>\n",
       "                        <th id=\"T_de3d970a_a51b_11e9_9ba0_02420a00004dlevel0_row3\" class=\"row_heading level0 row3\" rowspan=2>нет детей</th>\n",
       "                        <th id=\"T_de3d970a_a51b_11e9_9ba0_02420a00004dlevel1_row3\" class=\"row_heading level1 row3\" rowspan=2>средний</th>\n",
       "                        <th id=\"T_de3d970a_a51b_11e9_9ba0_02420a00004dlevel2_row3\" class=\"row_heading level2 row3\" >автомобиль</th>\n",
       "                        <td id=\"T_de3d970a_a51b_11e9_9ba0_02420a00004drow3_col0\" class=\"data row3 col0\" >1296</td>\n",
       "                        <td id=\"T_de3d970a_a51b_11e9_9ba0_02420a00004drow3_col1\" class=\"data row3 col1\" >135</td>\n",
       "                        <td id=\"T_de3d970a_a51b_11e9_9ba0_02420a00004drow3_col2\" class=\"data row3 col2\" >10.42%</td>\n",
       "            </tr>\n",
       "            <tr>\n",
       "                                        <th id=\"T_de3d970a_a51b_11e9_9ba0_02420a00004dlevel2_row4\" class=\"row_heading level2 row4\" >образование</th>\n",
       "                        <td id=\"T_de3d970a_a51b_11e9_9ba0_02420a00004drow4_col0\" class=\"data row4 col0\" >1231</td>\n",
       "                        <td id=\"T_de3d970a_a51b_11e9_9ba0_02420a00004drow4_col1\" class=\"data row4 col1\" >127</td>\n",
       "                        <td id=\"T_de3d970a_a51b_11e9_9ba0_02420a00004drow4_col2\" class=\"data row4 col2\" >10.32%</td>\n",
       "            </tr>\n",
       "            <tr>\n",
       "                        <th id=\"T_de3d970a_a51b_11e9_9ba0_02420a00004dlevel0_row5\" class=\"row_heading level0 row5\" rowspan=6>есть дети</th>\n",
       "                        <th id=\"T_de3d970a_a51b_11e9_9ba0_02420a00004dlevel1_row5\" class=\"row_heading level1 row5\" >средний</th>\n",
       "                        <th id=\"T_de3d970a_a51b_11e9_9ba0_02420a00004dlevel2_row5\" class=\"row_heading level2 row5\" >жилье</th>\n",
       "                        <td id=\"T_de3d970a_a51b_11e9_9ba0_02420a00004drow5_col0\" class=\"data row5 col0\" >942</td>\n",
       "                        <td id=\"T_de3d970a_a51b_11e9_9ba0_02420a00004drow5_col1\" class=\"data row5 col1\" >85</td>\n",
       "                        <td id=\"T_de3d970a_a51b_11e9_9ba0_02420a00004drow5_col2\" class=\"data row5 col2\" >9.02%</td>\n",
       "            </tr>\n",
       "            <tr>\n",
       "                                <th id=\"T_de3d970a_a51b_11e9_9ba0_02420a00004dlevel1_row6\" class=\"row_heading level1 row6\" rowspan=2>высокий</th>\n",
       "                        <th id=\"T_de3d970a_a51b_11e9_9ba0_02420a00004dlevel2_row6\" class=\"row_heading level2 row6\" >свадьба</th>\n",
       "                        <td id=\"T_de3d970a_a51b_11e9_9ba0_02420a00004drow6_col0\" class=\"data row6 col0\" >266</td>\n",
       "                        <td id=\"T_de3d970a_a51b_11e9_9ba0_02420a00004drow6_col1\" class=\"data row6 col1\" >24</td>\n",
       "                        <td id=\"T_de3d970a_a51b_11e9_9ba0_02420a00004drow6_col2\" class=\"data row6 col2\" >9.02%</td>\n",
       "            </tr>\n",
       "            <tr>\n",
       "                                        <th id=\"T_de3d970a_a51b_11e9_9ba0_02420a00004dlevel2_row7\" class=\"row_heading level2 row7\" >автомобиль</th>\n",
       "                        <td id=\"T_de3d970a_a51b_11e9_9ba0_02420a00004drow7_col0\" class=\"data row7 col0\" >521</td>\n",
       "                        <td id=\"T_de3d970a_a51b_11e9_9ba0_02420a00004drow7_col1\" class=\"data row7 col1\" >46</td>\n",
       "                        <td id=\"T_de3d970a_a51b_11e9_9ba0_02420a00004drow7_col2\" class=\"data row7 col2\" >8.83%</td>\n",
       "            </tr>\n",
       "            <tr>\n",
       "                                <th id=\"T_de3d970a_a51b_11e9_9ba0_02420a00004dlevel1_row8\" class=\"row_heading level1 row8\" >средний</th>\n",
       "                        <th id=\"T_de3d970a_a51b_11e9_9ba0_02420a00004dlevel2_row8\" class=\"row_heading level2 row8\" >свадьба</th>\n",
       "                        <td id=\"T_de3d970a_a51b_11e9_9ba0_02420a00004drow8_col0\" class=\"data row8 col0\" >482</td>\n",
       "                        <td id=\"T_de3d970a_a51b_11e9_9ba0_02420a00004drow8_col1\" class=\"data row8 col1\" >41</td>\n",
       "                        <td id=\"T_de3d970a_a51b_11e9_9ba0_02420a00004drow8_col2\" class=\"data row8 col2\" >8.51%</td>\n",
       "            </tr>\n",
       "            <tr>\n",
       "                                <th id=\"T_de3d970a_a51b_11e9_9ba0_02420a00004dlevel1_row9\" class=\"row_heading level1 row9\" rowspan=2>низкий</th>\n",
       "                        <th id=\"T_de3d970a_a51b_11e9_9ba0_02420a00004dlevel2_row9\" class=\"row_heading level2 row9\" >образование</th>\n",
       "                        <td id=\"T_de3d970a_a51b_11e9_9ba0_02420a00004drow9_col0\" class=\"data row9 col0\" >60</td>\n",
       "                        <td id=\"T_de3d970a_a51b_11e9_9ba0_02420a00004drow9_col1\" class=\"data row9 col1\" >5</td>\n",
       "                        <td id=\"T_de3d970a_a51b_11e9_9ba0_02420a00004drow9_col2\" class=\"data row9 col2\" >8.33%</td>\n",
       "            </tr>\n",
       "            <tr>\n",
       "                                        <th id=\"T_de3d970a_a51b_11e9_9ba0_02420a00004dlevel2_row10\" class=\"row_heading level2 row10\" >автомобиль</th>\n",
       "                        <td id=\"T_de3d970a_a51b_11e9_9ba0_02420a00004drow10_col0\" class=\"data row10 col0\" >49</td>\n",
       "                        <td id=\"T_de3d970a_a51b_11e9_9ba0_02420a00004drow10_col1\" class=\"data row10 col1\" >4</td>\n",
       "                        <td id=\"T_de3d970a_a51b_11e9_9ba0_02420a00004drow10_col2\" class=\"data row10 col2\" >8.16%</td>\n",
       "            </tr>\n",
       "            <tr>\n",
       "                        <th id=\"T_de3d970a_a51b_11e9_9ba0_02420a00004dlevel0_row11\" class=\"row_heading level0 row11\" rowspan=3>нет детей</th>\n",
       "                        <th id=\"T_de3d970a_a51b_11e9_9ba0_02420a00004dlevel1_row11\" class=\"row_heading level1 row11\" >высокий</th>\n",
       "                        <th id=\"T_de3d970a_a51b_11e9_9ba0_02420a00004dlevel2_row11\" class=\"row_heading level2 row11\" >свадьба</th>\n",
       "                        <td id=\"T_de3d970a_a51b_11e9_9ba0_02420a00004drow11_col0\" class=\"data row11 col0\" >418</td>\n",
       "                        <td id=\"T_de3d970a_a51b_11e9_9ba0_02420a00004drow11_col1\" class=\"data row11 col1\" >34</td>\n",
       "                        <td id=\"T_de3d970a_a51b_11e9_9ba0_02420a00004drow11_col2\" class=\"data row11 col2\" >8.13%</td>\n",
       "            </tr>\n",
       "            <tr>\n",
       "                                <th id=\"T_de3d970a_a51b_11e9_9ba0_02420a00004dlevel1_row12\" class=\"row_heading level1 row12\" rowspan=2>средний</th>\n",
       "                        <th id=\"T_de3d970a_a51b_11e9_9ba0_02420a00004dlevel2_row12\" class=\"row_heading level2 row12\" >недвижимость</th>\n",
       "                        <td id=\"T_de3d970a_a51b_11e9_9ba0_02420a00004drow12_col0\" class=\"data row12 col0\" >1923</td>\n",
       "                        <td id=\"T_de3d970a_a51b_11e9_9ba0_02420a00004drow12_col1\" class=\"data row12 col1\" >156</td>\n",
       "                        <td id=\"T_de3d970a_a51b_11e9_9ba0_02420a00004drow12_col2\" class=\"data row12 col2\" >8.11%</td>\n",
       "            </tr>\n",
       "            <tr>\n",
       "                                        <th id=\"T_de3d970a_a51b_11e9_9ba0_02420a00004dlevel2_row13\" class=\"row_heading level2 row13\" >свадьба</th>\n",
       "                        <td id=\"T_de3d970a_a51b_11e9_9ba0_02420a00004drow13_col0\" class=\"data row13 col0\" >739</td>\n",
       "                        <td id=\"T_de3d970a_a51b_11e9_9ba0_02420a00004drow13_col1\" class=\"data row13 col1\" >59</td>\n",
       "                        <td id=\"T_de3d970a_a51b_11e9_9ba0_02420a00004drow13_col2\" class=\"data row13 col2\" >7.98%</td>\n",
       "            </tr>\n",
       "            <tr>\n",
       "                        <th id=\"T_de3d970a_a51b_11e9_9ba0_02420a00004dlevel0_row14\" class=\"row_heading level0 row14\" >есть дети</th>\n",
       "                        <th id=\"T_de3d970a_a51b_11e9_9ba0_02420a00004dlevel1_row14\" class=\"row_heading level1 row14\" >низкий</th>\n",
       "                        <th id=\"T_de3d970a_a51b_11e9_9ba0_02420a00004dlevel2_row14\" class=\"row_heading level2 row14\" >свадьба</th>\n",
       "                        <td id=\"T_de3d970a_a51b_11e9_9ba0_02420a00004drow14_col0\" class=\"data row14 col0\" >38</td>\n",
       "                        <td id=\"T_de3d970a_a51b_11e9_9ba0_02420a00004drow14_col1\" class=\"data row14 col1\" >3</td>\n",
       "                        <td id=\"T_de3d970a_a51b_11e9_9ba0_02420a00004drow14_col2\" class=\"data row14 col2\" >7.89%</td>\n",
       "            </tr>\n",
       "            <tr>\n",
       "                        <th id=\"T_de3d970a_a51b_11e9_9ba0_02420a00004dlevel0_row15\" class=\"row_heading level0 row15\" >нет детей</th>\n",
       "                        <th id=\"T_de3d970a_a51b_11e9_9ba0_02420a00004dlevel1_row15\" class=\"row_heading level1 row15\" >высокий</th>\n",
       "                        <th id=\"T_de3d970a_a51b_11e9_9ba0_02420a00004dlevel2_row15\" class=\"row_heading level2 row15\" >образование</th>\n",
       "                        <td id=\"T_de3d970a_a51b_11e9_9ba0_02420a00004drow15_col0\" class=\"data row15 col0\" >753</td>\n",
       "                        <td id=\"T_de3d970a_a51b_11e9_9ba0_02420a00004drow15_col1\" class=\"data row15 col1\" >59</td>\n",
       "                        <td id=\"T_de3d970a_a51b_11e9_9ba0_02420a00004drow15_col2\" class=\"data row15 col2\" >7.84%</td>\n",
       "            </tr>\n",
       "            <tr>\n",
       "                        <th id=\"T_de3d970a_a51b_11e9_9ba0_02420a00004dlevel0_row16\" class=\"row_heading level0 row16\" >есть дети</th>\n",
       "                        <th id=\"T_de3d970a_a51b_11e9_9ba0_02420a00004dlevel1_row16\" class=\"row_heading level1 row16\" >высокий</th>\n",
       "                        <th id=\"T_de3d970a_a51b_11e9_9ba0_02420a00004dlevel2_row16\" class=\"row_heading level2 row16\" >образование</th>\n",
       "                        <td id=\"T_de3d970a_a51b_11e9_9ba0_02420a00004drow16_col0\" class=\"data row16 col0\" >451</td>\n",
       "                        <td id=\"T_de3d970a_a51b_11e9_9ba0_02420a00004drow16_col1\" class=\"data row16 col1\" >34</td>\n",
       "                        <td id=\"T_de3d970a_a51b_11e9_9ba0_02420a00004drow16_col2\" class=\"data row16 col2\" >7.54%</td>\n",
       "            </tr>\n",
       "            <tr>\n",
       "                        <th id=\"T_de3d970a_a51b_11e9_9ba0_02420a00004dlevel0_row17\" class=\"row_heading level0 row17\" rowspan=6>нет детей</th>\n",
       "                        <th id=\"T_de3d970a_a51b_11e9_9ba0_02420a00004dlevel1_row17\" class=\"row_heading level1 row17\" >высокий</th>\n",
       "                        <th id=\"T_de3d970a_a51b_11e9_9ba0_02420a00004dlevel2_row17\" class=\"row_heading level2 row17\" >автомобиль</th>\n",
       "                        <td id=\"T_de3d970a_a51b_11e9_9ba0_02420a00004drow17_col0\" class=\"data row17 col0\" >811</td>\n",
       "                        <td id=\"T_de3d970a_a51b_11e9_9ba0_02420a00004drow17_col1\" class=\"data row17 col1\" >60</td>\n",
       "                        <td id=\"T_de3d970a_a51b_11e9_9ba0_02420a00004drow17_col2\" class=\"data row17 col2\" >7.40%</td>\n",
       "            </tr>\n",
       "            <tr>\n",
       "                                <th id=\"T_de3d970a_a51b_11e9_9ba0_02420a00004dlevel1_row18\" class=\"row_heading level1 row18\" >средний</th>\n",
       "                        <th id=\"T_de3d970a_a51b_11e9_9ba0_02420a00004dlevel2_row18\" class=\"row_heading level2 row18\" >жилье</th>\n",
       "                        <td id=\"T_de3d970a_a51b_11e9_9ba0_02420a00004drow18_col0\" class=\"data row18 col0\" >1411</td>\n",
       "                        <td id=\"T_de3d970a_a51b_11e9_9ba0_02420a00004drow18_col1\" class=\"data row18 col1\" >103</td>\n",
       "                        <td id=\"T_de3d970a_a51b_11e9_9ba0_02420a00004drow18_col2\" class=\"data row18 col2\" >7.30%</td>\n",
       "            </tr>\n",
       "            <tr>\n",
       "                                <th id=\"T_de3d970a_a51b_11e9_9ba0_02420a00004dlevel1_row19\" class=\"row_heading level1 row19\" >высокий</th>\n",
       "                        <th id=\"T_de3d970a_a51b_11e9_9ba0_02420a00004dlevel2_row19\" class=\"row_heading level2 row19\" >недвижимость</th>\n",
       "                        <td id=\"T_de3d970a_a51b_11e9_9ba0_02420a00004drow19_col0\" class=\"data row19 col0\" >1240</td>\n",
       "                        <td id=\"T_de3d970a_a51b_11e9_9ba0_02420a00004drow19_col1\" class=\"data row19 col1\" >82</td>\n",
       "                        <td id=\"T_de3d970a_a51b_11e9_9ba0_02420a00004drow19_col2\" class=\"data row19 col2\" >6.61%</td>\n",
       "            </tr>\n",
       "            <tr>\n",
       "                                <th id=\"T_de3d970a_a51b_11e9_9ba0_02420a00004dlevel1_row20\" class=\"row_heading level1 row20\" rowspan=2>низкий</th>\n",
       "                        <th id=\"T_de3d970a_a51b_11e9_9ba0_02420a00004dlevel2_row20\" class=\"row_heading level2 row20\" >образование</th>\n",
       "                        <td id=\"T_de3d970a_a51b_11e9_9ba0_02420a00004drow20_col0\" class=\"data row20 col0\" >665</td>\n",
       "                        <td id=\"T_de3d970a_a51b_11e9_9ba0_02420a00004drow20_col1\" class=\"data row20 col1\" >43</td>\n",
       "                        <td id=\"T_de3d970a_a51b_11e9_9ba0_02420a00004drow20_col2\" class=\"data row20 col2\" >6.47%</td>\n",
       "            </tr>\n",
       "            <tr>\n",
       "                                        <th id=\"T_de3d970a_a51b_11e9_9ba0_02420a00004dlevel2_row21\" class=\"row_heading level2 row21\" >автомобиль</th>\n",
       "                        <td id=\"T_de3d970a_a51b_11e9_9ba0_02420a00004drow21_col0\" class=\"data row21 col0\" >745</td>\n",
       "                        <td id=\"T_de3d970a_a51b_11e9_9ba0_02420a00004drow21_col1\" class=\"data row21 col1\" >48</td>\n",
       "                        <td id=\"T_de3d970a_a51b_11e9_9ba0_02420a00004drow21_col2\" class=\"data row21 col2\" >6.44%</td>\n",
       "            </tr>\n",
       "            <tr>\n",
       "                                <th id=\"T_de3d970a_a51b_11e9_9ba0_02420a00004dlevel1_row22\" class=\"row_heading level1 row22\" >высокий</th>\n",
       "                        <th id=\"T_de3d970a_a51b_11e9_9ba0_02420a00004dlevel2_row22\" class=\"row_heading level2 row22\" >жилье</th>\n",
       "                        <td id=\"T_de3d970a_a51b_11e9_9ba0_02420a00004drow22_col0\" class=\"data row22 col0\" >788</td>\n",
       "                        <td id=\"T_de3d970a_a51b_11e9_9ba0_02420a00004drow22_col1\" class=\"data row22 col1\" >50</td>\n",
       "                        <td id=\"T_de3d970a_a51b_11e9_9ba0_02420a00004drow22_col2\" class=\"data row22 col2\" >6.35%</td>\n",
       "            </tr>\n",
       "            <tr>\n",
       "                        <th id=\"T_de3d970a_a51b_11e9_9ba0_02420a00004dlevel0_row23\" class=\"row_heading level0 row23\" rowspan=2>есть дети</th>\n",
       "                        <th id=\"T_de3d970a_a51b_11e9_9ba0_02420a00004dlevel1_row23\" class=\"row_heading level1 row23\" >низкий</th>\n",
       "                        <th id=\"T_de3d970a_a51b_11e9_9ba0_02420a00004dlevel2_row23\" class=\"row_heading level2 row23\" >недвижимость</th>\n",
       "                        <td id=\"T_de3d970a_a51b_11e9_9ba0_02420a00004drow23_col0\" class=\"data row23 col0\" >95</td>\n",
       "                        <td id=\"T_de3d970a_a51b_11e9_9ba0_02420a00004drow23_col1\" class=\"data row23 col1\" >6</td>\n",
       "                        <td id=\"T_de3d970a_a51b_11e9_9ba0_02420a00004drow23_col2\" class=\"data row23 col2\" >6.32%</td>\n",
       "            </tr>\n",
       "            <tr>\n",
       "                                <th id=\"T_de3d970a_a51b_11e9_9ba0_02420a00004dlevel1_row24\" class=\"row_heading level1 row24\" >высокий</th>\n",
       "                        <th id=\"T_de3d970a_a51b_11e9_9ba0_02420a00004dlevel2_row24\" class=\"row_heading level2 row24\" >недвижимость</th>\n",
       "                        <td id=\"T_de3d970a_a51b_11e9_9ba0_02420a00004drow24_col0\" class=\"data row24 col0\" >726</td>\n",
       "                        <td id=\"T_de3d970a_a51b_11e9_9ba0_02420a00004drow24_col1\" class=\"data row24 col1\" >42</td>\n",
       "                        <td id=\"T_de3d970a_a51b_11e9_9ba0_02420a00004drow24_col2\" class=\"data row24 col2\" >5.79%</td>\n",
       "            </tr>\n",
       "            <tr>\n",
       "                        <th id=\"T_de3d970a_a51b_11e9_9ba0_02420a00004dlevel0_row25\" class=\"row_heading level0 row25\" rowspan=2>нет детей</th>\n",
       "                        <th id=\"T_de3d970a_a51b_11e9_9ba0_02420a00004dlevel1_row25\" class=\"row_heading level1 row25\" rowspan=2>низкий</th>\n",
       "                        <th id=\"T_de3d970a_a51b_11e9_9ba0_02420a00004dlevel2_row25\" class=\"row_heading level2 row25\" >свадьба</th>\n",
       "                        <td id=\"T_de3d970a_a51b_11e9_9ba0_02420a00004drow25_col0\" class=\"data row25 col0\" >394</td>\n",
       "                        <td id=\"T_de3d970a_a51b_11e9_9ba0_02420a00004drow25_col1\" class=\"data row25 col1\" >22</td>\n",
       "                        <td id=\"T_de3d970a_a51b_11e9_9ba0_02420a00004drow25_col2\" class=\"data row25 col2\" >5.58%</td>\n",
       "            </tr>\n",
       "            <tr>\n",
       "                                        <th id=\"T_de3d970a_a51b_11e9_9ba0_02420a00004dlevel2_row26\" class=\"row_heading level2 row26\" >жилье</th>\n",
       "                        <td id=\"T_de3d970a_a51b_11e9_9ba0_02420a00004drow26_col0\" class=\"data row26 col0\" >712</td>\n",
       "                        <td id=\"T_de3d970a_a51b_11e9_9ba0_02420a00004drow26_col1\" class=\"data row26 col1\" >39</td>\n",
       "                        <td id=\"T_de3d970a_a51b_11e9_9ba0_02420a00004drow26_col2\" class=\"data row26 col2\" >5.48%</td>\n",
       "            </tr>\n",
       "            <tr>\n",
       "                        <th id=\"T_de3d970a_a51b_11e9_9ba0_02420a00004dlevel0_row27\" class=\"row_heading level0 row27\" >есть дети</th>\n",
       "                        <th id=\"T_de3d970a_a51b_11e9_9ba0_02420a00004dlevel1_row27\" class=\"row_heading level1 row27\" >высокий</th>\n",
       "                        <th id=\"T_de3d970a_a51b_11e9_9ba0_02420a00004dlevel2_row27\" class=\"row_heading level2 row27\" >жилье</th>\n",
       "                        <td id=\"T_de3d970a_a51b_11e9_9ba0_02420a00004drow27_col0\" class=\"data row27 col0\" >535</td>\n",
       "                        <td id=\"T_de3d970a_a51b_11e9_9ba0_02420a00004drow27_col1\" class=\"data row27 col1\" >29</td>\n",
       "                        <td id=\"T_de3d970a_a51b_11e9_9ba0_02420a00004drow27_col2\" class=\"data row27 col2\" >5.42%</td>\n",
       "            </tr>\n",
       "            <tr>\n",
       "                        <th id=\"T_de3d970a_a51b_11e9_9ba0_02420a00004dlevel0_row28\" class=\"row_heading level0 row28\" >нет детей</th>\n",
       "                        <th id=\"T_de3d970a_a51b_11e9_9ba0_02420a00004dlevel1_row28\" class=\"row_heading level1 row28\" >низкий</th>\n",
       "                        <th id=\"T_de3d970a_a51b_11e9_9ba0_02420a00004dlevel2_row28\" class=\"row_heading level2 row28\" >недвижимость</th>\n",
       "                        <td id=\"T_de3d970a_a51b_11e9_9ba0_02420a00004drow28_col0\" class=\"data row28 col0\" >1023</td>\n",
       "                        <td id=\"T_de3d970a_a51b_11e9_9ba0_02420a00004drow28_col1\" class=\"data row28 col1\" >46</td>\n",
       "                        <td id=\"T_de3d970a_a51b_11e9_9ba0_02420a00004drow28_col2\" class=\"data row28 col2\" >4.50%</td>\n",
       "            </tr>\n",
       "            <tr>\n",
       "                        <th id=\"T_de3d970a_a51b_11e9_9ba0_02420a00004dlevel0_row29\" class=\"row_heading level0 row29\" >есть дети</th>\n",
       "                        <th id=\"T_de3d970a_a51b_11e9_9ba0_02420a00004dlevel1_row29\" class=\"row_heading level1 row29\" >низкий</th>\n",
       "                        <th id=\"T_de3d970a_a51b_11e9_9ba0_02420a00004dlevel2_row29\" class=\"row_heading level2 row29\" >жилье</th>\n",
       "                        <td id=\"T_de3d970a_a51b_11e9_9ba0_02420a00004drow29_col0\" class=\"data row29 col0\" >62</td>\n",
       "                        <td id=\"T_de3d970a_a51b_11e9_9ba0_02420a00004drow29_col1\" class=\"data row29 col1\" >2</td>\n",
       "                        <td id=\"T_de3d970a_a51b_11e9_9ba0_02420a00004drow29_col2\" class=\"data row29 col2\" >3.23%</td>\n",
       "            </tr>\n",
       "    </tbody></table>"
      ],
      "text/plain": [
       "<pandas.io.formats.style.Styler at 0x7ff8d05f3b00>"
      ]
     },
     "execution_count": 89,
     "metadata": {},
     "output_type": "execute_result"
    }
   ],
   "source": [
    "data_pivot_two.sort_values(by='ratio', ascending=False).style.format({'ratio':'{:.2f}%'})"
   ]
  },
  {
   "cell_type": "markdown",
   "metadata": {},
   "source": [
    "# Выводы"
   ]
  },
  {
   "cell_type": "markdown",
   "metadata": {},
   "source": [
    "## Описание проекта"
   ]
  },
  {
   "cell_type": "markdown",
   "metadata": {},
   "source": [
    "Для выполнения самостоятельного проекта мне были предоставлены данные со статистикой о платёжеспособности клиентов. В ходе проекта нужно было разобраться влияет ли семейное положение и количество детей клиента на факт возврата кредита в срок."
   ]
  },
  {
   "cell_type": "markdown",
   "metadata": {},
   "source": [
    "## Ход работы проекта"
   ]
  },
  {
   "cell_type": "markdown",
   "metadata": {},
   "source": [
    "В ходе работы над проектом была проанализирована информация о таблице с данными. В частности в данных были обнаружены пропуски, отрицательные значения, которые должны быть положительными, строки с \"нулевыми\" значениями, различия в регистре значений.\n",
    "\n",
    "Таблица с данными была подвергнута методам предобработки данных и подготовлена для проведения исследования. Также из данных были удалены строки дубликаты.\n",
    "\n",
    "Следующим шагом была лемматизация значений столбца *цель кредита* и сведение значений целей кредита к нескольким категориям. Далее была проведена категоризация столбцов *дети*, *семейный статус* и *уровень дохода*.\n",
    "\n",
    "Затем были составлены таблицы, необходимые для ответов на вопросы задания 2. В конце работы составлены две сводные таблицы, позволяющие сделать дополнительные выводы по проекту."
   ]
  },
  {
   "cell_type": "markdown",
   "metadata": {},
   "source": [
    "## Результаты проекта"
   ]
  },
  {
   "cell_type": "markdown",
   "metadata": {},
   "source": [
    "-  **Зависимость между наличием детей и возвратом кредита в срок.** Были получены следующие результаты: "
   ]
  },
  {
   "cell_type": "markdown",
   "metadata": {},
   "source": [
    "Категория клиента | Процент риска\n",
    "------------------|--------------\n",
    "        Есть дети | 9,2 %\n",
    "        Нет детей | 7,5 %"
   ]
  },
  {
   "cell_type": "markdown",
   "metadata": {},
   "source": [
    "Можно сделать вывод, что наличие детей увеличивает риск невозврата кредита.\n"
   ]
  },
  {
   "cell_type": "markdown",
   "metadata": {},
   "source": [
    "-  **Зависимость между семейным положением и возвратом кредита в срок.** Были получены следующие результаты:"
   ]
  },
  {
   "cell_type": "markdown",
   "metadata": {},
   "source": [
    "   Категория клиента | Процент риска\n",
    "----------------------|--------------\n",
    "Не женат / не замужем | 9,7 %\n",
    "гражданский брак      | 9,3 %\n",
    "женат / замужем       | 7,5 %         \n",
    "в разводе             | 7,1 %\n",
    "вдовец / вдова        | 6,5 %"
   ]
  },
  {
   "cell_type": "markdown",
   "metadata": {},
   "source": [
    "У клиентов, которые относятся к категории не *женат / не замужем* и *гражданский брак* риск не возвратить кредит выше."
   ]
  },
  {
   "cell_type": "markdown",
   "metadata": {},
   "source": [
    "- **Зависимость между уровнем дохода и возвратом кредита в срок.** Были получены следующие результаты."
   ]
  },
  {
   "cell_type": "markdown",
   "metadata": {},
   "source": [
    "   Категория клиента | Процент риска\n",
    "----------------------|--------------\n",
    "средний уровень дохода | 9,5 %\n",
    "высокий уровень дохода | 9,3 %\n",
    "низкий уровень дохода  | 5,6 %        "
   ]
  },
  {
   "cell_type": "markdown",
   "metadata": {},
   "source": [
    "В данном случае четкой зависимости между уровнем дохода и процентом риска невозврата кредита нет. Возможно, это связано с тем, что не совсем корректно были выбраны категории дохода (по типу работы клиента, а не по реальной заработной плате), возможно, в данной выборке большее влияние на возврат кредита оказывают другие параметры клиентов, нежели уровень дохода."
   ]
  },
  {
   "cell_type": "markdown",
   "metadata": {},
   "source": [
    "- **Зависимость между целями кредита и его возвратом в срок.** Были получены следующие результаты."
   ]
  },
  {
   "cell_type": "markdown",
   "metadata": {},
   "source": [
    "   Цель кредита | Процент риска\n",
    "----------------------|--------------\n",
    "автомобиль | 9,3 %\n",
    "образование      | 9,2 %\n",
    "свадьба       | 8,0 %         \n",
    "недвижимость   | 7,4 %\n",
    "жилье  | 6,9 %"
   ]
  },
  {
   "cell_type": "markdown",
   "metadata": {},
   "source": [
    "Кредиты, цели которых связаны с автомобилями и образованием представляют больший риск невозврата по сравнению с остальными целями."
   ]
  },
  {
   "cell_type": "markdown",
   "metadata": {},
   "source": [
    "## Общие выводы"
   ]
  },
  {
   "cell_type": "markdown",
   "metadata": {},
   "source": [
    "В ходе категоризации целей кредита были получена следующая таблица с данными."
   ]
  },
  {
   "cell_type": "markdown",
   "metadata": {},
   "source": [
    "   Категория кредита | Процент риска\n",
    "----------------------|--------------\n",
    "недвижимость   | 6351\n",
    "жилье  | 4460\n",
    "автомобиль | 4306\n",
    "образование      | 4013\n",
    "свадьба       | 2324"
   ]
  },
  {
   "cell_type": "markdown",
   "metadata": {},
   "source": [
    "Можно сделать вывод, что клиенты больше берут кредиты на недвижимость, а на жилье, автомобиль и образование в среднем одинаково, и меньше всего на свадьбу =)"
   ]
  },
  {
   "cell_type": "markdown",
   "metadata": {},
   "source": [
    "В ходе работы над проектом были составлены две сводные таблицы. Первая таблица состоит из сгруппированных данных *наличие детей*, *уровень дохода* и *семейное положение*, числа клиентов в каждой категории, суммы невыплаченных кредитов в каждой категории и значения невыплаченых кредитов в процентах. \n",
    "\n",
    "Из этой таблицы можно сделать вывод, что клиенты с детьми с низким или средним уровнем дохода, находящиеся в гражданском браке, либо не женаты / не замужем, либо вдовцы / вдовы, представляют высокий риск невозврата кредита от **12,6 %** до **14,8 %**.\n",
    "\n",
    "Вторая таблица состоит из сгруппированных данных *наличие детей*, *уровень дохода* и *цель кредита*, числа клиентов в каждой категории, суммы невыплаченных кредитов в каждой категории и значения невыплаченых кредитов в процентах.\n",
    "\n",
    "Из второй сводной таблицы можно сделать вывод, что у клиентов с детьми, со средним уровнем дохода, целями кредита которых являются автомобиль, образование или недвижимость, риск невозврата кредита выше и составляет от **10,6 %** до **12,4 %**.\n",
    "\n",
    "------"
   ]
  }
 ],
 "metadata": {
  "celltoolbar": "Raw Cell Format",
  "kernelspec": {
   "display_name": "Python 3",
   "language": "python",
   "name": "python3"
  },
  "language_info": {
   "codemirror_mode": {
    "name": "ipython",
    "version": 3
   },
   "file_extension": ".py",
   "mimetype": "text/x-python",
   "name": "python",
   "nbconvert_exporter": "python",
   "pygments_lexer": "ipython3",
   "version": "3.7.6"
  }
 },
 "nbformat": 4,
 "nbformat_minor": 2
}
