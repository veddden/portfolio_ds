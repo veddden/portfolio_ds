{
 "cells": [
  {
   "cell_type": "markdown",
   "metadata": {},
   "source": [
    "# Проект. Определение региона для добычи нефти"
   ]
  },
  {
   "cell_type": "markdown",
   "metadata": {},
   "source": [
    "## Описание проекта"
   ]
  },
  {
   "cell_type": "markdown",
   "metadata": {},
   "source": [
    "Добывающей компании «ГлавРосГосНефть» нужно решить, где бурить новую скважину. Имеются пробы нефти в трех регионах, в каждом из которых 10000 месторождений. Пробы представляют собой измерения качества нефти и объема ее запасов. Необходимо построить модель машинного обученя, которая поможет определить регион, где добыча принесет наибольшую прибыль. "
   ]
  },
  {
   "cell_type": "markdown",
   "metadata": {},
   "source": [
    "**Условия задачи**:\n",
    "* Для обучения модели подходит только линейная регрессия (остальные — недостаточно предсказуемые).\n",
    "* При разведке региона проводится исследование 500 точек.\n",
    "* Бюджет на разработку месторождений — 10 млрд рублей, стоимость бурения одной скважины — 50 млн рублей.\n",
    "* Один баррель сырья приносит 4500 рублей прибыли.\n",
    "* Не рассматривать регионы, в которых риск убытков выше 2.5%. Из оставшихся выбирается регион с наибольшей средней прибылью."
   ]
  },
  {
   "cell_type": "markdown",
   "metadata": {},
   "source": [
    "## Цели проекта"
   ]
  },
  {
   "cell_type": "markdown",
   "metadata": {},
   "source": [
    "* Подготовить данные\n",
    "* Построить модель и оценить объем запасов нефти в каждом регионе\n",
    "* Проанализировать возможную прибыль и риски техникой Bootstrap\n",
    "* Предложить регион для разработки месторождений и обосновать выбор\n",
    "\n",
    "------"
   ]
  },
  {
   "cell_type": "markdown",
   "metadata": {},
   "source": [
    "## 1. Загрузка и подготовка данных"
   ]
  },
  {
   "cell_type": "markdown",
   "metadata": {},
   "source": [
    "Импортируем необходимые модули и библиотеки."
   ]
  },
  {
   "cell_type": "code",
   "execution_count": 1,
   "metadata": {},
   "outputs": [],
   "source": [
    "import pandas as pd\n",
    "from sklearn.model_selection import train_test_split\n",
    "from sklearn.metrics import mean_squared_error\n",
    "from sklearn.linear_model import LinearRegression\n",
    "from sklearn.metrics import r2_score\n",
    "from sklearn.metrics import mean_absolute_error\n",
    "import numpy as np\n",
    "import matplotlib.pyplot as plt "
   ]
  },
  {
   "cell_type": "markdown",
   "metadata": {},
   "source": [
    "Прочитаем данные о регионах и сохраним их в переменных `reg_1`, `reg_2` и `reg_3`."
   ]
  },
  {
   "cell_type": "code",
   "execution_count": 2,
   "metadata": {},
   "outputs": [],
   "source": [
    "reg_1 = pd.read_csv('/datasets/geo_data_0.csv')\n",
    "reg_2 = pd.read_csv('/datasets/geo_data_1.csv')\n",
    "reg_3 = pd.read_csv('/datasets/geo_data_2.csv')"
   ]
  },
  {
   "cell_type": "markdown",
   "metadata": {},
   "source": [
    "Посмотрим на данные, выведем первые 5 строк, иноформацию о данных, таблицу с статистическими характеристиками, проверим наличие дубликатов и уникальность идентификаторов месторождений. Автоматизируем эту операцию для показа информации сразу трех регионов."
   ]
  },
  {
   "cell_type": "code",
   "execution_count": 3,
   "metadata": {
    "scrolled": false
   },
   "outputs": [
    {
     "name": "stdout",
     "output_type": "stream",
     "text": [
      "РЕГИОН  1 \n",
      "       id        f0        f1        f2     product\n",
      "0  txEyH  0.705745 -0.497823  1.221170  105.280062\n",
      "1  2acmU  1.334711 -0.340164  4.365080   73.037750\n",
      "2  409Wp  1.022732  0.151990  1.419926   85.265647\n",
      "3  iJLyR -0.032172  0.139033  2.978566  168.620776\n",
      "4  Xdl7t  1.988431  0.155413  4.751769  154.036647 \n",
      "\n",
      "<class 'pandas.core.frame.DataFrame'>\n",
      "RangeIndex: 100000 entries, 0 to 99999\n",
      "Data columns (total 5 columns):\n",
      "id         100000 non-null object\n",
      "f0         100000 non-null float64\n",
      "f1         100000 non-null float64\n",
      "f2         100000 non-null float64\n",
      "product    100000 non-null float64\n",
      "dtypes: float64(4), object(1)\n",
      "memory usage: 3.8+ MB\n",
      "None\n",
      "                  f0             f1             f2        product\n",
      "count  100000.000000  100000.000000  100000.000000  100000.000000\n",
      "mean        0.500419       0.250143       2.502647      92.500000\n",
      "std         0.871832       0.504433       3.248248      44.288691\n",
      "min        -1.408605      -0.848218     -12.088328       0.000000\n",
      "25%        -0.072580      -0.200881       0.287748      56.497507\n",
      "50%         0.502360       0.250252       2.515969      91.849972\n",
      "75%         1.073581       0.700646       4.715088     128.564089\n",
      "max         2.362331       1.343769      16.003790     185.364347\n",
      "Уникальность идентификаторов месторождений:  99990\n",
      "Наличие дубликатов:  0 \n",
      "\n",
      "\n",
      "РЕГИОН  2 \n",
      "       id         f0         f1        f2     product\n",
      "0  kBEdx -15.001348  -8.276000 -0.005876    3.179103\n",
      "1  62mP7  14.272088  -3.475083  0.999183   26.953261\n",
      "2  vyE1P   6.263187  -5.948386  5.001160  134.766305\n",
      "3  KcrkZ -13.081196 -11.506057  4.999415  137.945408\n",
      "4  AHL4O  12.702195  -8.147433  5.004363  134.766305 \n",
      "\n",
      "<class 'pandas.core.frame.DataFrame'>\n",
      "RangeIndex: 100000 entries, 0 to 99999\n",
      "Data columns (total 5 columns):\n",
      "id         100000 non-null object\n",
      "f0         100000 non-null float64\n",
      "f1         100000 non-null float64\n",
      "f2         100000 non-null float64\n",
      "product    100000 non-null float64\n",
      "dtypes: float64(4), object(1)\n",
      "memory usage: 3.8+ MB\n",
      "None\n",
      "                  f0             f1             f2        product\n",
      "count  100000.000000  100000.000000  100000.000000  100000.000000\n",
      "mean        1.141296      -4.796579       2.494541      68.825000\n",
      "std         8.965932       5.119872       1.703572      45.944423\n",
      "min       -31.609576     -26.358598      -0.018144       0.000000\n",
      "25%        -6.298551      -8.267985       1.000021      26.953261\n",
      "50%         1.153055      -4.813172       2.011479      57.085625\n",
      "75%         8.621015      -1.332816       3.999904     107.813044\n",
      "max        29.421755      18.734063       5.019721     137.945408\n",
      "Уникальность идентификаторов месторождений:  99996\n",
      "Наличие дубликатов:  0 \n",
      "\n",
      "\n",
      "РЕГИОН  3 \n",
      "       id        f0        f1        f2     product\n",
      "0  fwXo0 -1.146987  0.963328 -0.828965   27.758673\n",
      "1  WJtFt  0.262778  0.269839 -2.530187   56.069697\n",
      "2  ovLUW  0.194587  0.289035 -5.586433   62.871910\n",
      "3  q6cA6  2.236060 -0.553760  0.930038  114.572842\n",
      "4  WPMUX -0.515993  1.716266  5.899011  149.600746 \n",
      "\n",
      "<class 'pandas.core.frame.DataFrame'>\n",
      "RangeIndex: 100000 entries, 0 to 99999\n",
      "Data columns (total 5 columns):\n",
      "id         100000 non-null object\n",
      "f0         100000 non-null float64\n",
      "f1         100000 non-null float64\n",
      "f2         100000 non-null float64\n",
      "product    100000 non-null float64\n",
      "dtypes: float64(4), object(1)\n",
      "memory usage: 3.8+ MB\n",
      "None\n",
      "                  f0             f1             f2        product\n",
      "count  100000.000000  100000.000000  100000.000000  100000.000000\n",
      "mean        0.002023      -0.002081       2.495128      95.000000\n",
      "std         1.732045       1.730417       3.473445      44.749921\n",
      "min        -8.760004      -7.084020     -11.970335       0.000000\n",
      "25%        -1.162288      -1.174820       0.130359      59.450441\n",
      "50%         0.009424      -0.009482       2.484236      94.925613\n",
      "75%         1.158535       1.163678       4.858794     130.595027\n",
      "max         7.238262       7.844801      16.739402     190.029838\n",
      "Уникальность идентификаторов месторождений:  99996\n",
      "Наличие дубликатов:  0 \n",
      "\n",
      "\n"
     ]
    }
   ],
   "source": [
    "names = [reg_1, reg_2, reg_3]\n",
    "number = 0\n",
    "for i in names:\n",
    "    number += 1\n",
    "    print('РЕГИОН ',number, '\\n', i.head(), '\\n')\n",
    "    print(i.info())\n",
    "    print(i.describe())\n",
    "    print('Уникальность идентификаторов месторождений: ', i['id'].nunique())\n",
    "    print('Наличие дубликатов: ', i.duplicated().sum(), '\\n\\n')"
   ]
  },
  {
   "cell_type": "markdown",
   "metadata": {},
   "source": [
    "Датасеты имеют по 5 столбцов и 10000 строк. Имеется столбец идентификатор месторождения, три столбца признака:  *'f0, f1, f2'* и целевой признак *'product'*, который показывает объем запасов месторождения в тысячах баррелей. Целевой признак - количественный, поэтому в данном проекте будет решаться задача регрессии. Пропусков в данных нет, признаки - численные. Полных дубликатов строк в данных нет. Небольшое количество идентификаторов месторождений повторяется. Посмотрим на строки с повторяющимися идентификаторами."
   ]
  },
  {
   "cell_type": "code",
   "execution_count": 4,
   "metadata": {},
   "outputs": [
    {
     "name": "stdout",
     "output_type": "stream",
     "text": [
      "          id        f0        f1         f2     product\n",
      "66136  74z30  1.084962 -0.312358   6.990771  127.643327\n",
      "64022  74z30  0.741456  0.459229   5.153109  140.771492\n",
      "51970  A5aEY -0.180335  0.935548  -2.094773   33.020205\n",
      "3389   A5aEY -0.039949  0.156872   0.209861   89.249364\n",
      "69163  AGS9W -0.933795  0.116194  -3.655896   19.230453\n",
      "42529  AGS9W  1.454747 -0.479651   0.683380  126.370504\n",
      "931    HZww2  0.755284  0.368511   1.863211   30.681774\n",
      "7530   HZww2  1.061194 -0.373969  10.430210  158.828695\n",
      "63593  QcMuo  0.635635 -0.473422   0.862670   64.578675\n",
      "1949   QcMuo  0.506563 -0.323775  -2.215583   75.496502\n",
      "75715  Tdehs  0.112079  0.430296   3.218993   60.964018\n",
      "21426  Tdehs  0.829407  0.298807  -0.049563   96.035308\n",
      "92341  TtcGQ  0.110711  1.022689   0.911381  101.318008\n",
      "60140  TtcGQ  0.569276 -0.104876   6.440215   85.350186\n",
      "89582  bsk9y  0.398908 -0.400253  10.122376  163.433078\n",
      "97785  bsk9y  0.378429  0.005837   0.160827  160.637302\n",
      "41724  bxg6G -0.823752  0.546319   3.630479   93.007798\n",
      "1364   bxg6G  0.411645  0.856830  -3.653440   73.604260\n",
      "16633  fiKDv  0.157341  1.028359   5.585586   95.817889\n",
      "90815  fiKDv  0.049883  0.841313   6.394613  137.346586 \n",
      "\n",
      "          id         f0         f1        f2     product\n",
      "5849   5ltQ6  -3.435401 -12.296043  1.999796   57.085625\n",
      "84461  5ltQ6  18.213839   2.191999  3.993869  107.813044\n",
      "1305   LHZR0  11.170835  -1.945066  3.002872   80.859783\n",
      "41906  LHZR0  -8.989672  -4.286607  2.009139   57.085625\n",
      "2721   bfPNe  -9.494442  -5.463692  4.006042  110.992147\n",
      "82178  bfPNe  -6.202799  -4.820045  2.995107   84.038886\n",
      "47591  wt4Uk  -9.091098  -8.109279 -0.002314    3.179103\n",
      "82873  wt4Uk  10.259972  -9.376355  4.994297  134.766305 \n",
      "\n",
      "          id        f0        f1        f2     product\n",
      "45404  KUPhW  0.231846 -1.698941  4.990775   11.716299\n",
      "55967  KUPhW  1.211150  3.176408  5.543540  132.831802\n",
      "11449  VF7Jo  2.122656 -0.858275  5.746001  181.716817\n",
      "49564  VF7Jo -0.883115  0.560537  0.723601  136.233420\n",
      "44378  Vcm5J -1.229484 -2.439204  1.222909  137.968290\n",
      "95090  Vcm5J  2.587702  1.986875  2.482245   92.327572\n",
      "28039  xCHr8  1.633027  0.368135 -2.378367    6.120525\n",
      "43233  xCHr8 -0.847066  2.101796  5.597130  184.388641 \n",
      "\n"
     ]
    }
   ],
   "source": [
    "for i in names:    \n",
    "    print(i[i['id'].duplicated(keep=False)].sort_values(by='id'),'\\n')"
   ]
  },
  {
   "cell_type": "markdown",
   "metadata": {},
   "source": [
    "Проанализировав данную информацию, можно предположить, что дубликаты идентификаторов месторождений возникли по причине обновления информации о них, либо это просто ошибки в данных. В любом случае, этих дубликатов не так много и разные численные признаки дубликатов месторождений соответствуют разным показателям объемов запасов, поэтому решено оставить эти строки. Данные готовы к обучению моделей."
   ]
  },
  {
   "cell_type": "markdown",
   "metadata": {},
   "source": [
    "------"
   ]
  },
  {
   "cell_type": "markdown",
   "metadata": {},
   "source": [
    "## 2. Обучение и проверка модели"
   ]
  },
  {
   "cell_type": "markdown",
   "metadata": {},
   "source": [
    "По условию задачи будем использовать модель линейной регрессии."
   ]
  },
  {
   "cell_type": "code",
   "execution_count": 5,
   "metadata": {},
   "outputs": [
    {
     "name": "stdout",
     "output_type": "stream",
     "text": [
      "РЕГИОН  1\n",
      "Средний запас сырья: 92.59\n",
      "R2 = 0.28\n",
      "MAE = 30.92\n",
      "RMSE = 37.58 \n",
      "\n",
      "РЕГИОН  2\n",
      "Средний запас сырья: 68.73\n",
      "R2 = 1.00\n",
      "MAE = 0.72\n",
      "RMSE = 0.89 \n",
      "\n",
      "РЕГИОН  3\n",
      "Средний запас сырья: 94.97\n",
      "R2 = 0.21\n",
      "MAE = 32.79\n",
      "RMSE = 40.03 \n",
      "\n"
     ]
    }
   ],
   "source": [
    "result = [] # создаем пустой список для сохранения результата\n",
    "number = 0 \n",
    "\n",
    "# Для автоматизации операций создаем цикл\n",
    "for i in names:\n",
    "    # сохраним признаки и целевой признак в переменных\n",
    "    target = i['product']\n",
    "    features = i.drop(['product', 'id'], axis=1)\n",
    "    \n",
    "    # разделим выборки на тренировочную и валидационную в соотношении 75:25\n",
    "    features_train, features_valid, target_train, target_valid = train_test_split(\n",
    "    features, target, test_size=0.25, random_state=12345)\n",
    "    \n",
    "    # построим модель линейной регрессии и получим предсказания\n",
    "    model = LinearRegression()\n",
    "    model.fit(features_train, target_train)\n",
    "    predicted_valid = model.predict(features_valid)\n",
    "    \n",
    "    # сохраним предсказания и правильные ответы в перменную result\n",
    "    result.append(predicted_valid)\n",
    "    result.append(target_valid)\n",
    "    \n",
    "    # выведем на экран номер региона, средний запас сырья, метрики R2, MAE и RMSE\n",
    "    mse = mean_squared_error(target_valid, predicted_valid)\n",
    "    number += 1\n",
    "    print('РЕГИОН ', number)\n",
    "    print('Средний запас сырья: {:.2f}'.format(predicted_valid.mean()))\n",
    "    print(\"R2 = {:.2f}\".format(r2_score(target_valid, predicted_valid)))\n",
    "    print('MAE = {:.2f}'.format(mean_absolute_error(target_valid, predicted_valid)))\n",
    "    print('RMSE = {:.2f}'.format(mse**0.5), '\\n')"
   ]
  },
  {
   "cell_type": "markdown",
   "metadata": {},
   "source": [
    "* Результаты предсказаний и метрики получились интересные. Результаты предсказаний моделей в первом и третьем регионах получились похожими (метрика RMSE около 40). Во втором регионе модель линейная регрессия работает \"идеально\" (R2 = 1, RMSE = 0.89), но средний запас сырья заметно меньше, чем в остальных регионах."
   ]
  },
  {
   "cell_type": "markdown",
   "metadata": {},
   "source": [
    "Сохраним результаты предсказаний и правильные ответы моделей в виде таблицы, для этого преобразуем `result` в датафрейм и проименуем названия столбцов."
   ]
  },
  {
   "cell_type": "code",
   "execution_count": 6,
   "metadata": {},
   "outputs": [],
   "source": [
    "result = pd.DataFrame(data=result).T"
   ]
  },
  {
   "cell_type": "code",
   "execution_count": 7,
   "metadata": {},
   "outputs": [],
   "source": [
    "result.columns=['pred_reg_1', 'target_reg_1', 'pred_reg_2', 'target_reg_2', 'pred_reg_3', 'target_reg_3']"
   ]
  },
  {
   "cell_type": "markdown",
   "metadata": {},
   "source": [
    "Посмотрим, что получилось."
   ]
  },
  {
   "cell_type": "code",
   "execution_count": 8,
   "metadata": {},
   "outputs": [
    {
     "data": {
      "text/html": [
       "<div>\n",
       "<style scoped>\n",
       "    .dataframe tbody tr th:only-of-type {\n",
       "        vertical-align: middle;\n",
       "    }\n",
       "\n",
       "    .dataframe tbody tr th {\n",
       "        vertical-align: top;\n",
       "    }\n",
       "\n",
       "    .dataframe thead th {\n",
       "        text-align: right;\n",
       "    }\n",
       "</style>\n",
       "<table border=\"1\" class=\"dataframe\">\n",
       "  <thead>\n",
       "    <tr style=\"text-align: right;\">\n",
       "      <th></th>\n",
       "      <th>pred_reg_1</th>\n",
       "      <th>target_reg_1</th>\n",
       "      <th>pred_reg_2</th>\n",
       "      <th>target_reg_2</th>\n",
       "      <th>pred_reg_3</th>\n",
       "      <th>target_reg_3</th>\n",
       "    </tr>\n",
       "  </thead>\n",
       "  <tbody>\n",
       "    <tr>\n",
       "      <td>0</td>\n",
       "      <td>95.894952</td>\n",
       "      <td>10.038645</td>\n",
       "      <td>82.663314</td>\n",
       "      <td>80.859783</td>\n",
       "      <td>93.599633</td>\n",
       "      <td>61.212375</td>\n",
       "    </tr>\n",
       "    <tr>\n",
       "      <td>1</td>\n",
       "      <td>77.572583</td>\n",
       "      <td>114.551489</td>\n",
       "      <td>54.431786</td>\n",
       "      <td>53.906522</td>\n",
       "      <td>75.105159</td>\n",
       "      <td>41.850118</td>\n",
       "    </tr>\n",
       "    <tr>\n",
       "      <td>2</td>\n",
       "      <td>77.892640</td>\n",
       "      <td>132.603635</td>\n",
       "      <td>29.748760</td>\n",
       "      <td>30.132364</td>\n",
       "      <td>90.066809</td>\n",
       "      <td>57.776581</td>\n",
       "    </tr>\n",
       "    <tr>\n",
       "      <td>3</td>\n",
       "      <td>90.175134</td>\n",
       "      <td>169.072125</td>\n",
       "      <td>53.552133</td>\n",
       "      <td>53.906522</td>\n",
       "      <td>105.162375</td>\n",
       "      <td>100.053761</td>\n",
       "    </tr>\n",
       "    <tr>\n",
       "      <td>4</td>\n",
       "      <td>70.510088</td>\n",
       "      <td>122.325180</td>\n",
       "      <td>1.243856</td>\n",
       "      <td>0.000000</td>\n",
       "      <td>115.303310</td>\n",
       "      <td>109.897122</td>\n",
       "    </tr>\n",
       "    <tr>\n",
       "      <td>...</td>\n",
       "      <td>...</td>\n",
       "      <td>...</td>\n",
       "      <td>...</td>\n",
       "      <td>...</td>\n",
       "      <td>...</td>\n",
       "      <td>...</td>\n",
       "    </tr>\n",
       "    <tr>\n",
       "      <td>24995</td>\n",
       "      <td>103.037104</td>\n",
       "      <td>170.116726</td>\n",
       "      <td>136.869211</td>\n",
       "      <td>137.945408</td>\n",
       "      <td>78.765887</td>\n",
       "      <td>28.492402</td>\n",
       "    </tr>\n",
       "    <tr>\n",
       "      <td>24996</td>\n",
       "      <td>85.403255</td>\n",
       "      <td>93.632175</td>\n",
       "      <td>110.693465</td>\n",
       "      <td>110.992147</td>\n",
       "      <td>95.603394</td>\n",
       "      <td>21.431303</td>\n",
       "    </tr>\n",
       "    <tr>\n",
       "      <td>24997</td>\n",
       "      <td>61.509833</td>\n",
       "      <td>127.352259</td>\n",
       "      <td>137.879341</td>\n",
       "      <td>137.945408</td>\n",
       "      <td>99.407281</td>\n",
       "      <td>125.487229</td>\n",
       "    </tr>\n",
       "    <tr>\n",
       "      <td>24998</td>\n",
       "      <td>118.180397</td>\n",
       "      <td>99.782700</td>\n",
       "      <td>83.761966</td>\n",
       "      <td>84.038886</td>\n",
       "      <td>77.779912</td>\n",
       "      <td>99.422903</td>\n",
       "    </tr>\n",
       "    <tr>\n",
       "      <td>24999</td>\n",
       "      <td>118.169392</td>\n",
       "      <td>177.821022</td>\n",
       "      <td>53.958466</td>\n",
       "      <td>53.906522</td>\n",
       "      <td>129.032417</td>\n",
       "      <td>127.445075</td>\n",
       "    </tr>\n",
       "  </tbody>\n",
       "</table>\n",
       "<p>25000 rows × 6 columns</p>\n",
       "</div>"
      ],
      "text/plain": [
       "       pred_reg_1  target_reg_1  pred_reg_2  target_reg_2  pred_reg_3  \\\n",
       "0       95.894952     10.038645   82.663314     80.859783   93.599633   \n",
       "1       77.572583    114.551489   54.431786     53.906522   75.105159   \n",
       "2       77.892640    132.603635   29.748760     30.132364   90.066809   \n",
       "3       90.175134    169.072125   53.552133     53.906522  105.162375   \n",
       "4       70.510088    122.325180    1.243856      0.000000  115.303310   \n",
       "...           ...           ...         ...           ...         ...   \n",
       "24995  103.037104    170.116726  136.869211    137.945408   78.765887   \n",
       "24996   85.403255     93.632175  110.693465    110.992147   95.603394   \n",
       "24997   61.509833    127.352259  137.879341    137.945408   99.407281   \n",
       "24998  118.180397     99.782700   83.761966     84.038886   77.779912   \n",
       "24999  118.169392    177.821022   53.958466     53.906522  129.032417   \n",
       "\n",
       "       target_reg_3  \n",
       "0         61.212375  \n",
       "1         41.850118  \n",
       "2         57.776581  \n",
       "3        100.053761  \n",
       "4        109.897122  \n",
       "...             ...  \n",
       "24995     28.492402  \n",
       "24996     21.431303  \n",
       "24997    125.487229  \n",
       "24998     99.422903  \n",
       "24999    127.445075  \n",
       "\n",
       "[25000 rows x 6 columns]"
      ]
     },
     "execution_count": 8,
     "metadata": {},
     "output_type": "execute_result"
    }
   ],
   "source": [
    "result"
   ]
  },
  {
   "cell_type": "markdown",
   "metadata": {},
   "source": [
    "Для того, чтобы \"понять\", почему получились такие предсказания моделей, посмотрим на распределение целевых признаков у регионов. Построим гистограммы."
   ]
  },
  {
   "cell_type": "code",
   "execution_count": 9,
   "metadata": {
    "scrolled": false
   },
   "outputs": [
    {
     "data": {
      "image/png": "[encoded data removed]",
      "text/plain": [
       "<Figure size 648x648 with 1 Axes>"
      ]
     },
     "metadata": {
      "needs_background": "light"
     },
     "output_type": "display_data"
    }
   ],
   "source": [
    "count = 0\n",
    "for i in names:\n",
    "    count +=1\n",
    "    i['product'].plot(kind='hist', alpha=0.5, label='Регион '+str(count), grid=True, figsize=(9,9))\n",
    "    plt.legend()\n",
    "plt.xlabel('Запас сырья (тыс. баррелей)');"
   ]
  },
  {
   "cell_type": "markdown",
   "metadata": {},
   "source": [
    "* Из гистограмм видно, что распределение значений в 1 и 3 регионах напоминает нормальное. Во втором регионе распределение значений довольно странное, как бы искусственное. Имеется два строгих максимума по краям графика, а между ними значения распределены равномерно. \n",
    "\n",
    "Отобразим графически взаимовлияние значений столбцов таблицы `reg_2`."
   ]
  },
  {
   "cell_type": "code",
   "execution_count": 10,
   "metadata": {},
   "outputs": [
    {
     "data": {
      "image/png": "[encoded data removed]",
      "text/plain": [
       "<Figure size 720x720 with 16 Axes>"
      ]
     },
     "metadata": {
      "needs_background": "light"
     },
     "output_type": "display_data"
    }
   ],
   "source": [
    "pd.plotting.scatter_matrix(reg_2, figsize=(10, 10));"
   ]
  },
  {
   "cell_type": "markdown",
   "metadata": {},
   "source": [
    "* Судя по графикам влияния признаков на целевой признак, наблюдается четкая линейная зависимость целевого признака от признаков, именно поэтому линейная регрессия в данном случае работает так хорошо. Скорее всего эти данные имеют искусственное происхождение и недостоверны, либо часть данных была утеряна.\n",
    "\n",
    "------"
   ]
  },
  {
   "cell_type": "markdown",
   "metadata": {},
   "source": [
    "## 3. Подготовка к расчёту прибыли"
   ]
  },
  {
   "cell_type": "markdown",
   "metadata": {},
   "source": [
    "Сохраним в переменных ключевые значения для расчета прибыли"
   ]
  },
  {
   "cell_type": "code",
   "execution_count": 11,
   "metadata": {},
   "outputs": [],
   "source": [
    "points = 500             # число точек\n",
    "budget = 10000000000     # бюджет на разработку месторождений (в рублях)\n",
    "cost = 50000000          # стоимость бурения одной скважины (в рублях)\n",
    "barrel = 4500            # прибыль с одного барреля сырья (в рублях)"
   ]
  },
  {
   "cell_type": "markdown",
   "metadata": {},
   "source": [
    "Посчитаем минимальный средний объём сырья в месторождениях региона, достаточный для его разработки."
   ]
  },
  {
   "cell_type": "code",
   "execution_count": 12,
   "metadata": {},
   "outputs": [],
   "source": [
    "min_volume = budget / barrel"
   ]
  },
  {
   "cell_type": "markdown",
   "metadata": {},
   "source": [
    "Выведем результат на экран."
   ]
  },
  {
   "cell_type": "code",
   "execution_count": 13,
   "metadata": {},
   "outputs": [
    {
     "name": "stdout",
     "output_type": "stream",
     "text": [
      "2222222 барреля\n"
     ]
    }
   ],
   "source": [
    "print('{:.0f} барреля'.format(min_volume))"
   ]
  },
  {
   "cell_type": "markdown",
   "metadata": {},
   "source": [
    "* Для того, чтобы разработка новых месторождений в регионе окупалась, запасы нефти в нем должны быть не меньше 2,22 млн баррелей. Это будет являться условием при проверке регионов на риск убытков."
   ]
  },
  {
   "cell_type": "markdown",
   "metadata": {},
   "source": [
    "Напишем функцию для расчёта прибыли по набору отобранных месторождений и предсказаний модели."
   ]
  },
  {
   "cell_type": "code",
   "execution_count": 14,
   "metadata": {},
   "outputs": [],
   "source": [
    "def revenue(probabilities, count): # на вход функция получает предсказания и количество пробуренных скважин\n",
    "    # сортируем значения по убыванию, чтобы взять для подсчета прибыли месторождения с максимальными запасами сырья\n",
    "    probs_sorted = probabilities.sort_values(ascending=False)\n",
    "    # выбираем месторождения исходя из нужного количества\n",
    "    selected = probs_sorted[:count]\n",
    "    return barrel * selected.sum() # возвращаем прибыль"
   ]
  },
  {
   "cell_type": "markdown",
   "metadata": {},
   "source": [
    "Все готово для расчета прибыли.\n",
    "\n",
    "------"
   ]
  },
  {
   "cell_type": "markdown",
   "metadata": {},
   "source": [
    "## 4. Расчёт прибыли и рисков "
   ]
  },
  {
   "cell_type": "markdown",
   "metadata": {},
   "source": [
    "Посчитаем прибыль для каждого региона, применим технику Bootstrap с 1000 выборок, чтобы найти распределение прибыли."
   ]
  },
  {
   "cell_type": "code",
   "execution_count": 15,
   "metadata": {},
   "outputs": [],
   "source": [
    "state = np.random.RandomState(12345) # обеспечим \"случайность\" гиперпараметру random_state при создании выборок"
   ]
  },
  {
   "cell_type": "code",
   "execution_count": 16,
   "metadata": {
    "scrolled": false
   },
   "outputs": [
    {
     "name": "stdout",
     "output_type": "stream",
     "text": [
      "Регион 1\n",
      "Средняя прибыль реальных значений: 123577156593 рублей\n",
      "Средняя прибыль предсказаний: 103580260542 рублей\n",
      "95%-й доверительный интервал: 101401373360 - 105988772714 рублей\n",
      "Требуемый минимальный средний объём сырья: 2222222 баррелей\n",
      "Средний объем сырья месторождения, соответствующий нижнему\n",
      "значению доверительного интервала (2.5 %): 22533639 баррелей\n",
      "\n",
      "Регион 2\n",
      "Средняя прибыль реальных значений: 104625220366 рублей\n",
      "Средняя прибыль предсказаний: 104591672842 рублей\n",
      "95%-й доверительный интервал: 100760478225 - 108616321298 рублей\n",
      "Требуемый минимальный средний объём сырья: 2222222 баррелей\n",
      "Средний объем сырья месторождения, соответствующий нижнему\n",
      "значению доверительного интервала (2.5 %): 22391217 баррелей\n",
      "\n",
      "Регион 3\n",
      "Средняя прибыль реальных значений: 126265892146 рублей\n",
      "Средняя прибыль предсказаний: 102717422041 рублей\n",
      "95%-й доверительный интервал: 100911157075 - 104522088825 рублей\n",
      "Требуемый минимальный средний объём сырья: 2222222 баррелей\n",
      "Средний объем сырья месторождения, соответствующий нижнему\n",
      "значению доверительного интервала (2.5 %): 22424702 баррелей\n",
      "\n"
     ]
    }
   ],
   "source": [
    "for n in range(1, 4, 1): # создаем цикл от 1 до 3\n",
    "    # сохраняем нужные значения столбцов таблицы result в переменные\n",
    "    target = result['target_reg_' + str(n)] * 1000 # умножаем на 1000, так как значения в таблице в тыс. баррелей\n",
    "    probabilities = result['pred_reg_' + str(n)] * 1000\n",
    "    \n",
    "    # сюда будут записываться результаты расчета прибыли предсказанных и реальных значений\n",
    "    values_probs = []\n",
    "    values_target = []\n",
    "    \n",
    "    # создаем новый цикл для Bootstrap\n",
    "    for i in range(1000):\n",
    "        # извлекаем из выборки probabilities 500 случайных значений\n",
    "        probs_subsample = probabilities.sample(n=points, replace=True, random_state=state)\n",
    "        \n",
    "        # выбираем из выборки target значения по индексам выбранных 500 случайных значений\n",
    "        target_subsample = target[probs_subsample.index]\n",
    "        \n",
    "        # считаем прибыль по предсказаниям и соответствующим им реальным значениям\n",
    "        # при бюджете 10 млрд рублей можно пробурить 200 скважин\n",
    "        res_probs = revenue(probs_subsample, int(budget / cost))\n",
    "        res_target = revenue(target_subsample, int(budget / cost))\n",
    "        \n",
    "        # записываем полученную прибыль в переменные values_probs и values_target\n",
    "        values_probs.append(res_probs)\n",
    "        values_target.append(res_target)\n",
    "    \n",
    "    # создаем из списков values_probs и values_target объекты Series\n",
    "    values_probs = pd.Series(values_probs)\n",
    "    values_target = pd.Series(values_target)\n",
    "    \n",
    "    # находим нижнюю и верхнюю границы 95%-го доверительного интервала\n",
    "    lower = values_probs.quantile(0.025)\n",
    "    upper = values_probs.quantile(0.975)\n",
    "    \n",
    "    # считаем средние значения прибыли предсказаний и реальных значений\n",
    "    mean_probs = values_probs.mean()\n",
    "    mean_target = values_target.mean()\n",
    "    \n",
    "    # выводим на экран номер региона, среднюю прибыль предсказаний и реальных значений, доверительный интервал,\n",
    "    # для оценки риска убытков выведем на экран минимальный объем сырья и объем сырья, соответствующий нижней границе\n",
    "    # доверительного интервала - 2.5%\n",
    "    print('Регион', n)\n",
    "    print('Средняя прибыль реальных значений: {:.0f} рублей'.format(mean_target))\n",
    "    print('Средняя прибыль предсказаний: {:.0f} рублей'.format(mean_probs))\n",
    "    print('95%-й доверительный интервал: {:.0f} - {:.0f} рублей'.format(lower, upper))\n",
    "    print('Требуемый минимальный средний объём сырья: {:.0f} баррелей'.format(min_volume))\n",
    "    print('Средний объем сырья месторождения, соответствующий нижнему\\nзначению доверительного интервала прибыли (2.5 %): {:.0f} баррелей\\n'\n",
    "          .format(lower / barrel))"
   ]
  },
  {
   "cell_type": "markdown",
   "metadata": {},
   "source": [
    "------"
   ]
  },
  {
   "cell_type": "markdown",
   "metadata": {},
   "source": [
    "## Выводы"
   ]
  },
  {
   "cell_type": "markdown",
   "metadata": {},
   "source": [
    "Для удобного сравнения полученных результатов сведем их в таблицу."
   ]
  },
  {
   "cell_type": "markdown",
   "metadata": {},
   "source": [
    "Характеристика / Регион | Регион 1 | Регион 2 | Регион 3 |\n",
    ":--- | :---: | :---: | :---: |\n",
    " | | | |\n",
    "Средний запас сырья в месторождении (тыс. баррелей) | 92.59 | 68.73 | 94.97 |\n",
    "Метрика RMSE | 37.58 | 0.89 | 40.03 |\n",
    " | | | |\n",
    "Средняя прибыль реальных значений (млрд руб)| 123.6 | 104.6 | 126.3 |\n",
    "Средняя прибыль предсказаний (млрд руб)| 103.6 | 104.6 | 102.7 |\n",
    "95%-й доверительный интервал (млрд руб)| 101.4 - 106.0 | 100.8 - 108.6 | 100.9 - 104.5 |\n",
    " | | | |\n",
    "Минимальный средний объём сырья (млн баррелей) | | 2.22 | |\n",
    "Средний объем сырья месторождения, соответствующий нижнему\n",
    "значению доверительного интервала прибыли 2.5 % (млн баррелей) | 22.5 | 22.4 | 22.4 |\n"
   ]
  },
  {
   "cell_type": "markdown",
   "metadata": {},
   "source": [
    "* Целью проекта является выбор самого выгодного региона для разработки новых месторождений нефти. Прежде чем сравнивать полученные результаты, исключаем из выбора \"Регион 2\", по причинам, описанным выше, хотя и средняя прибыль у него получилась самая большая. Из оставшихся регионов, для разработки выбираем \"Регион 1\", так как средняя прибыль у него выше и  95% квантиль доверительного интервала больше, чем у \"Региона 2\". Также результаты предсказаний у модели первого региона получились немного точнее, судя по метрике RMSE.\n",
    "* Насчет риска убытков. В сегменте \"Хватит ли запасов сырья для получения прибыли?\" риски убытков отсутствуют, так как средний объем сырья месторождения, соответствующий нижнему значению доверительного интервала прибыли 2.5 % превышает минимальный средний объем сырья больше, чем в 10 раз.\n",
    "* Также следует добавить, что прибыль от разработки месторождений возможно будет еще больше, чем предсказывает модель, так как средняя прибыль реальных значений, которые соответствуют предсказаниям, получилась на 20 млрд. рублей больше.\n",
    "\n",
    "------"
   ]
  }
 ],
 "metadata": {
  "kernelspec": {
   "display_name": "Python 3",
   "language": "python",
   "name": "python3"
  },
  "language_info": {
   "codemirror_mode": {
    "name": "ipython",
    "version": 3
   },
   "file_extension": ".py",
   "mimetype": "text/x-python",
   "name": "python",
   "nbconvert_exporter": "python",
   "pygments_lexer": "ipython3",
   "version": "3.7.6"
  }
 },
 "nbformat": 4,
 "nbformat_minor": 2
}
