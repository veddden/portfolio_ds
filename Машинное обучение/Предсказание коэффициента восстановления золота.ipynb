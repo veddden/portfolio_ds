{
 "cells": [
  {
   "cell_type": "markdown",
   "metadata": {},
   "source": [
    "# Проект. Предсказание коэффициента восстановления золота"
   ]
  },
  {
   "cell_type": "markdown",
   "metadata": {},
   "source": [
    "## Описание проекта"
   ]
  },
  {
   "cell_type": "markdown",
   "metadata": {},
   "source": [
    "Необходимо подготовить прототип модели машинного обучения для компании «Цифра». Компания разрабатывает решения для эффективной работы промышленных предприятий.\n",
    "\n",
    "Модель должна предсказать коэффициент восстановления золота из золотосодержащей руды. Для проекта предоставлены данные с параметрами добычи и очистки. Модель поможет оптимизировать производство, чтобы не запускать предприятие с убыточными характеристиками.\n",
    "\n",
    "## Цели проекта\n",
    "\n",
    "* Подготовить данные;\n",
    "* Провести исследовательский анализ данных;\n",
    "* Построить и обучить модель.\n",
    "\n",
    "------"
   ]
  },
  {
   "cell_type": "markdown",
   "metadata": {},
   "source": [
    "## 1. Подготовка данных"
   ]
  },
  {
   "cell_type": "markdown",
   "metadata": {},
   "source": [
    "### 1.1 Общая информация о данных"
   ]
  },
  {
   "cell_type": "markdown",
   "metadata": {},
   "source": [
    "Импортируем необходимые модули и библиотеки."
   ]
  },
  {
   "cell_type": "code",
   "execution_count": 7,
   "metadata": {},
   "outputs": [],
   "source": [
    "import pandas as pd\n",
    "import numpy as np\n",
    "from sklearn.metrics import mean_absolute_error\n",
    "from sklearn.linear_model import LinearRegression\n",
    "from sklearn.preprocessing import StandardScaler\n",
    "import matplotlib.pyplot as plt\n",
    "from sklearn import linear_model\n",
    "from sklearn.linear_model import LinearRegression\n",
    "from sklearn.model_selection import cross_val_predict\n",
    "from sklearn.metrics import make_scorer\n",
    "from sklearn.model_selection import cross_val_score\n",
    "from sklearn.ensemble import RandomForestRegressor\n",
    "from sklearn.preprocessing import Normalizer"
   ]
  },
  {
   "cell_type": "markdown",
   "metadata": {},
   "source": [
    "Сохраним обучающую выборку, тестовую выборку и исходные данные в переменных."
   ]
  },
  {
   "cell_type": "code",
   "execution_count": 8,
   "metadata": {},
   "outputs": [],
   "source": [
    "data = pd.read_csv('./gold_recovery_train.csv')\n",
    "data_test = pd.read_csv('./gold_recovery_test.csv')\n",
    "data_full = pd.read_csv('./gold_recovery_full.csv')"
   ]
  },
  {
   "cell_type": "markdown",
   "metadata": {},
   "source": [
    "Изучим информацию о данных."
   ]
  },
  {
   "cell_type": "code",
   "execution_count": 9,
   "metadata": {
    "scrolled": true
   },
   "outputs": [
    {
     "data": {
      "text/html": [
       "<div>\n",
       "<style scoped>\n",
       "    .dataframe tbody tr th:only-of-type {\n",
       "        vertical-align: middle;\n",
       "    }\n",
       "\n",
       "    .dataframe tbody tr th {\n",
       "        vertical-align: top;\n",
       "    }\n",
       "\n",
       "    .dataframe thead th {\n",
       "        text-align: right;\n",
       "    }\n",
       "</style>\n",
       "<table border=\"1\" class=\"dataframe\">\n",
       "  <thead>\n",
       "    <tr style=\"text-align: right;\">\n",
       "      <th></th>\n",
       "      <th>0</th>\n",
       "      <th>1</th>\n",
       "      <th>2</th>\n",
       "      <th>3</th>\n",
       "      <th>4</th>\n",
       "    </tr>\n",
       "  </thead>\n",
       "  <tbody>\n",
       "    <tr>\n",
       "      <th>date</th>\n",
       "      <td>2016-01-15 00:00:00</td>\n",
       "      <td>2016-01-15 01:00:00</td>\n",
       "      <td>2016-01-15 02:00:00</td>\n",
       "      <td>2016-01-15 03:00:00</td>\n",
       "      <td>2016-01-15 04:00:00</td>\n",
       "    </tr>\n",
       "    <tr>\n",
       "      <th>final.output.concentrate_ag</th>\n",
       "      <td>6.0554</td>\n",
       "      <td>6.02937</td>\n",
       "      <td>6.05593</td>\n",
       "      <td>6.04798</td>\n",
       "      <td>6.1486</td>\n",
       "    </tr>\n",
       "    <tr>\n",
       "      <th>final.output.concentrate_pb</th>\n",
       "      <td>9.88965</td>\n",
       "      <td>9.96894</td>\n",
       "      <td>10.214</td>\n",
       "      <td>9.97702</td>\n",
       "      <td>10.1425</td>\n",
       "    </tr>\n",
       "    <tr>\n",
       "      <th>final.output.concentrate_sol</th>\n",
       "      <td>5.50732</td>\n",
       "      <td>5.25778</td>\n",
       "      <td>5.38376</td>\n",
       "      <td>4.85863</td>\n",
       "      <td>4.93942</td>\n",
       "    </tr>\n",
       "    <tr>\n",
       "      <th>final.output.concentrate_au</th>\n",
       "      <td>42.192</td>\n",
       "      <td>42.7016</td>\n",
       "      <td>42.6575</td>\n",
       "      <td>42.6898</td>\n",
       "      <td>42.7741</td>\n",
       "    </tr>\n",
       "    <tr>\n",
       "      <th>...</th>\n",
       "      <td>...</td>\n",
       "      <td>...</td>\n",
       "      <td>...</td>\n",
       "      <td>...</td>\n",
       "      <td>...</td>\n",
       "    </tr>\n",
       "    <tr>\n",
       "      <th>secondary_cleaner.state.floatbank5_a_level</th>\n",
       "      <td>-498.31</td>\n",
       "      <td>-500.17</td>\n",
       "      <td>-500.129</td>\n",
       "      <td>-499.202</td>\n",
       "      <td>-501.687</td>\n",
       "    </tr>\n",
       "    <tr>\n",
       "      <th>secondary_cleaner.state.floatbank5_b_air</th>\n",
       "      <td>8.07967</td>\n",
       "      <td>7.98476</td>\n",
       "      <td>8.01388</td>\n",
       "      <td>7.97732</td>\n",
       "      <td>7.89424</td>\n",
       "    </tr>\n",
       "    <tr>\n",
       "      <th>secondary_cleaner.state.floatbank5_b_level</th>\n",
       "      <td>-500.471</td>\n",
       "      <td>-500.582</td>\n",
       "      <td>-500.518</td>\n",
       "      <td>-500.256</td>\n",
       "      <td>-500.356</td>\n",
       "    </tr>\n",
       "    <tr>\n",
       "      <th>secondary_cleaner.state.floatbank6_a_air</th>\n",
       "      <td>14.1513</td>\n",
       "      <td>13.9984</td>\n",
       "      <td>14.0287</td>\n",
       "      <td>14.0056</td>\n",
       "      <td>13.9966</td>\n",
       "    </tr>\n",
       "    <tr>\n",
       "      <th>secondary_cleaner.state.floatbank6_a_level</th>\n",
       "      <td>-605.842</td>\n",
       "      <td>-599.787</td>\n",
       "      <td>-601.427</td>\n",
       "      <td>-599.996</td>\n",
       "      <td>-601.497</td>\n",
       "    </tr>\n",
       "  </tbody>\n",
       "</table>\n",
       "<p>87 rows × 5 columns</p>\n",
       "</div>"
      ],
      "text/plain": [
       "                                                              0  \\\n",
       "date                                        2016-01-15 00:00:00   \n",
       "final.output.concentrate_ag                              6.0554   \n",
       "final.output.concentrate_pb                             9.88965   \n",
       "final.output.concentrate_sol                            5.50732   \n",
       "final.output.concentrate_au                              42.192   \n",
       "...                                                         ...   \n",
       "secondary_cleaner.state.floatbank5_a_level              -498.31   \n",
       "secondary_cleaner.state.floatbank5_b_air                8.07967   \n",
       "secondary_cleaner.state.floatbank5_b_level             -500.471   \n",
       "secondary_cleaner.state.floatbank6_a_air                14.1513   \n",
       "secondary_cleaner.state.floatbank6_a_level             -605.842   \n",
       "\n",
       "                                                              1  \\\n",
       "date                                        2016-01-15 01:00:00   \n",
       "final.output.concentrate_ag                             6.02937   \n",
       "final.output.concentrate_pb                             9.96894   \n",
       "final.output.concentrate_sol                            5.25778   \n",
       "final.output.concentrate_au                             42.7016   \n",
       "...                                                         ...   \n",
       "secondary_cleaner.state.floatbank5_a_level              -500.17   \n",
       "secondary_cleaner.state.floatbank5_b_air                7.98476   \n",
       "secondary_cleaner.state.floatbank5_b_level             -500.582   \n",
       "secondary_cleaner.state.floatbank6_a_air                13.9984   \n",
       "secondary_cleaner.state.floatbank6_a_level             -599.787   \n",
       "\n",
       "                                                              2  \\\n",
       "date                                        2016-01-15 02:00:00   \n",
       "final.output.concentrate_ag                             6.05593   \n",
       "final.output.concentrate_pb                              10.214   \n",
       "final.output.concentrate_sol                            5.38376   \n",
       "final.output.concentrate_au                             42.6575   \n",
       "...                                                         ...   \n",
       "secondary_cleaner.state.floatbank5_a_level             -500.129   \n",
       "secondary_cleaner.state.floatbank5_b_air                8.01388   \n",
       "secondary_cleaner.state.floatbank5_b_level             -500.518   \n",
       "secondary_cleaner.state.floatbank6_a_air                14.0287   \n",
       "secondary_cleaner.state.floatbank6_a_level             -601.427   \n",
       "\n",
       "                                                              3  \\\n",
       "date                                        2016-01-15 03:00:00   \n",
       "final.output.concentrate_ag                             6.04798   \n",
       "final.output.concentrate_pb                             9.97702   \n",
       "final.output.concentrate_sol                            4.85863   \n",
       "final.output.concentrate_au                             42.6898   \n",
       "...                                                         ...   \n",
       "secondary_cleaner.state.floatbank5_a_level             -499.202   \n",
       "secondary_cleaner.state.floatbank5_b_air                7.97732   \n",
       "secondary_cleaner.state.floatbank5_b_level             -500.256   \n",
       "secondary_cleaner.state.floatbank6_a_air                14.0056   \n",
       "secondary_cleaner.state.floatbank6_a_level             -599.996   \n",
       "\n",
       "                                                              4  \n",
       "date                                        2016-01-15 04:00:00  \n",
       "final.output.concentrate_ag                              6.1486  \n",
       "final.output.concentrate_pb                             10.1425  \n",
       "final.output.concentrate_sol                            4.93942  \n",
       "final.output.concentrate_au                             42.7741  \n",
       "...                                                         ...  \n",
       "secondary_cleaner.state.floatbank5_a_level             -501.687  \n",
       "secondary_cleaner.state.floatbank5_b_air                7.89424  \n",
       "secondary_cleaner.state.floatbank5_b_level             -500.356  \n",
       "secondary_cleaner.state.floatbank6_a_air                13.9966  \n",
       "secondary_cleaner.state.floatbank6_a_level             -601.497  \n",
       "\n",
       "[87 rows x 5 columns]"
      ]
     },
     "execution_count": 9,
     "metadata": {},
     "output_type": "execute_result"
    }
   ],
   "source": [
    "data.head().T"
   ]
  },
  {
   "cell_type": "code",
   "execution_count": 10,
   "metadata": {
    "scrolled": true
   },
   "outputs": [
    {
     "data": {
      "text/html": [
       "<div>\n",
       "<style scoped>\n",
       "    .dataframe tbody tr th:only-of-type {\n",
       "        vertical-align: middle;\n",
       "    }\n",
       "\n",
       "    .dataframe tbody tr th {\n",
       "        vertical-align: top;\n",
       "    }\n",
       "\n",
       "    .dataframe thead th {\n",
       "        text-align: right;\n",
       "    }\n",
       "</style>\n",
       "<table border=\"1\" class=\"dataframe\">\n",
       "  <thead>\n",
       "    <tr style=\"text-align: right;\">\n",
       "      <th></th>\n",
       "      <th>0</th>\n",
       "      <th>1</th>\n",
       "      <th>2</th>\n",
       "      <th>3</th>\n",
       "      <th>4</th>\n",
       "    </tr>\n",
       "  </thead>\n",
       "  <tbody>\n",
       "    <tr>\n",
       "      <th>date</th>\n",
       "      <td>2016-01-15 00:00:00</td>\n",
       "      <td>2016-01-15 01:00:00</td>\n",
       "      <td>2016-01-15 02:00:00</td>\n",
       "      <td>2016-01-15 03:00:00</td>\n",
       "      <td>2016-01-15 04:00:00</td>\n",
       "    </tr>\n",
       "    <tr>\n",
       "      <th>final.output.concentrate_ag</th>\n",
       "      <td>6.0554</td>\n",
       "      <td>6.02937</td>\n",
       "      <td>6.05593</td>\n",
       "      <td>6.04798</td>\n",
       "      <td>6.1486</td>\n",
       "    </tr>\n",
       "    <tr>\n",
       "      <th>final.output.concentrate_pb</th>\n",
       "      <td>9.88965</td>\n",
       "      <td>9.96894</td>\n",
       "      <td>10.214</td>\n",
       "      <td>9.97702</td>\n",
       "      <td>10.1425</td>\n",
       "    </tr>\n",
       "    <tr>\n",
       "      <th>final.output.concentrate_sol</th>\n",
       "      <td>5.50732</td>\n",
       "      <td>5.25778</td>\n",
       "      <td>5.38376</td>\n",
       "      <td>4.85863</td>\n",
       "      <td>4.93942</td>\n",
       "    </tr>\n",
       "    <tr>\n",
       "      <th>final.output.concentrate_au</th>\n",
       "      <td>42.192</td>\n",
       "      <td>42.7016</td>\n",
       "      <td>42.6575</td>\n",
       "      <td>42.6898</td>\n",
       "      <td>42.7741</td>\n",
       "    </tr>\n",
       "    <tr>\n",
       "      <th>...</th>\n",
       "      <td>...</td>\n",
       "      <td>...</td>\n",
       "      <td>...</td>\n",
       "      <td>...</td>\n",
       "      <td>...</td>\n",
       "    </tr>\n",
       "    <tr>\n",
       "      <th>secondary_cleaner.state.floatbank5_a_level</th>\n",
       "      <td>-498.31</td>\n",
       "      <td>-500.17</td>\n",
       "      <td>-500.129</td>\n",
       "      <td>-499.202</td>\n",
       "      <td>-501.687</td>\n",
       "    </tr>\n",
       "    <tr>\n",
       "      <th>secondary_cleaner.state.floatbank5_b_air</th>\n",
       "      <td>8.07967</td>\n",
       "      <td>7.98476</td>\n",
       "      <td>8.01388</td>\n",
       "      <td>7.97732</td>\n",
       "      <td>7.89424</td>\n",
       "    </tr>\n",
       "    <tr>\n",
       "      <th>secondary_cleaner.state.floatbank5_b_level</th>\n",
       "      <td>-500.471</td>\n",
       "      <td>-500.582</td>\n",
       "      <td>-500.518</td>\n",
       "      <td>-500.256</td>\n",
       "      <td>-500.356</td>\n",
       "    </tr>\n",
       "    <tr>\n",
       "      <th>secondary_cleaner.state.floatbank6_a_air</th>\n",
       "      <td>14.1513</td>\n",
       "      <td>13.9984</td>\n",
       "      <td>14.0287</td>\n",
       "      <td>14.0056</td>\n",
       "      <td>13.9966</td>\n",
       "    </tr>\n",
       "    <tr>\n",
       "      <th>secondary_cleaner.state.floatbank6_a_level</th>\n",
       "      <td>-605.842</td>\n",
       "      <td>-599.787</td>\n",
       "      <td>-601.427</td>\n",
       "      <td>-599.996</td>\n",
       "      <td>-601.497</td>\n",
       "    </tr>\n",
       "  </tbody>\n",
       "</table>\n",
       "<p>87 rows × 5 columns</p>\n",
       "</div>"
      ],
      "text/plain": [
       "                                                              0  \\\n",
       "date                                        2016-01-15 00:00:00   \n",
       "final.output.concentrate_ag                              6.0554   \n",
       "final.output.concentrate_pb                             9.88965   \n",
       "final.output.concentrate_sol                            5.50732   \n",
       "final.output.concentrate_au                              42.192   \n",
       "...                                                         ...   \n",
       "secondary_cleaner.state.floatbank5_a_level              -498.31   \n",
       "secondary_cleaner.state.floatbank5_b_air                8.07967   \n",
       "secondary_cleaner.state.floatbank5_b_level             -500.471   \n",
       "secondary_cleaner.state.floatbank6_a_air                14.1513   \n",
       "secondary_cleaner.state.floatbank6_a_level             -605.842   \n",
       "\n",
       "                                                              1  \\\n",
       "date                                        2016-01-15 01:00:00   \n",
       "final.output.concentrate_ag                             6.02937   \n",
       "final.output.concentrate_pb                             9.96894   \n",
       "final.output.concentrate_sol                            5.25778   \n",
       "final.output.concentrate_au                             42.7016   \n",
       "...                                                         ...   \n",
       "secondary_cleaner.state.floatbank5_a_level              -500.17   \n",
       "secondary_cleaner.state.floatbank5_b_air                7.98476   \n",
       "secondary_cleaner.state.floatbank5_b_level             -500.582   \n",
       "secondary_cleaner.state.floatbank6_a_air                13.9984   \n",
       "secondary_cleaner.state.floatbank6_a_level             -599.787   \n",
       "\n",
       "                                                              2  \\\n",
       "date                                        2016-01-15 02:00:00   \n",
       "final.output.concentrate_ag                             6.05593   \n",
       "final.output.concentrate_pb                              10.214   \n",
       "final.output.concentrate_sol                            5.38376   \n",
       "final.output.concentrate_au                             42.6575   \n",
       "...                                                         ...   \n",
       "secondary_cleaner.state.floatbank5_a_level             -500.129   \n",
       "secondary_cleaner.state.floatbank5_b_air                8.01388   \n",
       "secondary_cleaner.state.floatbank5_b_level             -500.518   \n",
       "secondary_cleaner.state.floatbank6_a_air                14.0287   \n",
       "secondary_cleaner.state.floatbank6_a_level             -601.427   \n",
       "\n",
       "                                                              3  \\\n",
       "date                                        2016-01-15 03:00:00   \n",
       "final.output.concentrate_ag                             6.04798   \n",
       "final.output.concentrate_pb                             9.97702   \n",
       "final.output.concentrate_sol                            4.85863   \n",
       "final.output.concentrate_au                             42.6898   \n",
       "...                                                         ...   \n",
       "secondary_cleaner.state.floatbank5_a_level             -499.202   \n",
       "secondary_cleaner.state.floatbank5_b_air                7.97732   \n",
       "secondary_cleaner.state.floatbank5_b_level             -500.256   \n",
       "secondary_cleaner.state.floatbank6_a_air                14.0056   \n",
       "secondary_cleaner.state.floatbank6_a_level             -599.996   \n",
       "\n",
       "                                                              4  \n",
       "date                                        2016-01-15 04:00:00  \n",
       "final.output.concentrate_ag                              6.1486  \n",
       "final.output.concentrate_pb                             10.1425  \n",
       "final.output.concentrate_sol                            4.93942  \n",
       "final.output.concentrate_au                             42.7741  \n",
       "...                                                         ...  \n",
       "secondary_cleaner.state.floatbank5_a_level             -501.687  \n",
       "secondary_cleaner.state.floatbank5_b_air                7.89424  \n",
       "secondary_cleaner.state.floatbank5_b_level             -500.356  \n",
       "secondary_cleaner.state.floatbank6_a_air                13.9966  \n",
       "secondary_cleaner.state.floatbank6_a_level             -601.497  \n",
       "\n",
       "[87 rows x 5 columns]"
      ]
     },
     "execution_count": 10,
     "metadata": {},
     "output_type": "execute_result"
    }
   ],
   "source": [
    "data_full.head().T"
   ]
  },
  {
   "cell_type": "code",
   "execution_count": 11,
   "metadata": {
    "scrolled": true
   },
   "outputs": [
    {
     "data": {
      "text/html": [
       "<div>\n",
       "<style scoped>\n",
       "    .dataframe tbody tr th:only-of-type {\n",
       "        vertical-align: middle;\n",
       "    }\n",
       "\n",
       "    .dataframe tbody tr th {\n",
       "        vertical-align: top;\n",
       "    }\n",
       "\n",
       "    .dataframe thead th {\n",
       "        text-align: right;\n",
       "    }\n",
       "</style>\n",
       "<table border=\"1\" class=\"dataframe\">\n",
       "  <thead>\n",
       "    <tr style=\"text-align: right;\">\n",
       "      <th></th>\n",
       "      <th>0</th>\n",
       "      <th>1</th>\n",
       "      <th>2</th>\n",
       "      <th>3</th>\n",
       "      <th>4</th>\n",
       "    </tr>\n",
       "  </thead>\n",
       "  <tbody>\n",
       "    <tr>\n",
       "      <th>date</th>\n",
       "      <td>2016-09-01 00:59:59</td>\n",
       "      <td>2016-09-01 01:59:59</td>\n",
       "      <td>2016-09-01 02:59:59</td>\n",
       "      <td>2016-09-01 03:59:59</td>\n",
       "      <td>2016-09-01 04:59:59</td>\n",
       "    </tr>\n",
       "    <tr>\n",
       "      <th>primary_cleaner.input.sulfate</th>\n",
       "      <td>210.801</td>\n",
       "      <td>215.392</td>\n",
       "      <td>215.26</td>\n",
       "      <td>215.336</td>\n",
       "      <td>199.099</td>\n",
       "    </tr>\n",
       "    <tr>\n",
       "      <th>primary_cleaner.input.depressant</th>\n",
       "      <td>14.9931</td>\n",
       "      <td>14.9875</td>\n",
       "      <td>12.8849</td>\n",
       "      <td>12.0068</td>\n",
       "      <td>10.6825</td>\n",
       "    </tr>\n",
       "    <tr>\n",
       "      <th>primary_cleaner.input.feed_size</th>\n",
       "      <td>8.08</td>\n",
       "      <td>8.08</td>\n",
       "      <td>7.78667</td>\n",
       "      <td>7.64</td>\n",
       "      <td>7.53</td>\n",
       "    </tr>\n",
       "    <tr>\n",
       "      <th>primary_cleaner.input.xanthate</th>\n",
       "      <td>1.00502</td>\n",
       "      <td>0.990469</td>\n",
       "      <td>0.996043</td>\n",
       "      <td>0.863514</td>\n",
       "      <td>0.805575</td>\n",
       "    </tr>\n",
       "    <tr>\n",
       "      <th>primary_cleaner.state.floatbank8_a_air</th>\n",
       "      <td>1398.98</td>\n",
       "      <td>1398.78</td>\n",
       "      <td>1398.49</td>\n",
       "      <td>1399.62</td>\n",
       "      <td>1401.27</td>\n",
       "    </tr>\n",
       "    <tr>\n",
       "      <th>primary_cleaner.state.floatbank8_a_level</th>\n",
       "      <td>-500.226</td>\n",
       "      <td>-500.057</td>\n",
       "      <td>-500.868</td>\n",
       "      <td>-498.864</td>\n",
       "      <td>-500.808</td>\n",
       "    </tr>\n",
       "    <tr>\n",
       "      <th>primary_cleaner.state.floatbank8_b_air</th>\n",
       "      <td>1399.14</td>\n",
       "      <td>1398.06</td>\n",
       "      <td>1398.86</td>\n",
       "      <td>1397.44</td>\n",
       "      <td>1398.13</td>\n",
       "    </tr>\n",
       "    <tr>\n",
       "      <th>primary_cleaner.state.floatbank8_b_level</th>\n",
       "      <td>-499.92</td>\n",
       "      <td>-499.778</td>\n",
       "      <td>-499.765</td>\n",
       "      <td>-499.211</td>\n",
       "      <td>-499.505</td>\n",
       "    </tr>\n",
       "    <tr>\n",
       "      <th>primary_cleaner.state.floatbank8_c_air</th>\n",
       "      <td>1400.1</td>\n",
       "      <td>1396.15</td>\n",
       "      <td>1398.08</td>\n",
       "      <td>1400.13</td>\n",
       "      <td>1402.17</td>\n",
       "    </tr>\n",
       "    <tr>\n",
       "      <th>primary_cleaner.state.floatbank8_c_level</th>\n",
       "      <td>-500.704</td>\n",
       "      <td>-499.24</td>\n",
       "      <td>-502.152</td>\n",
       "      <td>-498.356</td>\n",
       "      <td>-500.811</td>\n",
       "    </tr>\n",
       "    <tr>\n",
       "      <th>primary_cleaner.state.floatbank8_d_air</th>\n",
       "      <td>1399</td>\n",
       "      <td>1399.51</td>\n",
       "      <td>1399.5</td>\n",
       "      <td>1401.07</td>\n",
       "      <td>1399.48</td>\n",
       "    </tr>\n",
       "    <tr>\n",
       "      <th>primary_cleaner.state.floatbank8_d_level</th>\n",
       "      <td>-499.485</td>\n",
       "      <td>-500.416</td>\n",
       "      <td>-499.715</td>\n",
       "      <td>-501.039</td>\n",
       "      <td>-499.374</td>\n",
       "    </tr>\n",
       "    <tr>\n",
       "      <th>rougher.input.feed_ag</th>\n",
       "      <td>13.1286</td>\n",
       "      <td>13.0363</td>\n",
       "      <td>13.1384</td>\n",
       "      <td>12.4005</td>\n",
       "      <td>11.3274</td>\n",
       "    </tr>\n",
       "    <tr>\n",
       "      <th>rougher.input.feed_pb</th>\n",
       "      <td>5.63671</td>\n",
       "      <td>5.52607</td>\n",
       "      <td>5.42656</td>\n",
       "      <td>5.11476</td>\n",
       "      <td>4.76738</td>\n",
       "    </tr>\n",
       "    <tr>\n",
       "      <th>rougher.input.feed_rate</th>\n",
       "      <td>489.794</td>\n",
       "      <td>490.105</td>\n",
       "      <td>489.618</td>\n",
       "      <td>476.618</td>\n",
       "      <td>488.248</td>\n",
       "    </tr>\n",
       "    <tr>\n",
       "      <th>rougher.input.feed_size</th>\n",
       "      <td>62.7105</td>\n",
       "      <td>61.9612</td>\n",
       "      <td>66.9038</td>\n",
       "      <td>59.8659</td>\n",
       "      <td>63.3153</td>\n",
       "    </tr>\n",
       "    <tr>\n",
       "      <th>rougher.input.feed_sol</th>\n",
       "      <td>42.0224</td>\n",
       "      <td>41.1879</td>\n",
       "      <td>42.5463</td>\n",
       "      <td>41.0602</td>\n",
       "      <td>41.2692</td>\n",
       "    </tr>\n",
       "    <tr>\n",
       "      <th>rougher.input.feed_au</th>\n",
       "      <td>12.0841</td>\n",
       "      <td>11.919</td>\n",
       "      <td>12.0913</td>\n",
       "      <td>12.1816</td>\n",
       "      <td>11.2904</td>\n",
       "    </tr>\n",
       "    <tr>\n",
       "      <th>rougher.input.floatbank10_sulfate</th>\n",
       "      <td>16.9229</td>\n",
       "      <td>17.0025</td>\n",
       "      <td>16.9925</td>\n",
       "      <td>16.5321</td>\n",
       "      <td>13.6073</td>\n",
       "    </tr>\n",
       "    <tr>\n",
       "      <th>rougher.input.floatbank10_xanthate</th>\n",
       "      <td>6.15348</td>\n",
       "      <td>5.99904</td>\n",
       "      <td>5.85063</td>\n",
       "      <td>5.80194</td>\n",
       "      <td>5.73808</td>\n",
       "    </tr>\n",
       "    <tr>\n",
       "      <th>rougher.input.floatbank11_sulfate</th>\n",
       "      <td>16.8675</td>\n",
       "      <td>16.9961</td>\n",
       "      <td>16.9821</td>\n",
       "      <td>16.5153</td>\n",
       "      <td>13.6501</td>\n",
       "    </tr>\n",
       "    <tr>\n",
       "      <th>rougher.input.floatbank11_xanthate</th>\n",
       "      <td>6.15071</td>\n",
       "      <td>6.00231</td>\n",
       "      <td>5.85359</td>\n",
       "      <td>5.80366</td>\n",
       "      <td>5.73963</td>\n",
       "    </tr>\n",
       "    <tr>\n",
       "      <th>rougher.state.floatbank10_a_air</th>\n",
       "      <td>1001.85</td>\n",
       "      <td>998.691</td>\n",
       "      <td>998.517</td>\n",
       "      <td>1000.28</td>\n",
       "      <td>996.541</td>\n",
       "    </tr>\n",
       "    <tr>\n",
       "      <th>rougher.state.floatbank10_a_level</th>\n",
       "      <td>-350.301</td>\n",
       "      <td>-350.426</td>\n",
       "      <td>-349.784</td>\n",
       "      <td>-350.173</td>\n",
       "      <td>-350.563</td>\n",
       "    </tr>\n",
       "    <tr>\n",
       "      <th>rougher.state.floatbank10_b_air</th>\n",
       "      <td>1249.74</td>\n",
       "      <td>1248.4</td>\n",
       "      <td>1247.44</td>\n",
       "      <td>1251.32</td>\n",
       "      <td>1304.66</td>\n",
       "    </tr>\n",
       "    <tr>\n",
       "      <th>rougher.state.floatbank10_b_level</th>\n",
       "      <td>-399.108</td>\n",
       "      <td>-399.946</td>\n",
       "      <td>-400.264</td>\n",
       "      <td>-398.655</td>\n",
       "      <td>-399.512</td>\n",
       "    </tr>\n",
       "    <tr>\n",
       "      <th>rougher.state.floatbank10_c_air</th>\n",
       "      <td>1249.75</td>\n",
       "      <td>1249.51</td>\n",
       "      <td>1248.21</td>\n",
       "      <td>1250.49</td>\n",
       "      <td>1306.46</td>\n",
       "    </tr>\n",
       "    <tr>\n",
       "      <th>rougher.state.floatbank10_c_level</th>\n",
       "      <td>-399.397</td>\n",
       "      <td>-399.631</td>\n",
       "      <td>-401.074</td>\n",
       "      <td>-399.747</td>\n",
       "      <td>-399.051</td>\n",
       "    </tr>\n",
       "    <tr>\n",
       "      <th>rougher.state.floatbank10_d_air</th>\n",
       "      <td>1198.29</td>\n",
       "      <td>1200.51</td>\n",
       "      <td>1199.77</td>\n",
       "      <td>1199.4</td>\n",
       "      <td>1248.7</td>\n",
       "    </tr>\n",
       "    <tr>\n",
       "      <th>rougher.state.floatbank10_d_level</th>\n",
       "      <td>-399.489</td>\n",
       "      <td>-399.942</td>\n",
       "      <td>-400.791</td>\n",
       "      <td>-397.503</td>\n",
       "      <td>-400.877</td>\n",
       "    </tr>\n",
       "    <tr>\n",
       "      <th>rougher.state.floatbank10_e_air</th>\n",
       "      <td>999.472</td>\n",
       "      <td>1000</td>\n",
       "      <td>999.926</td>\n",
       "      <td>1001.93</td>\n",
       "      <td>1058.84</td>\n",
       "    </tr>\n",
       "    <tr>\n",
       "      <th>rougher.state.floatbank10_e_level</th>\n",
       "      <td>-399.531</td>\n",
       "      <td>-399.492</td>\n",
       "      <td>-399.237</td>\n",
       "      <td>-400.438</td>\n",
       "      <td>-398.988</td>\n",
       "    </tr>\n",
       "    <tr>\n",
       "      <th>rougher.state.floatbank10_f_air</th>\n",
       "      <td>949.566</td>\n",
       "      <td>950.2</td>\n",
       "      <td>950.32</td>\n",
       "      <td>950.735</td>\n",
       "      <td>949.645</td>\n",
       "    </tr>\n",
       "    <tr>\n",
       "      <th>rougher.state.floatbank10_f_level</th>\n",
       "      <td>-398.181</td>\n",
       "      <td>-405.788</td>\n",
       "      <td>-400.864</td>\n",
       "      <td>-399.803</td>\n",
       "      <td>-399.278</td>\n",
       "    </tr>\n",
       "    <tr>\n",
       "      <th>secondary_cleaner.state.floatbank2_a_air</th>\n",
       "      <td>24.9382</td>\n",
       "      <td>24.9235</td>\n",
       "      <td>24.9087</td>\n",
       "      <td>24.894</td>\n",
       "      <td>24.8869</td>\n",
       "    </tr>\n",
       "    <tr>\n",
       "      <th>secondary_cleaner.state.floatbank2_a_level</th>\n",
       "      <td>-500.491</td>\n",
       "      <td>-499.814</td>\n",
       "      <td>-500.304</td>\n",
       "      <td>-499.382</td>\n",
       "      <td>-499.357</td>\n",
       "    </tr>\n",
       "    <tr>\n",
       "      <th>secondary_cleaner.state.floatbank2_b_air</th>\n",
       "      <td>14.9476</td>\n",
       "      <td>14.9309</td>\n",
       "      <td>14.9965</td>\n",
       "      <td>14.9167</td>\n",
       "      <td>14.9792</td>\n",
       "    </tr>\n",
       "    <tr>\n",
       "      <th>secondary_cleaner.state.floatbank2_b_level</th>\n",
       "      <td>-500.014</td>\n",
       "      <td>-500.764</td>\n",
       "      <td>-500.994</td>\n",
       "      <td>-499.862</td>\n",
       "      <td>-500.187</td>\n",
       "    </tr>\n",
       "    <tr>\n",
       "      <th>secondary_cleaner.state.floatbank3_a_air</th>\n",
       "      <td>20.0182</td>\n",
       "      <td>19.9885</td>\n",
       "      <td>20.0397</td>\n",
       "      <td>20.0311</td>\n",
       "      <td>19.9624</td>\n",
       "    </tr>\n",
       "    <tr>\n",
       "      <th>secondary_cleaner.state.floatbank3_a_level</th>\n",
       "      <td>-450.396</td>\n",
       "      <td>-450.114</td>\n",
       "      <td>-450.263</td>\n",
       "      <td>-449.373</td>\n",
       "      <td>-450.639</td>\n",
       "    </tr>\n",
       "    <tr>\n",
       "      <th>secondary_cleaner.state.floatbank3_b_air</th>\n",
       "      <td>13.9871</td>\n",
       "      <td>14.093</td>\n",
       "      <td>14.0779</td>\n",
       "      <td>14.014</td>\n",
       "      <td>14.0092</td>\n",
       "    </tr>\n",
       "    <tr>\n",
       "      <th>secondary_cleaner.state.floatbank3_b_level</th>\n",
       "      <td>-449.832</td>\n",
       "      <td>-450.059</td>\n",
       "      <td>-449.661</td>\n",
       "      <td>-449.527</td>\n",
       "      <td>-450.022</td>\n",
       "    </tr>\n",
       "    <tr>\n",
       "      <th>secondary_cleaner.state.floatbank4_a_air</th>\n",
       "      <td>12.0236</td>\n",
       "      <td>12.0581</td>\n",
       "      <td>11.9624</td>\n",
       "      <td>12.0331</td>\n",
       "      <td>12.0254</td>\n",
       "    </tr>\n",
       "    <tr>\n",
       "      <th>secondary_cleaner.state.floatbank4_a_level</th>\n",
       "      <td>-497.796</td>\n",
       "      <td>-498.696</td>\n",
       "      <td>-498.767</td>\n",
       "      <td>-498.351</td>\n",
       "      <td>-500.786</td>\n",
       "    </tr>\n",
       "    <tr>\n",
       "      <th>secondary_cleaner.state.floatbank4_b_air</th>\n",
       "      <td>8.01666</td>\n",
       "      <td>8.13098</td>\n",
       "      <td>8.09689</td>\n",
       "      <td>8.07495</td>\n",
       "      <td>8.05468</td>\n",
       "    </tr>\n",
       "    <tr>\n",
       "      <th>secondary_cleaner.state.floatbank4_b_level</th>\n",
       "      <td>-501.289</td>\n",
       "      <td>-499.634</td>\n",
       "      <td>-500.827</td>\n",
       "      <td>-499.474</td>\n",
       "      <td>-500.398</td>\n",
       "    </tr>\n",
       "    <tr>\n",
       "      <th>secondary_cleaner.state.floatbank5_a_air</th>\n",
       "      <td>7.94656</td>\n",
       "      <td>7.95827</td>\n",
       "      <td>8.07106</td>\n",
       "      <td>7.89708</td>\n",
       "      <td>8.10789</td>\n",
       "    </tr>\n",
       "    <tr>\n",
       "      <th>secondary_cleaner.state.floatbank5_a_level</th>\n",
       "      <td>-432.318</td>\n",
       "      <td>-525.84</td>\n",
       "      <td>-500.802</td>\n",
       "      <td>-500.869</td>\n",
       "      <td>-509.527</td>\n",
       "    </tr>\n",
       "    <tr>\n",
       "      <th>secondary_cleaner.state.floatbank5_b_air</th>\n",
       "      <td>4.87251</td>\n",
       "      <td>4.87885</td>\n",
       "      <td>4.90512</td>\n",
       "      <td>4.9314</td>\n",
       "      <td>4.95767</td>\n",
       "    </tr>\n",
       "    <tr>\n",
       "      <th>secondary_cleaner.state.floatbank5_b_level</th>\n",
       "      <td>-500.037</td>\n",
       "      <td>-500.162</td>\n",
       "      <td>-499.829</td>\n",
       "      <td>-499.964</td>\n",
       "      <td>-500.36</td>\n",
       "    </tr>\n",
       "    <tr>\n",
       "      <th>secondary_cleaner.state.floatbank6_a_air</th>\n",
       "      <td>26.7059</td>\n",
       "      <td>25.0199</td>\n",
       "      <td>24.9949</td>\n",
       "      <td>24.9489</td>\n",
       "      <td>25.0033</td>\n",
       "    </tr>\n",
       "    <tr>\n",
       "      <th>secondary_cleaner.state.floatbank6_a_level</th>\n",
       "      <td>-499.709</td>\n",
       "      <td>-499.819</td>\n",
       "      <td>-500.623</td>\n",
       "      <td>-498.71</td>\n",
       "      <td>-500.856</td>\n",
       "    </tr>\n",
       "  </tbody>\n",
       "</table>\n",
       "</div>"
      ],
      "text/plain": [
       "                                                              0  \\\n",
       "date                                        2016-09-01 00:59:59   \n",
       "primary_cleaner.input.sulfate                           210.801   \n",
       "primary_cleaner.input.depressant                        14.9931   \n",
       "primary_cleaner.input.feed_size                            8.08   \n",
       "primary_cleaner.input.xanthate                          1.00502   \n",
       "primary_cleaner.state.floatbank8_a_air                  1398.98   \n",
       "primary_cleaner.state.floatbank8_a_level               -500.226   \n",
       "primary_cleaner.state.floatbank8_b_air                  1399.14   \n",
       "primary_cleaner.state.floatbank8_b_level                -499.92   \n",
       "primary_cleaner.state.floatbank8_c_air                   1400.1   \n",
       "primary_cleaner.state.floatbank8_c_level               -500.704   \n",
       "primary_cleaner.state.floatbank8_d_air                     1399   \n",
       "primary_cleaner.state.floatbank8_d_level               -499.485   \n",
       "rougher.input.feed_ag                                   13.1286   \n",
       "rougher.input.feed_pb                                   5.63671   \n",
       "rougher.input.feed_rate                                 489.794   \n",
       "rougher.input.feed_size                                 62.7105   \n",
       "rougher.input.feed_sol                                  42.0224   \n",
       "rougher.input.feed_au                                   12.0841   \n",
       "rougher.input.floatbank10_sulfate                       16.9229   \n",
       "rougher.input.floatbank10_xanthate                      6.15348   \n",
       "rougher.input.floatbank11_sulfate                       16.8675   \n",
       "rougher.input.floatbank11_xanthate                      6.15071   \n",
       "rougher.state.floatbank10_a_air                         1001.85   \n",
       "rougher.state.floatbank10_a_level                      -350.301   \n",
       "rougher.state.floatbank10_b_air                         1249.74   \n",
       "rougher.state.floatbank10_b_level                      -399.108   \n",
       "rougher.state.floatbank10_c_air                         1249.75   \n",
       "rougher.state.floatbank10_c_level                      -399.397   \n",
       "rougher.state.floatbank10_d_air                         1198.29   \n",
       "rougher.state.floatbank10_d_level                      -399.489   \n",
       "rougher.state.floatbank10_e_air                         999.472   \n",
       "rougher.state.floatbank10_e_level                      -399.531   \n",
       "rougher.state.floatbank10_f_air                         949.566   \n",
       "rougher.state.floatbank10_f_level                      -398.181   \n",
       "secondary_cleaner.state.floatbank2_a_air                24.9382   \n",
       "secondary_cleaner.state.floatbank2_a_level             -500.491   \n",
       "secondary_cleaner.state.floatbank2_b_air                14.9476   \n",
       "secondary_cleaner.state.floatbank2_b_level             -500.014   \n",
       "secondary_cleaner.state.floatbank3_a_air                20.0182   \n",
       "secondary_cleaner.state.floatbank3_a_level             -450.396   \n",
       "secondary_cleaner.state.floatbank3_b_air                13.9871   \n",
       "secondary_cleaner.state.floatbank3_b_level             -449.832   \n",
       "secondary_cleaner.state.floatbank4_a_air                12.0236   \n",
       "secondary_cleaner.state.floatbank4_a_level             -497.796   \n",
       "secondary_cleaner.state.floatbank4_b_air                8.01666   \n",
       "secondary_cleaner.state.floatbank4_b_level             -501.289   \n",
       "secondary_cleaner.state.floatbank5_a_air                7.94656   \n",
       "secondary_cleaner.state.floatbank5_a_level             -432.318   \n",
       "secondary_cleaner.state.floatbank5_b_air                4.87251   \n",
       "secondary_cleaner.state.floatbank5_b_level             -500.037   \n",
       "secondary_cleaner.state.floatbank6_a_air                26.7059   \n",
       "secondary_cleaner.state.floatbank6_a_level             -499.709   \n",
       "\n",
       "                                                              1  \\\n",
       "date                                        2016-09-01 01:59:59   \n",
       "primary_cleaner.input.sulfate                           215.392   \n",
       "primary_cleaner.input.depressant                        14.9875   \n",
       "primary_cleaner.input.feed_size                            8.08   \n",
       "primary_cleaner.input.xanthate                         0.990469   \n",
       "primary_cleaner.state.floatbank8_a_air                  1398.78   \n",
       "primary_cleaner.state.floatbank8_a_level               -500.057   \n",
       "primary_cleaner.state.floatbank8_b_air                  1398.06   \n",
       "primary_cleaner.state.floatbank8_b_level               -499.778   \n",
       "primary_cleaner.state.floatbank8_c_air                  1396.15   \n",
       "primary_cleaner.state.floatbank8_c_level                -499.24   \n",
       "primary_cleaner.state.floatbank8_d_air                  1399.51   \n",
       "primary_cleaner.state.floatbank8_d_level               -500.416   \n",
       "rougher.input.feed_ag                                   13.0363   \n",
       "rougher.input.feed_pb                                   5.52607   \n",
       "rougher.input.feed_rate                                 490.105   \n",
       "rougher.input.feed_size                                 61.9612   \n",
       "rougher.input.feed_sol                                  41.1879   \n",
       "rougher.input.feed_au                                    11.919   \n",
       "rougher.input.floatbank10_sulfate                       17.0025   \n",
       "rougher.input.floatbank10_xanthate                      5.99904   \n",
       "rougher.input.floatbank11_sulfate                       16.9961   \n",
       "rougher.input.floatbank11_xanthate                      6.00231   \n",
       "rougher.state.floatbank10_a_air                         998.691   \n",
       "rougher.state.floatbank10_a_level                      -350.426   \n",
       "rougher.state.floatbank10_b_air                          1248.4   \n",
       "rougher.state.floatbank10_b_level                      -399.946   \n",
       "rougher.state.floatbank10_c_air                         1249.51   \n",
       "rougher.state.floatbank10_c_level                      -399.631   \n",
       "rougher.state.floatbank10_d_air                         1200.51   \n",
       "rougher.state.floatbank10_d_level                      -399.942   \n",
       "rougher.state.floatbank10_e_air                            1000   \n",
       "rougher.state.floatbank10_e_level                      -399.492   \n",
       "rougher.state.floatbank10_f_air                           950.2   \n",
       "rougher.state.floatbank10_f_level                      -405.788   \n",
       "secondary_cleaner.state.floatbank2_a_air                24.9235   \n",
       "secondary_cleaner.state.floatbank2_a_level             -499.814   \n",
       "secondary_cleaner.state.floatbank2_b_air                14.9309   \n",
       "secondary_cleaner.state.floatbank2_b_level             -500.764   \n",
       "secondary_cleaner.state.floatbank3_a_air                19.9885   \n",
       "secondary_cleaner.state.floatbank3_a_level             -450.114   \n",
       "secondary_cleaner.state.floatbank3_b_air                 14.093   \n",
       "secondary_cleaner.state.floatbank3_b_level             -450.059   \n",
       "secondary_cleaner.state.floatbank4_a_air                12.0581   \n",
       "secondary_cleaner.state.floatbank4_a_level             -498.696   \n",
       "secondary_cleaner.state.floatbank4_b_air                8.13098   \n",
       "secondary_cleaner.state.floatbank4_b_level             -499.634   \n",
       "secondary_cleaner.state.floatbank5_a_air                7.95827   \n",
       "secondary_cleaner.state.floatbank5_a_level              -525.84   \n",
       "secondary_cleaner.state.floatbank5_b_air                4.87885   \n",
       "secondary_cleaner.state.floatbank5_b_level             -500.162   \n",
       "secondary_cleaner.state.floatbank6_a_air                25.0199   \n",
       "secondary_cleaner.state.floatbank6_a_level             -499.819   \n",
       "\n",
       "                                                              2  \\\n",
       "date                                        2016-09-01 02:59:59   \n",
       "primary_cleaner.input.sulfate                            215.26   \n",
       "primary_cleaner.input.depressant                        12.8849   \n",
       "primary_cleaner.input.feed_size                         7.78667   \n",
       "primary_cleaner.input.xanthate                         0.996043   \n",
       "primary_cleaner.state.floatbank8_a_air                  1398.49   \n",
       "primary_cleaner.state.floatbank8_a_level               -500.868   \n",
       "primary_cleaner.state.floatbank8_b_air                  1398.86   \n",
       "primary_cleaner.state.floatbank8_b_level               -499.765   \n",
       "primary_cleaner.state.floatbank8_c_air                  1398.08   \n",
       "primary_cleaner.state.floatbank8_c_level               -502.152   \n",
       "primary_cleaner.state.floatbank8_d_air                   1399.5   \n",
       "primary_cleaner.state.floatbank8_d_level               -499.715   \n",
       "rougher.input.feed_ag                                   13.1384   \n",
       "rougher.input.feed_pb                                   5.42656   \n",
       "rougher.input.feed_rate                                 489.618   \n",
       "rougher.input.feed_size                                 66.9038   \n",
       "rougher.input.feed_sol                                  42.5463   \n",
       "rougher.input.feed_au                                   12.0913   \n",
       "rougher.input.floatbank10_sulfate                       16.9925   \n",
       "rougher.input.floatbank10_xanthate                      5.85063   \n",
       "rougher.input.floatbank11_sulfate                       16.9821   \n",
       "rougher.input.floatbank11_xanthate                      5.85359   \n",
       "rougher.state.floatbank10_a_air                         998.517   \n",
       "rougher.state.floatbank10_a_level                      -349.784   \n",
       "rougher.state.floatbank10_b_air                         1247.44   \n",
       "rougher.state.floatbank10_b_level                      -400.264   \n",
       "rougher.state.floatbank10_c_air                         1248.21   \n",
       "rougher.state.floatbank10_c_level                      -401.074   \n",
       "rougher.state.floatbank10_d_air                         1199.77   \n",
       "rougher.state.floatbank10_d_level                      -400.791   \n",
       "rougher.state.floatbank10_e_air                         999.926   \n",
       "rougher.state.floatbank10_e_level                      -399.237   \n",
       "rougher.state.floatbank10_f_air                          950.32   \n",
       "rougher.state.floatbank10_f_level                      -400.864   \n",
       "secondary_cleaner.state.floatbank2_a_air                24.9087   \n",
       "secondary_cleaner.state.floatbank2_a_level             -500.304   \n",
       "secondary_cleaner.state.floatbank2_b_air                14.9965   \n",
       "secondary_cleaner.state.floatbank2_b_level             -500.994   \n",
       "secondary_cleaner.state.floatbank3_a_air                20.0397   \n",
       "secondary_cleaner.state.floatbank3_a_level             -450.263   \n",
       "secondary_cleaner.state.floatbank3_b_air                14.0779   \n",
       "secondary_cleaner.state.floatbank3_b_level             -449.661   \n",
       "secondary_cleaner.state.floatbank4_a_air                11.9624   \n",
       "secondary_cleaner.state.floatbank4_a_level             -498.767   \n",
       "secondary_cleaner.state.floatbank4_b_air                8.09689   \n",
       "secondary_cleaner.state.floatbank4_b_level             -500.827   \n",
       "secondary_cleaner.state.floatbank5_a_air                8.07106   \n",
       "secondary_cleaner.state.floatbank5_a_level             -500.802   \n",
       "secondary_cleaner.state.floatbank5_b_air                4.90512   \n",
       "secondary_cleaner.state.floatbank5_b_level             -499.829   \n",
       "secondary_cleaner.state.floatbank6_a_air                24.9949   \n",
       "secondary_cleaner.state.floatbank6_a_level             -500.623   \n",
       "\n",
       "                                                              3  \\\n",
       "date                                        2016-09-01 03:59:59   \n",
       "primary_cleaner.input.sulfate                           215.336   \n",
       "primary_cleaner.input.depressant                        12.0068   \n",
       "primary_cleaner.input.feed_size                            7.64   \n",
       "primary_cleaner.input.xanthate                         0.863514   \n",
       "primary_cleaner.state.floatbank8_a_air                  1399.62   \n",
       "primary_cleaner.state.floatbank8_a_level               -498.864   \n",
       "primary_cleaner.state.floatbank8_b_air                  1397.44   \n",
       "primary_cleaner.state.floatbank8_b_level               -499.211   \n",
       "primary_cleaner.state.floatbank8_c_air                  1400.13   \n",
       "primary_cleaner.state.floatbank8_c_level               -498.356   \n",
       "primary_cleaner.state.floatbank8_d_air                  1401.07   \n",
       "primary_cleaner.state.floatbank8_d_level               -501.039   \n",
       "rougher.input.feed_ag                                   12.4005   \n",
       "rougher.input.feed_pb                                   5.11476   \n",
       "rougher.input.feed_rate                                 476.618   \n",
       "rougher.input.feed_size                                 59.8659   \n",
       "rougher.input.feed_sol                                  41.0602   \n",
       "rougher.input.feed_au                                   12.1816   \n",
       "rougher.input.floatbank10_sulfate                       16.5321   \n",
       "rougher.input.floatbank10_xanthate                      5.80194   \n",
       "rougher.input.floatbank11_sulfate                       16.5153   \n",
       "rougher.input.floatbank11_xanthate                      5.80366   \n",
       "rougher.state.floatbank10_a_air                         1000.28   \n",
       "rougher.state.floatbank10_a_level                      -350.173   \n",
       "rougher.state.floatbank10_b_air                         1251.32   \n",
       "rougher.state.floatbank10_b_level                      -398.655   \n",
       "rougher.state.floatbank10_c_air                         1250.49   \n",
       "rougher.state.floatbank10_c_level                      -399.747   \n",
       "rougher.state.floatbank10_d_air                          1199.4   \n",
       "rougher.state.floatbank10_d_level                      -397.503   \n",
       "rougher.state.floatbank10_e_air                         1001.93   \n",
       "rougher.state.floatbank10_e_level                      -400.438   \n",
       "rougher.state.floatbank10_f_air                         950.735   \n",
       "rougher.state.floatbank10_f_level                      -399.803   \n",
       "secondary_cleaner.state.floatbank2_a_air                 24.894   \n",
       "secondary_cleaner.state.floatbank2_a_level             -499.382   \n",
       "secondary_cleaner.state.floatbank2_b_air                14.9167   \n",
       "secondary_cleaner.state.floatbank2_b_level             -499.862   \n",
       "secondary_cleaner.state.floatbank3_a_air                20.0311   \n",
       "secondary_cleaner.state.floatbank3_a_level             -449.373   \n",
       "secondary_cleaner.state.floatbank3_b_air                 14.014   \n",
       "secondary_cleaner.state.floatbank3_b_level             -449.527   \n",
       "secondary_cleaner.state.floatbank4_a_air                12.0331   \n",
       "secondary_cleaner.state.floatbank4_a_level             -498.351   \n",
       "secondary_cleaner.state.floatbank4_b_air                8.07495   \n",
       "secondary_cleaner.state.floatbank4_b_level             -499.474   \n",
       "secondary_cleaner.state.floatbank5_a_air                7.89708   \n",
       "secondary_cleaner.state.floatbank5_a_level             -500.869   \n",
       "secondary_cleaner.state.floatbank5_b_air                 4.9314   \n",
       "secondary_cleaner.state.floatbank5_b_level             -499.964   \n",
       "secondary_cleaner.state.floatbank6_a_air                24.9489   \n",
       "secondary_cleaner.state.floatbank6_a_level              -498.71   \n",
       "\n",
       "                                                              4  \n",
       "date                                        2016-09-01 04:59:59  \n",
       "primary_cleaner.input.sulfate                           199.099  \n",
       "primary_cleaner.input.depressant                        10.6825  \n",
       "primary_cleaner.input.feed_size                            7.53  \n",
       "primary_cleaner.input.xanthate                         0.805575  \n",
       "primary_cleaner.state.floatbank8_a_air                  1401.27  \n",
       "primary_cleaner.state.floatbank8_a_level               -500.808  \n",
       "primary_cleaner.state.floatbank8_b_air                  1398.13  \n",
       "primary_cleaner.state.floatbank8_b_level               -499.505  \n",
       "primary_cleaner.state.floatbank8_c_air                  1402.17  \n",
       "primary_cleaner.state.floatbank8_c_level               -500.811  \n",
       "primary_cleaner.state.floatbank8_d_air                  1399.48  \n",
       "primary_cleaner.state.floatbank8_d_level               -499.374  \n",
       "rougher.input.feed_ag                                   11.3274  \n",
       "rougher.input.feed_pb                                   4.76738  \n",
       "rougher.input.feed_rate                                 488.248  \n",
       "rougher.input.feed_size                                 63.3153  \n",
       "rougher.input.feed_sol                                  41.2692  \n",
       "rougher.input.feed_au                                   11.2904  \n",
       "rougher.input.floatbank10_sulfate                       13.6073  \n",
       "rougher.input.floatbank10_xanthate                      5.73808  \n",
       "rougher.input.floatbank11_sulfate                       13.6501  \n",
       "rougher.input.floatbank11_xanthate                      5.73963  \n",
       "rougher.state.floatbank10_a_air                         996.541  \n",
       "rougher.state.floatbank10_a_level                      -350.563  \n",
       "rougher.state.floatbank10_b_air                         1304.66  \n",
       "rougher.state.floatbank10_b_level                      -399.512  \n",
       "rougher.state.floatbank10_c_air                         1306.46  \n",
       "rougher.state.floatbank10_c_level                      -399.051  \n",
       "rougher.state.floatbank10_d_air                          1248.7  \n",
       "rougher.state.floatbank10_d_level                      -400.877  \n",
       "rougher.state.floatbank10_e_air                         1058.84  \n",
       "rougher.state.floatbank10_e_level                      -398.988  \n",
       "rougher.state.floatbank10_f_air                         949.645  \n",
       "rougher.state.floatbank10_f_level                      -399.278  \n",
       "secondary_cleaner.state.floatbank2_a_air                24.8869  \n",
       "secondary_cleaner.state.floatbank2_a_level             -499.357  \n",
       "secondary_cleaner.state.floatbank2_b_air                14.9792  \n",
       "secondary_cleaner.state.floatbank2_b_level             -500.187  \n",
       "secondary_cleaner.state.floatbank3_a_air                19.9624  \n",
       "secondary_cleaner.state.floatbank3_a_level             -450.639  \n",
       "secondary_cleaner.state.floatbank3_b_air                14.0092  \n",
       "secondary_cleaner.state.floatbank3_b_level             -450.022  \n",
       "secondary_cleaner.state.floatbank4_a_air                12.0254  \n",
       "secondary_cleaner.state.floatbank4_a_level             -500.786  \n",
       "secondary_cleaner.state.floatbank4_b_air                8.05468  \n",
       "secondary_cleaner.state.floatbank4_b_level             -500.398  \n",
       "secondary_cleaner.state.floatbank5_a_air                8.10789  \n",
       "secondary_cleaner.state.floatbank5_a_level             -509.527  \n",
       "secondary_cleaner.state.floatbank5_b_air                4.95767  \n",
       "secondary_cleaner.state.floatbank5_b_level              -500.36  \n",
       "secondary_cleaner.state.floatbank6_a_air                25.0033  \n",
       "secondary_cleaner.state.floatbank6_a_level             -500.856  "
      ]
     },
     "execution_count": 11,
     "metadata": {},
     "output_type": "execute_result"
    }
   ],
   "source": [
    "data_test.head().T"
   ]
  },
  {
   "cell_type": "code",
   "execution_count": 12,
   "metadata": {
    "scrolled": true
   },
   "outputs": [
    {
     "data": {
      "text/html": [
       "<div>\n",
       "<style scoped>\n",
       "    .dataframe tbody tr th:only-of-type {\n",
       "        vertical-align: middle;\n",
       "    }\n",
       "\n",
       "    .dataframe tbody tr th {\n",
       "        vertical-align: top;\n",
       "    }\n",
       "\n",
       "    .dataframe thead th {\n",
       "        text-align: right;\n",
       "    }\n",
       "</style>\n",
       "<table border=\"1\" class=\"dataframe\">\n",
       "  <thead>\n",
       "    <tr style=\"text-align: right;\">\n",
       "      <th></th>\n",
       "      <th>count</th>\n",
       "      <th>mean</th>\n",
       "      <th>std</th>\n",
       "      <th>min</th>\n",
       "      <th>25%</th>\n",
       "      <th>50%</th>\n",
       "      <th>75%</th>\n",
       "      <th>max</th>\n",
       "    </tr>\n",
       "  </thead>\n",
       "  <tbody>\n",
       "    <tr>\n",
       "      <th>primary_cleaner.input.sulfate</th>\n",
       "      <td>5554.0</td>\n",
       "      <td>170.515243</td>\n",
       "      <td>49.608602</td>\n",
       "      <td>0.000103</td>\n",
       "      <td>143.340022</td>\n",
       "      <td>176.103893</td>\n",
       "      <td>207.240761</td>\n",
       "      <td>274.409626</td>\n",
       "    </tr>\n",
       "    <tr>\n",
       "      <th>primary_cleaner.input.depressant</th>\n",
       "      <td>5572.0</td>\n",
       "      <td>8.482873</td>\n",
       "      <td>3.353105</td>\n",
       "      <td>0.000031</td>\n",
       "      <td>6.411500</td>\n",
       "      <td>8.023252</td>\n",
       "      <td>10.017725</td>\n",
       "      <td>40.024582</td>\n",
       "    </tr>\n",
       "    <tr>\n",
       "      <th>primary_cleaner.input.feed_size</th>\n",
       "      <td>5856.0</td>\n",
       "      <td>7.264651</td>\n",
       "      <td>0.611526</td>\n",
       "      <td>5.650000</td>\n",
       "      <td>6.885625</td>\n",
       "      <td>7.259333</td>\n",
       "      <td>7.650000</td>\n",
       "      <td>15.500000</td>\n",
       "    </tr>\n",
       "    <tr>\n",
       "      <th>primary_cleaner.input.xanthate</th>\n",
       "      <td>5690.0</td>\n",
       "      <td>1.321420</td>\n",
       "      <td>0.693246</td>\n",
       "      <td>0.000003</td>\n",
       "      <td>0.888769</td>\n",
       "      <td>1.183362</td>\n",
       "      <td>1.763797</td>\n",
       "      <td>5.433169</td>\n",
       "    </tr>\n",
       "    <tr>\n",
       "      <th>primary_cleaner.state.floatbank8_a_air</th>\n",
       "      <td>5840.0</td>\n",
       "      <td>1481.990241</td>\n",
       "      <td>310.453166</td>\n",
       "      <td>0.000000</td>\n",
       "      <td>1497.190681</td>\n",
       "      <td>1554.659783</td>\n",
       "      <td>1601.681656</td>\n",
       "      <td>2212.432090</td>\n",
       "    </tr>\n",
       "    <tr>\n",
       "      <th>primary_cleaner.state.floatbank8_a_level</th>\n",
       "      <td>5840.0</td>\n",
       "      <td>-509.057796</td>\n",
       "      <td>61.339256</td>\n",
       "      <td>-799.773788</td>\n",
       "      <td>-500.455211</td>\n",
       "      <td>-499.997402</td>\n",
       "      <td>-499.575313</td>\n",
       "      <td>-57.195404</td>\n",
       "    </tr>\n",
       "    <tr>\n",
       "      <th>primary_cleaner.state.floatbank8_b_air</th>\n",
       "      <td>5840.0</td>\n",
       "      <td>1486.908670</td>\n",
       "      <td>313.224286</td>\n",
       "      <td>0.000000</td>\n",
       "      <td>1497.150234</td>\n",
       "      <td>1553.268084</td>\n",
       "      <td>1601.784707</td>\n",
       "      <td>1975.147923</td>\n",
       "    </tr>\n",
       "    <tr>\n",
       "      <th>primary_cleaner.state.floatbank8_b_level</th>\n",
       "      <td>5840.0</td>\n",
       "      <td>-511.743956</td>\n",
       "      <td>67.139074</td>\n",
       "      <td>-800.029078</td>\n",
       "      <td>-500.936639</td>\n",
       "      <td>-500.066588</td>\n",
       "      <td>-499.323361</td>\n",
       "      <td>-142.527229</td>\n",
       "    </tr>\n",
       "    <tr>\n",
       "      <th>primary_cleaner.state.floatbank8_c_air</th>\n",
       "      <td>5840.0</td>\n",
       "      <td>1468.495216</td>\n",
       "      <td>309.980748</td>\n",
       "      <td>0.000000</td>\n",
       "      <td>1437.050321</td>\n",
       "      <td>1546.160672</td>\n",
       "      <td>1600.785573</td>\n",
       "      <td>1715.053773</td>\n",
       "    </tr>\n",
       "    <tr>\n",
       "      <th>primary_cleaner.state.floatbank8_c_level</th>\n",
       "      <td>5840.0</td>\n",
       "      <td>-509.741212</td>\n",
       "      <td>62.671873</td>\n",
       "      <td>-799.995127</td>\n",
       "      <td>-501.300441</td>\n",
       "      <td>-500.079537</td>\n",
       "      <td>-499.009545</td>\n",
       "      <td>-150.937035</td>\n",
       "    </tr>\n",
       "    <tr>\n",
       "      <th>primary_cleaner.state.floatbank8_d_air</th>\n",
       "      <td>5840.0</td>\n",
       "      <td>1486.398557</td>\n",
       "      <td>313.725248</td>\n",
       "      <td>0.000000</td>\n",
       "      <td>1498.407528</td>\n",
       "      <td>1552.089348</td>\n",
       "      <td>1600.781243</td>\n",
       "      <td>1913.256561</td>\n",
       "    </tr>\n",
       "    <tr>\n",
       "      <th>primary_cleaner.state.floatbank8_d_level</th>\n",
       "      <td>5840.0</td>\n",
       "      <td>-510.723606</td>\n",
       "      <td>65.417633</td>\n",
       "      <td>-799.838846</td>\n",
       "      <td>-500.553630</td>\n",
       "      <td>-500.045560</td>\n",
       "      <td>-499.612913</td>\n",
       "      <td>-32.449456</td>\n",
       "    </tr>\n",
       "    <tr>\n",
       "      <th>rougher.input.feed_ag</th>\n",
       "      <td>5840.0</td>\n",
       "      <td>8.736170</td>\n",
       "      <td>2.985805</td>\n",
       "      <td>0.000000</td>\n",
       "      <td>7.598683</td>\n",
       "      <td>9.628324</td>\n",
       "      <td>10.568373</td>\n",
       "      <td>14.406130</td>\n",
       "    </tr>\n",
       "    <tr>\n",
       "      <th>rougher.input.feed_pb</th>\n",
       "      <td>5840.0</td>\n",
       "      <td>3.552722</td>\n",
       "      <td>1.326113</td>\n",
       "      <td>0.000000</td>\n",
       "      <td>3.079145</td>\n",
       "      <td>3.679706</td>\n",
       "      <td>4.241195</td>\n",
       "      <td>6.905684</td>\n",
       "    </tr>\n",
       "    <tr>\n",
       "      <th>rougher.input.feed_rate</th>\n",
       "      <td>5816.0</td>\n",
       "      <td>458.485472</td>\n",
       "      <td>155.958272</td>\n",
       "      <td>0.002986</td>\n",
       "      <td>399.781738</td>\n",
       "      <td>489.533016</td>\n",
       "      <td>568.111571</td>\n",
       "      <td>707.364020</td>\n",
       "    </tr>\n",
       "    <tr>\n",
       "      <th>rougher.input.feed_size</th>\n",
       "      <td>5834.0</td>\n",
       "      <td>55.937535</td>\n",
       "      <td>22.724254</td>\n",
       "      <td>0.046369</td>\n",
       "      <td>43.890852</td>\n",
       "      <td>50.002004</td>\n",
       "      <td>61.638434</td>\n",
       "      <td>477.445473</td>\n",
       "    </tr>\n",
       "    <tr>\n",
       "      <th>rougher.input.feed_sol</th>\n",
       "      <td>5789.0</td>\n",
       "      <td>35.105834</td>\n",
       "      <td>10.793249</td>\n",
       "      <td>0.000000</td>\n",
       "      <td>33.381580</td>\n",
       "      <td>37.336634</td>\n",
       "      <td>41.388612</td>\n",
       "      <td>53.477742</td>\n",
       "    </tr>\n",
       "    <tr>\n",
       "      <th>rougher.input.feed_au</th>\n",
       "      <td>5840.0</td>\n",
       "      <td>8.700930</td>\n",
       "      <td>2.803046</td>\n",
       "      <td>0.000000</td>\n",
       "      <td>7.763634</td>\n",
       "      <td>9.449623</td>\n",
       "      <td>10.377337</td>\n",
       "      <td>13.731330</td>\n",
       "    </tr>\n",
       "    <tr>\n",
       "      <th>rougher.input.floatbank10_sulfate</th>\n",
       "      <td>5599.0</td>\n",
       "      <td>13.439933</td>\n",
       "      <td>3.997715</td>\n",
       "      <td>0.000154</td>\n",
       "      <td>11.006487</td>\n",
       "      <td>14.000240</td>\n",
       "      <td>16.674640</td>\n",
       "      <td>24.280636</td>\n",
       "    </tr>\n",
       "    <tr>\n",
       "      <th>rougher.input.floatbank10_xanthate</th>\n",
       "      <td>5733.0</td>\n",
       "      <td>6.169553</td>\n",
       "      <td>1.673606</td>\n",
       "      <td>0.000052</td>\n",
       "      <td>5.884416</td>\n",
       "      <td>6.401502</td>\n",
       "      <td>7.002358</td>\n",
       "      <td>13.037750</td>\n",
       "    </tr>\n",
       "    <tr>\n",
       "      <th>rougher.input.floatbank11_sulfate</th>\n",
       "      <td>5801.0</td>\n",
       "      <td>13.056047</td>\n",
       "      <td>4.533948</td>\n",
       "      <td>0.000014</td>\n",
       "      <td>10.999216</td>\n",
       "      <td>13.998778</td>\n",
       "      <td>16.375267</td>\n",
       "      <td>28.949609</td>\n",
       "    </tr>\n",
       "    <tr>\n",
       "      <th>rougher.input.floatbank11_xanthate</th>\n",
       "      <td>5503.0</td>\n",
       "      <td>6.423566</td>\n",
       "      <td>1.120371</td>\n",
       "      <td>0.000055</td>\n",
       "      <td>5.994363</td>\n",
       "      <td>6.496105</td>\n",
       "      <td>7.008034</td>\n",
       "      <td>18.709478</td>\n",
       "    </tr>\n",
       "    <tr>\n",
       "      <th>rougher.state.floatbank10_a_air</th>\n",
       "      <td>5839.0</td>\n",
       "      <td>1016.294703</td>\n",
       "      <td>226.494775</td>\n",
       "      <td>-0.123194</td>\n",
       "      <td>998.970605</td>\n",
       "      <td>1000.327062</td>\n",
       "      <td>1005.088855</td>\n",
       "      <td>1423.274687</td>\n",
       "    </tr>\n",
       "    <tr>\n",
       "      <th>rougher.state.floatbank10_a_level</th>\n",
       "      <td>5840.0</td>\n",
       "      <td>-404.977728</td>\n",
       "      <td>100.953782</td>\n",
       "      <td>-657.949759</td>\n",
       "      <td>-499.971279</td>\n",
       "      <td>-399.817250</td>\n",
       "      <td>-300.074857</td>\n",
       "      <td>-273.776101</td>\n",
       "    </tr>\n",
       "    <tr>\n",
       "      <th>rougher.state.floatbank10_b_air</th>\n",
       "      <td>5839.0</td>\n",
       "      <td>1270.598553</td>\n",
       "      <td>285.247715</td>\n",
       "      <td>-0.821921</td>\n",
       "      <td>1199.500725</td>\n",
       "      <td>1300.983516</td>\n",
       "      <td>1403.256153</td>\n",
       "      <td>1706.640419</td>\n",
       "    </tr>\n",
       "    <tr>\n",
       "      <th>rougher.state.floatbank10_b_level</th>\n",
       "      <td>5840.0</td>\n",
       "      <td>-482.154567</td>\n",
       "      <td>55.399631</td>\n",
       "      <td>-650.349159</td>\n",
       "      <td>-500.327705</td>\n",
       "      <td>-499.875575</td>\n",
       "      <td>-497.613901</td>\n",
       "      <td>-229.396203</td>\n",
       "    </tr>\n",
       "    <tr>\n",
       "      <th>rougher.state.floatbank10_c_air</th>\n",
       "      <td>5839.0</td>\n",
       "      <td>1253.495045</td>\n",
       "      <td>290.703157</td>\n",
       "      <td>-0.282087</td>\n",
       "      <td>1195.460415</td>\n",
       "      <td>1298.509443</td>\n",
       "      <td>1401.907624</td>\n",
       "      <td>1809.889686</td>\n",
       "    </tr>\n",
       "    <tr>\n",
       "      <th>rougher.state.floatbank10_c_level</th>\n",
       "      <td>5840.0</td>\n",
       "      <td>-480.945868</td>\n",
       "      <td>53.759053</td>\n",
       "      <td>-650.000000</td>\n",
       "      <td>-500.310780</td>\n",
       "      <td>-499.810503</td>\n",
       "      <td>-497.343773</td>\n",
       "      <td>-253.054587</td>\n",
       "    </tr>\n",
       "    <tr>\n",
       "      <th>rougher.state.floatbank10_d_air</th>\n",
       "      <td>5839.0</td>\n",
       "      <td>1169.675564</td>\n",
       "      <td>285.407244</td>\n",
       "      <td>-1.047388</td>\n",
       "      <td>1004.580472</td>\n",
       "      <td>1202.899254</td>\n",
       "      <td>1357.767099</td>\n",
       "      <td>1775.218584</td>\n",
       "    </tr>\n",
       "    <tr>\n",
       "      <th>rougher.state.floatbank10_d_level</th>\n",
       "      <td>5840.0</td>\n",
       "      <td>-482.152253</td>\n",
       "      <td>54.967985</td>\n",
       "      <td>-648.390665</td>\n",
       "      <td>-500.582886</td>\n",
       "      <td>-499.757267</td>\n",
       "      <td>-495.583327</td>\n",
       "      <td>-76.397327</td>\n",
       "    </tr>\n",
       "    <tr>\n",
       "      <th>rougher.state.floatbank10_e_air</th>\n",
       "      <td>5839.0</td>\n",
       "      <td>1018.386311</td>\n",
       "      <td>231.675756</td>\n",
       "      <td>-2.076798</td>\n",
       "      <td>998.870710</td>\n",
       "      <td>1001.670995</td>\n",
       "      <td>1100.884720</td>\n",
       "      <td>1467.184843</td>\n",
       "    </tr>\n",
       "    <tr>\n",
       "      <th>rougher.state.floatbank10_e_level</th>\n",
       "      <td>5840.0</td>\n",
       "      <td>-476.551547</td>\n",
       "      <td>67.002595</td>\n",
       "      <td>-650.152533</td>\n",
       "      <td>-500.268985</td>\n",
       "      <td>-499.801509</td>\n",
       "      <td>-497.815261</td>\n",
       "      <td>-139.753025</td>\n",
       "    </tr>\n",
       "    <tr>\n",
       "      <th>rougher.state.floatbank10_f_air</th>\n",
       "      <td>5839.0</td>\n",
       "      <td>962.005375</td>\n",
       "      <td>220.862435</td>\n",
       "      <td>-2.593390</td>\n",
       "      <td>900.518560</td>\n",
       "      <td>999.088194</td>\n",
       "      <td>1050.044643</td>\n",
       "      <td>1476.588107</td>\n",
       "    </tr>\n",
       "    <tr>\n",
       "      <th>rougher.state.floatbank10_f_level</th>\n",
       "      <td>5840.0</td>\n",
       "      <td>-477.795380</td>\n",
       "      <td>68.342305</td>\n",
       "      <td>-650.034631</td>\n",
       "      <td>-500.769058</td>\n",
       "      <td>-499.754468</td>\n",
       "      <td>-495.576639</td>\n",
       "      <td>-218.472824</td>\n",
       "    </tr>\n",
       "    <tr>\n",
       "      <th>secondary_cleaner.state.floatbank2_a_air</th>\n",
       "      <td>5836.0</td>\n",
       "      <td>25.479808</td>\n",
       "      <td>5.450424</td>\n",
       "      <td>0.000000</td>\n",
       "      <td>24.908789</td>\n",
       "      <td>26.862173</td>\n",
       "      <td>28.052589</td>\n",
       "      <td>59.944409</td>\n",
       "    </tr>\n",
       "    <tr>\n",
       "      <th>secondary_cleaner.state.floatbank2_a_level</th>\n",
       "      <td>5840.0</td>\n",
       "      <td>-513.714941</td>\n",
       "      <td>62.448366</td>\n",
       "      <td>-799.608557</td>\n",
       "      <td>-500.244425</td>\n",
       "      <td>-500.017410</td>\n",
       "      <td>-499.798265</td>\n",
       "      <td>-300.343670</td>\n",
       "    </tr>\n",
       "    <tr>\n",
       "      <th>secondary_cleaner.state.floatbank2_b_air</th>\n",
       "      <td>5833.0</td>\n",
       "      <td>21.083475</td>\n",
       "      <td>5.940017</td>\n",
       "      <td>0.000000</td>\n",
       "      <td>19.964880</td>\n",
       "      <td>22.909020</td>\n",
       "      <td>24.951835</td>\n",
       "      <td>60.000000</td>\n",
       "    </tr>\n",
       "    <tr>\n",
       "      <th>secondary_cleaner.state.floatbank2_b_level</th>\n",
       "      <td>5840.0</td>\n",
       "      <td>-512.325717</td>\n",
       "      <td>63.376776</td>\n",
       "      <td>-798.467243</td>\n",
       "      <td>-500.252962</td>\n",
       "      <td>-500.031103</td>\n",
       "      <td>-499.836572</td>\n",
       "      <td>-211.999273</td>\n",
       "    </tr>\n",
       "    <tr>\n",
       "      <th>secondary_cleaner.state.floatbank3_a_air</th>\n",
       "      <td>5822.0</td>\n",
       "      <td>24.345831</td>\n",
       "      <td>7.950733</td>\n",
       "      <td>0.000000</td>\n",
       "      <td>22.033603</td>\n",
       "      <td>25.000337</td>\n",
       "      <td>29.994405</td>\n",
       "      <td>40.041997</td>\n",
       "    </tr>\n",
       "    <tr>\n",
       "      <th>secondary_cleaner.state.floatbank3_a_level</th>\n",
       "      <td>5840.0</td>\n",
       "      <td>-519.417733</td>\n",
       "      <td>73.968109</td>\n",
       "      <td>-799.755798</td>\n",
       "      <td>-500.368334</td>\n",
       "      <td>-500.053137</td>\n",
       "      <td>-499.794288</td>\n",
       "      <td>-313.866425</td>\n",
       "    </tr>\n",
       "    <tr>\n",
       "      <th>secondary_cleaner.state.floatbank3_b_air</th>\n",
       "      <td>5840.0</td>\n",
       "      <td>20.068079</td>\n",
       "      <td>7.644391</td>\n",
       "      <td>0.000000</td>\n",
       "      <td>15.979792</td>\n",
       "      <td>20.028317</td>\n",
       "      <td>26.958680</td>\n",
       "      <td>32.039365</td>\n",
       "    </tr>\n",
       "    <tr>\n",
       "      <th>secondary_cleaner.state.floatbank3_b_level</th>\n",
       "      <td>5840.0</td>\n",
       "      <td>-515.028316</td>\n",
       "      <td>60.457838</td>\n",
       "      <td>-809.333008</td>\n",
       "      <td>-500.172778</td>\n",
       "      <td>-500.023768</td>\n",
       "      <td>-499.895641</td>\n",
       "      <td>-202.277366</td>\n",
       "    </tr>\n",
       "    <tr>\n",
       "      <th>secondary_cleaner.state.floatbank4_a_air</th>\n",
       "      <td>5840.0</td>\n",
       "      <td>15.636031</td>\n",
       "      <td>4.660835</td>\n",
       "      <td>0.000000</td>\n",
       "      <td>12.057838</td>\n",
       "      <td>17.001867</td>\n",
       "      <td>18.030985</td>\n",
       "      <td>30.051797</td>\n",
       "    </tr>\n",
       "    <tr>\n",
       "      <th>secondary_cleaner.state.floatbank4_a_level</th>\n",
       "      <td>5840.0</td>\n",
       "      <td>-516.266074</td>\n",
       "      <td>62.756748</td>\n",
       "      <td>-799.798523</td>\n",
       "      <td>-501.054741</td>\n",
       "      <td>-500.160145</td>\n",
       "      <td>-499.441529</td>\n",
       "      <td>-401.565212</td>\n",
       "    </tr>\n",
       "    <tr>\n",
       "      <th>secondary_cleaner.state.floatbank4_b_air</th>\n",
       "      <td>5840.0</td>\n",
       "      <td>13.145702</td>\n",
       "      <td>4.304086</td>\n",
       "      <td>0.000000</td>\n",
       "      <td>11.880119</td>\n",
       "      <td>14.952102</td>\n",
       "      <td>15.940011</td>\n",
       "      <td>31.269706</td>\n",
       "    </tr>\n",
       "    <tr>\n",
       "      <th>secondary_cleaner.state.floatbank4_b_level</th>\n",
       "      <td>5840.0</td>\n",
       "      <td>-476.338907</td>\n",
       "      <td>105.549424</td>\n",
       "      <td>-800.836914</td>\n",
       "      <td>-500.419113</td>\n",
       "      <td>-499.644328</td>\n",
       "      <td>-401.523664</td>\n",
       "      <td>-6.506986</td>\n",
       "    </tr>\n",
       "    <tr>\n",
       "      <th>secondary_cleaner.state.floatbank5_a_air</th>\n",
       "      <td>5840.0</td>\n",
       "      <td>12.308967</td>\n",
       "      <td>3.762827</td>\n",
       "      <td>-0.223393</td>\n",
       "      <td>10.123459</td>\n",
       "      <td>12.062877</td>\n",
       "      <td>15.017881</td>\n",
       "      <td>25.258848</td>\n",
       "    </tr>\n",
       "    <tr>\n",
       "      <th>secondary_cleaner.state.floatbank5_a_level</th>\n",
       "      <td>5840.0</td>\n",
       "      <td>-512.208126</td>\n",
       "      <td>58.864651</td>\n",
       "      <td>-799.661076</td>\n",
       "      <td>-500.879383</td>\n",
       "      <td>-500.047621</td>\n",
       "      <td>-499.297033</td>\n",
       "      <td>-244.483566</td>\n",
       "    </tr>\n",
       "    <tr>\n",
       "      <th>secondary_cleaner.state.floatbank5_b_air</th>\n",
       "      <td>5840.0</td>\n",
       "      <td>9.470986</td>\n",
       "      <td>3.312471</td>\n",
       "      <td>0.528083</td>\n",
       "      <td>7.991208</td>\n",
       "      <td>9.980774</td>\n",
       "      <td>11.992176</td>\n",
       "      <td>14.090194</td>\n",
       "    </tr>\n",
       "    <tr>\n",
       "      <th>secondary_cleaner.state.floatbank5_b_level</th>\n",
       "      <td>5840.0</td>\n",
       "      <td>-505.017827</td>\n",
       "      <td>68.785898</td>\n",
       "      <td>-800.220337</td>\n",
       "      <td>-500.223089</td>\n",
       "      <td>-500.001338</td>\n",
       "      <td>-499.722835</td>\n",
       "      <td>-126.463446</td>\n",
       "    </tr>\n",
       "    <tr>\n",
       "      <th>secondary_cleaner.state.floatbank6_a_air</th>\n",
       "      <td>5840.0</td>\n",
       "      <td>16.678722</td>\n",
       "      <td>5.404514</td>\n",
       "      <td>-0.079426</td>\n",
       "      <td>13.012422</td>\n",
       "      <td>16.007242</td>\n",
       "      <td>21.009076</td>\n",
       "      <td>26.705889</td>\n",
       "    </tr>\n",
       "    <tr>\n",
       "      <th>secondary_cleaner.state.floatbank6_a_level</th>\n",
       "      <td>5840.0</td>\n",
       "      <td>-512.351694</td>\n",
       "      <td>69.919839</td>\n",
       "      <td>-809.859706</td>\n",
       "      <td>-500.833821</td>\n",
       "      <td>-500.041085</td>\n",
       "      <td>-499.395621</td>\n",
       "      <td>-29.093593</td>\n",
       "    </tr>\n",
       "  </tbody>\n",
       "</table>\n",
       "</div>"
      ],
      "text/plain": [
       "                                             count         mean         std  \\\n",
       "primary_cleaner.input.sulfate               5554.0   170.515243   49.608602   \n",
       "primary_cleaner.input.depressant            5572.0     8.482873    3.353105   \n",
       "primary_cleaner.input.feed_size             5856.0     7.264651    0.611526   \n",
       "primary_cleaner.input.xanthate              5690.0     1.321420    0.693246   \n",
       "primary_cleaner.state.floatbank8_a_air      5840.0  1481.990241  310.453166   \n",
       "primary_cleaner.state.floatbank8_a_level    5840.0  -509.057796   61.339256   \n",
       "primary_cleaner.state.floatbank8_b_air      5840.0  1486.908670  313.224286   \n",
       "primary_cleaner.state.floatbank8_b_level    5840.0  -511.743956   67.139074   \n",
       "primary_cleaner.state.floatbank8_c_air      5840.0  1468.495216  309.980748   \n",
       "primary_cleaner.state.floatbank8_c_level    5840.0  -509.741212   62.671873   \n",
       "primary_cleaner.state.floatbank8_d_air      5840.0  1486.398557  313.725248   \n",
       "primary_cleaner.state.floatbank8_d_level    5840.0  -510.723606   65.417633   \n",
       "rougher.input.feed_ag                       5840.0     8.736170    2.985805   \n",
       "rougher.input.feed_pb                       5840.0     3.552722    1.326113   \n",
       "rougher.input.feed_rate                     5816.0   458.485472  155.958272   \n",
       "rougher.input.feed_size                     5834.0    55.937535   22.724254   \n",
       "rougher.input.feed_sol                      5789.0    35.105834   10.793249   \n",
       "rougher.input.feed_au                       5840.0     8.700930    2.803046   \n",
       "rougher.input.floatbank10_sulfate           5599.0    13.439933    3.997715   \n",
       "rougher.input.floatbank10_xanthate          5733.0     6.169553    1.673606   \n",
       "rougher.input.floatbank11_sulfate           5801.0    13.056047    4.533948   \n",
       "rougher.input.floatbank11_xanthate          5503.0     6.423566    1.120371   \n",
       "rougher.state.floatbank10_a_air             5839.0  1016.294703  226.494775   \n",
       "rougher.state.floatbank10_a_level           5840.0  -404.977728  100.953782   \n",
       "rougher.state.floatbank10_b_air             5839.0  1270.598553  285.247715   \n",
       "rougher.state.floatbank10_b_level           5840.0  -482.154567   55.399631   \n",
       "rougher.state.floatbank10_c_air             5839.0  1253.495045  290.703157   \n",
       "rougher.state.floatbank10_c_level           5840.0  -480.945868   53.759053   \n",
       "rougher.state.floatbank10_d_air             5839.0  1169.675564  285.407244   \n",
       "rougher.state.floatbank10_d_level           5840.0  -482.152253   54.967985   \n",
       "rougher.state.floatbank10_e_air             5839.0  1018.386311  231.675756   \n",
       "rougher.state.floatbank10_e_level           5840.0  -476.551547   67.002595   \n",
       "rougher.state.floatbank10_f_air             5839.0   962.005375  220.862435   \n",
       "rougher.state.floatbank10_f_level           5840.0  -477.795380   68.342305   \n",
       "secondary_cleaner.state.floatbank2_a_air    5836.0    25.479808    5.450424   \n",
       "secondary_cleaner.state.floatbank2_a_level  5840.0  -513.714941   62.448366   \n",
       "secondary_cleaner.state.floatbank2_b_air    5833.0    21.083475    5.940017   \n",
       "secondary_cleaner.state.floatbank2_b_level  5840.0  -512.325717   63.376776   \n",
       "secondary_cleaner.state.floatbank3_a_air    5822.0    24.345831    7.950733   \n",
       "secondary_cleaner.state.floatbank3_a_level  5840.0  -519.417733   73.968109   \n",
       "secondary_cleaner.state.floatbank3_b_air    5840.0    20.068079    7.644391   \n",
       "secondary_cleaner.state.floatbank3_b_level  5840.0  -515.028316   60.457838   \n",
       "secondary_cleaner.state.floatbank4_a_air    5840.0    15.636031    4.660835   \n",
       "secondary_cleaner.state.floatbank4_a_level  5840.0  -516.266074   62.756748   \n",
       "secondary_cleaner.state.floatbank4_b_air    5840.0    13.145702    4.304086   \n",
       "secondary_cleaner.state.floatbank4_b_level  5840.0  -476.338907  105.549424   \n",
       "secondary_cleaner.state.floatbank5_a_air    5840.0    12.308967    3.762827   \n",
       "secondary_cleaner.state.floatbank5_a_level  5840.0  -512.208126   58.864651   \n",
       "secondary_cleaner.state.floatbank5_b_air    5840.0     9.470986    3.312471   \n",
       "secondary_cleaner.state.floatbank5_b_level  5840.0  -505.017827   68.785898   \n",
       "secondary_cleaner.state.floatbank6_a_air    5840.0    16.678722    5.404514   \n",
       "secondary_cleaner.state.floatbank6_a_level  5840.0  -512.351694   69.919839   \n",
       "\n",
       "                                                   min          25%  \\\n",
       "primary_cleaner.input.sulfate                 0.000103   143.340022   \n",
       "primary_cleaner.input.depressant              0.000031     6.411500   \n",
       "primary_cleaner.input.feed_size               5.650000     6.885625   \n",
       "primary_cleaner.input.xanthate                0.000003     0.888769   \n",
       "primary_cleaner.state.floatbank8_a_air        0.000000  1497.190681   \n",
       "primary_cleaner.state.floatbank8_a_level   -799.773788  -500.455211   \n",
       "primary_cleaner.state.floatbank8_b_air        0.000000  1497.150234   \n",
       "primary_cleaner.state.floatbank8_b_level   -800.029078  -500.936639   \n",
       "primary_cleaner.state.floatbank8_c_air        0.000000  1437.050321   \n",
       "primary_cleaner.state.floatbank8_c_level   -799.995127  -501.300441   \n",
       "primary_cleaner.state.floatbank8_d_air        0.000000  1498.407528   \n",
       "primary_cleaner.state.floatbank8_d_level   -799.838846  -500.553630   \n",
       "rougher.input.feed_ag                         0.000000     7.598683   \n",
       "rougher.input.feed_pb                         0.000000     3.079145   \n",
       "rougher.input.feed_rate                       0.002986   399.781738   \n",
       "rougher.input.feed_size                       0.046369    43.890852   \n",
       "rougher.input.feed_sol                        0.000000    33.381580   \n",
       "rougher.input.feed_au                         0.000000     7.763634   \n",
       "rougher.input.floatbank10_sulfate             0.000154    11.006487   \n",
       "rougher.input.floatbank10_xanthate            0.000052     5.884416   \n",
       "rougher.input.floatbank11_sulfate             0.000014    10.999216   \n",
       "rougher.input.floatbank11_xanthate            0.000055     5.994363   \n",
       "rougher.state.floatbank10_a_air              -0.123194   998.970605   \n",
       "rougher.state.floatbank10_a_level          -657.949759  -499.971279   \n",
       "rougher.state.floatbank10_b_air              -0.821921  1199.500725   \n",
       "rougher.state.floatbank10_b_level          -650.349159  -500.327705   \n",
       "rougher.state.floatbank10_c_air              -0.282087  1195.460415   \n",
       "rougher.state.floatbank10_c_level          -650.000000  -500.310780   \n",
       "rougher.state.floatbank10_d_air              -1.047388  1004.580472   \n",
       "rougher.state.floatbank10_d_level          -648.390665  -500.582886   \n",
       "rougher.state.floatbank10_e_air              -2.076798   998.870710   \n",
       "rougher.state.floatbank10_e_level          -650.152533  -500.268985   \n",
       "rougher.state.floatbank10_f_air              -2.593390   900.518560   \n",
       "rougher.state.floatbank10_f_level          -650.034631  -500.769058   \n",
       "secondary_cleaner.state.floatbank2_a_air      0.000000    24.908789   \n",
       "secondary_cleaner.state.floatbank2_a_level -799.608557  -500.244425   \n",
       "secondary_cleaner.state.floatbank2_b_air      0.000000    19.964880   \n",
       "secondary_cleaner.state.floatbank2_b_level -798.467243  -500.252962   \n",
       "secondary_cleaner.state.floatbank3_a_air      0.000000    22.033603   \n",
       "secondary_cleaner.state.floatbank3_a_level -799.755798  -500.368334   \n",
       "secondary_cleaner.state.floatbank3_b_air      0.000000    15.979792   \n",
       "secondary_cleaner.state.floatbank3_b_level -809.333008  -500.172778   \n",
       "secondary_cleaner.state.floatbank4_a_air      0.000000    12.057838   \n",
       "secondary_cleaner.state.floatbank4_a_level -799.798523  -501.054741   \n",
       "secondary_cleaner.state.floatbank4_b_air      0.000000    11.880119   \n",
       "secondary_cleaner.state.floatbank4_b_level -800.836914  -500.419113   \n",
       "secondary_cleaner.state.floatbank5_a_air     -0.223393    10.123459   \n",
       "secondary_cleaner.state.floatbank5_a_level -799.661076  -500.879383   \n",
       "secondary_cleaner.state.floatbank5_b_air      0.528083     7.991208   \n",
       "secondary_cleaner.state.floatbank5_b_level -800.220337  -500.223089   \n",
       "secondary_cleaner.state.floatbank6_a_air     -0.079426    13.012422   \n",
       "secondary_cleaner.state.floatbank6_a_level -809.859706  -500.833821   \n",
       "\n",
       "                                                    50%          75%  \\\n",
       "primary_cleaner.input.sulfate                176.103893   207.240761   \n",
       "primary_cleaner.input.depressant               8.023252    10.017725   \n",
       "primary_cleaner.input.feed_size                7.259333     7.650000   \n",
       "primary_cleaner.input.xanthate                 1.183362     1.763797   \n",
       "primary_cleaner.state.floatbank8_a_air      1554.659783  1601.681656   \n",
       "primary_cleaner.state.floatbank8_a_level    -499.997402  -499.575313   \n",
       "primary_cleaner.state.floatbank8_b_air      1553.268084  1601.784707   \n",
       "primary_cleaner.state.floatbank8_b_level    -500.066588  -499.323361   \n",
       "primary_cleaner.state.floatbank8_c_air      1546.160672  1600.785573   \n",
       "primary_cleaner.state.floatbank8_c_level    -500.079537  -499.009545   \n",
       "primary_cleaner.state.floatbank8_d_air      1552.089348  1600.781243   \n",
       "primary_cleaner.state.floatbank8_d_level    -500.045560  -499.612913   \n",
       "rougher.input.feed_ag                          9.628324    10.568373   \n",
       "rougher.input.feed_pb                          3.679706     4.241195   \n",
       "rougher.input.feed_rate                      489.533016   568.111571   \n",
       "rougher.input.feed_size                       50.002004    61.638434   \n",
       "rougher.input.feed_sol                        37.336634    41.388612   \n",
       "rougher.input.feed_au                          9.449623    10.377337   \n",
       "rougher.input.floatbank10_sulfate             14.000240    16.674640   \n",
       "rougher.input.floatbank10_xanthate             6.401502     7.002358   \n",
       "rougher.input.floatbank11_sulfate             13.998778    16.375267   \n",
       "rougher.input.floatbank11_xanthate             6.496105     7.008034   \n",
       "rougher.state.floatbank10_a_air             1000.327062  1005.088855   \n",
       "rougher.state.floatbank10_a_level           -399.817250  -300.074857   \n",
       "rougher.state.floatbank10_b_air             1300.983516  1403.256153   \n",
       "rougher.state.floatbank10_b_level           -499.875575  -497.613901   \n",
       "rougher.state.floatbank10_c_air             1298.509443  1401.907624   \n",
       "rougher.state.floatbank10_c_level           -499.810503  -497.343773   \n",
       "rougher.state.floatbank10_d_air             1202.899254  1357.767099   \n",
       "rougher.state.floatbank10_d_level           -499.757267  -495.583327   \n",
       "rougher.state.floatbank10_e_air             1001.670995  1100.884720   \n",
       "rougher.state.floatbank10_e_level           -499.801509  -497.815261   \n",
       "rougher.state.floatbank10_f_air              999.088194  1050.044643   \n",
       "rougher.state.floatbank10_f_level           -499.754468  -495.576639   \n",
       "secondary_cleaner.state.floatbank2_a_air      26.862173    28.052589   \n",
       "secondary_cleaner.state.floatbank2_a_level  -500.017410  -499.798265   \n",
       "secondary_cleaner.state.floatbank2_b_air      22.909020    24.951835   \n",
       "secondary_cleaner.state.floatbank2_b_level  -500.031103  -499.836572   \n",
       "secondary_cleaner.state.floatbank3_a_air      25.000337    29.994405   \n",
       "secondary_cleaner.state.floatbank3_a_level  -500.053137  -499.794288   \n",
       "secondary_cleaner.state.floatbank3_b_air      20.028317    26.958680   \n",
       "secondary_cleaner.state.floatbank3_b_level  -500.023768  -499.895641   \n",
       "secondary_cleaner.state.floatbank4_a_air      17.001867    18.030985   \n",
       "secondary_cleaner.state.floatbank4_a_level  -500.160145  -499.441529   \n",
       "secondary_cleaner.state.floatbank4_b_air      14.952102    15.940011   \n",
       "secondary_cleaner.state.floatbank4_b_level  -499.644328  -401.523664   \n",
       "secondary_cleaner.state.floatbank5_a_air      12.062877    15.017881   \n",
       "secondary_cleaner.state.floatbank5_a_level  -500.047621  -499.297033   \n",
       "secondary_cleaner.state.floatbank5_b_air       9.980774    11.992176   \n",
       "secondary_cleaner.state.floatbank5_b_level  -500.001338  -499.722835   \n",
       "secondary_cleaner.state.floatbank6_a_air      16.007242    21.009076   \n",
       "secondary_cleaner.state.floatbank6_a_level  -500.041085  -499.395621   \n",
       "\n",
       "                                                    max  \n",
       "primary_cleaner.input.sulfate                274.409626  \n",
       "primary_cleaner.input.depressant              40.024582  \n",
       "primary_cleaner.input.feed_size               15.500000  \n",
       "primary_cleaner.input.xanthate                 5.433169  \n",
       "primary_cleaner.state.floatbank8_a_air      2212.432090  \n",
       "primary_cleaner.state.floatbank8_a_level     -57.195404  \n",
       "primary_cleaner.state.floatbank8_b_air      1975.147923  \n",
       "primary_cleaner.state.floatbank8_b_level    -142.527229  \n",
       "primary_cleaner.state.floatbank8_c_air      1715.053773  \n",
       "primary_cleaner.state.floatbank8_c_level    -150.937035  \n",
       "primary_cleaner.state.floatbank8_d_air      1913.256561  \n",
       "primary_cleaner.state.floatbank8_d_level     -32.449456  \n",
       "rougher.input.feed_ag                         14.406130  \n",
       "rougher.input.feed_pb                          6.905684  \n",
       "rougher.input.feed_rate                      707.364020  \n",
       "rougher.input.feed_size                      477.445473  \n",
       "rougher.input.feed_sol                        53.477742  \n",
       "rougher.input.feed_au                         13.731330  \n",
       "rougher.input.floatbank10_sulfate             24.280636  \n",
       "rougher.input.floatbank10_xanthate            13.037750  \n",
       "rougher.input.floatbank11_sulfate             28.949609  \n",
       "rougher.input.floatbank11_xanthate            18.709478  \n",
       "rougher.state.floatbank10_a_air             1423.274687  \n",
       "rougher.state.floatbank10_a_level           -273.776101  \n",
       "rougher.state.floatbank10_b_air             1706.640419  \n",
       "rougher.state.floatbank10_b_level           -229.396203  \n",
       "rougher.state.floatbank10_c_air             1809.889686  \n",
       "rougher.state.floatbank10_c_level           -253.054587  \n",
       "rougher.state.floatbank10_d_air             1775.218584  \n",
       "rougher.state.floatbank10_d_level            -76.397327  \n",
       "rougher.state.floatbank10_e_air             1467.184843  \n",
       "rougher.state.floatbank10_e_level           -139.753025  \n",
       "rougher.state.floatbank10_f_air             1476.588107  \n",
       "rougher.state.floatbank10_f_level           -218.472824  \n",
       "secondary_cleaner.state.floatbank2_a_air      59.944409  \n",
       "secondary_cleaner.state.floatbank2_a_level  -300.343670  \n",
       "secondary_cleaner.state.floatbank2_b_air      60.000000  \n",
       "secondary_cleaner.state.floatbank2_b_level  -211.999273  \n",
       "secondary_cleaner.state.floatbank3_a_air      40.041997  \n",
       "secondary_cleaner.state.floatbank3_a_level  -313.866425  \n",
       "secondary_cleaner.state.floatbank3_b_air      32.039365  \n",
       "secondary_cleaner.state.floatbank3_b_level  -202.277366  \n",
       "secondary_cleaner.state.floatbank4_a_air      30.051797  \n",
       "secondary_cleaner.state.floatbank4_a_level  -401.565212  \n",
       "secondary_cleaner.state.floatbank4_b_air      31.269706  \n",
       "secondary_cleaner.state.floatbank4_b_level    -6.506986  \n",
       "secondary_cleaner.state.floatbank5_a_air      25.258848  \n",
       "secondary_cleaner.state.floatbank5_a_level  -244.483566  \n",
       "secondary_cleaner.state.floatbank5_b_air      14.090194  \n",
       "secondary_cleaner.state.floatbank5_b_level  -126.463446  \n",
       "secondary_cleaner.state.floatbank6_a_air      26.705889  \n",
       "secondary_cleaner.state.floatbank6_a_level   -29.093593  "
      ]
     },
     "execution_count": 12,
     "metadata": {},
     "output_type": "execute_result"
    }
   ],
   "source": [
    "data_test.describe().T"
   ]
  },
  {
   "cell_type": "code",
   "execution_count": 13,
   "metadata": {
    "scrolled": true
   },
   "outputs": [
    {
     "name": "stdout",
     "output_type": "stream",
     "text": [
      "<class 'pandas.core.frame.DataFrame'>\n",
      "RangeIndex: 16860 entries, 0 to 16859\n",
      "Data columns (total 87 columns):\n",
      " #   Column                                              Non-Null Count  Dtype  \n",
      "---  ------                                              --------------  -----  \n",
      " 0   date                                                16860 non-null  object \n",
      " 1   final.output.concentrate_ag                         16788 non-null  float64\n",
      " 2   final.output.concentrate_pb                         16788 non-null  float64\n",
      " 3   final.output.concentrate_sol                        16490 non-null  float64\n",
      " 4   final.output.concentrate_au                         16789 non-null  float64\n",
      " 5   final.output.recovery                               15339 non-null  float64\n",
      " 6   final.output.tail_ag                                16794 non-null  float64\n",
      " 7   final.output.tail_pb                                16677 non-null  float64\n",
      " 8   final.output.tail_sol                               16715 non-null  float64\n",
      " 9   final.output.tail_au                                16794 non-null  float64\n",
      " 10  primary_cleaner.input.sulfate                       15553 non-null  float64\n",
      " 11  primary_cleaner.input.depressant                    15598 non-null  float64\n",
      " 12  primary_cleaner.input.feed_size                     16860 non-null  float64\n",
      " 13  primary_cleaner.input.xanthate                      15875 non-null  float64\n",
      " 14  primary_cleaner.output.concentrate_ag               16778 non-null  float64\n",
      " 15  primary_cleaner.output.concentrate_pb               16502 non-null  float64\n",
      " 16  primary_cleaner.output.concentrate_sol              16224 non-null  float64\n",
      " 17  primary_cleaner.output.concentrate_au               16778 non-null  float64\n",
      " 18  primary_cleaner.output.tail_ag                      16777 non-null  float64\n",
      " 19  primary_cleaner.output.tail_pb                      16761 non-null  float64\n",
      " 20  primary_cleaner.output.tail_sol                     16579 non-null  float64\n",
      " 21  primary_cleaner.output.tail_au                      16777 non-null  float64\n",
      " 22  primary_cleaner.state.floatbank8_a_air              16820 non-null  float64\n",
      " 23  primary_cleaner.state.floatbank8_a_level            16827 non-null  float64\n",
      " 24  primary_cleaner.state.floatbank8_b_air              16820 non-null  float64\n",
      " 25  primary_cleaner.state.floatbank8_b_level            16833 non-null  float64\n",
      " 26  primary_cleaner.state.floatbank8_c_air              16822 non-null  float64\n",
      " 27  primary_cleaner.state.floatbank8_c_level            16833 non-null  float64\n",
      " 28  primary_cleaner.state.floatbank8_d_air              16821 non-null  float64\n",
      " 29  primary_cleaner.state.floatbank8_d_level            16833 non-null  float64\n",
      " 30  rougher.calculation.sulfate_to_au_concentrate       16833 non-null  float64\n",
      " 31  rougher.calculation.floatbank10_sulfate_to_au_feed  16833 non-null  float64\n",
      " 32  rougher.calculation.floatbank11_sulfate_to_au_feed  16833 non-null  float64\n",
      " 33  rougher.calculation.au_pb_ratio                     15618 non-null  float64\n",
      " 34  rougher.input.feed_ag                               16778 non-null  float64\n",
      " 35  rougher.input.feed_pb                               16632 non-null  float64\n",
      " 36  rougher.input.feed_rate                             16347 non-null  float64\n",
      " 37  rougher.input.feed_size                             16443 non-null  float64\n",
      " 38  rougher.input.feed_sol                              16568 non-null  float64\n",
      " 39  rougher.input.feed_au                               16777 non-null  float64\n",
      " 40  rougher.input.floatbank10_sulfate                   15816 non-null  float64\n",
      " 41  rougher.input.floatbank10_xanthate                  16514 non-null  float64\n",
      " 42  rougher.input.floatbank11_sulfate                   16237 non-null  float64\n",
      " 43  rougher.input.floatbank11_xanthate                  14956 non-null  float64\n",
      " 44  rougher.output.concentrate_ag                       16778 non-null  float64\n",
      " 45  rougher.output.concentrate_pb                       16778 non-null  float64\n",
      " 46  rougher.output.concentrate_sol                      16698 non-null  float64\n",
      " 47  rougher.output.concentrate_au                       16778 non-null  float64\n",
      " 48  rougher.output.recovery                             14287 non-null  float64\n",
      " 49  rougher.output.tail_ag                              14610 non-null  float64\n",
      " 50  rougher.output.tail_pb                              16778 non-null  float64\n",
      " 51  rougher.output.tail_sol                             14611 non-null  float64\n",
      " 52  rougher.output.tail_au                              14611 non-null  float64\n",
      " 53  rougher.state.floatbank10_a_air                     16807 non-null  float64\n",
      " 54  rougher.state.floatbank10_a_level                   16807 non-null  float64\n",
      " 55  rougher.state.floatbank10_b_air                     16807 non-null  float64\n",
      " 56  rougher.state.floatbank10_b_level                   16807 non-null  float64\n",
      " 57  rougher.state.floatbank10_c_air                     16807 non-null  float64\n",
      " 58  rougher.state.floatbank10_c_level                   16814 non-null  float64\n",
      " 59  rougher.state.floatbank10_d_air                     16802 non-null  float64\n",
      " 60  rougher.state.floatbank10_d_level                   16809 non-null  float64\n",
      " 61  rougher.state.floatbank10_e_air                     16257 non-null  float64\n",
      " 62  rougher.state.floatbank10_e_level                   16809 non-null  float64\n",
      " 63  rougher.state.floatbank10_f_air                     16802 non-null  float64\n",
      " 64  rougher.state.floatbank10_f_level                   16802 non-null  float64\n",
      " 65  secondary_cleaner.output.tail_ag                    16776 non-null  float64\n",
      " 66  secondary_cleaner.output.tail_pb                    16764 non-null  float64\n",
      " 67  secondary_cleaner.output.tail_sol                   14874 non-null  float64\n",
      " 68  secondary_cleaner.output.tail_au                    16778 non-null  float64\n",
      " 69  secondary_cleaner.state.floatbank2_a_air            16497 non-null  float64\n",
      " 70  secondary_cleaner.state.floatbank2_a_level          16751 non-null  float64\n",
      " 71  secondary_cleaner.state.floatbank2_b_air            16705 non-null  float64\n",
      " 72  secondary_cleaner.state.floatbank2_b_level          16748 non-null  float64\n",
      " 73  secondary_cleaner.state.floatbank3_a_air            16763 non-null  float64\n",
      " 74  secondary_cleaner.state.floatbank3_a_level          16747 non-null  float64\n",
      " 75  secondary_cleaner.state.floatbank3_b_air            16752 non-null  float64\n",
      " 76  secondary_cleaner.state.floatbank3_b_level          16750 non-null  float64\n",
      " 77  secondary_cleaner.state.floatbank4_a_air            16731 non-null  float64\n",
      " 78  secondary_cleaner.state.floatbank4_a_level          16747 non-null  float64\n",
      " 79  secondary_cleaner.state.floatbank4_b_air            16768 non-null  float64\n",
      " 80  secondary_cleaner.state.floatbank4_b_level          16767 non-null  float64\n",
      " 81  secondary_cleaner.state.floatbank5_a_air            16775 non-null  float64\n",
      " 82  secondary_cleaner.state.floatbank5_a_level          16775 non-null  float64\n",
      " 83  secondary_cleaner.state.floatbank5_b_air            16775 non-null  float64\n",
      " 84  secondary_cleaner.state.floatbank5_b_level          16776 non-null  float64\n",
      " 85  secondary_cleaner.state.floatbank6_a_air            16757 non-null  float64\n",
      " 86  secondary_cleaner.state.floatbank6_a_level          16775 non-null  float64\n",
      "dtypes: float64(86), object(1)\n",
      "memory usage: 11.2+ MB\n"
     ]
    }
   ],
   "source": [
    "data.info()"
   ]
  },
  {
   "cell_type": "code",
   "execution_count": 14,
   "metadata": {
    "scrolled": true
   },
   "outputs": [
    {
     "name": "stdout",
     "output_type": "stream",
     "text": [
      "<class 'pandas.core.frame.DataFrame'>\n",
      "RangeIndex: 22716 entries, 0 to 22715\n",
      "Data columns (total 87 columns):\n",
      " #   Column                                              Non-Null Count  Dtype  \n",
      "---  ------                                              --------------  -----  \n",
      " 0   date                                                22716 non-null  object \n",
      " 1   final.output.concentrate_ag                         22627 non-null  float64\n",
      " 2   final.output.concentrate_pb                         22629 non-null  float64\n",
      " 3   final.output.concentrate_sol                        22331 non-null  float64\n",
      " 4   final.output.concentrate_au                         22630 non-null  float64\n",
      " 5   final.output.recovery                               20753 non-null  float64\n",
      " 6   final.output.tail_ag                                22633 non-null  float64\n",
      " 7   final.output.tail_pb                                22516 non-null  float64\n",
      " 8   final.output.tail_sol                               22445 non-null  float64\n",
      " 9   final.output.tail_au                                22635 non-null  float64\n",
      " 10  primary_cleaner.input.sulfate                       21107 non-null  float64\n",
      " 11  primary_cleaner.input.depressant                    21170 non-null  float64\n",
      " 12  primary_cleaner.input.feed_size                     22716 non-null  float64\n",
      " 13  primary_cleaner.input.xanthate                      21565 non-null  float64\n",
      " 14  primary_cleaner.output.concentrate_ag               22618 non-null  float64\n",
      " 15  primary_cleaner.output.concentrate_pb               22268 non-null  float64\n",
      " 16  primary_cleaner.output.concentrate_sol              21918 non-null  float64\n",
      " 17  primary_cleaner.output.concentrate_au               22618 non-null  float64\n",
      " 18  primary_cleaner.output.tail_ag                      22614 non-null  float64\n",
      " 19  primary_cleaner.output.tail_pb                      22594 non-null  float64\n",
      " 20  primary_cleaner.output.tail_sol                     22365 non-null  float64\n",
      " 21  primary_cleaner.output.tail_au                      22617 non-null  float64\n",
      " 22  primary_cleaner.state.floatbank8_a_air              22660 non-null  float64\n",
      " 23  primary_cleaner.state.floatbank8_a_level            22667 non-null  float64\n",
      " 24  primary_cleaner.state.floatbank8_b_air              22660 non-null  float64\n",
      " 25  primary_cleaner.state.floatbank8_b_level            22673 non-null  float64\n",
      " 26  primary_cleaner.state.floatbank8_c_air              22662 non-null  float64\n",
      " 27  primary_cleaner.state.floatbank8_c_level            22673 non-null  float64\n",
      " 28  primary_cleaner.state.floatbank8_d_air              22661 non-null  float64\n",
      " 29  primary_cleaner.state.floatbank8_d_level            22673 non-null  float64\n",
      " 30  rougher.calculation.sulfate_to_au_concentrate       22672 non-null  float64\n",
      " 31  rougher.calculation.floatbank10_sulfate_to_au_feed  22672 non-null  float64\n",
      " 32  rougher.calculation.floatbank11_sulfate_to_au_feed  22672 non-null  float64\n",
      " 33  rougher.calculation.au_pb_ratio                     21089 non-null  float64\n",
      " 34  rougher.input.feed_ag                               22618 non-null  float64\n",
      " 35  rougher.input.feed_pb                               22472 non-null  float64\n",
      " 36  rougher.input.feed_rate                             22163 non-null  float64\n",
      " 37  rougher.input.feed_size                             22277 non-null  float64\n",
      " 38  rougher.input.feed_sol                              22357 non-null  float64\n",
      " 39  rougher.input.feed_au                               22617 non-null  float64\n",
      " 40  rougher.input.floatbank10_sulfate                   21415 non-null  float64\n",
      " 41  rougher.input.floatbank10_xanthate                  22247 non-null  float64\n",
      " 42  rougher.input.floatbank11_sulfate                   22038 non-null  float64\n",
      " 43  rougher.input.floatbank11_xanthate                  20459 non-null  float64\n",
      " 44  rougher.output.concentrate_ag                       22618 non-null  float64\n",
      " 45  rougher.output.concentrate_pb                       22618 non-null  float64\n",
      " 46  rougher.output.concentrate_sol                      22526 non-null  float64\n",
      " 47  rougher.output.concentrate_au                       22618 non-null  float64\n",
      " 48  rougher.output.recovery                             19597 non-null  float64\n",
      " 49  rougher.output.tail_ag                              19979 non-null  float64\n",
      " 50  rougher.output.tail_pb                              22618 non-null  float64\n",
      " 51  rougher.output.tail_sol                             19980 non-null  float64\n",
      " 52  rougher.output.tail_au                              19980 non-null  float64\n",
      " 53  rougher.state.floatbank10_a_air                     22646 non-null  float64\n",
      " 54  rougher.state.floatbank10_a_level                   22647 non-null  float64\n",
      " 55  rougher.state.floatbank10_b_air                     22646 non-null  float64\n",
      " 56  rougher.state.floatbank10_b_level                   22647 non-null  float64\n",
      " 57  rougher.state.floatbank10_c_air                     22646 non-null  float64\n",
      " 58  rougher.state.floatbank10_c_level                   22654 non-null  float64\n",
      " 59  rougher.state.floatbank10_d_air                     22641 non-null  float64\n",
      " 60  rougher.state.floatbank10_d_level                   22649 non-null  float64\n",
      " 61  rougher.state.floatbank10_e_air                     22096 non-null  float64\n",
      " 62  rougher.state.floatbank10_e_level                   22649 non-null  float64\n",
      " 63  rougher.state.floatbank10_f_air                     22641 non-null  float64\n",
      " 64  rougher.state.floatbank10_f_level                   22642 non-null  float64\n",
      " 65  secondary_cleaner.output.tail_ag                    22616 non-null  float64\n",
      " 66  secondary_cleaner.output.tail_pb                    22600 non-null  float64\n",
      " 67  secondary_cleaner.output.tail_sol                   20501 non-null  float64\n",
      " 68  secondary_cleaner.output.tail_au                    22618 non-null  float64\n",
      " 69  secondary_cleaner.state.floatbank2_a_air            22333 non-null  float64\n",
      " 70  secondary_cleaner.state.floatbank2_a_level          22591 non-null  float64\n",
      " 71  secondary_cleaner.state.floatbank2_b_air            22538 non-null  float64\n",
      " 72  secondary_cleaner.state.floatbank2_b_level          22588 non-null  float64\n",
      " 73  secondary_cleaner.state.floatbank3_a_air            22585 non-null  float64\n",
      " 74  secondary_cleaner.state.floatbank3_a_level          22587 non-null  float64\n",
      " 75  secondary_cleaner.state.floatbank3_b_air            22592 non-null  float64\n",
      " 76  secondary_cleaner.state.floatbank3_b_level          22590 non-null  float64\n",
      " 77  secondary_cleaner.state.floatbank4_a_air            22571 non-null  float64\n",
      " 78  secondary_cleaner.state.floatbank4_a_level          22587 non-null  float64\n",
      " 79  secondary_cleaner.state.floatbank4_b_air            22608 non-null  float64\n",
      " 80  secondary_cleaner.state.floatbank4_b_level          22607 non-null  float64\n",
      " 81  secondary_cleaner.state.floatbank5_a_air            22615 non-null  float64\n",
      " 82  secondary_cleaner.state.floatbank5_a_level          22615 non-null  float64\n",
      " 83  secondary_cleaner.state.floatbank5_b_air            22615 non-null  float64\n",
      " 84  secondary_cleaner.state.floatbank5_b_level          22616 non-null  float64\n",
      " 85  secondary_cleaner.state.floatbank6_a_air            22597 non-null  float64\n",
      " 86  secondary_cleaner.state.floatbank6_a_level          22615 non-null  float64\n",
      "dtypes: float64(86), object(1)\n",
      "memory usage: 15.1+ MB\n"
     ]
    }
   ],
   "source": [
    "data_full.info()"
   ]
  },
  {
   "cell_type": "code",
   "execution_count": 15,
   "metadata": {
    "scrolled": true
   },
   "outputs": [
    {
     "name": "stdout",
     "output_type": "stream",
     "text": [
      "<class 'pandas.core.frame.DataFrame'>\n",
      "RangeIndex: 5856 entries, 0 to 5855\n",
      "Data columns (total 53 columns):\n",
      " #   Column                                      Non-Null Count  Dtype  \n",
      "---  ------                                      --------------  -----  \n",
      " 0   date                                        5856 non-null   object \n",
      " 1   primary_cleaner.input.sulfate               5554 non-null   float64\n",
      " 2   primary_cleaner.input.depressant            5572 non-null   float64\n",
      " 3   primary_cleaner.input.feed_size             5856 non-null   float64\n",
      " 4   primary_cleaner.input.xanthate              5690 non-null   float64\n",
      " 5   primary_cleaner.state.floatbank8_a_air      5840 non-null   float64\n",
      " 6   primary_cleaner.state.floatbank8_a_level    5840 non-null   float64\n",
      " 7   primary_cleaner.state.floatbank8_b_air      5840 non-null   float64\n",
      " 8   primary_cleaner.state.floatbank8_b_level    5840 non-null   float64\n",
      " 9   primary_cleaner.state.floatbank8_c_air      5840 non-null   float64\n",
      " 10  primary_cleaner.state.floatbank8_c_level    5840 non-null   float64\n",
      " 11  primary_cleaner.state.floatbank8_d_air      5840 non-null   float64\n",
      " 12  primary_cleaner.state.floatbank8_d_level    5840 non-null   float64\n",
      " 13  rougher.input.feed_ag                       5840 non-null   float64\n",
      " 14  rougher.input.feed_pb                       5840 non-null   float64\n",
      " 15  rougher.input.feed_rate                     5816 non-null   float64\n",
      " 16  rougher.input.feed_size                     5834 non-null   float64\n",
      " 17  rougher.input.feed_sol                      5789 non-null   float64\n",
      " 18  rougher.input.feed_au                       5840 non-null   float64\n",
      " 19  rougher.input.floatbank10_sulfate           5599 non-null   float64\n",
      " 20  rougher.input.floatbank10_xanthate          5733 non-null   float64\n",
      " 21  rougher.input.floatbank11_sulfate           5801 non-null   float64\n",
      " 22  rougher.input.floatbank11_xanthate          5503 non-null   float64\n",
      " 23  rougher.state.floatbank10_a_air             5839 non-null   float64\n",
      " 24  rougher.state.floatbank10_a_level           5840 non-null   float64\n",
      " 25  rougher.state.floatbank10_b_air             5839 non-null   float64\n",
      " 26  rougher.state.floatbank10_b_level           5840 non-null   float64\n",
      " 27  rougher.state.floatbank10_c_air             5839 non-null   float64\n",
      " 28  rougher.state.floatbank10_c_level           5840 non-null   float64\n",
      " 29  rougher.state.floatbank10_d_air             5839 non-null   float64\n",
      " 30  rougher.state.floatbank10_d_level           5840 non-null   float64\n",
      " 31  rougher.state.floatbank10_e_air             5839 non-null   float64\n",
      " 32  rougher.state.floatbank10_e_level           5840 non-null   float64\n",
      " 33  rougher.state.floatbank10_f_air             5839 non-null   float64\n",
      " 34  rougher.state.floatbank10_f_level           5840 non-null   float64\n",
      " 35  secondary_cleaner.state.floatbank2_a_air    5836 non-null   float64\n",
      " 36  secondary_cleaner.state.floatbank2_a_level  5840 non-null   float64\n",
      " 37  secondary_cleaner.state.floatbank2_b_air    5833 non-null   float64\n",
      " 38  secondary_cleaner.state.floatbank2_b_level  5840 non-null   float64\n",
      " 39  secondary_cleaner.state.floatbank3_a_air    5822 non-null   float64\n",
      " 40  secondary_cleaner.state.floatbank3_a_level  5840 non-null   float64\n",
      " 41  secondary_cleaner.state.floatbank3_b_air    5840 non-null   float64\n",
      " 42  secondary_cleaner.state.floatbank3_b_level  5840 non-null   float64\n",
      " 43  secondary_cleaner.state.floatbank4_a_air    5840 non-null   float64\n",
      " 44  secondary_cleaner.state.floatbank4_a_level  5840 non-null   float64\n",
      " 45  secondary_cleaner.state.floatbank4_b_air    5840 non-null   float64\n",
      " 46  secondary_cleaner.state.floatbank4_b_level  5840 non-null   float64\n",
      " 47  secondary_cleaner.state.floatbank5_a_air    5840 non-null   float64\n",
      " 48  secondary_cleaner.state.floatbank5_a_level  5840 non-null   float64\n",
      " 49  secondary_cleaner.state.floatbank5_b_air    5840 non-null   float64\n",
      " 50  secondary_cleaner.state.floatbank5_b_level  5840 non-null   float64\n",
      " 51  secondary_cleaner.state.floatbank6_a_air    5840 non-null   float64\n",
      " 52  secondary_cleaner.state.floatbank6_a_level  5840 non-null   float64\n",
      "dtypes: float64(52), object(1)\n",
      "memory usage: 2.4+ MB\n"
     ]
    }
   ],
   "source": [
    "data_test.info()"
   ]
  },
  {
   "cell_type": "markdown",
   "metadata": {},
   "source": [
    "В обучающей выборке и в полных данных 87 колонок, в тестовой выборке 53 колонки. Обучающая и тестовая выборки разделены в пропорции 3 : 1. В данных имеются пропуски.\n",
    "\n",
    "Целевыми признаками являются столбцы *'rougher.output.recovery'* и *'final.output.recovery'*, это количественные значения, поэтому в данном проекте будет решаться задача регрессии."
   ]
  },
  {
   "cell_type": "markdown",
   "metadata": {},
   "source": [
    "Проверим данные на наличие дубликатов."
   ]
  },
  {
   "cell_type": "code",
   "execution_count": 16,
   "metadata": {},
   "outputs": [
    {
     "data": {
      "text/plain": [
       "0"
      ]
     },
     "execution_count": 16,
     "metadata": {},
     "output_type": "execute_result"
    }
   ],
   "source": [
    "data_full.duplicated().sum()"
   ]
  },
  {
   "cell_type": "markdown",
   "metadata": {},
   "source": [
    "Дубликатов нет.\n",
    "\n",
    "Для быстрого доступа к названиям столбцов данных выведем на экран названия столбцов выборки `data`."
   ]
  },
  {
   "cell_type": "code",
   "execution_count": 17,
   "metadata": {
    "scrolled": true
   },
   "outputs": [
    {
     "data": {
      "text/plain": [
       "Index(['date', 'final.output.concentrate_ag', 'final.output.concentrate_pb',\n",
       "       'final.output.concentrate_sol', 'final.output.concentrate_au',\n",
       "       'final.output.recovery', 'final.output.tail_ag', 'final.output.tail_pb',\n",
       "       'final.output.tail_sol', 'final.output.tail_au',\n",
       "       'primary_cleaner.input.sulfate', 'primary_cleaner.input.depressant',\n",
       "       'primary_cleaner.input.feed_size', 'primary_cleaner.input.xanthate',\n",
       "       'primary_cleaner.output.concentrate_ag',\n",
       "       'primary_cleaner.output.concentrate_pb',\n",
       "       'primary_cleaner.output.concentrate_sol',\n",
       "       'primary_cleaner.output.concentrate_au',\n",
       "       'primary_cleaner.output.tail_ag', 'primary_cleaner.output.tail_pb',\n",
       "       'primary_cleaner.output.tail_sol', 'primary_cleaner.output.tail_au',\n",
       "       'primary_cleaner.state.floatbank8_a_air',\n",
       "       'primary_cleaner.state.floatbank8_a_level',\n",
       "       'primary_cleaner.state.floatbank8_b_air',\n",
       "       'primary_cleaner.state.floatbank8_b_level',\n",
       "       'primary_cleaner.state.floatbank8_c_air',\n",
       "       'primary_cleaner.state.floatbank8_c_level',\n",
       "       'primary_cleaner.state.floatbank8_d_air',\n",
       "       'primary_cleaner.state.floatbank8_d_level',\n",
       "       'rougher.calculation.sulfate_to_au_concentrate',\n",
       "       'rougher.calculation.floatbank10_sulfate_to_au_feed',\n",
       "       'rougher.calculation.floatbank11_sulfate_to_au_feed',\n",
       "       'rougher.calculation.au_pb_ratio', 'rougher.input.feed_ag',\n",
       "       'rougher.input.feed_pb', 'rougher.input.feed_rate',\n",
       "       'rougher.input.feed_size', 'rougher.input.feed_sol',\n",
       "       'rougher.input.feed_au', 'rougher.input.floatbank10_sulfate',\n",
       "       'rougher.input.floatbank10_xanthate',\n",
       "       'rougher.input.floatbank11_sulfate',\n",
       "       'rougher.input.floatbank11_xanthate', 'rougher.output.concentrate_ag',\n",
       "       'rougher.output.concentrate_pb', 'rougher.output.concentrate_sol',\n",
       "       'rougher.output.concentrate_au', 'rougher.output.recovery',\n",
       "       'rougher.output.tail_ag', 'rougher.output.tail_pb',\n",
       "       'rougher.output.tail_sol', 'rougher.output.tail_au',\n",
       "       'rougher.state.floatbank10_a_air', 'rougher.state.floatbank10_a_level',\n",
       "       'rougher.state.floatbank10_b_air', 'rougher.state.floatbank10_b_level',\n",
       "       'rougher.state.floatbank10_c_air', 'rougher.state.floatbank10_c_level',\n",
       "       'rougher.state.floatbank10_d_air', 'rougher.state.floatbank10_d_level',\n",
       "       'rougher.state.floatbank10_e_air', 'rougher.state.floatbank10_e_level',\n",
       "       'rougher.state.floatbank10_f_air', 'rougher.state.floatbank10_f_level',\n",
       "       'secondary_cleaner.output.tail_ag', 'secondary_cleaner.output.tail_pb',\n",
       "       'secondary_cleaner.output.tail_sol', 'secondary_cleaner.output.tail_au',\n",
       "       'secondary_cleaner.state.floatbank2_a_air',\n",
       "       'secondary_cleaner.state.floatbank2_a_level',\n",
       "       'secondary_cleaner.state.floatbank2_b_air',\n",
       "       'secondary_cleaner.state.floatbank2_b_level',\n",
       "       'secondary_cleaner.state.floatbank3_a_air',\n",
       "       'secondary_cleaner.state.floatbank3_a_level',\n",
       "       'secondary_cleaner.state.floatbank3_b_air',\n",
       "       'secondary_cleaner.state.floatbank3_b_level',\n",
       "       'secondary_cleaner.state.floatbank4_a_air',\n",
       "       'secondary_cleaner.state.floatbank4_a_level',\n",
       "       'secondary_cleaner.state.floatbank4_b_air',\n",
       "       'secondary_cleaner.state.floatbank4_b_level',\n",
       "       'secondary_cleaner.state.floatbank5_a_air',\n",
       "       'secondary_cleaner.state.floatbank5_a_level',\n",
       "       'secondary_cleaner.state.floatbank5_b_air',\n",
       "       'secondary_cleaner.state.floatbank5_b_level',\n",
       "       'secondary_cleaner.state.floatbank6_a_air',\n",
       "       'secondary_cleaner.state.floatbank6_a_level'],\n",
       "      dtype='object')"
      ]
     },
     "execution_count": 17,
     "metadata": {},
     "output_type": "execute_result"
    }
   ],
   "source": [
    "data.columns"
   ]
  },
  {
   "cell_type": "markdown",
   "metadata": {},
   "source": [
    "### 1.2 Проверка эффективности обогащения"
   ]
  },
  {
   "cell_type": "markdown",
   "metadata": {},
   "source": [
    "По инструкции выполнения проекта необходимо проверить правильность расчета эффективности обогащения для признака `rougher.output.recovery`. Запишем в переменную `check` значения столбца *'rougher.output.recovery'*."
   ]
  },
  {
   "cell_type": "code",
   "execution_count": 18,
   "metadata": {},
   "outputs": [],
   "source": [
    "check = data.loc[:, ['rougher.output.recovery']]"
   ]
  },
  {
   "cell_type": "markdown",
   "metadata": {},
   "source": [
    "Посмотрим, что получилось."
   ]
  },
  {
   "cell_type": "code",
   "execution_count": 19,
   "metadata": {
    "scrolled": true
   },
   "outputs": [
    {
     "data": {
      "text/html": [
       "<div>\n",
       "<style scoped>\n",
       "    .dataframe tbody tr th:only-of-type {\n",
       "        vertical-align: middle;\n",
       "    }\n",
       "\n",
       "    .dataframe tbody tr th {\n",
       "        vertical-align: top;\n",
       "    }\n",
       "\n",
       "    .dataframe thead th {\n",
       "        text-align: right;\n",
       "    }\n",
       "</style>\n",
       "<table border=\"1\" class=\"dataframe\">\n",
       "  <thead>\n",
       "    <tr style=\"text-align: right;\">\n",
       "      <th></th>\n",
       "      <th>rougher.output.recovery</th>\n",
       "    </tr>\n",
       "  </thead>\n",
       "  <tbody>\n",
       "    <tr>\n",
       "      <th>0</th>\n",
       "      <td>87.107763</td>\n",
       "    </tr>\n",
       "    <tr>\n",
       "      <th>1</th>\n",
       "      <td>86.843261</td>\n",
       "    </tr>\n",
       "    <tr>\n",
       "      <th>2</th>\n",
       "      <td>86.842308</td>\n",
       "    </tr>\n",
       "    <tr>\n",
       "      <th>3</th>\n",
       "      <td>87.226430</td>\n",
       "    </tr>\n",
       "    <tr>\n",
       "      <th>4</th>\n",
       "      <td>86.688794</td>\n",
       "    </tr>\n",
       "    <tr>\n",
       "      <th>...</th>\n",
       "      <td>...</td>\n",
       "    </tr>\n",
       "    <tr>\n",
       "      <th>16855</th>\n",
       "      <td>89.574376</td>\n",
       "    </tr>\n",
       "    <tr>\n",
       "      <th>16856</th>\n",
       "      <td>87.724007</td>\n",
       "    </tr>\n",
       "    <tr>\n",
       "      <th>16857</th>\n",
       "      <td>88.890579</td>\n",
       "    </tr>\n",
       "    <tr>\n",
       "      <th>16858</th>\n",
       "      <td>89.858126</td>\n",
       "    </tr>\n",
       "    <tr>\n",
       "      <th>16859</th>\n",
       "      <td>89.514960</td>\n",
       "    </tr>\n",
       "  </tbody>\n",
       "</table>\n",
       "<p>16860 rows × 1 columns</p>\n",
       "</div>"
      ],
      "text/plain": [
       "       rougher.output.recovery\n",
       "0                    87.107763\n",
       "1                    86.843261\n",
       "2                    86.842308\n",
       "3                    87.226430\n",
       "4                    86.688794\n",
       "...                        ...\n",
       "16855                89.574376\n",
       "16856                87.724007\n",
       "16857                88.890579\n",
       "16858                89.858126\n",
       "16859                89.514960\n",
       "\n",
       "[16860 rows x 1 columns]"
      ]
     },
     "execution_count": 19,
     "metadata": {},
     "output_type": "execute_result"
    }
   ],
   "source": [
    "check"
   ]
  },
  {
   "cell_type": "markdown",
   "metadata": {},
   "source": [
    "Напишем функцию `recovery`, которая будет считать эффективность обогащения. Она принимает на вход три аргумента:\n",
    "* C — доля золота в концентрате после флотации/очистки;\n",
    "* F — доля золота в сырье/концентрате до флотации/очистки;\n",
    "* T — доля золота в отвальных хвостах после флотации/очистки."
   ]
  },
  {
   "cell_type": "code",
   "execution_count": 20,
   "metadata": {},
   "outputs": [],
   "source": [
    "def recovery(C, F, T):\n",
    "    return 100 * C * ((F - T) / (F * (C - T)))"
   ]
  },
  {
   "cell_type": "markdown",
   "metadata": {},
   "source": [
    "Посчитаем эффективность обогащения, запишем значения в столбец *'my_recovery'* таблицы `check`."
   ]
  },
  {
   "cell_type": "code",
   "execution_count": 21,
   "metadata": {},
   "outputs": [],
   "source": [
    "check['my_recovery'] = recovery(data['rougher.output.concentrate_au'], data['rougher.input.feed_au'], data['rougher.output.tail_au'])"
   ]
  },
  {
   "cell_type": "markdown",
   "metadata": {},
   "source": [
    "Выведем таблицу на экран."
   ]
  },
  {
   "cell_type": "code",
   "execution_count": 22,
   "metadata": {},
   "outputs": [
    {
     "data": {
      "text/html": [
       "<div>\n",
       "<style scoped>\n",
       "    .dataframe tbody tr th:only-of-type {\n",
       "        vertical-align: middle;\n",
       "    }\n",
       "\n",
       "    .dataframe tbody tr th {\n",
       "        vertical-align: top;\n",
       "    }\n",
       "\n",
       "    .dataframe thead th {\n",
       "        text-align: right;\n",
       "    }\n",
       "</style>\n",
       "<table border=\"1\" class=\"dataframe\">\n",
       "  <thead>\n",
       "    <tr style=\"text-align: right;\">\n",
       "      <th></th>\n",
       "      <th>rougher.output.recovery</th>\n",
       "      <th>my_recovery</th>\n",
       "    </tr>\n",
       "  </thead>\n",
       "  <tbody>\n",
       "    <tr>\n",
       "      <th>0</th>\n",
       "      <td>87.107763</td>\n",
       "      <td>87.107763</td>\n",
       "    </tr>\n",
       "    <tr>\n",
       "      <th>1</th>\n",
       "      <td>86.843261</td>\n",
       "      <td>86.843261</td>\n",
       "    </tr>\n",
       "    <tr>\n",
       "      <th>2</th>\n",
       "      <td>86.842308</td>\n",
       "      <td>86.842308</td>\n",
       "    </tr>\n",
       "    <tr>\n",
       "      <th>3</th>\n",
       "      <td>87.226430</td>\n",
       "      <td>87.226430</td>\n",
       "    </tr>\n",
       "    <tr>\n",
       "      <th>4</th>\n",
       "      <td>86.688794</td>\n",
       "      <td>86.688794</td>\n",
       "    </tr>\n",
       "    <tr>\n",
       "      <th>...</th>\n",
       "      <td>...</td>\n",
       "      <td>...</td>\n",
       "    </tr>\n",
       "    <tr>\n",
       "      <th>16855</th>\n",
       "      <td>89.574376</td>\n",
       "      <td>89.574376</td>\n",
       "    </tr>\n",
       "    <tr>\n",
       "      <th>16856</th>\n",
       "      <td>87.724007</td>\n",
       "      <td>87.724007</td>\n",
       "    </tr>\n",
       "    <tr>\n",
       "      <th>16857</th>\n",
       "      <td>88.890579</td>\n",
       "      <td>88.890579</td>\n",
       "    </tr>\n",
       "    <tr>\n",
       "      <th>16858</th>\n",
       "      <td>89.858126</td>\n",
       "      <td>89.858126</td>\n",
       "    </tr>\n",
       "    <tr>\n",
       "      <th>16859</th>\n",
       "      <td>89.514960</td>\n",
       "      <td>89.514960</td>\n",
       "    </tr>\n",
       "  </tbody>\n",
       "</table>\n",
       "<p>16860 rows × 2 columns</p>\n",
       "</div>"
      ],
      "text/plain": [
       "       rougher.output.recovery  my_recovery\n",
       "0                    87.107763    87.107763\n",
       "1                    86.843261    86.843261\n",
       "2                    86.842308    86.842308\n",
       "3                    87.226430    87.226430\n",
       "4                    86.688794    86.688794\n",
       "...                        ...          ...\n",
       "16855                89.574376    89.574376\n",
       "16856                87.724007    87.724007\n",
       "16857                88.890579    88.890579\n",
       "16858                89.858126    89.858126\n",
       "16859                89.514960    89.514960\n",
       "\n",
       "[16860 rows x 2 columns]"
      ]
     },
     "execution_count": 22,
     "metadata": {},
     "output_type": "execute_result"
    }
   ],
   "source": [
    "check"
   ]
  },
  {
   "cell_type": "markdown",
   "metadata": {},
   "source": [
    "Вроде значения похожи, для полной уверенности необходимо посчитать MAE между исходными и посчитанными значениями.\n",
    "Выведем на экран информацию о таблице `check`."
   ]
  },
  {
   "cell_type": "code",
   "execution_count": 23,
   "metadata": {},
   "outputs": [
    {
     "name": "stdout",
     "output_type": "stream",
     "text": [
      "<class 'pandas.core.frame.DataFrame'>\n",
      "RangeIndex: 16860 entries, 0 to 16859\n",
      "Data columns (total 2 columns):\n",
      " #   Column                   Non-Null Count  Dtype  \n",
      "---  ------                   --------------  -----  \n",
      " 0   rougher.output.recovery  14287 non-null  float64\n",
      " 1   my_recovery              14577 non-null  float64\n",
      "dtypes: float64(2)\n",
      "memory usage: 263.6 KB\n"
     ]
    }
   ],
   "source": [
    "check.info()"
   ]
  },
  {
   "cell_type": "markdown",
   "metadata": {},
   "source": [
    "В таблице есть пропуски. Для подсчета MAE удалим пропущенные строки из таблицы."
   ]
  },
  {
   "cell_type": "code",
   "execution_count": 24,
   "metadata": {},
   "outputs": [],
   "source": [
    "check = check.dropna()"
   ]
  },
  {
   "cell_type": "markdown",
   "metadata": {},
   "source": [
    "Посчитаем MAE."
   ]
  },
  {
   "cell_type": "code",
   "execution_count": 25,
   "metadata": {},
   "outputs": [],
   "source": [
    "MAE = mean_absolute_error(check['rougher.output.recovery'], check['my_recovery'])"
   ]
  },
  {
   "cell_type": "code",
   "execution_count": 26,
   "metadata": {},
   "outputs": [
    {
     "data": {
      "text/plain": [
       "1.1282514239891264e-14"
      ]
     },
     "execution_count": 26,
     "metadata": {},
     "output_type": "execute_result"
    }
   ],
   "source": [
    "MAE"
   ]
  },
  {
   "cell_type": "markdown",
   "metadata": {},
   "source": [
    "Можно с полной уверенностью сказать, что исходные значения *'rougher.output.recovery'* посчитаны правильно."
   ]
  },
  {
   "cell_type": "markdown",
   "metadata": {},
   "source": [
    "* На данном этапе выяснился важный момент, что посчитанных значений эффективности обогащения оказалось больше, чем есть исходных, таким образом часть пропущенных значений *'rougher.output.recovery'* и *'final.output.recovery'* можно восстановить.\n",
    "\n",
    "<font color=\"blue\"> Но также оказалось, что среди посчитанных по формуле значений есть -inf, inf, поэтому я отказался от идеи пересчитывать эффективности. </font>\n",
    "\n",
    "* Также по условию проекта в тестовой выборке отсутствуют целевые признаки, но предсказания модели на тестовой выборке нужно будет как-то оценить, поэтому было решено восстановленные значения целевых признаков исходного датасета добавить к тестовой выборке."
   ]
  },
  {
   "cell_type": "markdown",
   "metadata": {},
   "source": [
    "### 1.3 Добавление целевых признаков в тестовую выборку "
   ]
  },
  {
   "cell_type": "markdown",
   "metadata": {},
   "source": [
    "Для добавления целевых признаков в тестовую выборку будем использовать значения столбца *'date'*, которые являются уникальными идентификаторами строк.\n",
    "\n",
    "Создадим выборку `rec_for_test` из исходного датасета. Возьмем необходимые столбцы."
   ]
  },
  {
   "cell_type": "code",
   "execution_count": 27,
   "metadata": {},
   "outputs": [],
   "source": [
    "rec_for_test = data_full.loc[:, ['date', 'rougher.output.recovery', 'final.output.recovery']]"
   ]
  },
  {
   "cell_type": "markdown",
   "metadata": {},
   "source": [
    "Добавим к тестовой выборке `data_test` соответствующие по дате значения *'rougher.output.recovery'* и *'final.output.recovery'* из выборки `rec_for_test`."
   ]
  },
  {
   "cell_type": "code",
   "execution_count": 28,
   "metadata": {},
   "outputs": [],
   "source": [
    "data_test = data_test.merge(rec_for_test, on='date', how='left')"
   ]
  },
  {
   "cell_type": "markdown",
   "metadata": {},
   "source": [
    "Теперь по тестовой выборке можно будет объективно оценить предсказанные значения."
   ]
  },
  {
   "cell_type": "markdown",
   "metadata": {},
   "source": [
    "### 1.4 Анализ признаков, недоступных в тестовой выборке"
   ]
  },
  {
   "cell_type": "markdown",
   "metadata": {},
   "source": [
    "Создадим переменные, в которые запишем списки с названиями столбцов обучающей и тестовой выборок."
   ]
  },
  {
   "cell_type": "code",
   "execution_count": 29,
   "metadata": {},
   "outputs": [],
   "source": [
    "full_list = data.columns\n",
    "part_list = data_test.columns"
   ]
  },
  {
   "cell_type": "markdown",
   "metadata": {},
   "source": [
    "Найдем признаки, которые отсутствуют в тестовой выборке."
   ]
  },
  {
   "cell_type": "code",
   "execution_count": 30,
   "metadata": {},
   "outputs": [],
   "source": [
    "lack_list = []                      # создаем пустой список для хранений отсутствующих признаков\n",
    "for element in full_list:           # перебираем элементы в full_list\n",
    "    if element not in part_list:    # проверяем отсутствует ли такой же элемент в part_list\n",
    "        lack_list.append(element)   # если отсутствует, то добавляем его в список lack_list"
   ]
  },
  {
   "cell_type": "markdown",
   "metadata": {},
   "source": [
    "Проверим, что получилось."
   ]
  },
  {
   "cell_type": "code",
   "execution_count": 31,
   "metadata": {},
   "outputs": [
    {
     "data": {
      "text/plain": [
       "87"
      ]
     },
     "execution_count": 31,
     "metadata": {},
     "output_type": "execute_result"
    }
   ],
   "source": [
    "len(full_list)"
   ]
  },
  {
   "cell_type": "code",
   "execution_count": 32,
   "metadata": {},
   "outputs": [
    {
     "data": {
      "text/plain": [
       "55"
      ]
     },
     "execution_count": 32,
     "metadata": {},
     "output_type": "execute_result"
    }
   ],
   "source": [
    "len(part_list)"
   ]
  },
  {
   "cell_type": "code",
   "execution_count": 33,
   "metadata": {},
   "outputs": [
    {
     "data": {
      "text/plain": [
       "32"
      ]
     },
     "execution_count": 33,
     "metadata": {},
     "output_type": "execute_result"
    }
   ],
   "source": [
    "len(lack_list)"
   ]
  },
  {
   "cell_type": "markdown",
   "metadata": {},
   "source": [
    "Судя по цифрам, все правильно.\n",
    "\n",
    "Выведем список отсутствующих признаков на экран."
   ]
  },
  {
   "cell_type": "code",
   "execution_count": 34,
   "metadata": {},
   "outputs": [
    {
     "data": {
      "text/plain": [
       "['final.output.concentrate_ag',\n",
       " 'final.output.concentrate_pb',\n",
       " 'final.output.concentrate_sol',\n",
       " 'final.output.concentrate_au',\n",
       " 'final.output.tail_ag',\n",
       " 'final.output.tail_pb',\n",
       " 'final.output.tail_sol',\n",
       " 'final.output.tail_au',\n",
       " 'primary_cleaner.output.concentrate_ag',\n",
       " 'primary_cleaner.output.concentrate_pb',\n",
       " 'primary_cleaner.output.concentrate_sol',\n",
       " 'primary_cleaner.output.concentrate_au',\n",
       " 'primary_cleaner.output.tail_ag',\n",
       " 'primary_cleaner.output.tail_pb',\n",
       " 'primary_cleaner.output.tail_sol',\n",
       " 'primary_cleaner.output.tail_au',\n",
       " 'rougher.calculation.sulfate_to_au_concentrate',\n",
       " 'rougher.calculation.floatbank10_sulfate_to_au_feed',\n",
       " 'rougher.calculation.floatbank11_sulfate_to_au_feed',\n",
       " 'rougher.calculation.au_pb_ratio',\n",
       " 'rougher.output.concentrate_ag',\n",
       " 'rougher.output.concentrate_pb',\n",
       " 'rougher.output.concentrate_sol',\n",
       " 'rougher.output.concentrate_au',\n",
       " 'rougher.output.tail_ag',\n",
       " 'rougher.output.tail_pb',\n",
       " 'rougher.output.tail_sol',\n",
       " 'rougher.output.tail_au',\n",
       " 'secondary_cleaner.output.tail_ag',\n",
       " 'secondary_cleaner.output.tail_pb',\n",
       " 'secondary_cleaner.output.tail_sol',\n",
       " 'secondary_cleaner.output.tail_au']"
      ]
     },
     "execution_count": 34,
     "metadata": {},
     "output_type": "execute_result"
    }
   ],
   "source": [
    "lack_list"
   ]
  },
  {
   "cell_type": "markdown",
   "metadata": {},
   "source": [
    "* Недоступные признаки в тестовой выборке - это параметры продукта после флотации, после первой и второй очистки, финальные параметры и расчетные характеристики на этапе флотации. Это вторичные признаки, то есть они зависят от входных параметров продукта и от параметров процессов, которые задаются на каждом этапе. Обучению модели такие признаки будут скорее всего только мешать, а так как их нет в тестовой выборке, то их можно удалить и из обучающей выборки."
   ]
  },
  {
   "cell_type": "markdown",
   "metadata": {},
   "source": [
    "### 1.5 Работа с пропусками"
   ]
  },
  {
   "cell_type": "markdown",
   "metadata": {},
   "source": [
    "Удалим отсутствующие в тестовой выборке признаки из обучающей выборки. Также удалим столбец *'date'* из обеих выборок."
   ]
  },
  {
   "cell_type": "code",
   "execution_count": 35,
   "metadata": {},
   "outputs": [],
   "source": [
    "data_var = data.drop(lack_list+['date'], axis=1)\n",
    "data_test_var = data_test.drop(['date'], axis=1)"
   ]
  },
  {
   "cell_type": "markdown",
   "metadata": {},
   "source": [
    "На данный момент попробуем удалить пропуски и посмотрим, как много данных останется. В описании проекта есть информация о том, соседние по времени параметры часто похожи. А разбираться отдельно вручную с каждым столбцом с пропущенными значениями займет очень много времени, так как пропусков достаточное количество. Можно конечно заменить пропуски медианами или средним, но это тоже внесет искажения в данные. Попробуем вариант с удалением пропусков."
   ]
  },
  {
   "cell_type": "code",
   "execution_count": 36,
   "metadata": {},
   "outputs": [],
   "source": [
    "data_var = data_var.dropna()"
   ]
  },
  {
   "cell_type": "markdown",
   "metadata": {},
   "source": [
    "Займемся заменой пропусков в тестовой выборке. Для заполнения пропущенных значений, которых не очень много используем метод `interpolate()`, с заменой значения на ближайшее. Остальные пропуски заменим медианами значений."
   ]
  },
  {
   "cell_type": "code",
   "execution_count": 37,
   "metadata": {},
   "outputs": [],
   "source": [
    "names = ['final.output.recovery', 'rougher.output.recovery', 'rougher.input.floatbank10_sulfate', \n",
    "         'rougher.input.floatbank11_xanthate', 'primary_cleaner.input.sulfate', 'primary_cleaner.input.depressant']\n",
    "\n",
    "for i in names:\n",
    "    data_test_var[i] = data_test_var[i].fillna(data_test_var[i].median())\n",
    "\n",
    "data_test_var = data_test_var.interpolate(method='nearest', limit=35, limit_direction='both')"
   ]
  },
  {
   "cell_type": "markdown",
   "metadata": {},
   "source": [
    "Проверим наличие пропусков."
   ]
  },
  {
   "cell_type": "code",
   "execution_count": 38,
   "metadata": {
    "scrolled": false
   },
   "outputs": [
    {
     "data": {
      "text/plain": [
       "primary_cleaner.input.sulfate                 0\n",
       "primary_cleaner.input.depressant              0\n",
       "primary_cleaner.input.feed_size               0\n",
       "primary_cleaner.input.xanthate                0\n",
       "primary_cleaner.state.floatbank8_a_air        0\n",
       "primary_cleaner.state.floatbank8_a_level      0\n",
       "primary_cleaner.state.floatbank8_b_air        0\n",
       "primary_cleaner.state.floatbank8_b_level      0\n",
       "primary_cleaner.state.floatbank8_c_air        0\n",
       "primary_cleaner.state.floatbank8_c_level      0\n",
       "primary_cleaner.state.floatbank8_d_air        0\n",
       "primary_cleaner.state.floatbank8_d_level      0\n",
       "rougher.input.feed_ag                         0\n",
       "rougher.input.feed_pb                         0\n",
       "rougher.input.feed_rate                       0\n",
       "rougher.input.feed_size                       0\n",
       "rougher.input.feed_sol                        0\n",
       "rougher.input.feed_au                         0\n",
       "rougher.input.floatbank10_sulfate             0\n",
       "rougher.input.floatbank10_xanthate            0\n",
       "rougher.input.floatbank11_sulfate             0\n",
       "rougher.input.floatbank11_xanthate            0\n",
       "rougher.state.floatbank10_a_air               0\n",
       "rougher.state.floatbank10_a_level             0\n",
       "rougher.state.floatbank10_b_air               0\n",
       "rougher.state.floatbank10_b_level             0\n",
       "rougher.state.floatbank10_c_air               0\n",
       "rougher.state.floatbank10_c_level             0\n",
       "rougher.state.floatbank10_d_air               0\n",
       "rougher.state.floatbank10_d_level             0\n",
       "rougher.state.floatbank10_e_air               0\n",
       "rougher.state.floatbank10_e_level             0\n",
       "rougher.state.floatbank10_f_air               0\n",
       "rougher.state.floatbank10_f_level             0\n",
       "secondary_cleaner.state.floatbank2_a_air      0\n",
       "secondary_cleaner.state.floatbank2_a_level    0\n",
       "secondary_cleaner.state.floatbank2_b_air      0\n",
       "secondary_cleaner.state.floatbank2_b_level    0\n",
       "secondary_cleaner.state.floatbank3_a_air      0\n",
       "secondary_cleaner.state.floatbank3_a_level    0\n",
       "secondary_cleaner.state.floatbank3_b_air      0\n",
       "secondary_cleaner.state.floatbank3_b_level    0\n",
       "secondary_cleaner.state.floatbank4_a_air      0\n",
       "secondary_cleaner.state.floatbank4_a_level    0\n",
       "secondary_cleaner.state.floatbank4_b_air      0\n",
       "secondary_cleaner.state.floatbank4_b_level    0\n",
       "secondary_cleaner.state.floatbank5_a_air      0\n",
       "secondary_cleaner.state.floatbank5_a_level    0\n",
       "secondary_cleaner.state.floatbank5_b_air      0\n",
       "secondary_cleaner.state.floatbank5_b_level    0\n",
       "secondary_cleaner.state.floatbank6_a_air      0\n",
       "secondary_cleaner.state.floatbank6_a_level    0\n",
       "rougher.output.recovery                       0\n",
       "final.output.recovery                         0\n",
       "dtype: int64"
      ]
     },
     "execution_count": 38,
     "metadata": {},
     "output_type": "execute_result"
    }
   ],
   "source": [
    "data_test_var.isna().sum()"
   ]
  },
  {
   "cell_type": "markdown",
   "metadata": {},
   "source": [
    "## 2. Анализ данных"
   ]
  },
  {
   "cell_type": "markdown",
   "metadata": {},
   "source": [
    "### 2.1 Концентрация металлов на различных этапах очистки"
   ]
  },
  {
   "cell_type": "markdown",
   "metadata": {},
   "source": [
    "Для анализа изменения концентрации металлов (Au, Ag, Pb) на различных этапах очистки построим диаграммы размаха."
   ]
  },
  {
   "cell_type": "code",
   "execution_count": 39,
   "metadata": {},
   "outputs": [
    {
     "data": {
      "image/png": "[encoded data removed]",
      "text/plain": [
       "<Figure size 1440x1080 with 1 Axes>"
      ]
     },
     "metadata": {
      "needs_background": "light"
     },
     "output_type": "display_data"
    }
   ],
   "source": [
    "data_full.boxplot(column=['primary_cleaner.output.concentrate_au', 'primary_cleaner.output.concentrate_ag', \n",
    "                          'primary_cleaner.output.concentrate_pb', 'final.output.concentrate_au', \n",
    "                          'final.output.concentrate_ag', 'final.output.concentrate_pb'], figsize=(20, 15))\n",
    "\n",
    "plt.title('Концентрация металлов (Au, Ag, Pb) на различных этапах очистки.', fontsize='x-large');\n",
    "plt.xticks([1, 2, 3, 4, 5, 6], ['Au, 1 очистка', 'Ag, 1 очистка', 'Pb, 1 очистка', 'Au, 2 очистка', 'Ag, 2 очистка', \n",
    "                                'Pb, 2 очистка'], rotation='horizontal', fontsize='x-large');\n",
    "\n",
    "plt.yticks(range(0, 55, 1), rotation='horizontal');\n",
    "plt.ylabel('Концентрация металла', fontsize='x-large');"
   ]
  },
  {
   "cell_type": "markdown",
   "metadata": {},
   "source": [
    "* Концентрация золота после второй очистки составляет в среднем 45%, это на 13% больше, чем после первой очистки. Концентрация серебра после второй очистки уменьшилась на 3% и стала равной 5%, концентрация свинца осталась примерно на том же уровне 10%. Также разброс значений концентраций металлов после второй очистки меньше, чем после первой очистки. Возможно, это объясняется тем, что вторая очистка - это как вторая итерация операции над данными, при которой значения получаются ближе к некоторому среднему значению."
   ]
  },
  {
   "cell_type": "markdown",
   "metadata": {},
   "source": [
    "### 2.2 Распределение гранул сырья на обучающей и тестовой выборках"
   ]
  },
  {
   "cell_type": "markdown",
   "metadata": {},
   "source": [
    "Сравним распределения размеров гранул сырья на обучающей и тестовой выборках. Построим гистограммы."
   ]
  },
  {
   "cell_type": "code",
   "execution_count": 40,
   "metadata": {},
   "outputs": [
    {
     "data": {
      "image/png": "[encoded data removed]",
      "text/plain": [
       "<Figure size 720x720 with 1 Axes>"
      ]
     },
     "metadata": {
      "needs_background": "light"
     },
     "output_type": "display_data"
    }
   ],
   "source": [
    "names = ['Обучающая выборка', 'Тестовая выборка'] # список с наименованиями распределений\n",
    "\n",
    "# для сравнения изобразим гистограммы на одном графике\n",
    "for i, k in zip([data_var, data_test_var], [0, 1]): \n",
    "    \n",
    "    # примениим условие размер \"гранул меньше 120\" чтобы убрать выборосы и график был более наглядным\n",
    "    i[i['rougher.input.feed_size'] < 120]['rougher.input.feed_size'].plot(kind='hist', bins=30, figsize=(10,10), alpha=0.7, \n",
    "                                                                          label=names[k], grid=True)\n",
    "    plt.legend(fontsize='large')\n",
    "plt.title('Распределение размеров гранул сырья', fontsize='x-large');"
   ]
  },
  {
   "cell_type": "markdown",
   "metadata": {},
   "source": [
    "* Распределение значений на тестовой выборке смещено влево относительно распределения значений на обучающей выборке. Для более точного сравнения построим диаграммы размаха."
   ]
  },
  {
   "cell_type": "code",
   "execution_count": 41,
   "metadata": {},
   "outputs": [
    {
     "name": "stdout",
     "output_type": "stream",
     "text": [
      "\t\t\t\t\tРаспределение размеров гранул сырья\n"
     ]
    },
    {
     "data": {
      "image/png": "[encoded data removed]",
      "text/plain": [
       "<Figure size 1080x720 with 2 Axes>"
      ]
     },
     "metadata": {
      "needs_background": "light"
     },
     "output_type": "display_data"
    }
   ],
   "source": [
    "print('\\t\\t\\t\\t\\tРаспределение размеров гранул сырья')\n",
    "fig = plt.figure(figsize=(15,10));\n",
    "\n",
    "# уберем выбросы для наглядности и установим одинаковый масштаб на графиках для удобного сравнения\n",
    "data_var[data_var['rougher.input.feed_size'] < 100].boxplot(column=['rougher.input.feed_size'], ax = plt.subplot(1,2,1))\n",
    "plt.yticks(range(0,100,10));\n",
    "plt.xticks([1], ['Обучающая выборка'], rotation='horizontal', fontsize='large');\n",
    "\n",
    "data_test_var[(data_test_var['rougher.input.feed_size'] < 100) & (data_test_var['rougher.input.feed_size'] > 20)] \\\n",
    ".boxplot(column=['rougher.input.feed_size'], ax = plt.subplot(1,2,2))\n",
    "plt.yticks(range(0,100,10));\n",
    "plt.xticks([1], ['Тестовая выборка'], rotation='horizontal', fontsize='large');\n",
    "\n",
    "plt.show()"
   ]
  },
  {
   "cell_type": "markdown",
   "metadata": {},
   "source": [
    "* Медиана на обучающей выборке примерно 55, на тестовой 50. Распределения отличаются, но не сильно, так что на оценку модели данный факт сильно не повлияет."
   ]
  },
  {
   "cell_type": "markdown",
   "metadata": {},
   "source": [
    "### 2.3 Суммарная концентрация всех веществ на разных стадиях"
   ]
  },
  {
   "cell_type": "markdown",
   "metadata": {},
   "source": [
    "Построим распределения суммарной концентрации веществ на разных стадиях: в сырье, в черновом и финальном концентратах. Построим гистограммы и диаграммы размаха."
   ]
  },
  {
   "cell_type": "code",
   "execution_count": 42,
   "metadata": {},
   "outputs": [],
   "source": [
    "# создадим переменную elements со списком необходимых значений концентраций\n",
    "elements = [['rougher.input.feed_au', 'rougher.input.feed_ag', 'rougher.input.feed_pb', 'rougher.input.feed_sol'],\n",
    "           ['rougher.output.concentrate_au', 'rougher.output.concentrate_ag', 'rougher.output.concentrate_pb', 'rougher.output.concentrate_sol'],\n",
    "           ['final.output.concentrate_au', 'final.output.concentrate_ag', 'final.output.concentrate_pb', 'final.output.concentrate_sol']]\n",
    "\n",
    "# список для подписи графиков\n",
    "name_pic = ['сырье', 'черновом концентрате', 'финальном концентрате']"
   ]
  },
  {
   "cell_type": "code",
   "execution_count": 43,
   "metadata": {
    "scrolled": false
   },
   "outputs": [
    {
     "name": "stdout",
     "output_type": "stream",
     "text": [
      "\t\t\t\tСуммарная концентрация всех веществ в сырье\n"
     ]
    },
    {
     "data": {
      "image/png": "[encoded data removed]",
      "text/plain": [
       "<Figure size 1080x720 with 2 Axes>"
      ]
     },
     "metadata": {
      "needs_background": "light"
     },
     "output_type": "display_data"
    },
    {
     "name": "stdout",
     "output_type": "stream",
     "text": [
      "           sum\n",
      "         count\n",
      "sum           \n",
      "0.000000  1528\n",
      "0.040000   365\n",
      "0.137143     1\n",
      "0.204164     1\n",
      "0.528696     1\n",
      "\n",
      "\t\t\t\tСуммарная концентрация всех веществ в черновом концентрате\n"
     ]
    },
    {
     "data": {
      "image/png": "[encoded data removed]",
      "text/plain": [
       "<Figure size 1080x720 with 2 Axes>"
      ]
     },
     "metadata": {
      "needs_background": "light"
     },
     "output_type": "display_data"
    },
    {
     "name": "stdout",
     "output_type": "stream",
     "text": [
      "           sum\n",
      "         count\n",
      "sum           \n",
      "0.000000  1953\n",
      "0.039898     1\n",
      "0.040000   439\n",
      "0.046312     1\n",
      "0.123221     1\n",
      "\n",
      "\t\t\t\tСуммарная концентрация всех веществ в финальном концентрате\n"
     ]
    },
    {
     "data": {
      "image/png": "[encoded data removed]",
      "text/plain": [
       "<Figure size 1080x720 with 2 Axes>"
      ]
     },
     "metadata": {
      "needs_background": "light"
     },
     "output_type": "display_data"
    },
    {
     "name": "stdout",
     "output_type": "stream",
     "text": [
      "           sum\n",
      "         count\n",
      "sum           \n",
      "0.000000  1613\n",
      "0.040000   398\n",
      "0.044090     1\n",
      "0.179226     1\n",
      "0.282257     1\n",
      "\n"
     ]
    }
   ],
   "source": [
    "for i, n in zip(elements, [0, 1, 2]): # для автоматизации запускаем цикл\n",
    "    # складываем значения концентраций, создаем датафрейм summ и именуем колонку\n",
    "    summ = pd.DataFrame(data_full[i[0]] + data_full[i[1]] + data_full[i[2]] + data_full[i[3]], columns=['sum'])\n",
    "    \n",
    "    # строим гистограмму и диаграмму размаха\n",
    "    fig = plt.figure(figsize=(15,10));\n",
    "    summ.plot(kind='hist', ax = plt.subplot(1,2,1), grid=True, bins=80);\n",
    "    summ.boxplot(ax = plt.subplot(1,2,2));\n",
    "    plt.yticks(range(0,100,5));\n",
    "    print('\\t\\t\\t\\tСуммарная концентрация всех веществ в', name_pic[n]) # называем график\n",
    "    plt.show()\n",
    "    \n",
    "    # выводим на экран первые 5 строк датафрейма summ, сгруппированных по колонке 'sum'\n",
    "    print(summ.groupby('sum').agg({'sum':['count']}).head(5))\n",
    "    print()"
   ]
  },
  {
   "cell_type": "markdown",
   "metadata": {},
   "source": [
    "* В каждом распределении суммарной концентрации наблюдаются около 2000 - 2500 значений с концентрацией 0 и 0.04. Это аномалии-выбросы, так как основная масса значений находится в других интервалах. Для обучения такие значения будут только мешать, так как, скорее всего, эти значения возникли из-за неточности приборов или еще каких-то причин, но они вряд ли соответствуют действительности.\n",
    "\n",
    "\n",
    "* Еще как вариант, значения с нулевой или близкой к нулю концентрации могли возникнуть, если на линию восстановления золота подается партия сырья, и сразу, каждый час, начинают снимать показания с приборов, тогда допустим на стадии флотации будут нормальные показания концентраций, а на стадиях первой и второй очистки - нет, так как туда черновой концентрат еще не пришел и т. д. на каждом этапе возникают значения с нулевой концентрацией."
   ]
  },
  {
   "cell_type": "markdown",
   "metadata": {},
   "source": [
    "Так как из тестовой выборки нельзя удалять значения, то логично предположить, что такие значения не нужно удалять и из обучающей выборки, так как модель должна научиться, что предсказывать для таких аномалий."
   ]
  },
  {
   "cell_type": "code",
   "execution_count": 44,
   "metadata": {
    "scrolled": true
   },
   "outputs": [
    {
     "name": "stdout",
     "output_type": "stream",
     "text": [
      "<class 'pandas.core.frame.DataFrame'>\n",
      "Int64Index: 12679 entries, 0 to 16859\n",
      "Data columns (total 54 columns):\n",
      " #   Column                                      Non-Null Count  Dtype  \n",
      "---  ------                                      --------------  -----  \n",
      " 0   final.output.recovery                       12679 non-null  float64\n",
      " 1   primary_cleaner.input.sulfate               12679 non-null  float64\n",
      " 2   primary_cleaner.input.depressant            12679 non-null  float64\n",
      " 3   primary_cleaner.input.feed_size             12679 non-null  float64\n",
      " 4   primary_cleaner.input.xanthate              12679 non-null  float64\n",
      " 5   primary_cleaner.state.floatbank8_a_air      12679 non-null  float64\n",
      " 6   primary_cleaner.state.floatbank8_a_level    12679 non-null  float64\n",
      " 7   primary_cleaner.state.floatbank8_b_air      12679 non-null  float64\n",
      " 8   primary_cleaner.state.floatbank8_b_level    12679 non-null  float64\n",
      " 9   primary_cleaner.state.floatbank8_c_air      12679 non-null  float64\n",
      " 10  primary_cleaner.state.floatbank8_c_level    12679 non-null  float64\n",
      " 11  primary_cleaner.state.floatbank8_d_air      12679 non-null  float64\n",
      " 12  primary_cleaner.state.floatbank8_d_level    12679 non-null  float64\n",
      " 13  rougher.input.feed_ag                       12679 non-null  float64\n",
      " 14  rougher.input.feed_pb                       12679 non-null  float64\n",
      " 15  rougher.input.feed_rate                     12679 non-null  float64\n",
      " 16  rougher.input.feed_size                     12679 non-null  float64\n",
      " 17  rougher.input.feed_sol                      12679 non-null  float64\n",
      " 18  rougher.input.feed_au                       12679 non-null  float64\n",
      " 19  rougher.input.floatbank10_sulfate           12679 non-null  float64\n",
      " 20  rougher.input.floatbank10_xanthate          12679 non-null  float64\n",
      " 21  rougher.input.floatbank11_sulfate           12679 non-null  float64\n",
      " 22  rougher.input.floatbank11_xanthate          12679 non-null  float64\n",
      " 23  rougher.output.recovery                     12679 non-null  float64\n",
      " 24  rougher.state.floatbank10_a_air             12679 non-null  float64\n",
      " 25  rougher.state.floatbank10_a_level           12679 non-null  float64\n",
      " 26  rougher.state.floatbank10_b_air             12679 non-null  float64\n",
      " 27  rougher.state.floatbank10_b_level           12679 non-null  float64\n",
      " 28  rougher.state.floatbank10_c_air             12679 non-null  float64\n",
      " 29  rougher.state.floatbank10_c_level           12679 non-null  float64\n",
      " 30  rougher.state.floatbank10_d_air             12679 non-null  float64\n",
      " 31  rougher.state.floatbank10_d_level           12679 non-null  float64\n",
      " 32  rougher.state.floatbank10_e_air             12679 non-null  float64\n",
      " 33  rougher.state.floatbank10_e_level           12679 non-null  float64\n",
      " 34  rougher.state.floatbank10_f_air             12679 non-null  float64\n",
      " 35  rougher.state.floatbank10_f_level           12679 non-null  float64\n",
      " 36  secondary_cleaner.state.floatbank2_a_air    12679 non-null  float64\n",
      " 37  secondary_cleaner.state.floatbank2_a_level  12679 non-null  float64\n",
      " 38  secondary_cleaner.state.floatbank2_b_air    12679 non-null  float64\n",
      " 39  secondary_cleaner.state.floatbank2_b_level  12679 non-null  float64\n",
      " 40  secondary_cleaner.state.floatbank3_a_air    12679 non-null  float64\n",
      " 41  secondary_cleaner.state.floatbank3_a_level  12679 non-null  float64\n",
      " 42  secondary_cleaner.state.floatbank3_b_air    12679 non-null  float64\n",
      " 43  secondary_cleaner.state.floatbank3_b_level  12679 non-null  float64\n",
      " 44  secondary_cleaner.state.floatbank4_a_air    12679 non-null  float64\n",
      " 45  secondary_cleaner.state.floatbank4_a_level  12679 non-null  float64\n",
      " 46  secondary_cleaner.state.floatbank4_b_air    12679 non-null  float64\n",
      " 47  secondary_cleaner.state.floatbank4_b_level  12679 non-null  float64\n",
      " 48  secondary_cleaner.state.floatbank5_a_air    12679 non-null  float64\n",
      " 49  secondary_cleaner.state.floatbank5_a_level  12679 non-null  float64\n",
      " 50  secondary_cleaner.state.floatbank5_b_air    12679 non-null  float64\n",
      " 51  secondary_cleaner.state.floatbank5_b_level  12679 non-null  float64\n",
      " 52  secondary_cleaner.state.floatbank6_a_air    12679 non-null  float64\n",
      " 53  secondary_cleaner.state.floatbank6_a_level  12679 non-null  float64\n",
      "dtypes: float64(54)\n",
      "memory usage: 5.3 MB\n"
     ]
    }
   ],
   "source": [
    "data_var.info()"
   ]
  },
  {
   "cell_type": "code",
   "execution_count": 45,
   "metadata": {
    "scrolled": true
   },
   "outputs": [
    {
     "name": "stdout",
     "output_type": "stream",
     "text": [
      "<class 'pandas.core.frame.DataFrame'>\n",
      "Int64Index: 5856 entries, 0 to 5855\n",
      "Data columns (total 54 columns):\n",
      " #   Column                                      Non-Null Count  Dtype  \n",
      "---  ------                                      --------------  -----  \n",
      " 0   primary_cleaner.input.sulfate               5856 non-null   float64\n",
      " 1   primary_cleaner.input.depressant            5856 non-null   float64\n",
      " 2   primary_cleaner.input.feed_size             5856 non-null   float64\n",
      " 3   primary_cleaner.input.xanthate              5856 non-null   float64\n",
      " 4   primary_cleaner.state.floatbank8_a_air      5856 non-null   float64\n",
      " 5   primary_cleaner.state.floatbank8_a_level    5856 non-null   float64\n",
      " 6   primary_cleaner.state.floatbank8_b_air      5856 non-null   float64\n",
      " 7   primary_cleaner.state.floatbank8_b_level    5856 non-null   float64\n",
      " 8   primary_cleaner.state.floatbank8_c_air      5856 non-null   float64\n",
      " 9   primary_cleaner.state.floatbank8_c_level    5856 non-null   float64\n",
      " 10  primary_cleaner.state.floatbank8_d_air      5856 non-null   float64\n",
      " 11  primary_cleaner.state.floatbank8_d_level    5856 non-null   float64\n",
      " 12  rougher.input.feed_ag                       5856 non-null   float64\n",
      " 13  rougher.input.feed_pb                       5856 non-null   float64\n",
      " 14  rougher.input.feed_rate                     5856 non-null   float64\n",
      " 15  rougher.input.feed_size                     5856 non-null   float64\n",
      " 16  rougher.input.feed_sol                      5856 non-null   float64\n",
      " 17  rougher.input.feed_au                       5856 non-null   float64\n",
      " 18  rougher.input.floatbank10_sulfate           5856 non-null   float64\n",
      " 19  rougher.input.floatbank10_xanthate          5856 non-null   float64\n",
      " 20  rougher.input.floatbank11_sulfate           5856 non-null   float64\n",
      " 21  rougher.input.floatbank11_xanthate          5856 non-null   float64\n",
      " 22  rougher.state.floatbank10_a_air             5856 non-null   float64\n",
      " 23  rougher.state.floatbank10_a_level           5856 non-null   float64\n",
      " 24  rougher.state.floatbank10_b_air             5856 non-null   float64\n",
      " 25  rougher.state.floatbank10_b_level           5856 non-null   float64\n",
      " 26  rougher.state.floatbank10_c_air             5856 non-null   float64\n",
      " 27  rougher.state.floatbank10_c_level           5856 non-null   float64\n",
      " 28  rougher.state.floatbank10_d_air             5856 non-null   float64\n",
      " 29  rougher.state.floatbank10_d_level           5856 non-null   float64\n",
      " 30  rougher.state.floatbank10_e_air             5856 non-null   float64\n",
      " 31  rougher.state.floatbank10_e_level           5856 non-null   float64\n",
      " 32  rougher.state.floatbank10_f_air             5856 non-null   float64\n",
      " 33  rougher.state.floatbank10_f_level           5856 non-null   float64\n",
      " 34  secondary_cleaner.state.floatbank2_a_air    5856 non-null   float64\n",
      " 35  secondary_cleaner.state.floatbank2_a_level  5856 non-null   float64\n",
      " 36  secondary_cleaner.state.floatbank2_b_air    5856 non-null   float64\n",
      " 37  secondary_cleaner.state.floatbank2_b_level  5856 non-null   float64\n",
      " 38  secondary_cleaner.state.floatbank3_a_air    5856 non-null   float64\n",
      " 39  secondary_cleaner.state.floatbank3_a_level  5856 non-null   float64\n",
      " 40  secondary_cleaner.state.floatbank3_b_air    5856 non-null   float64\n",
      " 41  secondary_cleaner.state.floatbank3_b_level  5856 non-null   float64\n",
      " 42  secondary_cleaner.state.floatbank4_a_air    5856 non-null   float64\n",
      " 43  secondary_cleaner.state.floatbank4_a_level  5856 non-null   float64\n",
      " 44  secondary_cleaner.state.floatbank4_b_air    5856 non-null   float64\n",
      " 45  secondary_cleaner.state.floatbank4_b_level  5856 non-null   float64\n",
      " 46  secondary_cleaner.state.floatbank5_a_air    5856 non-null   float64\n",
      " 47  secondary_cleaner.state.floatbank5_a_level  5856 non-null   float64\n",
      " 48  secondary_cleaner.state.floatbank5_b_air    5856 non-null   float64\n",
      " 49  secondary_cleaner.state.floatbank5_b_level  5856 non-null   float64\n",
      " 50  secondary_cleaner.state.floatbank6_a_air    5856 non-null   float64\n",
      " 51  secondary_cleaner.state.floatbank6_a_level  5856 non-null   float64\n",
      " 52  rougher.output.recovery                     5856 non-null   float64\n",
      " 53  final.output.recovery                       5856 non-null   float64\n",
      "dtypes: float64(54)\n",
      "memory usage: 2.5 MB\n"
     ]
    }
   ],
   "source": [
    "data_test_var.info()"
   ]
  },
  {
   "cell_type": "markdown",
   "metadata": {},
   "source": [
    "Данные наконец-то готовы для обучения модели.\n",
    "\n",
    "------"
   ]
  },
  {
   "cell_type": "markdown",
   "metadata": {},
   "source": [
    "## 3. Обучение модели"
   ]
  },
  {
   "cell_type": "markdown",
   "metadata": {},
   "source": [
    "### 3.1 Функции для вычисления sMAPE и подготовка признаков"
   ]
  },
  {
   "cell_type": "markdown",
   "metadata": {},
   "source": [
    "Напишем функцию для вычисления итоговой sMAPE."
   ]
  },
  {
   "cell_type": "code",
   "execution_count": 46,
   "metadata": {},
   "outputs": [],
   "source": [
    "def result_sMAPE(sMAPE_rougher, sMAPE_final):\n",
    "    return 0.25 * sMAPE_rougher + 0.75 * sMAPE_final"
   ]
  },
  {
   "cell_type": "markdown",
   "metadata": {},
   "source": [
    "Напишем функцию для вычисления sMAPE на этапе чернового концентрата и финального концентрата."
   ]
  },
  {
   "cell_type": "code",
   "execution_count": 47,
   "metadata": {},
   "outputs": [],
   "source": [
    "def sMAPE(target, predict):\n",
    "    sMAPE2 = abs(target - predict) / (abs(target) + abs(predict)) * 2 * 100\n",
    "    return sMAPE2.sum() / len(target)"
   ]
  },
  {
   "cell_type": "markdown",
   "metadata": {},
   "source": [
    "По условию проекта нужно спрогнозировать две величины:\n",
    "* эффективность обогащения чернового концентрата - `rougher.output.recovery`\n",
    "* эффективность обогащения финального концентрата - `final.output.recovery`\n",
    "\n",
    "Поэтому нужно обучить модель для прогнозирования каждой величины, а потом посчитать итоговую метрику с помощью функции `result_sMape`. Для обучения модели для чернового концентрата, необходимы только данные этапа `rougher`, для подсчета эффективности обогащения финального концентрата необходимы все данные. Также необходимо разделить целевые признаки по двум выборкам."
   ]
  },
  {
   "cell_type": "code",
   "execution_count": 48,
   "metadata": {},
   "outputs": [
    {
     "name": "stderr",
     "output_type": "stream",
     "text": [
      "/home/denis/anaconda3/lib/python3.7/site-packages/ipykernel_launcher.py:9: SettingWithCopyWarning: \n",
      "A value is trying to be set on a copy of a slice from a DataFrame.\n",
      "Try using .loc[row_indexer,col_indexer] = value instead\n",
      "\n",
      "See the caveats in the documentation: https://pandas.pydata.org/pandas-docs/stable/user_guide/indexing.html#returning-a-view-versus-a-copy\n",
      "  if __name__ == '__main__':\n"
     ]
    }
   ],
   "source": [
    "# создаем обучающую выборку для rougher.output.recovery\n",
    "data_rougher = data_var.loc[:, 'rougher.input.feed_ag' : 'rougher.state.floatbank10_f_level']\n",
    "\n",
    "# создаем обучающую выборку для final.output.recovery\n",
    "data_final = data_var.drop(['rougher.output.recovery'], axis=1)\n",
    "\n",
    "# создаем тестовую выборку для rougher.output.recovery\n",
    "data_test_rougher = data_test_var.loc[:, 'rougher.input.feed_ag' : 'rougher.state.floatbank10_f_level']\n",
    "data_test_rougher['rougher.output.recovery'] = data_test_var['rougher.output.recovery']\n",
    "\n",
    "# создаем тестовую выборку для final.output.recovery\n",
    "data_test_final = data_test_var.drop(['rougher.output.recovery'], axis=1)"
   ]
  },
  {
   "cell_type": "markdown",
   "metadata": {},
   "source": [
    "Делим каждую выборку на признаки и целевой признак."
   ]
  },
  {
   "cell_type": "code",
   "execution_count": 49,
   "metadata": {},
   "outputs": [],
   "source": [
    "# обучающие выборки\n",
    "features_rougher_train = data_rougher.drop(['rougher.output.recovery'], axis=1)\n",
    "target_rougher_train = data_rougher['rougher.output.recovery']\n",
    "\n",
    "features_final_train = data_final.drop(['final.output.recovery'], axis=1)\n",
    "target_final_train = data_final['final.output.recovery']\n",
    "\n",
    "# тестовые выборки\n",
    "features_rougher_test = data_test_rougher.drop(['rougher.output.recovery'], axis=1)\n",
    "target_rougher_test = data_test_rougher['rougher.output.recovery']\n",
    "\n",
    "features_final_test = data_test_final.drop(['final.output.recovery'], axis=1)\n",
    "target_final_test = data_test_final['final.output.recovery']"
   ]
  },
  {
   "cell_type": "markdown",
   "metadata": {},
   "source": [
    "Для прогнозирования эффективности обогащения будем обучать следующие модели: `LinearRegression()`, `SGDClassifier()` и `RandomForestRegressor()`."
   ]
  },
  {
   "cell_type": "markdown",
   "metadata": {},
   "source": [
    "Для обучения моделей признаки должны быть одинаково значимы, поэтому необходимо масштабировать признаки. Попробуем два способа - стандартизация и нормализация."
   ]
  },
  {
   "cell_type": "markdown",
   "metadata": {},
   "source": [
    "### 3.2 Стандартизация"
   ]
  },
  {
   "cell_type": "markdown",
   "metadata": {},
   "source": [
    "Для каждой выборки создадим объект  `StandardScaler ` и настроим его на обучающих данных, затем преобразуем признаки обучающей и тестовой выборок функцией `transform`."
   ]
  },
  {
   "cell_type": "code",
   "execution_count": 50,
   "metadata": {},
   "outputs": [
    {
     "data": {
      "text/plain": [
       "StandardScaler(copy=True, with_mean=True, with_std=True)"
      ]
     },
     "execution_count": 50,
     "metadata": {},
     "output_type": "execute_result"
    }
   ],
   "source": [
    "scaler_final = StandardScaler()\n",
    "scaler_final.fit(features_final_train)"
   ]
  },
  {
   "cell_type": "code",
   "execution_count": 51,
   "metadata": {},
   "outputs": [],
   "source": [
    "features_final_train_st = scaler_final.transform(features_final_train)\n",
    "features_final_test_st = scaler_final.transform(features_final_test)"
   ]
  },
  {
   "cell_type": "code",
   "execution_count": 52,
   "metadata": {},
   "outputs": [
    {
     "data": {
      "text/plain": [
       "StandardScaler(copy=True, with_mean=True, with_std=True)"
      ]
     },
     "execution_count": 52,
     "metadata": {},
     "output_type": "execute_result"
    }
   ],
   "source": [
    "scaler_rougher = StandardScaler()\n",
    "scaler_rougher.fit(features_rougher_train)"
   ]
  },
  {
   "cell_type": "code",
   "execution_count": 53,
   "metadata": {},
   "outputs": [],
   "source": [
    "features_rougher_train_st = scaler_rougher.transform(features_rougher_train)\n",
    "features_rougher_test_st = scaler_rougher.transform(features_rougher_test)"
   ]
  },
  {
   "cell_type": "markdown",
   "metadata": {},
   "source": [
    "### 3.2.1 Линейная регрессия"
   ]
  },
  {
   "cell_type": "markdown",
   "metadata": {},
   "source": [
    "Исследуем модель линейная регрессия."
   ]
  },
  {
   "cell_type": "code",
   "execution_count": 54,
   "metadata": {},
   "outputs": [
    {
     "data": {
      "text/plain": [
       "LinearRegression(copy_X=True, fit_intercept=True, n_jobs=None, normalize=False)"
      ]
     },
     "execution_count": 54,
     "metadata": {},
     "output_type": "execute_result"
    }
   ],
   "source": [
    "model_rougher = LinearRegression()\n",
    "model_rougher.fit(features_rougher_train_st, target_rougher_train)"
   ]
  },
  {
   "cell_type": "code",
   "execution_count": 55,
   "metadata": {},
   "outputs": [
    {
     "data": {
      "text/plain": [
       "LinearRegression(copy_X=True, fit_intercept=True, n_jobs=None, normalize=False)"
      ]
     },
     "execution_count": 55,
     "metadata": {},
     "output_type": "execute_result"
    }
   ],
   "source": [
    "model_final = LinearRegression()\n",
    "model_final.fit(features_final_train_st, target_final_train)"
   ]
  },
  {
   "cell_type": "markdown",
   "metadata": {},
   "source": [
    "По условию проекта необходимо оценивать качество модели кросс-валидацией. Исользуем кросс-валидацию в sklearn. По умолчанию, она оценивает качество модели методом `score()`, в нашем случае необходимо оценивать качество с помощью `sMape`. Поэтому, с помощью функции `make_scorer` создадим метрику `sMape_metric` и используем ее для оценки качества в кросс-валидации."
   ]
  },
  {
   "cell_type": "code",
   "execution_count": 56,
   "metadata": {},
   "outputs": [],
   "source": [
    "sMAPE_metric = make_scorer(sMAPE)"
   ]
  },
  {
   "cell_type": "markdown",
   "metadata": {},
   "source": [
    "Применим функцию `cross_val_score` к нашим моделям, число блоков для кросс-валидации примем 10, в качестве метрики используем `sMape_metric`. Сохраним результаты расчета в переменных `predict_rougher` и `predict_final`."
   ]
  },
  {
   "cell_type": "code",
   "execution_count": 57,
   "metadata": {},
   "outputs": [],
   "source": [
    "predict_rougher = cross_val_score(model_rougher, features_rougher_train_st, target_rougher_train, cv=10, scoring=sMAPE_metric)"
   ]
  },
  {
   "cell_type": "code",
   "execution_count": 58,
   "metadata": {},
   "outputs": [],
   "source": [
    "predict_final = cross_val_score(model_final, features_final_train_st, target_final_train, cv=10, scoring=sMAPE_metric)"
   ]
  },
  {
   "cell_type": "markdown",
   "metadata": {},
   "source": [
    "Посчитаем итоговое sMAPE, на вход подаем средние от полученных выше результатов."
   ]
  },
  {
   "cell_type": "code",
   "execution_count": 59,
   "metadata": {},
   "outputs": [
    {
     "name": "stdout",
     "output_type": "stream",
     "text": [
      "Итоговое sMAPE = 9.7 %.\n"
     ]
    }
   ],
   "source": [
    "result = result_sMAPE(predict_rougher.mean(),predict_final.mean())\n",
    "print('Итоговое sMAPE = {:.1f} %.'.format(result))"
   ]
  },
  {
   "cell_type": "markdown",
   "metadata": {},
   "source": [
    "### 3.2.2 SGDRegressor"
   ]
  },
  {
   "cell_type": "markdown",
   "metadata": {},
   "source": [
    "Исследуем модель `SGDRegressor`."
   ]
  },
  {
   "cell_type": "code",
   "execution_count": 60,
   "metadata": {},
   "outputs": [
    {
     "data": {
      "text/plain": [
       "SGDRegressor(alpha=0.0001, average=False, early_stopping=False, epsilon=0.1,\n",
       "             eta0=0.001, fit_intercept=True, l1_ratio=0,\n",
       "             learning_rate='adaptive', loss='epsilon_insensitive',\n",
       "             max_iter=1000, n_iter_no_change=5, penalty='l2', power_t=0.25,\n",
       "             random_state=12345, shuffle=True, tol=0.001,\n",
       "             validation_fraction=0.1, verbose=0, warm_start=False)"
      ]
     },
     "execution_count": 60,
     "metadata": {},
     "output_type": "execute_result"
    }
   ],
   "source": [
    "model_rougher = linear_model.SGDRegressor(random_state=12345, loss='epsilon_insensitive', penalty='l2', l1_ratio=0, \n",
    "                                          learning_rate='adaptive', eta0=0.001)\n",
    "model_rougher.fit(features_rougher_train_st, target_rougher_train)"
   ]
  },
  {
   "cell_type": "code",
   "execution_count": 61,
   "metadata": {},
   "outputs": [
    {
     "data": {
      "text/plain": [
       "SGDRegressor(alpha=0.0001, average=False, early_stopping=False, epsilon=0.1,\n",
       "             eta0=0.001, fit_intercept=True, l1_ratio=1,\n",
       "             learning_rate='adaptive', loss='epsilon_insensitive',\n",
       "             max_iter=1000, n_iter_no_change=5, penalty='l1', power_t=0.25,\n",
       "             random_state=12345, shuffle=True, tol=0.001,\n",
       "             validation_fraction=0.1, verbose=0, warm_start=False)"
      ]
     },
     "execution_count": 61,
     "metadata": {},
     "output_type": "execute_result"
    }
   ],
   "source": [
    "model_final = linear_model.SGDRegressor(random_state=12345, loss='epsilon_insensitive', penalty='l1', l1_ratio=1,\n",
    "                                       learning_rate='adaptive', eta0=0.001)\n",
    "model_final.fit(features_final_train_st, target_final_train)"
   ]
  },
  {
   "cell_type": "code",
   "execution_count": 62,
   "metadata": {},
   "outputs": [],
   "source": [
    "predict_rougher = cross_val_score(model_rougher, features_rougher_train_st, target_rougher_train, cv=10, scoring=sMAPE_metric)"
   ]
  },
  {
   "cell_type": "code",
   "execution_count": 63,
   "metadata": {},
   "outputs": [],
   "source": [
    "predict_final = cross_val_score(model_final, features_final_train_st, target_final_train, cv=10, scoring=sMAPE_metric)"
   ]
  },
  {
   "cell_type": "code",
   "execution_count": 64,
   "metadata": {},
   "outputs": [
    {
     "name": "stdout",
     "output_type": "stream",
     "text": [
      "Итоговое sMAPE = 9.3 %.\n"
     ]
    }
   ],
   "source": [
    "result = result_sMAPE(predict_rougher.mean(),predict_final.mean())\n",
    "print('Итоговое sMAPE = {:.1f} %.'.format(result))"
   ]
  },
  {
   "cell_type": "markdown",
   "metadata": {},
   "source": [
    "### 3.2.3 RandomForestRegressor"
   ]
  },
  {
   "cell_type": "markdown",
   "metadata": {},
   "source": [
    "Исследуем модель RandomForestRegressor. Для начала попробуем подобрать параметры, при которых модель покажел лучшие результаты.\n",
    "Будем перебирать следующие гиперпараметры: `n_estimators`, `min_samples_split`, `min_samples_leaf`. Код перебора закомментирован, так как перебор параметров занимает довольно продолжительное время."
   ]
  },
  {
   "cell_type": "code",
   "execution_count": 65,
   "metadata": {},
   "outputs": [],
   "source": [
    "numbers = list(range(50, 101, 5))\n",
    "numbers_1 = list(range(10, 21, 1))\n",
    "numbers_2 = list(range(4, 15, 1))"
   ]
  },
  {
   "cell_type": "code",
   "execution_count": 66,
   "metadata": {
    "scrolled": false
   },
   "outputs": [],
   "source": [
    "#for i, n, k in zip(numbers, numbers_1, numbers_2):\n",
    "    #model_rougher = RandomForestRegressor(n_estimators=i, random_state=12345, min_samples_split=n, min_samples_leaf=k)\n",
    "    #model_rougher.fit(features_rougher_train_st, target_rougher_train)\n",
    "    #predict_rougher = cross_val_score(model_rougher, features_rougher_train_st, target_rougher_train, cv=5, scoring=sMAPE_metric)\n",
    "    #print(predict_rougher.mean())"
   ]
  },
  {
   "cell_type": "code",
   "execution_count": 67,
   "metadata": {},
   "outputs": [],
   "source": [
    "#for i, n, k in zip(numbers, numbers_1, numbers_2):\n",
    "    #model_final = RandomForestRegressor(n_estimators=i, random_state=12345, min_samples_split=n, min_samples_leaf=k)\n",
    "    #model_final.fit(features_final_train_st, target_final_train)\n",
    "    #predict_final = cross_val_score(model_final, features_final_train_st, target_final_train, cv=5, scoring=sMAPE_metric)\n",
    "    #print(predict_final.mean())"
   ]
  },
  {
   "cell_type": "markdown",
   "metadata": {},
   "source": [
    "Были получены оптимальные гиперпараметры и с ними обучим модели. По аналогии с линейной регрессией, оцениваем модель кросс-валидацией, только для ускорения расчета используем 5 блоков для кросс-валидации."
   ]
  },
  {
   "cell_type": "code",
   "execution_count": 68,
   "metadata": {},
   "outputs": [],
   "source": [
    "model_rougher = RandomForestRegressor(n_estimators=90, random_state=12345, min_samples_split=18, min_samples_leaf=12)\n",
    "model_rougher.fit(features_rougher_train_st, target_rougher_train)\n",
    "predict_rougher = cross_val_score(model_rougher, features_rougher_train_st, target_rougher_train, cv=5, scoring=sMAPE_metric)"
   ]
  },
  {
   "cell_type": "code",
   "execution_count": 69,
   "metadata": {},
   "outputs": [],
   "source": [
    "model_final = RandomForestRegressor(n_estimators=70, random_state=12345, min_samples_split=16, min_samples_leaf=10)\n",
    "model_final.fit(features_final_train_st, target_final_train)\n",
    "predict_final = cross_val_score(model_final, features_final_train_st, target_final_train, cv=5, scoring=sMAPE_metric)"
   ]
  },
  {
   "cell_type": "code",
   "execution_count": 70,
   "metadata": {
    "scrolled": true
   },
   "outputs": [
    {
     "name": "stdout",
     "output_type": "stream",
     "text": [
      "Итоговое sMAPE = 9.8 %.\n"
     ]
    }
   ],
   "source": [
    "result = result_sMAPE(predict_rougher.mean(),predict_final.mean())\n",
    "print('Итоговое sMAPE = {:.1f} %.'.format(result))"
   ]
  },
  {
   "cell_type": "markdown",
   "metadata": {},
   "source": [
    "### 3.3 Нормализация"
   ]
  },
  {
   "cell_type": "markdown",
   "metadata": {},
   "source": [
    "Проведем нормализацию данных и исследуем модели `LinearRegression()` и `RandomForestRegressor()`."
   ]
  },
  {
   "cell_type": "code",
   "execution_count": 71,
   "metadata": {},
   "outputs": [],
   "source": [
    "transformer_final = Normalizer().fit(features_final_train)"
   ]
  },
  {
   "cell_type": "code",
   "execution_count": 72,
   "metadata": {},
   "outputs": [],
   "source": [
    "features_final_train_norm = transformer_final.transform(features_final_train)\n",
    "features_final_test_norm = transformer_final.transform(features_final_test)"
   ]
  },
  {
   "cell_type": "code",
   "execution_count": 73,
   "metadata": {},
   "outputs": [],
   "source": [
    "transformer_rougher = Normalizer().fit(features_rougher_train)"
   ]
  },
  {
   "cell_type": "code",
   "execution_count": 74,
   "metadata": {},
   "outputs": [],
   "source": [
    "features_rougher_train_norm = scaler_rougher.transform(features_rougher_train)\n",
    "features_rougher_test_norm = scaler_rougher.transform(features_rougher_test)"
   ]
  },
  {
   "cell_type": "markdown",
   "metadata": {},
   "source": [
    "### 3.3.1 Линейная регрессия"
   ]
  },
  {
   "cell_type": "code",
   "execution_count": 75,
   "metadata": {},
   "outputs": [
    {
     "data": {
      "text/plain": [
       "LinearRegression(copy_X=True, fit_intercept=True, n_jobs=None, normalize=False)"
      ]
     },
     "execution_count": 75,
     "metadata": {},
     "output_type": "execute_result"
    }
   ],
   "source": [
    "model_rougher = LinearRegression()\n",
    "model_rougher.fit(features_rougher_train_norm, target_rougher_train)"
   ]
  },
  {
   "cell_type": "code",
   "execution_count": 76,
   "metadata": {},
   "outputs": [
    {
     "data": {
      "text/plain": [
       "LinearRegression(copy_X=True, fit_intercept=True, n_jobs=None, normalize=False)"
      ]
     },
     "execution_count": 76,
     "metadata": {},
     "output_type": "execute_result"
    }
   ],
   "source": [
    "model_final = LinearRegression()\n",
    "model_final.fit(features_final_train_norm, target_final_train)"
   ]
  },
  {
   "cell_type": "code",
   "execution_count": 77,
   "metadata": {},
   "outputs": [],
   "source": [
    "predict_rougher = cross_val_score(model_rougher, features_rougher_train_norm, target_rougher_train, cv=10, scoring=sMAPE_metric)\n",
    "predict_final = cross_val_score(model_final, features_final_train_norm, target_final_train, cv=10, scoring=sMAPE_metric)"
   ]
  },
  {
   "cell_type": "code",
   "execution_count": 78,
   "metadata": {},
   "outputs": [
    {
     "name": "stdout",
     "output_type": "stream",
     "text": [
      "Итоговое sMAPE = 9.6 %.\n"
     ]
    }
   ],
   "source": [
    "result = result_sMAPE(predict_rougher.mean(),predict_final.mean())\n",
    "print('Итоговое sMAPE = {:.1f} %.'.format(result))"
   ]
  },
  {
   "cell_type": "markdown",
   "metadata": {},
   "source": [
    "### 3.3.2 SGDRegressor"
   ]
  },
  {
   "cell_type": "code",
   "execution_count": 79,
   "metadata": {},
   "outputs": [
    {
     "data": {
      "text/plain": [
       "SGDRegressor(alpha=0.0001, average=False, early_stopping=False, epsilon=0.1,\n",
       "             eta0=0.001, fit_intercept=True, l1_ratio=0,\n",
       "             learning_rate='adaptive', loss='epsilon_insensitive',\n",
       "             max_iter=1000, n_iter_no_change=5, penalty='l2', power_t=0.25,\n",
       "             random_state=12345, shuffle=True, tol=0.001,\n",
       "             validation_fraction=0.1, verbose=0, warm_start=False)"
      ]
     },
     "execution_count": 79,
     "metadata": {},
     "output_type": "execute_result"
    }
   ],
   "source": [
    "model_rougher = linear_model.SGDRegressor(random_state=12345, loss='epsilon_insensitive', penalty='l2', l1_ratio=0, \n",
    "                                          learning_rate='adaptive', eta0=0.001)\n",
    "model_rougher.fit(features_rougher_train_norm, target_rougher_train)"
   ]
  },
  {
   "cell_type": "code",
   "execution_count": 80,
   "metadata": {},
   "outputs": [
    {
     "data": {
      "text/plain": [
       "SGDRegressor(alpha=0.0001, average=False, early_stopping=False, epsilon=0.1,\n",
       "             eta0=0.001, fit_intercept=True, l1_ratio=0,\n",
       "             learning_rate='adaptive', loss='epsilon_insensitive',\n",
       "             max_iter=1000, n_iter_no_change=5, penalty='l2', power_t=0.25,\n",
       "             random_state=12345, shuffle=True, tol=0.001,\n",
       "             validation_fraction=0.1, verbose=0, warm_start=False)"
      ]
     },
     "execution_count": 80,
     "metadata": {},
     "output_type": "execute_result"
    }
   ],
   "source": [
    "model_final = linear_model.SGDRegressor(random_state=12345, loss='epsilon_insensitive', penalty='l2', l1_ratio=0, \n",
    "                                          learning_rate='adaptive', eta0=0.001)\n",
    "model_final.fit(features_final_train_norm, target_final_train)"
   ]
  },
  {
   "cell_type": "code",
   "execution_count": 81,
   "metadata": {},
   "outputs": [],
   "source": [
    "predict_rougher = cross_val_score(model_rougher, features_rougher_train_norm, target_rougher_train, cv=10, scoring=sMAPE_metric)"
   ]
  },
  {
   "cell_type": "code",
   "execution_count": 82,
   "metadata": {},
   "outputs": [],
   "source": [
    "predict_final = cross_val_score(model_final, features_final_train_norm, target_final_train, cv=10, scoring=sMAPE_metric)"
   ]
  },
  {
   "cell_type": "code",
   "execution_count": 83,
   "metadata": {},
   "outputs": [
    {
     "name": "stdout",
     "output_type": "stream",
     "text": [
      "Итоговое sMAPE = 9.8 %.\n"
     ]
    }
   ],
   "source": [
    "result = result_sMAPE(predict_rougher.mean(),predict_final.mean())\n",
    "print('Итоговое sMAPE = {:.1f} %.'.format(result))"
   ]
  },
  {
   "cell_type": "markdown",
   "metadata": {},
   "source": [
    "### 3.3.3 RandomForestRegressor"
   ]
  },
  {
   "cell_type": "markdown",
   "metadata": {},
   "source": [
    "Аналогично подберем гиперпараметры для модели `RandomForestRegressor`."
   ]
  },
  {
   "cell_type": "code",
   "execution_count": 84,
   "metadata": {},
   "outputs": [],
   "source": [
    "#for i, n, k in zip(numbers, numbers_1, numbers_2):\n",
    "    #model_rougher = RandomForestRegressor(n_estimators=i, random_state=12345, min_samples_split=n, min_samples_leaf=k)\n",
    "    #model_rougher.fit(features_rougher_train_norm, target_rougher_train)\n",
    "    #predict_rougher = cross_val_score(model_rougher, features_rougher_train_norm, target_rougher_train, cv=5, scoring=sMAPE_metric)\n",
    "    #print(predict_rougher.mean())"
   ]
  },
  {
   "cell_type": "code",
   "execution_count": 85,
   "metadata": {},
   "outputs": [],
   "source": [
    "#for i, n, k in zip(numbers, numbers_1, numbers_2):\n",
    "   # model_final = RandomForestRegressor(n_estimators=i, random_state=12345, min_samples_split=n, min_samples_leaf=k)\n",
    "    #model_final.fit(features_rougher_train_norm, target_final_train)\n",
    "   # predict_final = cross_val_score(model_final, features_rougher_train_norm, target_final_train, cv=5, scoring=sMAPE_metric)\n",
    "    #print(predict_final.mean())"
   ]
  },
  {
   "cell_type": "markdown",
   "metadata": {},
   "source": [
    "Обучим модели и посчитаем итоговое sMape."
   ]
  },
  {
   "cell_type": "code",
   "execution_count": 86,
   "metadata": {},
   "outputs": [],
   "source": [
    "model_rougher = RandomForestRegressor(n_estimators=90, random_state=12345, min_samples_split=18, min_samples_leaf=12)\n",
    "model_rougher.fit(features_rougher_train_norm, target_rougher_train)\n",
    "predict_rougher = cross_val_score(model_rougher, features_rougher_train_norm, target_rougher_train, cv=5, scoring=sMAPE_metric)"
   ]
  },
  {
   "cell_type": "code",
   "execution_count": 87,
   "metadata": {},
   "outputs": [],
   "source": [
    "model_final = RandomForestRegressor(n_estimators=80, random_state=12345, min_samples_split=16, min_samples_leaf=10)\n",
    "model_final.fit(features_final_train_norm, target_final_train)\n",
    "predict_final = cross_val_score(model_final, features_final_train_norm, target_final_train, cv=5, scoring=sMAPE_metric)"
   ]
  },
  {
   "cell_type": "code",
   "execution_count": 88,
   "metadata": {},
   "outputs": [
    {
     "name": "stdout",
     "output_type": "stream",
     "text": [
      "Итоговое sMAPE = 10.0 %.\n"
     ]
    }
   ],
   "source": [
    "result = result_sMAPE(predict_rougher.mean(),predict_final.mean())\n",
    "print('Итоговое sMAPE = {:.1f} %.'.format(result))"
   ]
  },
  {
   "cell_type": "markdown",
   "metadata": {},
   "source": [
    "Лучшая модель `SGDRegressor`, обученная на стандартизованных данных. Итоговое `sMAPE` = 9.3 %\n",
    "\n",
    "------"
   ]
  },
  {
   "cell_type": "markdown",
   "metadata": {},
   "source": [
    "## 4. Проверка модели на тестовой выборке"
   ]
  },
  {
   "cell_type": "markdown",
   "metadata": {},
   "source": [
    "Проверим модель на тестовой выборке. Возьмем стандартизованные значения и подобранные гиперпараметры."
   ]
  },
  {
   "cell_type": "code",
   "execution_count": 89,
   "metadata": {},
   "outputs": [],
   "source": [
    "model_rougher = linear_model.SGDRegressor(random_state=12345, loss='epsilon_insensitive', penalty='l2', l1_ratio=0, \n",
    "                                          learning_rate='adaptive', eta0=0.001)\n",
    "model_rougher.fit(features_rougher_test_st, target_rougher_test)\n",
    "predict_rougher = cross_val_score(model_rougher, features_rougher_test_st, target_rougher_test, cv=10, scoring=sMAPE_metric)"
   ]
  },
  {
   "cell_type": "code",
   "execution_count": 90,
   "metadata": {},
   "outputs": [],
   "source": [
    "model_final = linear_model.SGDRegressor(random_state=12345, loss='epsilon_insensitive', penalty='l1', l1_ratio=1,\n",
    "                                       learning_rate='adaptive', eta0=0.001)\n",
    "model_final.fit(features_final_test_st, target_final_test)\n",
    "predict_final = cross_val_score(model_final, features_final_test_st, target_final_test, cv=10, scoring=sMAPE_metric)"
   ]
  },
  {
   "cell_type": "markdown",
   "metadata": {},
   "source": [
    "Посчитаем итоговое sMAPE и сравним результат с sMAPE \"глупой\" модели, которая предсказывает среднее значение эффективности обогащения."
   ]
  },
  {
   "cell_type": "code",
   "execution_count": 91,
   "metadata": {},
   "outputs": [
    {
     "name": "stdout",
     "output_type": "stream",
     "text": [
      "Итоговое sMAPE = 9.2 %.\n",
      "Случайная модель sMAPE = 72.5 %.\n"
     ]
    }
   ],
   "source": [
    "result = result_sMAPE(predict_rougher.mean(),predict_final.mean())\n",
    "print('Итоговое sMAPE = {:.1f} %.'.format(result))\n",
    "\n",
    "result_random = result_sMAPE(target_rougher_test.mean(),target_final_test.mean())\n",
    "print('Случайная модель sMAPE = {:.1f} %.'.format(result_random))"
   ]
  },
  {
   "cell_type": "markdown",
   "metadata": {},
   "source": [
    "Модель успешно прошла проверку на адекватность."
   ]
  },
  {
   "cell_type": "markdown",
   "metadata": {},
   "source": [
    "Посмотрим на средние значения эффективности обогащения, которые предсказывает модель. Воспользуемся функцией `cross_val_predict`."
   ]
  },
  {
   "cell_type": "code",
   "execution_count": 92,
   "metadata": {},
   "outputs": [],
   "source": [
    "rec_rougher = cross_val_predict(model_rougher, features_rougher_test_st, target_rougher_test, cv=10)"
   ]
  },
  {
   "cell_type": "code",
   "execution_count": 93,
   "metadata": {},
   "outputs": [],
   "source": [
    "rec_final = cross_val_predict(model_final, features_final_test_st, target_final_test, cv=10)"
   ]
  },
  {
   "cell_type": "markdown",
   "metadata": {},
   "source": [
    "Выведем на экран посчитанные средние значения эффективностей обогащения."
   ]
  },
  {
   "cell_type": "code",
   "execution_count": 94,
   "metadata": {},
   "outputs": [
    {
     "name": "stdout",
     "output_type": "stream",
     "text": [
      "Среднее значение эффективности обогащения чернового концентрата 87.2 %.\n"
     ]
    }
   ],
   "source": [
    "print('Среднее значение эффективности обогащения чернового концентрата {:.1f} %.'.format(rec_rougher.mean()))"
   ]
  },
  {
   "cell_type": "code",
   "execution_count": 95,
   "metadata": {},
   "outputs": [
    {
     "name": "stdout",
     "output_type": "stream",
     "text": [
      "Среднее значение эффективности обогащения финального концентрата 68.8 %.\n"
     ]
    }
   ],
   "source": [
    "print('Среднее значение эффективности обогащения финального концентрата {:.1f} %.'.format(rec_final.mean()))"
   ]
  },
  {
   "cell_type": "markdown",
   "metadata": {},
   "source": [
    "Посчитаем общее значение эффективности обогащения, воспользуемся функцией `result_sMAPE`."
   ]
  },
  {
   "cell_type": "code",
   "execution_count": 96,
   "metadata": {},
   "outputs": [
    {
     "name": "stdout",
     "output_type": "stream",
     "text": [
      "Среднее значение эффективности обогащения золотосодержащей руды 73.4 % ± 9.2 %.\n"
     ]
    }
   ],
   "source": [
    "rec_result = result_sMAPE(rec_rougher.mean(),rec_final.mean())\n",
    "print('Среднее значение эффективности обогащения золотосодержащей руды {:.1f} % ± {:.1f} %.'.format(rec_result, result))"
   ]
  },
  {
   "cell_type": "markdown",
   "metadata": {},
   "source": [
    "Таким образом, получим коэффициент восстановления золота:"
   ]
  },
  {
   "cell_type": "code",
   "execution_count": 97,
   "metadata": {},
   "outputs": [
    {
     "name": "stdout",
     "output_type": "stream",
     "text": [
      "Коэффициент восстановления золота 0.73 ± 0.09.\n"
     ]
    }
   ],
   "source": [
    "print('Коэффициент восстановления золота {:.2f} ± {:.2f}.'.format(rec_result / 100, result / 100))"
   ]
  },
  {
   "cell_type": "markdown",
   "metadata": {},
   "source": [
    "------"
   ]
  },
  {
   "cell_type": "markdown",
   "metadata": {},
   "source": [
    "## Выводы"
   ]
  },
  {
   "cell_type": "markdown",
   "metadata": {},
   "source": [
    "### Описание работы."
   ]
  },
  {
   "cell_type": "markdown",
   "metadata": {},
   "source": [
    "Цель проекта - предсказание коэффициента восстановления золота. \n",
    "\n",
    "Для исследования были предоставлены три выборки: обучающая, тестовая и исходные данные. В данных обнаружилось достаточное количество пропусков. ~~Пропуски было решено удалить, также из данных были удалены аномальные значения концентраций веществ.~~\n",
    "Пропуски были удалены из обучающей выборки, в тестовой выборке пропуски были заменены ближайшими значениями, либо медианами значений. Из обучающей выборки были удалены столбцы, которые отсутствовали в тестовой выборке. А к тестовой выборки были добавлены целевые признаки, чтобы корректно оценить предсказания модели.\n",
    "\n",
    "\n",
    "Был проведен исследовательский анализ данных.\n",
    "\n",
    "\n",
    "В качестве моделей для обучения были выбраны модели *LinearRegression*, *SGDRegressor* и *RandomForestRegressor*. Обучения моделей проводилось на стандартизованных и нормализованных данных. Лучший результат получился у модели *SGDRegressor* на стандартизованных данных."
   ]
  },
  {
   "cell_type": "markdown",
   "metadata": {},
   "source": [
    "### Результаты работы"
   ]
  },
  {
   "cell_type": "markdown",
   "metadata": {},
   "source": [
    "Сведем полученные результаты в таблицу."
   ]
  },
  {
   "cell_type": "markdown",
   "metadata": {},
   "source": [
    "Характеристика | Значение\n",
    ":--- | :---:\n",
    "Итоговое значение метрики sMAPE | 9.2 %\n",
    " | \n",
    "Среднее значение эффективности обогащения чернового концентрата | 87.2 %\n",
    "Среднее значение эффективности обогащения финального концентрата | 68.8 %\n",
    "Среднее значение эффективности обогащения золотосодержащей руды | 73.4 ± 9.2 %\n",
    " | \n",
    "Коэффициент восстановления золота | 0.73 ± 0.09"
   ]
  },
  {
   "cell_type": "markdown",
   "metadata": {},
   "source": [
    "------"
   ]
  }
 ],
 "metadata": {
  "kernelspec": {
   "display_name": "Python 3",
   "language": "python",
   "name": "python3"
  },
  "language_info": {
   "codemirror_mode": {
    "name": "ipython",
    "version": 3
   },
   "file_extension": ".py",
   "mimetype": "text/x-python",
   "name": "python",
   "nbconvert_exporter": "python",
   "pygments_lexer": "ipython3",
   "version": "3.7.6"
  }
 },
 "nbformat": 4,
 "nbformat_minor": 2
}
