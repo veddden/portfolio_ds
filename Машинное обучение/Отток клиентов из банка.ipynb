{
 "cells": [
  {
   "cell_type": "markdown",
   "metadata": {},
   "source": [
    "# Проект. Отток клиентов из банка"
   ]
  },
  {
   "cell_type": "markdown",
   "metadata": {},
   "source": [
    "## Описание проекта"
   ]
  },
  {
   "cell_type": "markdown",
   "metadata": {},
   "source": [
    "Из «Бета-Банка» стали уходить клиенты. Каждый месяц. Немного, но заметно. Банковские маркетологи посчитали: сохранять текущих клиентов дешевле, чем привлекать новых. В ходе проекта необходимо спрогнозировать, уйдёт клиент из банка в ближайшее время или нет. Для исследования предоставлены исторические данные о поведении клиентов и расторжении договоров с банком. \n",
    "\n",
    "Источник данных: [https://www.kaggle.com/barelydedicated/bank-customer-churn-modeling](https://www.kaggle.com/barelydedicated/bank-customer-churn-modeling)"
   ]
  },
  {
   "cell_type": "markdown",
   "metadata": {},
   "source": [
    "## Цели проекта"
   ]
  },
  {
   "cell_type": "markdown",
   "metadata": {},
   "source": [
    "* Построить модель с предельно большим значением F1-меры (довести метрику до 0.59)\n",
    "* Проверить F1-меру на тестовой выборке\n",
    "\n",
    "------"
   ]
  },
  {
   "cell_type": "markdown",
   "metadata": {},
   "source": [
    "## 1. Подготовка данных"
   ]
  },
  {
   "cell_type": "markdown",
   "metadata": {},
   "source": [
    "Импортируем необходимые модули и библиотеки."
   ]
  },
  {
   "cell_type": "code",
   "execution_count": 1,
   "metadata": {},
   "outputs": [],
   "source": [
    "import pandas as pd\n",
    "import numpy as np\n",
    "from sklearn.model_selection import train_test_split\n",
    "from sklearn.preprocessing import StandardScaler\n",
    "from sklearn.metrics import f1_score\n",
    "from sklearn.metrics import confusion_matrix\n",
    "from sklearn.utils import shuffle\n",
    "from sklearn.metrics import roc_auc_score\n",
    "from sklearn.metrics import precision_score, recall_score\n",
    "\n",
    "from sklearn.metrics import precision_recall_curve\n",
    "import matplotlib.pyplot as plt\n",
    "from sklearn.metrics import roc_curve\n",
    "\n",
    "from sklearn.tree import DecisionTreeClassifier\n",
    "from sklearn.ensemble import RandomForestClassifier\n",
    "from sklearn.linear_model import LogisticRegression"
   ]
  },
  {
   "cell_type": "code",
   "execution_count": 51,
   "metadata": {},
   "outputs": [],
   "source": [
    "import warnings\n",
    "warnings.filterwarnings('ignore')"
   ]
  },
  {
   "cell_type": "markdown",
   "metadata": {},
   "source": [
    "Прочитаем файл `Churn.csv` и сохраним его в переменной `data`."
   ]
  },
  {
   "cell_type": "code",
   "execution_count": 52,
   "metadata": {},
   "outputs": [],
   "source": [
    "data = pd.read_csv('/datasets/Churn.csv')"
   ]
  },
  {
   "cell_type": "markdown",
   "metadata": {},
   "source": [
    "Изучим информацию о даннных."
   ]
  },
  {
   "cell_type": "code",
   "execution_count": 53,
   "metadata": {},
   "outputs": [
    {
     "data": {
      "text/html": [
       "<div>\n",
       "<style scoped>\n",
       "    .dataframe tbody tr th:only-of-type {\n",
       "        vertical-align: middle;\n",
       "    }\n",
       "\n",
       "    .dataframe tbody tr th {\n",
       "        vertical-align: top;\n",
       "    }\n",
       "\n",
       "    .dataframe thead th {\n",
       "        text-align: right;\n",
       "    }\n",
       "</style>\n",
       "<table border=\"1\" class=\"dataframe\">\n",
       "  <thead>\n",
       "    <tr style=\"text-align: right;\">\n",
       "      <th></th>\n",
       "      <th>RowNumber</th>\n",
       "      <th>CustomerId</th>\n",
       "      <th>Surname</th>\n",
       "      <th>CreditScore</th>\n",
       "      <th>Geography</th>\n",
       "      <th>Gender</th>\n",
       "      <th>Age</th>\n",
       "      <th>Tenure</th>\n",
       "      <th>Balance</th>\n",
       "      <th>NumOfProducts</th>\n",
       "      <th>HasCrCard</th>\n",
       "      <th>IsActiveMember</th>\n",
       "      <th>EstimatedSalary</th>\n",
       "      <th>Exited</th>\n",
       "    </tr>\n",
       "  </thead>\n",
       "  <tbody>\n",
       "    <tr>\n",
       "      <td>0</td>\n",
       "      <td>1</td>\n",
       "      <td>15634602</td>\n",
       "      <td>Hargrave</td>\n",
       "      <td>619</td>\n",
       "      <td>France</td>\n",
       "      <td>Female</td>\n",
       "      <td>42</td>\n",
       "      <td>2.0</td>\n",
       "      <td>0.00</td>\n",
       "      <td>1</td>\n",
       "      <td>1</td>\n",
       "      <td>1</td>\n",
       "      <td>101348.88</td>\n",
       "      <td>1</td>\n",
       "    </tr>\n",
       "    <tr>\n",
       "      <td>1</td>\n",
       "      <td>2</td>\n",
       "      <td>15647311</td>\n",
       "      <td>Hill</td>\n",
       "      <td>608</td>\n",
       "      <td>Spain</td>\n",
       "      <td>Female</td>\n",
       "      <td>41</td>\n",
       "      <td>1.0</td>\n",
       "      <td>83807.86</td>\n",
       "      <td>1</td>\n",
       "      <td>0</td>\n",
       "      <td>1</td>\n",
       "      <td>112542.58</td>\n",
       "      <td>0</td>\n",
       "    </tr>\n",
       "    <tr>\n",
       "      <td>2</td>\n",
       "      <td>3</td>\n",
       "      <td>15619304</td>\n",
       "      <td>Onio</td>\n",
       "      <td>502</td>\n",
       "      <td>France</td>\n",
       "      <td>Female</td>\n",
       "      <td>42</td>\n",
       "      <td>8.0</td>\n",
       "      <td>159660.80</td>\n",
       "      <td>3</td>\n",
       "      <td>1</td>\n",
       "      <td>0</td>\n",
       "      <td>113931.57</td>\n",
       "      <td>1</td>\n",
       "    </tr>\n",
       "    <tr>\n",
       "      <td>3</td>\n",
       "      <td>4</td>\n",
       "      <td>15701354</td>\n",
       "      <td>Boni</td>\n",
       "      <td>699</td>\n",
       "      <td>France</td>\n",
       "      <td>Female</td>\n",
       "      <td>39</td>\n",
       "      <td>1.0</td>\n",
       "      <td>0.00</td>\n",
       "      <td>2</td>\n",
       "      <td>0</td>\n",
       "      <td>0</td>\n",
       "      <td>93826.63</td>\n",
       "      <td>0</td>\n",
       "    </tr>\n",
       "    <tr>\n",
       "      <td>4</td>\n",
       "      <td>5</td>\n",
       "      <td>15737888</td>\n",
       "      <td>Mitchell</td>\n",
       "      <td>850</td>\n",
       "      <td>Spain</td>\n",
       "      <td>Female</td>\n",
       "      <td>43</td>\n",
       "      <td>2.0</td>\n",
       "      <td>125510.82</td>\n",
       "      <td>1</td>\n",
       "      <td>1</td>\n",
       "      <td>1</td>\n",
       "      <td>79084.10</td>\n",
       "      <td>0</td>\n",
       "    </tr>\n",
       "  </tbody>\n",
       "</table>\n",
       "</div>"
      ],
      "text/plain": [
       "   RowNumber  CustomerId   Surname  CreditScore Geography  Gender  Age  \\\n",
       "0          1    15634602  Hargrave          619    France  Female   42   \n",
       "1          2    15647311      Hill          608     Spain  Female   41   \n",
       "2          3    15619304      Onio          502    France  Female   42   \n",
       "3          4    15701354      Boni          699    France  Female   39   \n",
       "4          5    15737888  Mitchell          850     Spain  Female   43   \n",
       "\n",
       "   Tenure    Balance  NumOfProducts  HasCrCard  IsActiveMember  \\\n",
       "0     2.0       0.00              1          1               1   \n",
       "1     1.0   83807.86              1          0               1   \n",
       "2     8.0  159660.80              3          1               0   \n",
       "3     1.0       0.00              2          0               0   \n",
       "4     2.0  125510.82              1          1               1   \n",
       "\n",
       "   EstimatedSalary  Exited  \n",
       "0        101348.88       1  \n",
       "1        112542.58       0  \n",
       "2        113931.57       1  \n",
       "3         93826.63       0  \n",
       "4         79084.10       0  "
      ]
     },
     "execution_count": 53,
     "metadata": {},
     "output_type": "execute_result"
    }
   ],
   "source": [
    "data.head()"
   ]
  },
  {
   "cell_type": "code",
   "execution_count": 54,
   "metadata": {},
   "outputs": [
    {
     "name": "stdout",
     "output_type": "stream",
     "text": [
      "<class 'pandas.core.frame.DataFrame'>\n",
      "RangeIndex: 10000 entries, 0 to 9999\n",
      "Data columns (total 14 columns):\n",
      "RowNumber          10000 non-null int64\n",
      "CustomerId         10000 non-null int64\n",
      "Surname            10000 non-null object\n",
      "CreditScore        10000 non-null int64\n",
      "Geography          10000 non-null object\n",
      "Gender             10000 non-null object\n",
      "Age                10000 non-null int64\n",
      "Tenure             9091 non-null float64\n",
      "Balance            10000 non-null float64\n",
      "NumOfProducts      10000 non-null int64\n",
      "HasCrCard          10000 non-null int64\n",
      "IsActiveMember     10000 non-null int64\n",
      "EstimatedSalary    10000 non-null float64\n",
      "Exited             10000 non-null int64\n",
      "dtypes: float64(3), int64(8), object(3)\n",
      "memory usage: 1.1+ MB\n"
     ]
    }
   ],
   "source": [
    "data.info()"
   ]
  },
  {
   "cell_type": "code",
   "execution_count": 55,
   "metadata": {},
   "outputs": [
    {
     "data": {
      "text/html": [
       "<div>\n",
       "<style scoped>\n",
       "    .dataframe tbody tr th:only-of-type {\n",
       "        vertical-align: middle;\n",
       "    }\n",
       "\n",
       "    .dataframe tbody tr th {\n",
       "        vertical-align: top;\n",
       "    }\n",
       "\n",
       "    .dataframe thead th {\n",
       "        text-align: right;\n",
       "    }\n",
       "</style>\n",
       "<table border=\"1\" class=\"dataframe\">\n",
       "  <thead>\n",
       "    <tr style=\"text-align: right;\">\n",
       "      <th></th>\n",
       "      <th>count</th>\n",
       "      <th>mean</th>\n",
       "      <th>std</th>\n",
       "      <th>min</th>\n",
       "      <th>25%</th>\n",
       "      <th>50%</th>\n",
       "      <th>75%</th>\n",
       "      <th>max</th>\n",
       "    </tr>\n",
       "  </thead>\n",
       "  <tbody>\n",
       "    <tr>\n",
       "      <td>RowNumber</td>\n",
       "      <td>10000.0</td>\n",
       "      <td>5.000500e+03</td>\n",
       "      <td>2886.895680</td>\n",
       "      <td>1.00</td>\n",
       "      <td>2500.75</td>\n",
       "      <td>5.000500e+03</td>\n",
       "      <td>7.500250e+03</td>\n",
       "      <td>10000.00</td>\n",
       "    </tr>\n",
       "    <tr>\n",
       "      <td>CustomerId</td>\n",
       "      <td>10000.0</td>\n",
       "      <td>1.569094e+07</td>\n",
       "      <td>71936.186123</td>\n",
       "      <td>15565701.00</td>\n",
       "      <td>15628528.25</td>\n",
       "      <td>1.569074e+07</td>\n",
       "      <td>1.575323e+07</td>\n",
       "      <td>15815690.00</td>\n",
       "    </tr>\n",
       "    <tr>\n",
       "      <td>CreditScore</td>\n",
       "      <td>10000.0</td>\n",
       "      <td>6.505288e+02</td>\n",
       "      <td>96.653299</td>\n",
       "      <td>350.00</td>\n",
       "      <td>584.00</td>\n",
       "      <td>6.520000e+02</td>\n",
       "      <td>7.180000e+02</td>\n",
       "      <td>850.00</td>\n",
       "    </tr>\n",
       "    <tr>\n",
       "      <td>Age</td>\n",
       "      <td>10000.0</td>\n",
       "      <td>3.892180e+01</td>\n",
       "      <td>10.487806</td>\n",
       "      <td>18.00</td>\n",
       "      <td>32.00</td>\n",
       "      <td>3.700000e+01</td>\n",
       "      <td>4.400000e+01</td>\n",
       "      <td>92.00</td>\n",
       "    </tr>\n",
       "    <tr>\n",
       "      <td>Tenure</td>\n",
       "      <td>9091.0</td>\n",
       "      <td>4.997690e+00</td>\n",
       "      <td>2.894723</td>\n",
       "      <td>0.00</td>\n",
       "      <td>2.00</td>\n",
       "      <td>5.000000e+00</td>\n",
       "      <td>7.000000e+00</td>\n",
       "      <td>10.00</td>\n",
       "    </tr>\n",
       "    <tr>\n",
       "      <td>Balance</td>\n",
       "      <td>10000.0</td>\n",
       "      <td>7.648589e+04</td>\n",
       "      <td>62397.405202</td>\n",
       "      <td>0.00</td>\n",
       "      <td>0.00</td>\n",
       "      <td>9.719854e+04</td>\n",
       "      <td>1.276442e+05</td>\n",
       "      <td>250898.09</td>\n",
       "    </tr>\n",
       "    <tr>\n",
       "      <td>NumOfProducts</td>\n",
       "      <td>10000.0</td>\n",
       "      <td>1.530200e+00</td>\n",
       "      <td>0.581654</td>\n",
       "      <td>1.00</td>\n",
       "      <td>1.00</td>\n",
       "      <td>1.000000e+00</td>\n",
       "      <td>2.000000e+00</td>\n",
       "      <td>4.00</td>\n",
       "    </tr>\n",
       "    <tr>\n",
       "      <td>HasCrCard</td>\n",
       "      <td>10000.0</td>\n",
       "      <td>7.055000e-01</td>\n",
       "      <td>0.455840</td>\n",
       "      <td>0.00</td>\n",
       "      <td>0.00</td>\n",
       "      <td>1.000000e+00</td>\n",
       "      <td>1.000000e+00</td>\n",
       "      <td>1.00</td>\n",
       "    </tr>\n",
       "    <tr>\n",
       "      <td>IsActiveMember</td>\n",
       "      <td>10000.0</td>\n",
       "      <td>5.151000e-01</td>\n",
       "      <td>0.499797</td>\n",
       "      <td>0.00</td>\n",
       "      <td>0.00</td>\n",
       "      <td>1.000000e+00</td>\n",
       "      <td>1.000000e+00</td>\n",
       "      <td>1.00</td>\n",
       "    </tr>\n",
       "    <tr>\n",
       "      <td>EstimatedSalary</td>\n",
       "      <td>10000.0</td>\n",
       "      <td>1.000902e+05</td>\n",
       "      <td>57510.492818</td>\n",
       "      <td>11.58</td>\n",
       "      <td>51002.11</td>\n",
       "      <td>1.001939e+05</td>\n",
       "      <td>1.493882e+05</td>\n",
       "      <td>199992.48</td>\n",
       "    </tr>\n",
       "    <tr>\n",
       "      <td>Exited</td>\n",
       "      <td>10000.0</td>\n",
       "      <td>2.037000e-01</td>\n",
       "      <td>0.402769</td>\n",
       "      <td>0.00</td>\n",
       "      <td>0.00</td>\n",
       "      <td>0.000000e+00</td>\n",
       "      <td>0.000000e+00</td>\n",
       "      <td>1.00</td>\n",
       "    </tr>\n",
       "  </tbody>\n",
       "</table>\n",
       "</div>"
      ],
      "text/plain": [
       "                   count          mean           std          min  \\\n",
       "RowNumber        10000.0  5.000500e+03   2886.895680         1.00   \n",
       "CustomerId       10000.0  1.569094e+07  71936.186123  15565701.00   \n",
       "CreditScore      10000.0  6.505288e+02     96.653299       350.00   \n",
       "Age              10000.0  3.892180e+01     10.487806        18.00   \n",
       "Tenure            9091.0  4.997690e+00      2.894723         0.00   \n",
       "Balance          10000.0  7.648589e+04  62397.405202         0.00   \n",
       "NumOfProducts    10000.0  1.530200e+00      0.581654         1.00   \n",
       "HasCrCard        10000.0  7.055000e-01      0.455840         0.00   \n",
       "IsActiveMember   10000.0  5.151000e-01      0.499797         0.00   \n",
       "EstimatedSalary  10000.0  1.000902e+05  57510.492818        11.58   \n",
       "Exited           10000.0  2.037000e-01      0.402769         0.00   \n",
       "\n",
       "                         25%           50%           75%          max  \n",
       "RowNumber            2500.75  5.000500e+03  7.500250e+03     10000.00  \n",
       "CustomerId       15628528.25  1.569074e+07  1.575323e+07  15815690.00  \n",
       "CreditScore           584.00  6.520000e+02  7.180000e+02       850.00  \n",
       "Age                    32.00  3.700000e+01  4.400000e+01        92.00  \n",
       "Tenure                  2.00  5.000000e+00  7.000000e+00        10.00  \n",
       "Balance                 0.00  9.719854e+04  1.276442e+05    250898.09  \n",
       "NumOfProducts           1.00  1.000000e+00  2.000000e+00         4.00  \n",
       "HasCrCard               0.00  1.000000e+00  1.000000e+00         1.00  \n",
       "IsActiveMember          0.00  1.000000e+00  1.000000e+00         1.00  \n",
       "EstimatedSalary     51002.11  1.001939e+05  1.493882e+05    199992.48  \n",
       "Exited                  0.00  0.000000e+00  0.000000e+00         1.00  "
      ]
     },
     "execution_count": 55,
     "metadata": {},
     "output_type": "execute_result"
    }
   ],
   "source": [
    "data.describe().T"
   ]
  },
  {
   "cell_type": "markdown",
   "metadata": {},
   "source": [
    "Имеется таблица с данными, у которой 14 столбцов и 10000 строк. Признаки, которые будут использоваться для обучения модели: *'CreditScore', 'Geography', 'Gender', 'Age', 'Tenure', 'Balance', 'NumOfProducts', 'HasCrCard', 'IsActiveMember', 'EstimatedSalary'*. Целевой категориальный признак - *'Exited'*. В ходе проекта будет решаться задача бинарной классификации.\n",
    "\n",
    "В столбце *'Tenure'* имеется 909 пропусков, также у значений данного столбца нужно заменить тип данных на целочисленный.\n",
    "Заменим пропуски в столбце *'Tenure'* на значение медианы."
   ]
  },
  {
   "cell_type": "code",
   "execution_count": 59,
   "metadata": {},
   "outputs": [],
   "source": [
    "data['Tenure'] = data['Tenure'].fillna(5)"
   ]
  },
  {
   "cell_type": "code",
   "execution_count": 60,
   "metadata": {},
   "outputs": [],
   "source": [
    "data['Tenure'] = data['Tenure'].astype('int')"
   ]
  },
  {
   "cell_type": "markdown",
   "metadata": {},
   "source": [
    "Посмотрим, что получилось."
   ]
  },
  {
   "cell_type": "code",
   "execution_count": 61,
   "metadata": {},
   "outputs": [
    {
     "name": "stdout",
     "output_type": "stream",
     "text": [
      "<class 'pandas.core.frame.DataFrame'>\n",
      "RangeIndex: 10000 entries, 0 to 9999\n",
      "Data columns (total 14 columns):\n",
      "RowNumber          10000 non-null int64\n",
      "CustomerId         10000 non-null int64\n",
      "Surname            10000 non-null object\n",
      "CreditScore        10000 non-null int64\n",
      "Geography          10000 non-null object\n",
      "Gender             10000 non-null object\n",
      "Age                10000 non-null int64\n",
      "Tenure             10000 non-null int64\n",
      "Balance            10000 non-null float64\n",
      "NumOfProducts      10000 non-null int64\n",
      "HasCrCard          10000 non-null int64\n",
      "IsActiveMember     10000 non-null int64\n",
      "EstimatedSalary    10000 non-null float64\n",
      "Exited             10000 non-null int64\n",
      "dtypes: float64(2), int64(9), object(3)\n",
      "memory usage: 1.1+ MB\n"
     ]
    }
   ],
   "source": [
    "data.info()"
   ]
  },
  {
   "cell_type": "code",
   "execution_count": 62,
   "metadata": {},
   "outputs": [
    {
     "data": {
      "text/plain": [
       "RowNumber          10000\n",
       "CustomerId         10000\n",
       "Surname             2932\n",
       "CreditScore          460\n",
       "Geography              3\n",
       "Gender                 2\n",
       "Age                   70\n",
       "Tenure                11\n",
       "Balance             6382\n",
       "NumOfProducts          4\n",
       "HasCrCard              2\n",
       "IsActiveMember         2\n",
       "EstimatedSalary     9999\n",
       "Exited                 2\n",
       "dtype: int64"
      ]
     },
     "execution_count": 62,
     "metadata": {},
     "output_type": "execute_result"
    }
   ],
   "source": [
    "data.nunique() "
   ]
  },
  {
   "cell_type": "code",
   "execution_count": 63,
   "metadata": {},
   "outputs": [
    {
     "data": {
      "text/html": [
       "<div>\n",
       "<style scoped>\n",
       "    .dataframe tbody tr th:only-of-type {\n",
       "        vertical-align: middle;\n",
       "    }\n",
       "\n",
       "    .dataframe tbody tr th {\n",
       "        vertical-align: top;\n",
       "    }\n",
       "\n",
       "    .dataframe thead th {\n",
       "        text-align: right;\n",
       "    }\n",
       "</style>\n",
       "<table border=\"1\" class=\"dataframe\">\n",
       "  <thead>\n",
       "    <tr style=\"text-align: right;\">\n",
       "      <th></th>\n",
       "      <th>Surname</th>\n",
       "      <th>Geography</th>\n",
       "      <th>Gender</th>\n",
       "    </tr>\n",
       "  </thead>\n",
       "  <tbody>\n",
       "    <tr>\n",
       "      <td>count</td>\n",
       "      <td>10000</td>\n",
       "      <td>10000</td>\n",
       "      <td>10000</td>\n",
       "    </tr>\n",
       "    <tr>\n",
       "      <td>unique</td>\n",
       "      <td>2932</td>\n",
       "      <td>3</td>\n",
       "      <td>2</td>\n",
       "    </tr>\n",
       "    <tr>\n",
       "      <td>top</td>\n",
       "      <td>Smith</td>\n",
       "      <td>France</td>\n",
       "      <td>Male</td>\n",
       "    </tr>\n",
       "    <tr>\n",
       "      <td>freq</td>\n",
       "      <td>32</td>\n",
       "      <td>5014</td>\n",
       "      <td>5457</td>\n",
       "    </tr>\n",
       "  </tbody>\n",
       "</table>\n",
       "</div>"
      ],
      "text/plain": [
       "       Surname Geography Gender\n",
       "count    10000     10000  10000\n",
       "unique    2932         3      2\n",
       "top      Smith    France   Male\n",
       "freq        32      5014   5457"
      ]
     },
     "execution_count": 63,
     "metadata": {},
     "output_type": "execute_result"
    }
   ],
   "source": [
    "data.describe(include=object)"
   ]
  },
  {
   "cell_type": "markdown",
   "metadata": {},
   "source": [
    "Проверим уникальность клиентов."
   ]
  },
  {
   "cell_type": "code",
   "execution_count": 64,
   "metadata": {},
   "outputs": [
    {
     "data": {
      "text/plain": [
       "10000"
      ]
     },
     "execution_count": 64,
     "metadata": {},
     "output_type": "execute_result"
    }
   ],
   "source": [
    "data['CustomerId'].nunique()"
   ]
  },
  {
   "cell_type": "markdown",
   "metadata": {},
   "source": [
    "Дубликатов в данных нет."
   ]
  },
  {
   "cell_type": "markdown",
   "metadata": {},
   "source": [
    "Среди признаков в таблице присутствуют категориальные признаки, их необходимо преобразовать в численные признаки. Воспользуемся техникой прямого кодирования `pd.get_dummies` с атрибутом `drop_first=True`. Также уберем сразу из данных ненужные для обучения столбцы."
   ]
  },
  {
   "cell_type": "code",
   "execution_count": 65,
   "metadata": {},
   "outputs": [],
   "source": [
    "data_ohe = pd.get_dummies(data.loc[:, 'CreditScore' : 'Exited'], drop_first=True)"
   ]
  },
  {
   "cell_type": "markdown",
   "metadata": {},
   "source": [
    "Посмотрим, что получилось."
   ]
  },
  {
   "cell_type": "code",
   "execution_count": 66,
   "metadata": {},
   "outputs": [
    {
     "data": {
      "text/html": [
       "<div>\n",
       "<style scoped>\n",
       "    .dataframe tbody tr th:only-of-type {\n",
       "        vertical-align: middle;\n",
       "    }\n",
       "\n",
       "    .dataframe tbody tr th {\n",
       "        vertical-align: top;\n",
       "    }\n",
       "\n",
       "    .dataframe thead th {\n",
       "        text-align: right;\n",
       "    }\n",
       "</style>\n",
       "<table border=\"1\" class=\"dataframe\">\n",
       "  <thead>\n",
       "    <tr style=\"text-align: right;\">\n",
       "      <th></th>\n",
       "      <th>CreditScore</th>\n",
       "      <th>Age</th>\n",
       "      <th>Tenure</th>\n",
       "      <th>Balance</th>\n",
       "      <th>NumOfProducts</th>\n",
       "      <th>HasCrCard</th>\n",
       "      <th>IsActiveMember</th>\n",
       "      <th>EstimatedSalary</th>\n",
       "      <th>Exited</th>\n",
       "      <th>Geography_Germany</th>\n",
       "      <th>Geography_Spain</th>\n",
       "      <th>Gender_Male</th>\n",
       "    </tr>\n",
       "  </thead>\n",
       "  <tbody>\n",
       "    <tr>\n",
       "      <td>0</td>\n",
       "      <td>619</td>\n",
       "      <td>42</td>\n",
       "      <td>2</td>\n",
       "      <td>0.00</td>\n",
       "      <td>1</td>\n",
       "      <td>1</td>\n",
       "      <td>1</td>\n",
       "      <td>101348.88</td>\n",
       "      <td>1</td>\n",
       "      <td>0</td>\n",
       "      <td>0</td>\n",
       "      <td>0</td>\n",
       "    </tr>\n",
       "    <tr>\n",
       "      <td>1</td>\n",
       "      <td>608</td>\n",
       "      <td>41</td>\n",
       "      <td>1</td>\n",
       "      <td>83807.86</td>\n",
       "      <td>1</td>\n",
       "      <td>0</td>\n",
       "      <td>1</td>\n",
       "      <td>112542.58</td>\n",
       "      <td>0</td>\n",
       "      <td>0</td>\n",
       "      <td>1</td>\n",
       "      <td>0</td>\n",
       "    </tr>\n",
       "    <tr>\n",
       "      <td>2</td>\n",
       "      <td>502</td>\n",
       "      <td>42</td>\n",
       "      <td>8</td>\n",
       "      <td>159660.80</td>\n",
       "      <td>3</td>\n",
       "      <td>1</td>\n",
       "      <td>0</td>\n",
       "      <td>113931.57</td>\n",
       "      <td>1</td>\n",
       "      <td>0</td>\n",
       "      <td>0</td>\n",
       "      <td>0</td>\n",
       "    </tr>\n",
       "    <tr>\n",
       "      <td>3</td>\n",
       "      <td>699</td>\n",
       "      <td>39</td>\n",
       "      <td>1</td>\n",
       "      <td>0.00</td>\n",
       "      <td>2</td>\n",
       "      <td>0</td>\n",
       "      <td>0</td>\n",
       "      <td>93826.63</td>\n",
       "      <td>0</td>\n",
       "      <td>0</td>\n",
       "      <td>0</td>\n",
       "      <td>0</td>\n",
       "    </tr>\n",
       "    <tr>\n",
       "      <td>4</td>\n",
       "      <td>850</td>\n",
       "      <td>43</td>\n",
       "      <td>2</td>\n",
       "      <td>125510.82</td>\n",
       "      <td>1</td>\n",
       "      <td>1</td>\n",
       "      <td>1</td>\n",
       "      <td>79084.10</td>\n",
       "      <td>0</td>\n",
       "      <td>0</td>\n",
       "      <td>1</td>\n",
       "      <td>0</td>\n",
       "    </tr>\n",
       "  </tbody>\n",
       "</table>\n",
       "</div>"
      ],
      "text/plain": [
       "   CreditScore  Age  Tenure    Balance  NumOfProducts  HasCrCard  \\\n",
       "0          619   42       2       0.00              1          1   \n",
       "1          608   41       1   83807.86              1          0   \n",
       "2          502   42       8  159660.80              3          1   \n",
       "3          699   39       1       0.00              2          0   \n",
       "4          850   43       2  125510.82              1          1   \n",
       "\n",
       "   IsActiveMember  EstimatedSalary  Exited  Geography_Germany  \\\n",
       "0               1        101348.88       1                  0   \n",
       "1               1        112542.58       0                  0   \n",
       "2               0        113931.57       1                  0   \n",
       "3               0         93826.63       0                  0   \n",
       "4               1         79084.10       0                  0   \n",
       "\n",
       "   Geography_Spain  Gender_Male  \n",
       "0                0            0  \n",
       "1                1            0  \n",
       "2                0            0  \n",
       "3                0            0  \n",
       "4                1            0  "
      ]
     },
     "execution_count": 66,
     "metadata": {},
     "output_type": "execute_result"
    }
   ],
   "source": [
    "data_ohe.head()"
   ]
  },
  {
   "cell_type": "markdown",
   "metadata": {},
   "source": [
    "Сохраним признаки и целевой признак в переменных `features` и `target` соответственно."
   ]
  },
  {
   "cell_type": "code",
   "execution_count": 67,
   "metadata": {},
   "outputs": [],
   "source": [
    "features = data_ohe.drop(['Exited'] , axis=1)\n",
    "target = data_ohe['Exited']"
   ]
  },
  {
   "cell_type": "markdown",
   "metadata": {},
   "source": [
    "Разделим признаки тренировочную, проверочную и тестовую выборки в соотношении 3 : 1 : 1. Для сохранения в каждой подвыборке той же пропорции распределения объектов по классам, что и на всей выборке допишем к функции `train_test_split` атрибут `stratify`."
   ]
  },
  {
   "cell_type": "code",
   "execution_count": 68,
   "metadata": {},
   "outputs": [],
   "source": [
    "features_train_val, features_test, target_train_val,  target_test = train_test_split(\n",
    "    features, target, test_size=0.2, random_state=12345, stratify=target)"
   ]
  },
  {
   "cell_type": "code",
   "execution_count": 69,
   "metadata": {},
   "outputs": [],
   "source": [
    "features_train, features_valid, target_train, target_valid = train_test_split(\n",
    "    features_train_val, target_train_val, test_size=0.25, random_state=12345,stratify=target_train_val)"
   ]
  },
  {
   "cell_type": "markdown",
   "metadata": {},
   "source": [
    "Проверим соотношение."
   ]
  },
  {
   "cell_type": "code",
   "execution_count": 70,
   "metadata": {},
   "outputs": [
    {
     "data": {
      "text/plain": [
       "(6000, 11)"
      ]
     },
     "execution_count": 70,
     "metadata": {},
     "output_type": "execute_result"
    }
   ],
   "source": [
    "features_train.shape"
   ]
  },
  {
   "cell_type": "code",
   "execution_count": 71,
   "metadata": {},
   "outputs": [
    {
     "data": {
      "text/plain": [
       "(2000, 11)"
      ]
     },
     "execution_count": 71,
     "metadata": {},
     "output_type": "execute_result"
    }
   ],
   "source": [
    "features_test.shape"
   ]
  },
  {
   "cell_type": "code",
   "execution_count": 72,
   "metadata": {},
   "outputs": [
    {
     "data": {
      "text/plain": [
       "(2000, 11)"
      ]
     },
     "execution_count": 72,
     "metadata": {},
     "output_type": "execute_result"
    }
   ],
   "source": [
    "features_valid.shape"
   ]
  },
  {
   "cell_type": "markdown",
   "metadata": {},
   "source": [
    "Следующим этапом подготовки данных будет приведение данных к одному масштабу, чтобы все признаки были одинаково значимы.\n",
    "\n",
    "Сохраним в переменной `numeric` признаки, которые будут стандартизироваться."
   ]
  },
  {
   "cell_type": "code",
   "execution_count": 73,
   "metadata": {},
   "outputs": [],
   "source": [
    "numeric = ['CreditScore', 'Age', 'Balance', 'EstimatedSalary', 'Tenure', 'NumOfProducts']"
   ]
  },
  {
   "cell_type": "markdown",
   "metadata": {},
   "source": [
    "Создадим объект `StandardScaler ` и настроим его на обучающих данных."
   ]
  },
  {
   "cell_type": "code",
   "execution_count": 74,
   "metadata": {},
   "outputs": [
    {
     "data": {
      "text/plain": [
       "StandardScaler(copy=True, with_mean=True, with_std=True)"
      ]
     },
     "execution_count": 74,
     "metadata": {},
     "output_type": "execute_result"
    }
   ],
   "source": [
    "scaler = StandardScaler()\n",
    "scaler.fit(features_train[numeric])"
   ]
  },
  {
   "cell_type": "markdown",
   "metadata": {},
   "source": [
    "Преобразуем обучающую, валидационную и тестовую выборки функцией `transform()`. Изменённые наборы сохраним в переменных: `features_train`, `features_valid` и `features_test`. "
   ]
  },
  {
   "cell_type": "code",
   "execution_count": 75,
   "metadata": {},
   "outputs": [],
   "source": [
    "features_train[numeric] = scaler.transform(features_train[numeric])\n",
    "features_valid[numeric] = scaler.transform(features_valid[numeric])\n",
    "features_test[numeric] = scaler.transform(features_test[numeric])"
   ]
  },
  {
   "cell_type": "markdown",
   "metadata": {},
   "source": [
    "Посмотрим, что получилось."
   ]
  },
  {
   "cell_type": "code",
   "execution_count": 76,
   "metadata": {},
   "outputs": [
    {
     "data": {
      "text/html": [
       "<div>\n",
       "<style scoped>\n",
       "    .dataframe tbody tr th:only-of-type {\n",
       "        vertical-align: middle;\n",
       "    }\n",
       "\n",
       "    .dataframe tbody tr th {\n",
       "        vertical-align: top;\n",
       "    }\n",
       "\n",
       "    .dataframe thead th {\n",
       "        text-align: right;\n",
       "    }\n",
       "</style>\n",
       "<table border=\"1\" class=\"dataframe\">\n",
       "  <thead>\n",
       "    <tr style=\"text-align: right;\">\n",
       "      <th></th>\n",
       "      <th>CreditScore</th>\n",
       "      <th>Age</th>\n",
       "      <th>Tenure</th>\n",
       "      <th>Balance</th>\n",
       "      <th>NumOfProducts</th>\n",
       "      <th>HasCrCard</th>\n",
       "      <th>IsActiveMember</th>\n",
       "      <th>EstimatedSalary</th>\n",
       "      <th>Geography_Germany</th>\n",
       "      <th>Geography_Spain</th>\n",
       "      <th>Gender_Male</th>\n",
       "    </tr>\n",
       "  </thead>\n",
       "  <tbody>\n",
       "    <tr>\n",
       "      <td>5536</td>\n",
       "      <td>-0.143332</td>\n",
       "      <td>0.577533</td>\n",
       "      <td>-0.001274</td>\n",
       "      <td>-1.220573</td>\n",
       "      <td>0.797767</td>\n",
       "      <td>1</td>\n",
       "      <td>1</td>\n",
       "      <td>1.029613</td>\n",
       "      <td>0</td>\n",
       "      <td>1</td>\n",
       "      <td>1</td>\n",
       "    </tr>\n",
       "    <tr>\n",
       "      <td>8530</td>\n",
       "      <td>1.632702</td>\n",
       "      <td>-0.564119</td>\n",
       "      <td>-1.092954</td>\n",
       "      <td>0.435807</td>\n",
       "      <td>-0.916018</td>\n",
       "      <td>1</td>\n",
       "      <td>0</td>\n",
       "      <td>0.237986</td>\n",
       "      <td>0</td>\n",
       "      <td>0</td>\n",
       "      <td>0</td>\n",
       "    </tr>\n",
       "    <tr>\n",
       "      <td>1762</td>\n",
       "      <td>1.116413</td>\n",
       "      <td>-0.468981</td>\n",
       "      <td>-1.456847</td>\n",
       "      <td>1.245822</td>\n",
       "      <td>-0.916018</td>\n",
       "      <td>1</td>\n",
       "      <td>1</td>\n",
       "      <td>-0.686104</td>\n",
       "      <td>0</td>\n",
       "      <td>0</td>\n",
       "      <td>0</td>\n",
       "    </tr>\n",
       "    <tr>\n",
       "      <td>9090</td>\n",
       "      <td>1.643028</td>\n",
       "      <td>0.006707</td>\n",
       "      <td>-0.001274</td>\n",
       "      <td>-1.220573</td>\n",
       "      <td>-0.916018</td>\n",
       "      <td>1</td>\n",
       "      <td>0</td>\n",
       "      <td>-0.391097</td>\n",
       "      <td>0</td>\n",
       "      <td>0</td>\n",
       "      <td>0</td>\n",
       "    </tr>\n",
       "    <tr>\n",
       "      <td>8777</td>\n",
       "      <td>-0.484083</td>\n",
       "      <td>-1.420358</td>\n",
       "      <td>-1.456847</td>\n",
       "      <td>1.421989</td>\n",
       "      <td>0.797767</td>\n",
       "      <td>1</td>\n",
       "      <td>0</td>\n",
       "      <td>-1.361559</td>\n",
       "      <td>0</td>\n",
       "      <td>1</td>\n",
       "      <td>1</td>\n",
       "    </tr>\n",
       "  </tbody>\n",
       "</table>\n",
       "</div>"
      ],
      "text/plain": [
       "      CreditScore       Age    Tenure   Balance  NumOfProducts  HasCrCard  \\\n",
       "5536    -0.143332  0.577533 -0.001274 -1.220573       0.797767          1   \n",
       "8530     1.632702 -0.564119 -1.092954  0.435807      -0.916018          1   \n",
       "1762     1.116413 -0.468981 -1.456847  1.245822      -0.916018          1   \n",
       "9090     1.643028  0.006707 -0.001274 -1.220573      -0.916018          1   \n",
       "8777    -0.484083 -1.420358 -1.456847  1.421989       0.797767          1   \n",
       "\n",
       "      IsActiveMember  EstimatedSalary  Geography_Germany  Geography_Spain  \\\n",
       "5536               1         1.029613                  0                1   \n",
       "8530               0         0.237986                  0                0   \n",
       "1762               1        -0.686104                  0                0   \n",
       "9090               0        -0.391097                  0                0   \n",
       "8777               0        -1.361559                  0                1   \n",
       "\n",
       "      Gender_Male  \n",
       "5536            1  \n",
       "8530            0  \n",
       "1762            0  \n",
       "9090            0  \n",
       "8777            1  "
      ]
     },
     "execution_count": 76,
     "metadata": {},
     "output_type": "execute_result"
    }
   ],
   "source": [
    "features_train.head()"
   ]
  },
  {
   "cell_type": "markdown",
   "metadata": {},
   "source": [
    "Данные подготовлены для обучения моделей.\n",
    "\n",
    "------"
   ]
  },
  {
   "cell_type": "markdown",
   "metadata": {},
   "source": [
    "# 2. Исследование моделей"
   ]
  },
  {
   "cell_type": "markdown",
   "metadata": {},
   "source": [
    "Для начала произведем \"взвешивание классов\" тренировочной выборки."
   ]
  },
  {
   "cell_type": "code",
   "execution_count": 77,
   "metadata": {},
   "outputs": [
    {
     "data": {
      "text/plain": [
       "0    4777\n",
       "1    1223\n",
       "Name: Exited, dtype: int64"
      ]
     },
     "execution_count": 77,
     "metadata": {},
     "output_type": "execute_result"
    }
   ],
   "source": [
    "target_train.value_counts()"
   ]
  },
  {
   "cell_type": "markdown",
   "metadata": {},
   "source": [
    "Классы являются несбалансированными, количество 0 почти в четыре раза превышает количество 1. По условию задач проекта сначала нужно провести обучение моделей без учета дисбаланса, а затем с учетом дисбаланса.\n",
    "\n",
    "Для решения задачи классификации обучим следующие модели: **решающее дерево**, **случайный лес** и **логистическую регрессию**."
   ]
  },
  {
   "cell_type": "markdown",
   "metadata": {},
   "source": [
    "## 2.1 Решающее дерево"
   ]
  },
  {
   "cell_type": "markdown",
   "metadata": {},
   "source": [
    "Исследуем модель решающее дерево при глубинах дерево от 5 до 15. Установим следующие гиперпараметры: `min_samples_split=10, min_samples_leaf=7`."
   ]
  },
  {
   "cell_type": "code",
   "execution_count": 78,
   "metadata": {
    "scrolled": true
   },
   "outputs": [
    {
     "name": "stdout",
     "output_type": "stream",
     "text": [
      "max_depth = 5 : F1-мера = 0.4577\n",
      "max_depth = 6 : F1-мера = 0.5457\n",
      "max_depth = 7 : F1-мера = 0.5853\n",
      "max_depth = 8 : F1-мера = 0.5891\n",
      "max_depth = 9 : F1-мера = 0.5702\n",
      "max_depth = 10 : F1-мера = 0.5643\n",
      "max_depth = 11 : F1-мера = 0.5668\n",
      "max_depth = 12 : F1-мера = 0.5638\n",
      "max_depth = 13 : F1-мера = 0.5497\n",
      "max_depth = 14 : F1-мера = 0.5626\n",
      "max_depth = 15 : F1-мера = 0.5563\n"
     ]
    }
   ],
   "source": [
    "for i in range(5, 16, 1):    \n",
    "    model1 = DecisionTreeClassifier(random_state=12345, max_depth=i, min_samples_split=10, \n",
    "                                  min_samples_leaf=7)\n",
    "    model1.fit(features_train, target_train)\n",
    "    predicted_valid1 = model1.predict(features_valid)\n",
    "\n",
    "    print(\"max_depth =\", i, \": \", end='')\n",
    "    print('F1-мера = {:.4f}'.format(f1_score(target_valid, predicted_valid1)))\n",
    "    #print('Confusion_matrix: \\n', confusion_matrix(target_valid, predicted_valid1))\n",
    "    #print()"
   ]
  },
  {
   "cell_type": "markdown",
   "metadata": {},
   "source": [
    "## 2.2 Случайный лес"
   ]
  },
  {
   "cell_type": "markdown",
   "metadata": {},
   "source": [
    "Исследуем модель случайный лес при глубинах деревьев от 10 до 20. Установим следующие гиперпараметры: `n_estimators=100, min_samples_split=10, min_samples_leaf=7`."
   ]
  },
  {
   "cell_type": "code",
   "execution_count": 79,
   "metadata": {
    "scrolled": true
   },
   "outputs": [
    {
     "name": "stdout",
     "output_type": "stream",
     "text": [
      "max_depth = 10 : F1-мера = 0.5541\n",
      "max_depth = 11 : F1-мера = 0.5608\n",
      "max_depth = 12 : F1-мера = 0.5425\n",
      "max_depth = 13 : F1-мера = 0.5636\n",
      "max_depth = 14 : F1-мера = 0.5631\n",
      "max_depth = 15 : F1-мера = 0.5636\n",
      "max_depth = 16 : F1-мера = 0.5769\n",
      "max_depth = 17 : F1-мера = 0.5618\n",
      "max_depth = 18 : F1-мера = 0.5687\n",
      "max_depth = 19 : F1-мера = 0.5659\n",
      "max_depth = 20 : F1-мера = 0.5682\n"
     ]
    }
   ],
   "source": [
    "for i in range(10, 21, 1):\n",
    "    model2 = RandomForestClassifier(n_estimators=100, max_depth=i, random_state=12345, min_samples_split=10, \n",
    "                                  min_samples_leaf=7)\n",
    "    model2.fit(features_train, target_train)\n",
    "    predicted_valid2 = model2.predict(features_valid)\n",
    "    \n",
    "    print(\"max_depth =\", i, \": \", end='')\n",
    "    print('F1-мера = {:.4f}'.format(f1_score(target_valid, predicted_valid2)))\n",
    "    #print('Confusion_matrix: \\n', confusion_matrix(target_valid, predicted_valid2))\n",
    "    #print()"
   ]
  },
  {
   "cell_type": "markdown",
   "metadata": {},
   "source": [
    "## 2.3 Логистическая регрессия"
   ]
  },
  {
   "cell_type": "markdown",
   "metadata": {},
   "source": [
    "Исследуем модель логистическая регрессия. Установим следующие гиперпараметры: `solver='liblinear', penalty='l1', max_iter=200`."
   ]
  },
  {
   "cell_type": "code",
   "execution_count": 80,
   "metadata": {},
   "outputs": [
    {
     "data": {
      "text/plain": [
       "LogisticRegression(C=1.0, class_weight=None, dual=False, fit_intercept=True,\n",
       "                   intercept_scaling=1, l1_ratio=None, max_iter=200,\n",
       "                   multi_class='warn', n_jobs=None, penalty='l1',\n",
       "                   random_state=12345, solver='liblinear', tol=0.0001,\n",
       "                   verbose=0, warm_start=False)"
      ]
     },
     "execution_count": 80,
     "metadata": {},
     "output_type": "execute_result"
    }
   ],
   "source": [
    "model3 = LogisticRegression(random_state=12345, solver='liblinear', penalty='l1', max_iter=200)\n",
    "model3.fit(features_train, target_train)"
   ]
  },
  {
   "cell_type": "code",
   "execution_count": 81,
   "metadata": {},
   "outputs": [
    {
     "name": "stdout",
     "output_type": "stream",
     "text": [
      "F1-мера = 0.3221\n"
     ]
    }
   ],
   "source": [
    "predicted_valid3 = model3.predict(features_valid)\n",
    "print('F1-мера = {:.4f}'.format(f1_score(target_valid, predicted_valid3)))"
   ]
  },
  {
   "cell_type": "markdown",
   "metadata": {},
   "source": [
    "Лучшие показатели F1-меры получились у моделей решающее дерево и случайный лес. Несмотря на сильный дисбаланс классов, удалось получить F1-меру = 0.59 у модели решающее дерево. У модели логистическая регрессия F1-мера получилась 0.32, видимо на модель сильно влияет дисбаланс классов.\n",
    "\n",
    "------"
   ]
  },
  {
   "cell_type": "markdown",
   "metadata": {},
   "source": [
    "# 3. Борьба с дисбалансом"
   ]
  },
  {
   "cell_type": "markdown",
   "metadata": {},
   "source": [
    "Для увеличения качества моделей при дисбалансе классов применим техники *upsampling* (увеличение выборки) и *downsampling* (уменьшение выборки)."
   ]
  },
  {
   "cell_type": "markdown",
   "metadata": {},
   "source": [
    "## 3.1 Увеличение выборки"
   ]
  },
  {
   "cell_type": "markdown",
   "metadata": {},
   "source": [
    "Напишем функцию `upsample` для увеличения выборки, которая на вход принимает признаки, целевой признак и число для умножения, необходимое для достижения баланса классов."
   ]
  },
  {
   "cell_type": "code",
   "execution_count": 82,
   "metadata": {},
   "outputs": [],
   "source": [
    "def upsample(features, target, repeat):\n",
    "    # разделение features и target на положительные и отрицательные выборки\n",
    "    features_zeros = features[target == 0]\n",
    "    features_ones = features[target == 1]\n",
    "    target_zeros = target[target == 0]\n",
    "    target_ones = target[target == 1]\n",
    "\n",
    "    # увеличение количества положительных значений в выборках\n",
    "    features_upsampled = pd.concat([features_zeros] + [features_ones] * repeat)\n",
    "    target_upsampled = pd.concat([target_zeros] + [target_ones] * repeat)\n",
    "    \n",
    "    # перемешивание значений в выборках\n",
    "    features_upsampled, target_upsampled = shuffle(\n",
    "        features_upsampled, target_upsampled, random_state=12345)\n",
    "    \n",
    "    return features_upsampled, target_upsampled"
   ]
  },
  {
   "cell_type": "markdown",
   "metadata": {},
   "source": [
    "Применим функцию `upsample`, получим сбалансированные выборки `features_upsampled` и `target_upsampled` для обучения моделей."
   ]
  },
  {
   "cell_type": "code",
   "execution_count": 83,
   "metadata": {},
   "outputs": [],
   "source": [
    "features_upsampled, target_upsampled = upsample(features_train, target_train, 4)"
   ]
  },
  {
   "cell_type": "markdown",
   "metadata": {},
   "source": [
    "Проверим, что получилось."
   ]
  },
  {
   "cell_type": "code",
   "execution_count": 84,
   "metadata": {},
   "outputs": [
    {
     "data": {
      "text/plain": [
       "1    4892\n",
       "0    4777\n",
       "Name: Exited, dtype: int64"
      ]
     },
     "execution_count": 84,
     "metadata": {},
     "output_type": "execute_result"
    }
   ],
   "source": [
    "target_upsampled.value_counts()"
   ]
  },
  {
   "cell_type": "markdown",
   "metadata": {},
   "source": [
    "Классы в тренировочном наборе данных сбалансированы, можно приступать к обучению моделей."
   ]
  },
  {
   "cell_type": "markdown",
   "metadata": {},
   "source": [
    "Для исследования используем модели решающее дерево, случайный лес и логистическую регрессию с теми же гиперпараметрами, что и выше."
   ]
  },
  {
   "cell_type": "markdown",
   "metadata": {},
   "source": [
    "### 3.1.1 Решающее дерево"
   ]
  },
  {
   "cell_type": "code",
   "execution_count": 85,
   "metadata": {},
   "outputs": [
    {
     "name": "stdout",
     "output_type": "stream",
     "text": [
      "max_depth = 5 : F1-мера = 0.5626\n",
      "max_depth = 6 : F1-мера = 0.5773\n",
      "max_depth = 7 : F1-мера = 0.5652\n",
      "max_depth = 8 : F1-мера = 0.5448\n",
      "max_depth = 9 : F1-мера = 0.5400\n",
      "max_depth = 10 : F1-мера = 0.5256\n",
      "max_depth = 11 : F1-мера = 0.5249\n",
      "max_depth = 12 : F1-мера = 0.5279\n",
      "max_depth = 13 : F1-мера = 0.5080\n",
      "max_depth = 14 : F1-мера = 0.5051\n",
      "max_depth = 15 : F1-мера = 0.5054\n"
     ]
    }
   ],
   "source": [
    "for i in range(5, 16, 1):    \n",
    "    model4 = DecisionTreeClassifier(random_state=12345, max_depth=i, min_samples_split=10, \n",
    "                                  min_samples_leaf=7)\n",
    "    model4.fit(features_upsampled, target_upsampled)\n",
    "    predicted_valid4 = model4.predict(features_valid)\n",
    "\n",
    "    print(\"max_depth =\", i, \": \", end='')\n",
    "    print('F1-мера = {:.4f}'.format(f1_score(target_valid, predicted_valid4)))"
   ]
  },
  {
   "cell_type": "markdown",
   "metadata": {},
   "source": [
    "### 3.1.2 Случайный лес"
   ]
  },
  {
   "cell_type": "code",
   "execution_count": 86,
   "metadata": {},
   "outputs": [
    {
     "name": "stdout",
     "output_type": "stream",
     "text": [
      "max_depth = 10 : F1-мера = 0.6339\n",
      "max_depth = 11 : F1-мера = 0.6280\n",
      "max_depth = 12 : F1-мера = 0.6333\n",
      "max_depth = 13 : F1-мера = 0.6232\n",
      "max_depth = 14 : F1-мера = 0.6356\n",
      "max_depth = 15 : F1-мера = 0.6313\n",
      "max_depth = 16 : F1-мера = 0.6407\n",
      "max_depth = 17 : F1-мера = 0.6369\n",
      "max_depth = 18 : F1-мера = 0.6339\n",
      "max_depth = 19 : F1-мера = 0.6336\n",
      "max_depth = 20 : F1-мера = 0.6330\n"
     ]
    }
   ],
   "source": [
    "for i in range(10, 21, 1):\n",
    "    model5 = RandomForestClassifier(n_estimators=100, max_depth=i, random_state=12345, min_samples_split=10, \n",
    "                                  min_samples_leaf=7)\n",
    "    model5.fit(features_upsampled, target_upsampled)\n",
    "    predicted_valid5 = model5.predict(features_valid)\n",
    "\n",
    "    print(\"max_depth =\", i, \": \", end='')\n",
    "    print('F1-мера = {:.4f}'.format(f1_score(target_valid, predicted_valid5)))"
   ]
  },
  {
   "cell_type": "markdown",
   "metadata": {},
   "source": [
    "### 3.1.3 Логистическая регрессия"
   ]
  },
  {
   "cell_type": "code",
   "execution_count": 87,
   "metadata": {},
   "outputs": [
    {
     "name": "stdout",
     "output_type": "stream",
     "text": [
      "F1-мера = 0.5077\n"
     ]
    }
   ],
   "source": [
    "model6 = LogisticRegression(random_state=12345, solver='liblinear', penalty='l1', max_iter=100, class_weight=None)\n",
    "model6.fit(features_upsampled, target_upsampled)\n",
    "predicted_valid6 = model6.predict(features_valid)\n",
    "print('F1-мера = {:.4f}'.format(f1_score(target_valid, predicted_valid6)))"
   ]
  },
  {
   "cell_type": "markdown",
   "metadata": {},
   "source": [
    "В данном случае удалось достичь F1-меры = 0.64 в модели случайный лес. Результаты обучения модели решающее дерево оказались несколько ниже, чем и на несбалансированной выборке. В модели логистическая регрессия заметно существенное увеличение значения F1-меры."
   ]
  },
  {
   "cell_type": "markdown",
   "metadata": {},
   "source": [
    "## 3.2 Уменьшение выборки"
   ]
  },
  {
   "cell_type": "markdown",
   "metadata": {},
   "source": [
    "Напишем функцию `downsample` для уменьшения выборки, которая на вход принимает признаки, целевой признак и число для деления, необходимое для достижения баланса классов."
   ]
  },
  {
   "cell_type": "code",
   "execution_count": 88,
   "metadata": {},
   "outputs": [],
   "source": [
    "def downsample(features, target, fraction):\n",
    "    # разделение features и target на положительные и отрицательные выборки\n",
    "    features_zeros = features[target == 0]\n",
    "    features_ones = features[target == 1]\n",
    "    target_zeros = target[target == 0]\n",
    "    target_ones = target[target == 1]\n",
    "\n",
    "    # уменьшение количества отрицательных значений в выборках\n",
    "    features_downsampled = pd.concat(\n",
    "        [features_zeros.sample(frac=fraction, random_state=12345)] + [features_ones])\n",
    "    target_downsampled = pd.concat(\n",
    "        [target_zeros.sample(frac=fraction, random_state=12345)] + [target_ones])\n",
    "    \n",
    "    # перемешивание значений в выборках\n",
    "    features_downsampled, target_downsampled = shuffle(\n",
    "        features_downsampled, target_downsampled, random_state=12345)\n",
    "    \n",
    "    return features_downsampled, target_downsampled"
   ]
  },
  {
   "cell_type": "markdown",
   "metadata": {},
   "source": [
    "Применим функцию `downsample`, получим сбалансированные выборки `features_downsample` и `target_downsample` для обучения моделей."
   ]
  },
  {
   "cell_type": "code",
   "execution_count": 89,
   "metadata": {},
   "outputs": [],
   "source": [
    "features_downsampled, target_downsampled = downsample(features_train, target_train, 0.25)"
   ]
  },
  {
   "cell_type": "markdown",
   "metadata": {},
   "source": [
    "Проверим, что получилось."
   ]
  },
  {
   "cell_type": "code",
   "execution_count": 90,
   "metadata": {},
   "outputs": [
    {
     "data": {
      "text/plain": [
       "1    1223\n",
       "0    1194\n",
       "Name: Exited, dtype: int64"
      ]
     },
     "execution_count": 90,
     "metadata": {},
     "output_type": "execute_result"
    }
   ],
   "source": [
    "target_downsampled.value_counts()"
   ]
  },
  {
   "cell_type": "markdown",
   "metadata": {},
   "source": [
    "Классы сбалансированы, можно приступать к обучению моделей."
   ]
  },
  {
   "cell_type": "markdown",
   "metadata": {},
   "source": [
    "Для исследования используем модели решающее дерево, случайный лес и логистическую регрессию с теми же гиперпараметрами, что и выше."
   ]
  },
  {
   "cell_type": "markdown",
   "metadata": {},
   "source": [
    "### 3.2.1 Решающее дерево"
   ]
  },
  {
   "cell_type": "code",
   "execution_count": 91,
   "metadata": {},
   "outputs": [
    {
     "name": "stdout",
     "output_type": "stream",
     "text": [
      "max_depth = 5 : F1-мера = 0.5547\n",
      "max_depth = 6 : F1-мера = 0.5936\n",
      "max_depth = 7 : F1-мера = 0.5636\n",
      "max_depth = 8 : F1-мера = 0.5657\n",
      "max_depth = 9 : F1-мера = 0.5283\n",
      "max_depth = 10 : F1-мера = 0.5237\n",
      "max_depth = 11 : F1-мера = 0.5425\n",
      "max_depth = 12 : F1-мера = 0.5403\n",
      "max_depth = 13 : F1-мера = 0.5197\n",
      "max_depth = 14 : F1-мера = 0.5153\n",
      "max_depth = 15 : F1-мера = 0.5196\n"
     ]
    }
   ],
   "source": [
    "for i in range(5, 16, 1):    \n",
    "    model7 = DecisionTreeClassifier(random_state=12345, max_depth=i, min_samples_split=10, \n",
    "                                  min_samples_leaf=7)\n",
    "    model7.fit(features_downsampled, target_downsampled)\n",
    "    predicted_valid7 = model7.predict(features_valid)\n",
    "\n",
    "    print(\"max_depth =\", i, \": \", end='')\n",
    "    print('F1-мера = {:.4f}'.format(f1_score(target_valid, predicted_valid7)))"
   ]
  },
  {
   "cell_type": "markdown",
   "metadata": {},
   "source": [
    "### 3.2.2 Случайный лес"
   ]
  },
  {
   "cell_type": "code",
   "execution_count": 92,
   "metadata": {},
   "outputs": [
    {
     "name": "stdout",
     "output_type": "stream",
     "text": [
      "max_depth = 10 : F1-мера = 0.6038\n",
      "max_depth = 11 : F1-мера = 0.6019\n",
      "max_depth = 12 : F1-мера = 0.6134\n",
      "max_depth = 13 : F1-мера = 0.6046\n",
      "max_depth = 14 : F1-мера = 0.6055\n",
      "max_depth = 15 : F1-мера = 0.6061\n",
      "max_depth = 16 : F1-мера = 0.6098\n",
      "max_depth = 17 : F1-мера = 0.6061\n",
      "max_depth = 18 : F1-мера = 0.6086\n",
      "max_depth = 19 : F1-мера = 0.6086\n",
      "max_depth = 20 : F1-мера = 0.6086\n"
     ]
    }
   ],
   "source": [
    "for i in range(10, 21, 1):\n",
    "    model8 = RandomForestClassifier(n_estimators=100, max_depth=i, random_state=12345, min_samples_split=10, \n",
    "                                  min_samples_leaf=7)\n",
    "    model8.fit(features_downsampled, target_downsampled)\n",
    "    predicted_valid8 = model8.predict(features_valid)\n",
    "\n",
    "    print(\"max_depth =\", i, \": \", end='')\n",
    "    print('F1-мера = {:.4f}'.format(f1_score(target_valid, predicted_valid8)))"
   ]
  },
  {
   "cell_type": "markdown",
   "metadata": {},
   "source": [
    "### 3.2.3 Логистическая регрессия"
   ]
  },
  {
   "cell_type": "code",
   "execution_count": 93,
   "metadata": {},
   "outputs": [
    {
     "name": "stdout",
     "output_type": "stream",
     "text": [
      "F1-мера = 0.5069\n"
     ]
    }
   ],
   "source": [
    "model9 = LogisticRegression(random_state=12345, solver='liblinear', penalty='l1', max_iter=100, class_weight=None)\n",
    "model9.fit(features_downsampled, target_downsampled)\n",
    "predicted_valid9 = model9.predict(features_valid)\n",
    "print('F1-мера = {:.4f}'.format(f1_score(target_valid, predicted_valid9)))"
   ]
  },
  {
   "cell_type": "markdown",
   "metadata": {},
   "source": [
    "Могу предположить, что на дисбалансе хуже всех была логрег, потому что вероятность получить 0 у такой модели выше, чем получить 1, так как количество 0 в выборке больше количества 1 в 4 раза. А при апсемплинге и даунсемплинге логрег показала хорошие результаты. Может быть, все дело в пороге, по которому модель принимает решение какой будет результат.\n",
    "\n",
    "Результаты модели решающее дерево при увеличении выборки оказались ниже, чем при дисбалансе. А при уменьшении выборки наблюдается обратный эффект. Могу предположить, что при увеличении выборки, в модели решающее дерево, происходит явление переобучения.\n",
    "\n",
    "Результаты модели случайный лес оказались заметно выше при увеличении выборки, чем при уменьшении. Видимо, для обучения такой модели при уменьшении выборки слишком мало данных."
   ]
  },
  {
   "cell_type": "markdown",
   "metadata": {},
   "source": [
    "## 3.3 Изменение порога и PR-график"
   ]
  },
  {
   "cell_type": "markdown",
   "metadata": {},
   "source": [
    "Исследуем, как будет меняться точность и полнота при изменении порога, и удасться ли увеличить значение F1-меры с помощью изменения порога. Также для исследования сделаем тоже самое на несбалансированной выборке. Добавим вычисление F1-меры, чтоб определить порог, при котором она максимальна."
   ]
  },
  {
   "cell_type": "code",
   "execution_count": 94,
   "metadata": {
    "scrolled": false
   },
   "outputs": [
    {
     "name": "stdout",
     "output_type": "stream",
     "text": [
      "Сбалансированная выборка\n",
      "\n",
      "Порог = 0.24 | Точность = 0.342, Полнота = 0.914, F1-мера = 0.498\n",
      "Порог = 0.26 | Точность = 0.358, Полнота = 0.894, F1-мера = 0.512\n",
      "Порог = 0.28 | Точность = 0.374, Полнота = 0.885, F1-мера = 0.526\n",
      "Порог = 0.30 | Точность = 0.391, Полнота = 0.875, F1-мера = 0.541\n",
      "Порог = 0.32 | Точность = 0.403, Полнота = 0.848, F1-мера = 0.546\n",
      "Порог = 0.34 | Точность = 0.415, Полнота = 0.830, F1-мера = 0.554\n",
      "Порог = 0.36 | Точность = 0.437, Полнота = 0.823, F1-мера = 0.571\n",
      "Порог = 0.38 | Точность = 0.455, Полнота = 0.806, F1-мера = 0.582\n",
      "Порог = 0.40 | Точность = 0.478, Полнота = 0.784, F1-мера = 0.593\n",
      "Порог = 0.42 | Точность = 0.499, Полнота = 0.764, F1-мера = 0.604\n",
      "Порог = 0.44 | Точность = 0.531, Полнота = 0.752, F1-мера = 0.623\n",
      "Порог = 0.46 | Точность = 0.544, Полнота = 0.732, F1-мера = 0.624\n",
      "Порог = 0.48 | Точность = 0.563, Полнота = 0.715, F1-мера = 0.630\n",
      "Порог = 0.50 | Точность = 0.583, Полнота = 0.698, F1-мера = 0.635\n",
      "Порог = 0.52 | Точность = 0.605, Полнота = 0.688, F1-мера = 0.644\n",
      "Порог = 0.54 | Точность = 0.617, Полнота = 0.668, F1-мера = 0.642\n",
      "Порог = 0.56 | Точность = 0.630, Полнота = 0.636, F1-мера = 0.633\n",
      "Порог = 0.58 | Точность = 0.644, Полнота = 0.609, F1-мера = 0.626\n",
      "Порог = 0.60 | Точность = 0.664, Полнота = 0.582, F1-мера = 0.620\n",
      "\n",
      "Несбалансированная выборка \n",
      "\n",
      "Порог = 0.24 | Точность = 0.539, Полнота = 0.752, F1-мера = 0.628\n",
      "Порог = 0.26 | Точность = 0.558, Полнота = 0.732, F1-мера = 0.633\n",
      "Порог = 0.28 | Точность = 0.578, Полнота = 0.703, F1-мера = 0.634\n",
      "Порог = 0.30 | Точность = 0.602, Полнота = 0.683, F1-мера = 0.640\n",
      "Порог = 0.32 | Точность = 0.618, Полнота = 0.641, F1-мера = 0.630\n",
      "Порог = 0.34 | Точность = 0.639, Полнота = 0.617, F1-мера = 0.628\n",
      "Порог = 0.36 | Точность = 0.657, Полнота = 0.582, F1-мера = 0.617\n",
      "Порог = 0.38 | Точность = 0.690, Полнота = 0.553, F1-мера = 0.614\n",
      "Порог = 0.40 | Точность = 0.714, Полнота = 0.516, F1-мера = 0.599\n",
      "Порог = 0.42 | Точность = 0.751, Полнота = 0.489, F1-мера = 0.592\n",
      "Порог = 0.44 | Точность = 0.775, Полнота = 0.482, F1-мера = 0.594\n",
      "Порог = 0.46 | Точность = 0.786, Полнота = 0.469, F1-мера = 0.588\n",
      "Порог = 0.48 | Точность = 0.802, Полнота = 0.457, F1-мера = 0.582\n",
      "Порог = 0.50 | Точность = 0.829, Полнота = 0.442, F1-мера = 0.577\n",
      "Порог = 0.52 | Точность = 0.848, Полнота = 0.413, F1-мера = 0.555\n",
      "Порог = 0.54 | Точность = 0.842, Полнота = 0.381, F1-мера = 0.525\n",
      "Порог = 0.56 | Точность = 0.848, Полнота = 0.371, F1-мера = 0.516\n",
      "Порог = 0.58 | Точность = 0.856, Полнота = 0.351, F1-мера = 0.498\n",
      "Порог = 0.60 | Точность = 0.862, Полнота = 0.337, F1-мера = 0.484\n"
     ]
    },
    {
     "data": {
      "image/png": "[encoded data removed]",
      "text/plain": [
       "<Figure size 648x648 with 1 Axes>"
      ]
     },
     "metadata": {
      "needs_background": "light"
     },
     "output_type": "display_data"
    }
   ],
   "source": [
    "# обучим модель на увеличенной выборке\n",
    "model = RandomForestClassifier(n_estimators=100, max_depth=16, random_state=12345, min_samples_split=10, \n",
    "                                  min_samples_leaf=7, class_weight='balanced')\n",
    "model.fit(features_upsampled, target_upsampled)\n",
    "model_train = RandomForestClassifier(n_estimators=100, max_depth=16, random_state=12345, min_samples_split=10, \n",
    "                                  min_samples_leaf=7)\n",
    "model_train.fit(features_train, target_train)\n",
    "\n",
    "# получим массив \"предсказаний\" модели\n",
    "probabilities_valid = model.predict_proba(features_valid)\n",
    "probabilities_one_valid = probabilities_valid[:, 1]\n",
    "probabilities_valid_train = model_train.predict_proba(features_valid)\n",
    "probabilities_one_valid_train = probabilities_valid_train[:, 1]\n",
    "\n",
    "# посмотрим на значения точности, полноты и F1-меры в диапазоне порога от 0.24 до 0.6\n",
    "print('Сбалансированная выборка')\n",
    "print()\n",
    "for number in np.arange(0.24, 0.62, 0.02):\n",
    "    predicted_valid = probabilities_one_valid > number\n",
    "    precision = precision_score(target_valid, predicted_valid)\n",
    "    recall = recall_score(target_valid, predicted_valid)\n",
    "    f1score = f1_score(target_valid, predicted_valid)\n",
    "    print(\"Порог = {:.2f} | Точность = {:.3f}, Полнота = {:.3f}, F1-мера = {:.3f}\".format(number, precision, recall, f1score))\n",
    "    \n",
    "print('\\nНесбалансированная выборка \\n')\n",
    "for number in np.arange(0.24, 0.62, 0.02):\n",
    "    predicted_valid_train = probabilities_one_valid_train > number\n",
    "    precision_train = precision_score(target_valid, predicted_valid_train)\n",
    "    recall_train = recall_score(target_valid, predicted_valid_train)\n",
    "    f1score_train = f1_score(target_valid, predicted_valid_train)\n",
    "    print(\"Порог = {:.2f} | Точность = {:.3f}, Полнота = {:.3f}, F1-мера = {:.3f}\".format(number, precision_train, recall_train,\n",
    "                                                                                          f1score_train))\n",
    "# построим PR-график\n",
    "precision, recall, number = precision_recall_curve(target_valid, probabilities_one_valid)\n",
    "precision1, recall1, number = precision_recall_curve(target_valid, probabilities_one_valid_train)\n",
    "plt.figure(figsize=(9, 9))\n",
    "plt.step(recall, precision, where='post', label='balanced')\n",
    "plt.step(recall1, precision1, where='post', label='disbalanced')\n",
    "plt.xlabel('Recall')\n",
    "plt.ylabel('Precision')\n",
    "plt.grid(b=None, which='major', axis='both')\n",
    "plt.ylim([0.0, 1.05])\n",
    "plt.xlim([0.0, 1.0])\n",
    "plt.title('Кривая Precision-Recall')\n",
    "plt.legend(title='Parameter where:', fontsize='large')\n",
    "plt.show()"
   ]
  },
  {
   "cell_type": "markdown",
   "metadata": {},
   "source": [
    "Сравним модели случайный лес, обученные на выборке с дисбалансом и без дисбаланса. На сбалансированной выборке максимальное значение F1-меры наблюдается при значении порога 0.52. На выборке с дисбалансом примерно такое же значение F1-меры наблюдается при пороге 0.3. Таким образом, понятно как влияет дисбаланс классов на результаты предсказаний модели, они смещаются в сторону большего класса."
   ]
  },
  {
   "cell_type": "markdown",
   "metadata": {},
   "source": [
    "Посмотрим на значение F1-меры, а также на значение метрики AUC-ROC."
   ]
  },
  {
   "cell_type": "code",
   "execution_count": 95,
   "metadata": {},
   "outputs": [
    {
     "name": "stdout",
     "output_type": "stream",
     "text": [
      "F1-мера: 0.644\n",
      "Метрика ROC-AUC: 0.869\n"
     ]
    }
   ],
   "source": [
    "probabilities_one_valid = probabilities_valid[:, 1]\n",
    "predicted_valid = probabilities_one_valid > 0.52\n",
    "print('F1-мера: {:.3f}'.format(f1_score(target_valid, predicted_valid)))\n",
    "print('Метрика ROC-AUC: {:.3f}'.format(roc_auc_score(target_valid, probabilities_one_valid)))"
   ]
  },
  {
   "cell_type": "markdown",
   "metadata": {},
   "source": [
    "Таким образом, с помощью изменения порога удалось еще увеличить значение F1-меры и получить достаточно высокое значение метрики AUC-ROC.\n",
    "\n",
    "------"
   ]
  },
  {
   "cell_type": "markdown",
   "metadata": {},
   "source": [
    "# 4. Тестирование модели"
   ]
  },
  {
   "cell_type": "markdown",
   "metadata": {},
   "source": [
    "Для финального тестирования выбираем модель случайный лес. Она будет обучаться на данных, сбалансированных путем увеличения выборки. Также выберем значение порога 0.55. Посчитаем значение F1-меры и значение метрики AUC-ROC."
   ]
  },
  {
   "cell_type": "code",
   "execution_count": 96,
   "metadata": {},
   "outputs": [
    {
     "name": "stdout",
     "output_type": "stream",
     "text": [
      "F1-мера: 0.634\n",
      "Метрика ROC-AUC: 0.866\n"
     ]
    }
   ],
   "source": [
    "model_test = RandomForestClassifier(n_estimators=100, max_depth=16, random_state=12345, min_samples_split=10, \n",
    "                                  min_samples_leaf=7, class_weight='balanced')\n",
    "model_test.fit(features_upsampled, target_upsampled)\n",
    "\n",
    "probabilities_test = model_test.predict_proba(features_test)\n",
    "probabilities_one_test = probabilities_test[:, 1]\n",
    "predict_test = model_test.predict(features_test)\n",
    "print('F1-мера: {:.3f}'.format(f1_score(target_test, probabilities_one_test>0.55)))\n",
    "print('Метрика ROC-AUC: {:.3f}'.format(roc_auc_score(target_test, probabilities_one_test)))"
   ]
  },
  {
   "cell_type": "markdown",
   "metadata": {},
   "source": [
    "Построим ROC-кривую для наглядного сравнения результата нашей модели со случайной."
   ]
  },
  {
   "cell_type": "code",
   "execution_count": 97,
   "metadata": {},
   "outputs": [
    {
     "data": {
      "image/png": "[encoded data removed]",
      "text/plain": [
       "<Figure size 648x648 with 1 Axes>"
      ]
     },
     "metadata": {
      "needs_background": "light"
     },
     "output_type": "display_data"
    }
   ],
   "source": [
    "fpr, tpr, thresholds = roc_curve(target_test, probabilities_one_test)\n",
    "plt.figure(figsize=(9, 9))\n",
    "\n",
    "plt.plot(fpr, tpr)\n",
    "\n",
    "plt.plot([0, 1], [0, 1], linestyle='--')\n",
    "\n",
    "plt.xlim([0.0, 1.0])\n",
    "plt.ylim([0.0, 1.0])\n",
    "\n",
    "plt.xlabel('False Positive Rate')\n",
    "plt.ylabel('True Positive Rate')\n",
    "\n",
    "plt.title('ROC-кривая')\n",
    "plt.show()"
   ]
  },
  {
   "cell_type": "markdown",
   "metadata": {},
   "source": [
    "------"
   ]
  },
  {
   "cell_type": "markdown",
   "metadata": {},
   "source": [
    "# Выводы"
   ]
  },
  {
   "cell_type": "markdown",
   "metadata": {},
   "source": [
    "В ходе проекта было необходимо спрогнозировать уход клиентов из банка в ближайшее время. Решалась задача классификации. В данных были обнаружены пропуски, они заменены медианой значений столбца с пропусками. Категориальные признаки заменены на численные. Датасет был поделен на тренировочную, проверочную и тестовую выборки. Данные были приведены к одному масштабу, чтобы все признаки были одинаково значимы.\n",
    "\n",
    "В ходе исследования в данных был обнаружен дисбаланс классов. По условию задачи обучение моделей производилось без учета дисбаланса и с учетом. Для исследования были выбраны следующие модели: решающее дерево, случайный лес и логистическая регрессия. Дисбаланс классов устранялся двумя способами: увеличением выборки и уменьшением выборки. Лучшие результаты F1-меры получились на сбалансированных данных с помощью увеличеним выборки. Также было произведено улучшение результата путем изменения порога. По полученным результатам для финального тестирования была выбрана модель случайный лес.\n",
    "\n",
    "На тестовой выборке были получены следующие результаты:\n",
    "* **F1-мера = 0.634**\n",
    "* **Метрика AUC-ROC = 0.866**\n",
    "\n",
    "Значение F1-меры удовлетворяет условию задачи проекта (не меньше 0.59), также значение метрики AUC-ROC говорит о высоком качестве построенной модели.\n",
    "\n",
    "------"
   ]
  }
 ],
 "metadata": {
  "kernelspec": {
   "display_name": "Python 3",
   "language": "python",
   "name": "python3"
  },
  "language_info": {
   "codemirror_mode": {
    "name": "ipython",
    "version": 3
   },
   "file_extension": ".py",
   "mimetype": "text/x-python",
   "name": "python",
   "nbconvert_exporter": "python",
   "pygments_lexer": "ipython3",
   "version": "3.7.6"
  }
 },
 "nbformat": 4,
 "nbformat_minor": 2
}
