{
 "cells": [
  {
   "cell_type": "markdown",
   "metadata": {},
   "source": [
    "# Проект. Прогноз количества заказов такси\n",
    "\n",
    "Компания «Чётенькое такси» собрала исторические данные о заказах такси в аэропортах. Чтобы привлекать больше водителей в период пиковой нагрузки, нужно спрогнозировать количество заказов такси на следующий час. Необходимо построить модель для такого предсказания.\n",
    "\n",
    "Значение метрики *RMSE* на тестовой выборке должно быть не больше 48.\n",
    "\n",
    "### Инструкция по выполнению проекта\n",
    "\n",
    "1. Загрузите данные и выполните их ресемплирование по одному часу.\n",
    "2. Проанализируйте данные.\n",
    "3. Обучите разные модели с различными гиперпараметрами. Сделайте тестовую выборку размером 10% от исходных данных.\n",
    "4. Проверьте данные на тестовой выборке и сделайте выводы.\n",
    "\n",
    "------"
   ]
  },
  {
   "cell_type": "markdown",
   "metadata": {},
   "source": [
    "## 1. Подготовка данных"
   ]
  },
  {
   "cell_type": "markdown",
   "metadata": {},
   "source": [
    "Импортируем необходимые модули и библиотеки."
   ]
  },
  {
   "cell_type": "code",
   "execution_count": 27,
   "metadata": {},
   "outputs": [],
   "source": [
    "import pandas as pd\n",
    "from statsmodels.tsa.seasonal import seasonal_decompose\n",
    "import matplotlib.pyplot as plt\n",
    "from sklearn.model_selection import train_test_split\n",
    "from sklearn.linear_model import LinearRegression\n",
    "from sklearn.metrics import mean_squared_error\n",
    "from itertools import product\n",
    "from sklearn.preprocessing import StandardScaler\n",
    "from sklearn import linear_model\n",
    "from sklearn.ensemble import RandomForestRegressor"
   ]
  },
  {
   "cell_type": "markdown",
   "metadata": {},
   "source": [
    "Сохраним данные в переменную `data`, также спарсим даты и сделаем значения дат индексами таблицы."
   ]
  },
  {
   "cell_type": "code",
   "execution_count": 28,
   "metadata": {},
   "outputs": [],
   "source": [
    "data = pd.read_csv('/datasets/taxi.csv', parse_dates=[0], index_col=[0])"
   ]
  },
  {
   "cell_type": "markdown",
   "metadata": {},
   "source": [
    "Изучим информацию о данных."
   ]
  },
  {
   "cell_type": "code",
   "execution_count": 29,
   "metadata": {},
   "outputs": [
    {
     "data": {
      "text/html": [
       "<div>\n",
       "<style scoped>\n",
       "    .dataframe tbody tr th:only-of-type {\n",
       "        vertical-align: middle;\n",
       "    }\n",
       "\n",
       "    .dataframe tbody tr th {\n",
       "        vertical-align: top;\n",
       "    }\n",
       "\n",
       "    .dataframe thead th {\n",
       "        text-align: right;\n",
       "    }\n",
       "</style>\n",
       "<table border=\"1\" class=\"dataframe\">\n",
       "  <thead>\n",
       "    <tr style=\"text-align: right;\">\n",
       "      <th></th>\n",
       "      <th>num_orders</th>\n",
       "    </tr>\n",
       "    <tr>\n",
       "      <th>datetime</th>\n",
       "      <th></th>\n",
       "    </tr>\n",
       "  </thead>\n",
       "  <tbody>\n",
       "    <tr>\n",
       "      <td>2018-03-01 00:00:00</td>\n",
       "      <td>9</td>\n",
       "    </tr>\n",
       "    <tr>\n",
       "      <td>2018-03-01 00:10:00</td>\n",
       "      <td>14</td>\n",
       "    </tr>\n",
       "    <tr>\n",
       "      <td>2018-03-01 00:20:00</td>\n",
       "      <td>28</td>\n",
       "    </tr>\n",
       "    <tr>\n",
       "      <td>2018-03-01 00:30:00</td>\n",
       "      <td>20</td>\n",
       "    </tr>\n",
       "    <tr>\n",
       "      <td>2018-03-01 00:40:00</td>\n",
       "      <td>32</td>\n",
       "    </tr>\n",
       "  </tbody>\n",
       "</table>\n",
       "</div>"
      ],
      "text/plain": [
       "                     num_orders\n",
       "datetime                       \n",
       "2018-03-01 00:00:00           9\n",
       "2018-03-01 00:10:00          14\n",
       "2018-03-01 00:20:00          28\n",
       "2018-03-01 00:30:00          20\n",
       "2018-03-01 00:40:00          32"
      ]
     },
     "execution_count": 29,
     "metadata": {},
     "output_type": "execute_result"
    }
   ],
   "source": [
    "data.head()"
   ]
  },
  {
   "cell_type": "code",
   "execution_count": 30,
   "metadata": {},
   "outputs": [
    {
     "name": "stdout",
     "output_type": "stream",
     "text": [
      "<class 'pandas.core.frame.DataFrame'>\n",
      "DatetimeIndex: 26496 entries, 2018-03-01 00:00:00 to 2018-08-31 23:50:00\n",
      "Data columns (total 1 columns):\n",
      "num_orders    26496 non-null int64\n",
      "dtypes: int64(1)\n",
      "memory usage: 414.0 KB\n"
     ]
    }
   ],
   "source": [
    "data.info()"
   ]
  },
  {
   "cell_type": "code",
   "execution_count": 31,
   "metadata": {},
   "outputs": [
    {
     "data": {
      "text/html": [
       "<div>\n",
       "<style scoped>\n",
       "    .dataframe tbody tr th:only-of-type {\n",
       "        vertical-align: middle;\n",
       "    }\n",
       "\n",
       "    .dataframe tbody tr th {\n",
       "        vertical-align: top;\n",
       "    }\n",
       "\n",
       "    .dataframe thead th {\n",
       "        text-align: right;\n",
       "    }\n",
       "</style>\n",
       "<table border=\"1\" class=\"dataframe\">\n",
       "  <thead>\n",
       "    <tr style=\"text-align: right;\">\n",
       "      <th></th>\n",
       "      <th>num_orders</th>\n",
       "    </tr>\n",
       "  </thead>\n",
       "  <tbody>\n",
       "    <tr>\n",
       "      <td>count</td>\n",
       "      <td>26496.000000</td>\n",
       "    </tr>\n",
       "    <tr>\n",
       "      <td>mean</td>\n",
       "      <td>14.070463</td>\n",
       "    </tr>\n",
       "    <tr>\n",
       "      <td>std</td>\n",
       "      <td>9.211330</td>\n",
       "    </tr>\n",
       "    <tr>\n",
       "      <td>min</td>\n",
       "      <td>0.000000</td>\n",
       "    </tr>\n",
       "    <tr>\n",
       "      <td>25%</td>\n",
       "      <td>8.000000</td>\n",
       "    </tr>\n",
       "    <tr>\n",
       "      <td>50%</td>\n",
       "      <td>13.000000</td>\n",
       "    </tr>\n",
       "    <tr>\n",
       "      <td>75%</td>\n",
       "      <td>19.000000</td>\n",
       "    </tr>\n",
       "    <tr>\n",
       "      <td>max</td>\n",
       "      <td>119.000000</td>\n",
       "    </tr>\n",
       "  </tbody>\n",
       "</table>\n",
       "</div>"
      ],
      "text/plain": [
       "         num_orders\n",
       "count  26496.000000\n",
       "mean      14.070463\n",
       "std        9.211330\n",
       "min        0.000000\n",
       "25%        8.000000\n",
       "50%       13.000000\n",
       "75%       19.000000\n",
       "max      119.000000"
      ]
     },
     "execution_count": 31,
     "metadata": {},
     "output_type": "execute_result"
    }
   ],
   "source": [
    "data.describe()"
   ]
  },
  {
   "cell_type": "markdown",
   "metadata": {},
   "source": [
    "* Имеются данные о заказах такси с марта по август 2018 года. Пропусков в данных нет. В данном проекте будет решаться задача прогнозирования временных рядов."
   ]
  },
  {
   "cell_type": "markdown",
   "metadata": {},
   "source": [
    "Отсортируем индексы в таблице `data` и проведем ресемплирование данных по одному часу."
   ]
  },
  {
   "cell_type": "code",
   "execution_count": 32,
   "metadata": {},
   "outputs": [],
   "source": [
    "data.sort_index(inplace=True)"
   ]
  },
  {
   "cell_type": "code",
   "execution_count": 33,
   "metadata": {},
   "outputs": [],
   "source": [
    "data = data.resample('1H').sum()"
   ]
  },
  {
   "cell_type": "markdown",
   "metadata": {},
   "source": [
    "Посмотрим что получилось."
   ]
  },
  {
   "cell_type": "code",
   "execution_count": 34,
   "metadata": {},
   "outputs": [
    {
     "name": "stdout",
     "output_type": "stream",
     "text": [
      "<class 'pandas.core.frame.DataFrame'>\n",
      "DatetimeIndex: 4416 entries, 2018-03-01 00:00:00 to 2018-08-31 23:00:00\n",
      "Freq: H\n",
      "Data columns (total 1 columns):\n",
      "num_orders    4416 non-null int64\n",
      "dtypes: int64(1)\n",
      "memory usage: 69.0 KB\n"
     ]
    }
   ],
   "source": [
    "data.info()"
   ]
  },
  {
   "cell_type": "markdown",
   "metadata": {},
   "source": [
    "------"
   ]
  },
  {
   "cell_type": "markdown",
   "metadata": {},
   "source": [
    "## 2. Анализ данных"
   ]
  },
  {
   "cell_type": "markdown",
   "metadata": {},
   "source": [
    "Проверим, в хронологическом ли порядке расположены индексы в данных."
   ]
  },
  {
   "cell_type": "code",
   "execution_count": 35,
   "metadata": {},
   "outputs": [
    {
     "data": {
      "text/plain": [
       "True"
      ]
     },
     "execution_count": 35,
     "metadata": {},
     "output_type": "execute_result"
    }
   ],
   "source": [
    "data.index.is_monotonic"
   ]
  },
  {
   "cell_type": "markdown",
   "metadata": {},
   "source": [
    "Индексы последовательны.\n",
    "\n",
    "Посмотрим на тренды и сезонность в данных. В нашем случае не проверить годовую сезонность, так как данные только за полгода, но можно посмотреть на сезонность в течение, например, одного дня."
   ]
  },
  {
   "cell_type": "code",
   "execution_count": 36,
   "metadata": {},
   "outputs": [],
   "source": [
    "decomposed = seasonal_decompose(data)"
   ]
  },
  {
   "cell_type": "code",
   "execution_count": 37,
   "metadata": {},
   "outputs": [
    {
     "data": {
      "image/png": "[encoded data removed]",
      "text/plain": [
       "<Figure size 1080x720 with 1 Axes>"
      ]
     },
     "metadata": {
      "needs_background": "light"
     },
     "output_type": "display_data"
    }
   ],
   "source": [
    "decomposed.trend.plot(ax=plt.gca(), figsize=(15,10));"
   ]
  },
  {
   "cell_type": "markdown",
   "metadata": {},
   "source": [
    "* Имеется тренд увеличения количества заказов в час за период с марта по август."
   ]
  },
  {
   "cell_type": "code",
   "execution_count": 38,
   "metadata": {},
   "outputs": [
    {
     "data": {
      "image/png": "[encoded data removed]",
      "text/plain": [
       "<Figure size 1080x720 with 1 Axes>"
      ]
     },
     "metadata": {
      "needs_background": "light"
     },
     "output_type": "display_data"
    }
   ],
   "source": [
    "decomposed.seasonal['2018-08-01':'2018-08-02'].plot(ax=plt.gca(), figsize=(15,10));"
   ]
  },
  {
   "cell_type": "markdown",
   "metadata": {},
   "source": [
    "* Наблюдается \"сезонность\" изменения количества заказов такси в течение дня, такие данные также необходимо использовать для предсказания количества будущих заказов.\n",
    "\n",
    "------"
   ]
  },
  {
   "cell_type": "markdown",
   "metadata": {},
   "source": [
    "## 3. Обучение моделей"
   ]
  },
  {
   "cell_type": "markdown",
   "metadata": {},
   "source": [
    "Для создания признаков напишем функцию `make_features`. Признаки будут состоять из месяца, дня, дня недели, отстающих значений и скользящего среднего."
   ]
  },
  {
   "cell_type": "code",
   "execution_count": 39,
   "metadata": {},
   "outputs": [],
   "source": [
    "# функция принимает на вход исходные данные, максимальный размер отставания и ширину окна для вычисления скользящего среднего\n",
    "def make_features(data, max_lag, rolling_mean_size, **kwargs):\n",
    "    \n",
    "    # создание признаков: месяц, день и день недели\n",
    "    data['month'] = data.index.month\n",
    "    data['day'] = data.index.day\n",
    "    data['dayofweek'] = data.index.dayofweek\n",
    "    \n",
    "    # в зависимости от размера отставания создаем столбцы с отстающими значениями\n",
    "    for lag in range(1, max_lag + 1):\n",
    "        data['lag_{}'.format(lag)] = data['num_orders'].shift(lag)\n",
    "\n",
    "    # создаем столбец со значениями скользящего среднего\n",
    "    data['rolling_mean'] = data['num_orders'].shift().rolling(rolling_mean_size).mean()\n",
    "    \n",
    "    # возвращаем получившийся датасет\n",
    "    return data"
   ]
  },
  {
   "cell_type": "markdown",
   "metadata": {},
   "source": [
    "В данном проекте будем исследовать следующие модели: **LinearRegression**, **SGDRegressor** и **RandomForestRegressor**."
   ]
  },
  {
   "cell_type": "markdown",
   "metadata": {},
   "source": [
    "### 3.1 Создание тренировочной, проверочной и тестовой выборок"
   ]
  },
  {
   "cell_type": "markdown",
   "metadata": {},
   "source": [
    "Для начала подберем оптимальное количество признаков для датасета."
   ]
  },
  {
   "cell_type": "markdown",
   "metadata": {},
   "source": [
    "Для подбора гиперпараметров используем итератор `product`."
   ]
  },
  {
   "cell_type": "code",
   "execution_count": 40,
   "metadata": {},
   "outputs": [],
   "source": [
    "gen = product([{'max_lag':20}, {'max_lag':22}, {'max_lag':24}, {'max_lag':26}, {'max_lag':28}],\n",
    "              [{'rolling_mean_size':10}, {'rolling_mean_size':12}, {'rolling_mean_size':14}, {'rolling_mean_size':16},\n",
    "              {'rolling_mean_size':18}])"
   ]
  },
  {
   "cell_type": "code",
   "execution_count": 41,
   "metadata": {},
   "outputs": [],
   "source": [
    "buf = dict() # создаем словарь для сохранения результата\n",
    "\n",
    "for i in gen:\n",
    "    data_ = make_features(data, **i[0], **i[1]) # создаем датасет с признаками\n",
    "    \n",
    "    train, test = train_test_split(data_, shuffle=False, test_size=0.1) # делим на трэйн и тест, причем не перемешивая признаки,\n",
    "                                                                        # чтобы тест был после трэйна\n",
    "    train = train.dropna()                                              # удаляем пропуски из трэйна\n",
    "    \n",
    "    # создаем обучающую и тествую выборки\n",
    "    features_train = train.drop('num_orders', axis=1)\n",
    "    target_train = train['num_orders']\n",
    "    features_test = test.drop('num_orders', axis=1)\n",
    "    target_test = test['num_orders']\n",
    "    \n",
    "    # проводим стандартизацию\n",
    "    scaler = StandardScaler()\n",
    "    scaler.fit(features_train)\n",
    "    features_train_st = scaler.transform(features_train)\n",
    "    features_test_st = scaler.transform(features_test)\n",
    "    \n",
    "    # обучаем модель, делаем предсказания и записываем результаты вычисления RMSE в buf\n",
    "    model = LinearRegression(normalize=True)\n",
    "    model.fit(features_train_st, target_train)\n",
    "    \n",
    "    pred_train = model.predict(features_train_st)\n",
    "    pred_test = model.predict(features_test_st)\n",
    "    \n",
    "    rmse_train = mean_squared_error(target_train, pred_train)**0.5\n",
    "    rmse_test = mean_squared_error(target_test, pred_test)**0.5\n",
    "\n",
    "    buf[str(i)] = 'RMSE train = {:.1f}, RMSE test = {:.1f}'.format(rmse_train, rmse_test)"
   ]
  },
  {
   "cell_type": "markdown",
   "metadata": {},
   "source": [
    "Посмотрим на результаты."
   ]
  },
  {
   "cell_type": "code",
   "execution_count": 42,
   "metadata": {},
   "outputs": [
    {
     "data": {
      "text/plain": [
       "{\"({'max_lag': 20}, {'rolling_mean_size': 10})\": 'RMSE train = 29.2, RMSE test = 55.2',\n",
       " \"({'max_lag': 20}, {'rolling_mean_size': 12})\": 'RMSE train = 29.3, RMSE test = 55.0',\n",
       " \"({'max_lag': 20}, {'rolling_mean_size': 14})\": 'RMSE train = 29.2, RMSE test = 55.2',\n",
       " \"({'max_lag': 20}, {'rolling_mean_size': 16})\": 'RMSE train = 29.2, RMSE test = 55.2',\n",
       " \"({'max_lag': 20}, {'rolling_mean_size': 18})\": 'RMSE train = 29.2, RMSE test = 55.2',\n",
       " \"({'max_lag': 22}, {'rolling_mean_size': 10})\": 'RMSE train = 28.5, RMSE test = 51.0',\n",
       " \"({'max_lag': 22}, {'rolling_mean_size': 12})\": 'RMSE train = 28.5, RMSE test = 51.0',\n",
       " \"({'max_lag': 22}, {'rolling_mean_size': 14})\": 'RMSE train = 28.5, RMSE test = 51.0',\n",
       " \"({'max_lag': 22}, {'rolling_mean_size': 16})\": 'RMSE train = 28.5, RMSE test = 51.0',\n",
       " \"({'max_lag': 22}, {'rolling_mean_size': 18})\": 'RMSE train = 28.5, RMSE test = 51.0',\n",
       " \"({'max_lag': 24}, {'rolling_mean_size': 10})\": 'RMSE train = 25.8, RMSE test = 45.5',\n",
       " \"({'max_lag': 24}, {'rolling_mean_size': 12})\": 'RMSE train = 25.8, RMSE test = 45.5',\n",
       " \"({'max_lag': 24}, {'rolling_mean_size': 14})\": 'RMSE train = 25.8, RMSE test = 45.5',\n",
       " \"({'max_lag': 24}, {'rolling_mean_size': 16})\": 'RMSE train = 25.8, RMSE test = 45.5',\n",
       " \"({'max_lag': 24}, {'rolling_mean_size': 18})\": 'RMSE train = 25.8, RMSE test = 45.5',\n",
       " \"({'max_lag': 26}, {'rolling_mean_size': 10})\": 'RMSE train = 25.6, RMSE test = 46.2',\n",
       " \"({'max_lag': 26}, {'rolling_mean_size': 12})\": 'RMSE train = 25.6, RMSE test = 46.2',\n",
       " \"({'max_lag': 26}, {'rolling_mean_size': 14})\": 'RMSE train = 25.6, RMSE test = 46.2',\n",
       " \"({'max_lag': 26}, {'rolling_mean_size': 16})\": 'RMSE train = 25.6, RMSE test = 46.2',\n",
       " \"({'max_lag': 26}, {'rolling_mean_size': 18})\": 'RMSE train = 25.6, RMSE test = 46.2',\n",
       " \"({'max_lag': 28}, {'rolling_mean_size': 10})\": 'RMSE train = 25.3, RMSE test = 46.5',\n",
       " \"({'max_lag': 28}, {'rolling_mean_size': 12})\": 'RMSE train = 25.3, RMSE test = 46.5',\n",
       " \"({'max_lag': 28}, {'rolling_mean_size': 14})\": 'RMSE train = 25.3, RMSE test = 46.5',\n",
       " \"({'max_lag': 28}, {'rolling_mean_size': 16})\": 'RMSE train = 25.3, RMSE test = 46.5',\n",
       " \"({'max_lag': 28}, {'rolling_mean_size': 18})\": 'RMSE train = 25.3, RMSE test = 46.5'}"
      ]
     },
     "execution_count": 42,
     "metadata": {},
     "output_type": "execute_result"
    }
   ],
   "source": [
    "buf"
   ]
  },
  {
   "cell_type": "markdown",
   "metadata": {},
   "source": [
    "Для создания признаков выбираем следующие параметры: *max_lag = 24*, *rolling_mean_size = 16*"
   ]
  },
  {
   "cell_type": "markdown",
   "metadata": {},
   "source": [
    "Создадим тренировочную, проверочную и тестовую выборки. Также проведем стандартизацию."
   ]
  },
  {
   "cell_type": "code",
   "execution_count": 43,
   "metadata": {},
   "outputs": [],
   "source": [
    "data = make_features(data, max_lag=24, rolling_mean_size=16)\n",
    "    \n",
    "train_, test = train_test_split(data, shuffle=False, test_size=0.1)\n",
    "train_ = train_.dropna()\n",
    "\n",
    "train, valid = train_test_split(train_, shuffle=False, test_size=0.1)\n",
    "\n",
    "features_train = train.drop('num_orders', axis=1)\n",
    "target_train = train['num_orders']\n",
    "features_valid = valid.drop('num_orders', axis=1)\n",
    "target_valid = valid['num_orders']\n",
    "features_test = test.drop('num_orders', axis=1)\n",
    "target_test = test['num_orders']\n",
    "\n",
    "scaler = StandardScaler()\n",
    "scaler.fit(features_train)\n",
    "features_train_st = scaler.transform(features_train)\n",
    "features_valid_st = scaler.transform(features_valid)\n",
    "features_test_st = scaler.transform(features_test)"
   ]
  },
  {
   "cell_type": "markdown",
   "metadata": {},
   "source": [
    "Проверим получившиеся размеры выборок."
   ]
  },
  {
   "cell_type": "code",
   "execution_count": 44,
   "metadata": {},
   "outputs": [
    {
     "name": "stdout",
     "output_type": "stream",
     "text": [
      "(3551, 32)\n",
      "(395, 32)\n",
      "(442, 32)\n"
     ]
    }
   ],
   "source": [
    "print(features_train_st.shape)\n",
    "print(features_valid_st.shape)\n",
    "print(features_test_st.shape)"
   ]
  },
  {
   "cell_type": "markdown",
   "metadata": {},
   "source": [
    "### 3.2 LinearRegression"
   ]
  },
  {
   "cell_type": "code",
   "execution_count": 45,
   "metadata": {},
   "outputs": [
    {
     "data": {
      "text/plain": [
       "LinearRegression(copy_X=True, fit_intercept=True, n_jobs=None, normalize=True)"
      ]
     },
     "execution_count": 45,
     "metadata": {},
     "output_type": "execute_result"
    }
   ],
   "source": [
    "model = LinearRegression(normalize=True)\n",
    "model.fit(features_train_st, target_train)"
   ]
  },
  {
   "cell_type": "code",
   "execution_count": 46,
   "metadata": {},
   "outputs": [],
   "source": [
    "pred = model.predict(features_valid_st)\n",
    "rmse = mean_squared_error(target_valid, pred)**0.5"
   ]
  },
  {
   "cell_type": "code",
   "execution_count": 47,
   "metadata": {},
   "outputs": [
    {
     "data": {
      "text/plain": [
       "'RMSE = 34.3'"
      ]
     },
     "execution_count": 47,
     "metadata": {},
     "output_type": "execute_result"
    }
   ],
   "source": [
    "'RMSE = {:.1f}'.format(rmse)"
   ]
  },
  {
   "cell_type": "markdown",
   "metadata": {},
   "source": [
    "### 3.3 SGDRegressor"
   ]
  },
  {
   "cell_type": "markdown",
   "metadata": {},
   "source": [
    "Аналогично исследуем модель SGDRegressor, в качестве параметров для `make_features` возьмем результаты предыдущего подбора, а перебирать будем различные варианты функции потерь и скорости обучения."
   ]
  },
  {
   "cell_type": "code",
   "execution_count": 48,
   "metadata": {},
   "outputs": [],
   "source": [
    "gen = product([{'loss':'squared_loss'}, {'loss':'huber'}, {'loss':'epsilon_insensitive'}, {'loss':'squared_epsilon_insensitive'}],\n",
    "              [{'learning_rate':'constant'}, {'learning_rate':'optimal'}, {'learning_rate':'invscaling'}, \n",
    "               {'learning_rate':'adaptive'}])"
   ]
  },
  {
   "cell_type": "code",
   "execution_count": 49,
   "metadata": {},
   "outputs": [],
   "source": [
    "buf = dict()\n",
    "\n",
    "for i in gen:\n",
    "    model = linear_model.SGDRegressor(random_state=12345, **i[0], penalty='l2', **i[1])\n",
    "    model.fit(features_train_st, target_train)\n",
    "    \n",
    "    pred = model.predict(features_valid_st)\n",
    "       \n",
    "    rmse = mean_squared_error(target_valid, pred)**0.5\n",
    "    \n",
    "    buf[str(i)] = 'RMSE = {:.1f}'.format(rmse)"
   ]
  },
  {
   "cell_type": "markdown",
   "metadata": {},
   "source": [
    "Посмотрим на результаты."
   ]
  },
  {
   "cell_type": "code",
   "execution_count": 50,
   "metadata": {
    "scrolled": true
   },
   "outputs": [
    {
     "data": {
      "text/plain": [
       "{\"({'loss': 'squared_loss'}, {'learning_rate': 'constant'})\": 'RMSE = 42.6',\n",
       " \"({'loss': 'squared_loss'}, {'learning_rate': 'optimal'})\": 'RMSE = 44.2',\n",
       " \"({'loss': 'squared_loss'}, {'learning_rate': 'invscaling'})\": 'RMSE = 34.3',\n",
       " \"({'loss': 'squared_loss'}, {'learning_rate': 'adaptive'})\": 'RMSE = 34.3',\n",
       " \"({'loss': 'huber'}, {'learning_rate': 'constant'})\": 'RMSE = 34.6',\n",
       " \"({'loss': 'huber'}, {'learning_rate': 'optimal'})\": 'RMSE = 34.3',\n",
       " \"({'loss': 'huber'}, {'learning_rate': 'invscaling'})\": 'RMSE = 39.8',\n",
       " \"({'loss': 'huber'}, {'learning_rate': 'adaptive'})\": 'RMSE = 34.6',\n",
       " \"({'loss': 'epsilon_insensitive'}, {'learning_rate': 'constant'})\": 'RMSE = 34.4',\n",
       " \"({'loss': 'epsilon_insensitive'}, {'learning_rate': 'optimal'})\": 'RMSE = 36.8',\n",
       " \"({'loss': 'epsilon_insensitive'}, {'learning_rate': 'invscaling'})\": 'RMSE = 34.5',\n",
       " \"({'loss': 'epsilon_insensitive'}, {'learning_rate': 'adaptive'})\": 'RMSE = 34.5',\n",
       " \"({'loss': 'squared_epsilon_insensitive'}, {'learning_rate': 'constant'})\": 'RMSE = 46.5',\n",
       " \"({'loss': 'squared_epsilon_insensitive'}, {'learning_rate': 'optimal'})\": 'RMSE = 48.0',\n",
       " \"({'loss': 'squared_epsilon_insensitive'}, {'learning_rate': 'invscaling'})\": 'RMSE = 34.1',\n",
       " \"({'loss': 'squared_epsilon_insensitive'}, {'learning_rate': 'adaptive'})\": 'RMSE = 34.3'}"
      ]
     },
     "execution_count": 50,
     "metadata": {},
     "output_type": "execute_result"
    }
   ],
   "source": [
    "buf"
   ]
  },
  {
   "cell_type": "markdown",
   "metadata": {},
   "source": [
    "* Лучшего результата удалось достичь при следующих гиперпараметрах: *loss=epsilon_insensitive, learning_rate=optimal*."
   ]
  },
  {
   "cell_type": "markdown",
   "metadata": {},
   "source": [
    "### 3.4 RandomForestRegressor"
   ]
  },
  {
   "cell_type": "markdown",
   "metadata": {},
   "source": [
    "Также исследуем модель RandomForestRegressor."
   ]
  },
  {
   "cell_type": "code",
   "execution_count": 51,
   "metadata": {},
   "outputs": [],
   "source": [
    "gen = product([{'min_samples_split':9}, {'min_samples_split':10}, {'min_samples_split':11}],\n",
    "              [{'min_samples_leaf':5}, {'min_samples_leaf':6}, {'min_samples_leaf':7}])"
   ]
  },
  {
   "cell_type": "code",
   "execution_count": 52,
   "metadata": {},
   "outputs": [],
   "source": [
    "buf = dict()\n",
    "\n",
    "for i in gen:\n",
    "    model = RandomForestRegressor(n_estimators=90, random_state=12345, **i[0], **i[1])\n",
    "    model.fit(features_train_st, target_train)\n",
    "    \n",
    "    pred = model.predict(features_valid_st)\n",
    "    \n",
    "    rmse = mean_squared_error(target_valid, pred)**0.5\n",
    "\n",
    "    buf[str(i)] = 'RMSE = {:.1f}'.format(rmse)"
   ]
  },
  {
   "cell_type": "markdown",
   "metadata": {},
   "source": [
    "Посмотрим на результат."
   ]
  },
  {
   "cell_type": "code",
   "execution_count": 53,
   "metadata": {
    "scrolled": true
   },
   "outputs": [
    {
     "data": {
      "text/plain": [
       "{\"({'min_samples_split': 9}, {'min_samples_leaf': 5})\": 'RMSE = 33.4',\n",
       " \"({'min_samples_split': 9}, {'min_samples_leaf': 6})\": 'RMSE = 33.6',\n",
       " \"({'min_samples_split': 9}, {'min_samples_leaf': 7})\": 'RMSE = 33.6',\n",
       " \"({'min_samples_split': 10}, {'min_samples_leaf': 5})\": 'RMSE = 33.4',\n",
       " \"({'min_samples_split': 10}, {'min_samples_leaf': 6})\": 'RMSE = 33.6',\n",
       " \"({'min_samples_split': 10}, {'min_samples_leaf': 7})\": 'RMSE = 33.6',\n",
       " \"({'min_samples_split': 11}, {'min_samples_leaf': 5})\": 'RMSE = 33.5',\n",
       " \"({'min_samples_split': 11}, {'min_samples_leaf': 6})\": 'RMSE = 33.6',\n",
       " \"({'min_samples_split': 11}, {'min_samples_leaf': 7})\": 'RMSE = 33.6'}"
      ]
     },
     "execution_count": 53,
     "metadata": {},
     "output_type": "execute_result"
    }
   ],
   "source": [
    "buf"
   ]
  },
  {
   "cell_type": "markdown",
   "metadata": {},
   "source": [
    "* Лучшего результата удалось достичь при следующих гиперпараметрах: min_samples_split=10, min_samples_leaf=5*.\n",
    "\n",
    "------"
   ]
  },
  {
   "cell_type": "markdown",
   "metadata": {},
   "source": [
    "# 4. Тестирование"
   ]
  },
  {
   "cell_type": "markdown",
   "metadata": {},
   "source": [
    "Для тестирования выбираем модель LinearRegression."
   ]
  },
  {
   "cell_type": "code",
   "execution_count": 54,
   "metadata": {},
   "outputs": [],
   "source": [
    "model = LinearRegression(normalize=True)\n",
    "model.fit(features_train_st, target_train)\n",
    "\n",
    "pred = model.predict(features_test_st)\n",
    "\n",
    "rmse_test = mean_squared_error(target_test, pred)**0.5"
   ]
  },
  {
   "cell_type": "markdown",
   "metadata": {},
   "source": [
    "Посчитаем значение метрики RMSE."
   ]
  },
  {
   "cell_type": "code",
   "execution_count": 55,
   "metadata": {},
   "outputs": [
    {
     "name": "stdout",
     "output_type": "stream",
     "text": [
      "RMSE = 47.4\n"
     ]
    }
   ],
   "source": [
    "rmse = mean_squared_error(target_test, pred)**0.5\n",
    "print('RMSE = {:.1f}'.format(rmse))"
   ]
  },
  {
   "cell_type": "markdown",
   "metadata": {},
   "source": [
    "## Выводы"
   ]
  },
  {
   "cell_type": "markdown",
   "metadata": {},
   "source": [
    "* В ходе проекта удалось достичь значения метрики RMSE = 47.4. Также в данных имеется четкий тренд увеличения числа заказов с марта по август, а в течение дня наблюдается четкая \"сезонность\" количества заказов такси. Все эти данные помогут спрогнозировать более менее реальные значения количества такси на следующий час.\n",
    "\n",
    "------"
   ]
  }
 ],
 "metadata": {
  "kernelspec": {
   "display_name": "Python 3",
   "language": "python",
   "name": "python3"
  },
  "language_info": {
   "codemirror_mode": {
    "name": "ipython",
    "version": 3
   },
   "file_extension": ".py",
   "mimetype": "text/x-python",
   "name": "python",
   "nbconvert_exporter": "python",
   "pygments_lexer": "ipython3",
   "version": "3.7.6"
  }
 },
 "nbformat": 4,
 "nbformat_minor": 2
}
