{
 "cells": [
  {
   "cell_type": "markdown",
   "metadata": {},
   "source": [
    "# Проект. Анализ спроса авиакомпании"
   ]
  },
  {
   "cell_type": "markdown",
   "metadata": {},
   "source": [
    "Имеется российская авиакомпания F9, выполняющая внутренние пассажирские перевозки. Важно понять предпочтения пользователей, покупающих билеты на разные направления.\n",
    "\n",
    "В ходе проекта предстоит изучить базу данных и проанализировать спрос пассажиров на рейсы в города, где проходят крупнейшие культурные фестивали."
   ]
  },
  {
   "cell_type": "markdown",
   "metadata": {},
   "source": [
    "### Инструкция по выполнению проекта"
   ]
  },
  {
   "cell_type": "markdown",
   "metadata": {},
   "source": [
    "**Шаг 1.  Аналитика средствами Python**\n",
    "\n",
    "У вас есть файлы, в которых содержатся результаты запросов из предыдущих заданий.\n",
    "\n",
    "**query_1.csv** — результат первого запроса. В нём содержится такая информация:\n",
    "\n",
    "- *model* — **модель самолета;\n",
    "- *flights_amount* — количество рейсов для каждой модели самолетов *model* в сентябре 2018 года.\n",
    "\n",
    "**query_3.csv** — результат третьего запроса. В нём содержится такая информация:\n",
    "\n",
    "- *city* — город;\n",
    "- *average_flights* — среднее количество рейсов, прибывающих в город (*city*) за день в сентябре 2018 года.\n",
    "\n",
    " Для этих двух наборов данных нужно:\n",
    "\n",
    "- импортировать файлы;\n",
    "- изучить данные в них;\n",
    "- проверить типы данных на корректность;\n",
    "- выбрать топ-10 городов по количеству рейсов;\n",
    "- построить графики: модели самолётов и количество рейсов, города и количество рейсов, топ-10 городов и количество рейсов;\n",
    "- сделать выводы по каждому из графиков, пояснить результат.\n",
    "\n",
    "**Шаг 2.  Проверка гипотезы средствами Python**\n",
    "\n",
    "**query_last.csv** — результат последнего запроса. В нём следующая информация:\n",
    "\n",
    "- *week_number* — **номер недели;\n",
    "- *ticket_amount* — количество проданных билетов за неделю;\n",
    "- *festival_week —* есть ли на этой неделе фестиваль;\n",
    "- *festival_name —* название фестиваля.\n",
    "\n",
    "Проверьте гипотезу: «Средний спрос на билеты во время фестивалей не отличается от среднего спроса на билеты в обычное время».\n",
    "\n",
    "Пороговое значение *alpha* задайте самостоятельно.\n",
    "\n",
    "Поясните:\n",
    "\n",
    "- Как вы формулировали нулевую и альтернативную гипотезы;\n",
    "- Какой критерий использовали для проверки гипотез и почему."
   ]
  },
  {
   "cell_type": "markdown",
   "metadata": {},
   "source": [
    "## 1. Аналитика"
   ]
  },
  {
   "cell_type": "markdown",
   "metadata": {},
   "source": [
    "### 1.1 Изучение информации о данных"
   ]
  },
  {
   "cell_type": "markdown",
   "metadata": {},
   "source": [
    "Импортируем необходимые модули и библиотеки."
   ]
  },
  {
   "cell_type": "code",
   "execution_count": 2,
   "metadata": {},
   "outputs": [],
   "source": [
    "import pandas as pd\n",
    "import matplotlib.pyplot as plt\n",
    "import numpy as np\n",
    "from scipy import stats as st"
   ]
  },
  {
   "cell_type": "markdown",
   "metadata": {},
   "source": [
    "Прочитаем данные и сохраним их в переменные."
   ]
  },
  {
   "cell_type": "code",
   "execution_count": 3,
   "metadata": {},
   "outputs": [],
   "source": [
    "data_1 = pd.read_csv('/datasets/query_1.csv')\n",
    "data_2 = pd.read_csv('/datasets/query_3.csv')\n",
    "data_3 = pd.read_csv('/datasets/query_last.csv')"
   ]
  },
  {
   "cell_type": "markdown",
   "metadata": {},
   "source": [
    "Посмотрим на информацию о данных."
   ]
  },
  {
   "cell_type": "code",
   "execution_count": 4,
   "metadata": {
    "scrolled": false
   },
   "outputs": [
    {
     "name": "stdout",
     "output_type": "stream",
     "text": [
      "DATA_1\n",
      "             model  flights_amount\n",
      "0  Airbus A319-100             607\n",
      "1  Airbus A321-200             960\n",
      "2   Boeing 737-300             630\n",
      "3   Boeing 767-300             600\n",
      "4   Boeing 777-300             300 \n",
      "\n",
      "<class 'pandas.core.frame.DataFrame'>\n",
      "RangeIndex: 8 entries, 0 to 7\n",
      "Data columns (total 2 columns):\n",
      "model             8 non-null object\n",
      "flights_amount    8 non-null int64\n",
      "dtypes: int64(1), object(1)\n",
      "memory usage: 256.0+ bytes\n",
      "None \n",
      "\n",
      "Наличие дубликатов: 0 \n",
      "\n",
      "       flights_amount\n",
      "count        8.000000\n",
      "mean      2035.625000\n",
      "std       1965.203947\n",
      "min        300.000000\n",
      "25%        605.250000\n",
      "50%        795.000000\n",
      "75%       4250.250000\n",
      "max       4557.000000 \n",
      "\n",
      "\n",
      "DATA_2\n",
      "          city  average_flights\n",
      "0       Абакан         3.870968\n",
      "1      Анадырь         1.000000\n",
      "2        Анапа         2.161290\n",
      "3  Архангельск         5.354839\n",
      "4    Астрахань         2.451613 \n",
      "\n",
      "<class 'pandas.core.frame.DataFrame'>\n",
      "RangeIndex: 101 entries, 0 to 100\n",
      "Data columns (total 2 columns):\n",
      "city               101 non-null object\n",
      "average_flights    101 non-null float64\n",
      "dtypes: float64(1), object(1)\n",
      "memory usage: 1.7+ KB\n",
      "None \n",
      "\n",
      "Наличие дубликатов: 0 \n",
      "\n",
      "       average_flights\n",
      "count       101.000000\n",
      "mean          5.494189\n",
      "std          13.119790\n",
      "min           1.000000\n",
      "25%           2.000000\n",
      "50%           3.000000\n",
      "75%           5.870968\n",
      "max         129.774194 \n",
      "\n",
      "\n",
      "DATA_3\n",
      "   week_number  ticket_amount  festival_week festival_name\n",
      "0           30          43568           30.0     Park Live\n",
      "1           31          51034           31.0  Пикник Афиши\n",
      "2           32          51675            NaN           NaN\n",
      "3           33          51378            NaN           NaN\n",
      "4           34          51492            NaN           NaN \n",
      "\n",
      "<class 'pandas.core.frame.DataFrame'>\n",
      "RangeIndex: 10 entries, 0 to 9\n",
      "Data columns (total 4 columns):\n",
      "week_number      10 non-null int64\n",
      "ticket_amount    10 non-null int64\n",
      "festival_week    3 non-null float64\n",
      "festival_name    3 non-null object\n",
      "dtypes: float64(1), int64(2), object(1)\n",
      "memory usage: 448.0+ bytes\n",
      "None \n",
      "\n",
      "Наличие дубликатов: 0 \n",
      "\n",
      "       week_number  ticket_amount  festival_week\n",
      "count     10.00000      10.000000       3.000000\n",
      "mean      34.50000   50670.400000      32.333333\n",
      "std        3.02765    2502.752716       3.214550\n",
      "min       30.00000   43568.000000      30.000000\n",
      "25%       32.25000   51364.500000      30.500000\n",
      "50%       34.50000   51439.000000      31.000000\n",
      "75%       36.75000   51596.750000      33.500000\n",
      "max       39.00000   51675.000000      36.000000 \n",
      "\n",
      "\n"
     ]
    }
   ],
   "source": [
    "names = [data_1, data_2, data_3]\n",
    "for i, k in enumerate(names):\n",
    "    print(\"DATA_\" + str(i + 1))\n",
    "    print(k.head(), '\\n')\n",
    "    print(k.info(), '\\n')\n",
    "    print('Наличие дубликатов:', k.duplicated().sum(), '\\n')\n",
    "    print(k.describe(), '\\n\\n')"
   ]
  },
  {
   "cell_type": "markdown",
   "metadata": {},
   "source": [
    "* В первом и втором датасете с типом данных и наличием пропусков проблем нет. В третьем датасете можно поменять тип данных столбца *'festival_week'*, но необязательно так как эти значения не будут использоваться. Наличие пропусков также не повлияет на решение задач проекта. В целом с данными все в порядке и можно приступать к анализу. Дубликаты также отсутствуют.\n",
    "\n",
    "------"
   ]
  },
  {
   "cell_type": "markdown",
   "metadata": {},
   "source": [
    "### 1.2 Построение таблицы и графиков"
   ]
  },
  {
   "cell_type": "markdown",
   "metadata": {},
   "source": [
    "Выберем топ-10 городов по количеству рейсов."
   ]
  },
  {
   "cell_type": "code",
   "execution_count": 5,
   "metadata": {},
   "outputs": [
    {
     "data": {
      "text/html": [
       "<div>\n",
       "<style scoped>\n",
       "    .dataframe tbody tr th:only-of-type {\n",
       "        vertical-align: middle;\n",
       "    }\n",
       "\n",
       "    .dataframe tbody tr th {\n",
       "        vertical-align: top;\n",
       "    }\n",
       "\n",
       "    .dataframe thead th {\n",
       "        text-align: right;\n",
       "    }\n",
       "</style>\n",
       "<table border=\"1\" class=\"dataframe\">\n",
       "  <thead>\n",
       "    <tr style=\"text-align: right;\">\n",
       "      <th></th>\n",
       "      <th>city</th>\n",
       "      <th>average_flights</th>\n",
       "    </tr>\n",
       "  </thead>\n",
       "  <tbody>\n",
       "    <tr>\n",
       "      <td>43</td>\n",
       "      <td>Москва</td>\n",
       "      <td>129.774194</td>\n",
       "    </tr>\n",
       "    <tr>\n",
       "      <td>70</td>\n",
       "      <td>Санкт-Петербург</td>\n",
       "      <td>31.161290</td>\n",
       "    </tr>\n",
       "    <tr>\n",
       "      <td>54</td>\n",
       "      <td>Новосибирск</td>\n",
       "      <td>17.322581</td>\n",
       "    </tr>\n",
       "    <tr>\n",
       "      <td>33</td>\n",
       "      <td>Красноярск</td>\n",
       "      <td>11.580645</td>\n",
       "    </tr>\n",
       "    <tr>\n",
       "      <td>20</td>\n",
       "      <td>Екатеринбург</td>\n",
       "      <td>11.322581</td>\n",
       "    </tr>\n",
       "    <tr>\n",
       "      <td>67</td>\n",
       "      <td>Ростов-на-Дону</td>\n",
       "      <td>10.193548</td>\n",
       "    </tr>\n",
       "    <tr>\n",
       "      <td>63</td>\n",
       "      <td>Пермь</td>\n",
       "      <td>10.129032</td>\n",
       "    </tr>\n",
       "    <tr>\n",
       "      <td>10</td>\n",
       "      <td>Брянск</td>\n",
       "      <td>10.000000</td>\n",
       "    </tr>\n",
       "    <tr>\n",
       "      <td>74</td>\n",
       "      <td>Сочи</td>\n",
       "      <td>9.612903</td>\n",
       "    </tr>\n",
       "    <tr>\n",
       "      <td>84</td>\n",
       "      <td>Ульяновск</td>\n",
       "      <td>9.580645</td>\n",
       "    </tr>\n",
       "  </tbody>\n",
       "</table>\n",
       "</div>"
      ],
      "text/plain": [
       "               city  average_flights\n",
       "43           Москва       129.774194\n",
       "70  Санкт-Петербург        31.161290\n",
       "54      Новосибирск        17.322581\n",
       "33       Красноярск        11.580645\n",
       "20     Екатеринбург        11.322581\n",
       "67   Ростов-на-Дону        10.193548\n",
       "63            Пермь        10.129032\n",
       "10           Брянск        10.000000\n",
       "74             Сочи         9.612903\n",
       "84        Ульяновск         9.580645"
      ]
     },
     "execution_count": 5,
     "metadata": {},
     "output_type": "execute_result"
    }
   ],
   "source": [
    "data_2.sort_values(by='average_flights', ascending=False).head(10)"
   ]
  },
  {
   "cell_type": "markdown",
   "metadata": {},
   "source": [
    "Построим график модели самолетов и количество рейсов."
   ]
  },
  {
   "cell_type": "code",
   "execution_count": 6,
   "metadata": {
    "scrolled": false
   },
   "outputs": [
    {
     "data": {
      "image/png": "[encoded data removed]",
      "text/plain": [
       "<Figure size 720x720 with 1 Axes>"
      ]
     },
     "metadata": {
      "needs_background": "light"
     },
     "output_type": "display_data"
    }
   ],
   "source": [
    "data_1.plot(x='model', y='flights_amount', kind='bar', grid=True, figsize=(10,10))\n",
    "plt.title('График «Модели самолётов и количество рейсов»', fontsize='large');\n",
    "plt.ylabel('Количество рейсов', fontsize='large');\n",
    "plt.xlabel('Модель самолета', fontsize='large');"
   ]
  },
  {
   "cell_type": "markdown",
   "metadata": {},
   "source": [
    "* Количество рейсов в сентябре 2018 года самолетов компаний Bombardier, Cessna и Sukhoi превышает количество рейсов самолетов компаний Airbus и Boeing больше, чем в 4 раза. Относительно самолетов Boeing, можно предположить, что они меньше используются, потому что не нужна такая большая вместимость пассажиров, так как это региональные авиаперевозки. Самолеты компаний Bombardier, Cessna и Sukhoi - это самолеты для региональных перевозок, отсюда такое большое количество рейсов. Самолеты компании Airbus, возможно, больше нацелены на международные авиаперевозки."
   ]
  },
  {
   "cell_type": "markdown",
   "metadata": {},
   "source": [
    "Построим график города и количество рейсов. В качестве типа графика выберем гистограмму, так образом можно будет посмотреть на распределение среднего колчества рейсов в день."
   ]
  },
  {
   "cell_type": "code",
   "execution_count": 7,
   "metadata": {},
   "outputs": [
    {
     "data": {
      "image/png": "[encoded data removed]",
      "text/plain": [
       "<Figure size 1080x576 with 2 Axes>"
      ]
     },
     "metadata": {
      "needs_background": "light"
     },
     "output_type": "display_data"
    },
    {
     "name": "stdout",
     "output_type": "stream",
     "text": [
      "       average_flights\n",
      "count       101.000000\n",
      "mean          5.494189\n",
      "std          13.119790\n",
      "min           1.000000\n",
      "2.5%          1.000000\n",
      "25%           2.000000\n",
      "50%           3.000000\n",
      "75%           5.870968\n",
      "97.5%        14.451613\n",
      "max         129.774194\n"
     ]
    }
   ],
   "source": [
    "# гистограмма без удаления выбросов\n",
    "data_2.plot(kind='hist', bins=12, grid=True, figsize=(15,8), ax = plt.subplot(1,2,1))\n",
    "plt.title('Гистограмма распределения среднего количества рейсов', fontsize='large');\n",
    "plt.xlabel('среднее количество рейсов', fontsize='large');\n",
    "\n",
    "# гистограмма с удаление выбросов\n",
    "(data_2\n",
    " .query('city != \"Москва\" and city != \"Новосибирск\" and city != \"Санкт-Петербург\"')\n",
    " .plot(kind='hist', bins=12, grid=True, figsize=(15,8), ax = plt.subplot(1,2,2))\n",
    ")\n",
    "plt.title('Гистограмма распределения среднего количества рейсов', fontsize='large');\n",
    "plt.xlabel('среднее количество рейсов', fontsize='large');\n",
    "\n",
    "plt.show()\n",
    "\n",
    "# показываем статистики выборки, в частности процентили 2,5% и 97.5%, чтобы убрать выбросы\n",
    "print(data_2.describe(percentiles=[0.025, 0.25, 0.5, 0.75, 0.975]))"
   ]
  },
  {
   "cell_type": "markdown",
   "metadata": {},
   "source": [
    "* Пришлось построить второй график, так как по первой гистограмме можно сказать, что имеются в выборке имеются выбросы. Для удаления выбросов использовалось значение среднего количества рейсов, равное процентилю 97.5% или 14.45. И исходя из таблицы \"топ-10 городов по количеству рейсов\", выбросами являются города Москва, Санкт-Петербург и Новосибирск. По второй гистограмме можно сказать что, в основном в сентябре в каждый город прибывает от 1 до 5-6 самолетов.  "
   ]
  },
  {
   "cell_type": "markdown",
   "metadata": {},
   "source": [
    "Гостроим график топ-10 городов и среднее количество рейсов. Используем столбчатый тип графика."
   ]
  },
  {
   "cell_type": "code",
   "execution_count": 8,
   "metadata": {},
   "outputs": [
    {
     "data": {
      "image/png": "[encoded data removed]",
      "text/plain": [
       "<Figure size 720x720 with 1 Axes>"
      ]
     },
     "metadata": {
      "needs_background": "light"
     },
     "output_type": "display_data"
    }
   ],
   "source": [
    "(data_2\n",
    " .sort_values(by='average_flights', ascending=False).head(10)\n",
    " .plot(x='city', y='average_flights', kind='bar', grid=True, figsize=(10,10)))\n",
    "plt.title('График «Топ-10 городов и количество рейсов»', fontsize='large');\n",
    "plt.ylabel('Среднее количество рейсов', fontsize='large');\n",
    "plt.xlabel('Город', fontsize='large');\n",
    "plt.yticks(range(0, 140, 10));"
   ]
  },
  {
   "cell_type": "markdown",
   "metadata": {},
   "source": [
    "* Можно сказать, что Москва - абсолютный лидер по количеству прибывающих в сентябре рейсов. Количество рейсов в Санкт-Петербурге и Новосибирске меньше в 4 и 6 раз соответственно.\n",
    "\n",
    "------"
   ]
  },
  {
   "cell_type": "markdown",
   "metadata": {},
   "source": [
    "## 2. Проверка гипотезы"
   ]
  },
  {
   "cell_type": "markdown",
   "metadata": {},
   "source": [
    "Посмотрим на таблицу билетов, недель и фестивалей."
   ]
  },
  {
   "cell_type": "code",
   "execution_count": 9,
   "metadata": {},
   "outputs": [
    {
     "data": {
      "text/html": [
       "<div>\n",
       "<style scoped>\n",
       "    .dataframe tbody tr th:only-of-type {\n",
       "        vertical-align: middle;\n",
       "    }\n",
       "\n",
       "    .dataframe tbody tr th {\n",
       "        vertical-align: top;\n",
       "    }\n",
       "\n",
       "    .dataframe thead th {\n",
       "        text-align: right;\n",
       "    }\n",
       "</style>\n",
       "<table border=\"1\" class=\"dataframe\">\n",
       "  <thead>\n",
       "    <tr style=\"text-align: right;\">\n",
       "      <th></th>\n",
       "      <th>week_number</th>\n",
       "      <th>ticket_amount</th>\n",
       "      <th>festival_week</th>\n",
       "      <th>festival_name</th>\n",
       "    </tr>\n",
       "  </thead>\n",
       "  <tbody>\n",
       "    <tr>\n",
       "      <td>0</td>\n",
       "      <td>30</td>\n",
       "      <td>43568</td>\n",
       "      <td>30.0</td>\n",
       "      <td>Park Live</td>\n",
       "    </tr>\n",
       "    <tr>\n",
       "      <td>1</td>\n",
       "      <td>31</td>\n",
       "      <td>51034</td>\n",
       "      <td>31.0</td>\n",
       "      <td>Пикник Афиши</td>\n",
       "    </tr>\n",
       "    <tr>\n",
       "      <td>2</td>\n",
       "      <td>32</td>\n",
       "      <td>51675</td>\n",
       "      <td>NaN</td>\n",
       "      <td>NaN</td>\n",
       "    </tr>\n",
       "    <tr>\n",
       "      <td>3</td>\n",
       "      <td>33</td>\n",
       "      <td>51378</td>\n",
       "      <td>NaN</td>\n",
       "      <td>NaN</td>\n",
       "    </tr>\n",
       "    <tr>\n",
       "      <td>4</td>\n",
       "      <td>34</td>\n",
       "      <td>51492</td>\n",
       "      <td>NaN</td>\n",
       "      <td>NaN</td>\n",
       "    </tr>\n",
       "    <tr>\n",
       "      <td>5</td>\n",
       "      <td>35</td>\n",
       "      <td>51360</td>\n",
       "      <td>NaN</td>\n",
       "      <td>NaN</td>\n",
       "    </tr>\n",
       "    <tr>\n",
       "      <td>6</td>\n",
       "      <td>36</td>\n",
       "      <td>51386</td>\n",
       "      <td>36.0</td>\n",
       "      <td>Видфест</td>\n",
       "    </tr>\n",
       "    <tr>\n",
       "      <td>7</td>\n",
       "      <td>37</td>\n",
       "      <td>51670</td>\n",
       "      <td>NaN</td>\n",
       "      <td>NaN</td>\n",
       "    </tr>\n",
       "    <tr>\n",
       "      <td>8</td>\n",
       "      <td>38</td>\n",
       "      <td>51518</td>\n",
       "      <td>NaN</td>\n",
       "      <td>NaN</td>\n",
       "    </tr>\n",
       "    <tr>\n",
       "      <td>9</td>\n",
       "      <td>39</td>\n",
       "      <td>51623</td>\n",
       "      <td>NaN</td>\n",
       "      <td>NaN</td>\n",
       "    </tr>\n",
       "  </tbody>\n",
       "</table>\n",
       "</div>"
      ],
      "text/plain": [
       "   week_number  ticket_amount  festival_week festival_name\n",
       "0           30          43568           30.0     Park Live\n",
       "1           31          51034           31.0  Пикник Афиши\n",
       "2           32          51675            NaN           NaN\n",
       "3           33          51378            NaN           NaN\n",
       "4           34          51492            NaN           NaN\n",
       "5           35          51360            NaN           NaN\n",
       "6           36          51386           36.0       Видфест\n",
       "7           37          51670            NaN           NaN\n",
       "8           38          51518            NaN           NaN\n",
       "9           39          51623            NaN           NaN"
      ]
     },
     "execution_count": 9,
     "metadata": {},
     "output_type": "execute_result"
    }
   ],
   "source": [
    "data_3"
   ]
  },
  {
   "cell_type": "markdown",
   "metadata": {},
   "source": [
    "Проверим гипотезу: «Средний спрос на билеты во время фестивалей не отличается от среднего спроса на билеты в обычное время».\n",
    "\n",
    "* **Нулевая гипотеза** - средний спрос на билеты во время фестивалей равен среднему спросу на билеты в обычное время.\n",
    "* **Альтернативная гипотеза** - средний спрос на билеты во время фестивалей не равен среднему спросу на билеты в обычное время."
   ]
  },
  {
   "cell_type": "markdown",
   "metadata": {},
   "source": [
    "Для проверки гипотезы создадим необходимые выборки и посчитаем их дисперсии."
   ]
  },
  {
   "cell_type": "code",
   "execution_count": 10,
   "metadata": {},
   "outputs": [
    {
     "name": "stdout",
     "output_type": "stream",
     "text": [
      "Дисперсия выборки для билетов во время фестиваля 12998464.888888888\n",
      "Дисперсия выборки для билетов без фестиваля 14694.408163265309\n"
     ]
    }
   ],
   "source": [
    "festivals = data_3[data_3['festival_week'].isna() != True]['ticket_amount']\n",
    "not_festivals = data_3[data_3['festival_week'].isna() == True]['ticket_amount']\n",
    "\n",
    "print('Дисперсия выборки для билетов во время фестиваля', np.var(festivals))\n",
    "print('Дисперсия выборки для билетов без фестиваля', np.var(not_festivals))"
   ]
  },
  {
   "cell_type": "markdown",
   "metadata": {},
   "source": [
    "Посмотрим на распределения получившихся выборок."
   ]
  },
  {
   "cell_type": "code",
   "execution_count": 11,
   "metadata": {},
   "outputs": [
    {
     "data": {
      "image/png": "[encoded data removed]",
      "text/plain": [
       "<Figure size 1080x576 with 2 Axes>"
      ]
     },
     "metadata": {
      "needs_background": "light"
     },
     "output_type": "display_data"
    }
   ],
   "source": [
    "festivals.plot(kind='hist', bins=4, ax = plt.subplot(1,2,1), grid=True, figsize=(15,8), ylim=(0,3.5))\n",
    "plt.title('Распределение билетов во время фестиваля', fontsize='large');\n",
    "plt.xlabel('Количество билетов', fontsize='large');\n",
    "\n",
    "not_festivals.plot(kind='hist', bins=4, ax = plt.subplot(1,2,2), grid=True, ylim=(0,3.5), figsize=(15,8))\n",
    "plt.title('Распределение билетов без фестиваля', fontsize='large');\n",
    "plt.xlabel('Количество билетов', fontsize='large');"
   ]
  },
  {
   "cell_type": "markdown",
   "metadata": {},
   "source": [
    "Используем `ttest_ind`."
   ]
  },
  {
   "cell_type": "code",
   "execution_count": 12,
   "metadata": {},
   "outputs": [
    {
     "name": "stdout",
     "output_type": "stream",
     "text": [
      "p-значение: 0.377432493172683\n",
      "Не получилось отвергнуть нулевую гипотезу\n"
     ]
    }
   ],
   "source": [
    "# Примем общепринятое пороговое значение 5%\n",
    "alpha = .05\n",
    "\n",
    "# Для проверки гипотезы используем метод scipy.stats.ttest_ind (array1, array2, equal_var)\n",
    "# аргумент equal_var приравняем False, так как дисперсии выборок не равны\n",
    "results = st.ttest_ind(festivals, not_festivals, equal_var = False)\n",
    "print('p-значение:', results.pvalue)\n",
    "\n",
    "# прописываем условия вывода результата проверки гипотезы\n",
    "if (results.pvalue < alpha):\n",
    "    print(\"Отвергаем нулевую гипотезу\")\n",
    "else:\n",
    "    print(\"Не получилось отвергнуть нулевую гипотезу\")"
   ]
  },
  {
   "cell_type": "markdown",
   "metadata": {},
   "source": [
    "* Результат: не отвергаем нулевую гипотезу.\n",
    "\n",
    "Таким образом, статистический тест показал, что спрос на билеты во время прохождения фестивалей в городе Москва не отличается от спроса на билеты, когда фестивалей нет.\n",
    "\n",
    "------"
   ]
  },
  {
   "cell_type": "markdown",
   "metadata": {},
   "source": [
    "## Выводы"
   ]
  },
  {
   "cell_type": "markdown",
   "metadata": {},
   "source": [
    "* В ходе проекта было проанализировано какие модели самолетов чаще используются для региональных перевозок. Получена информация о том, сколько, в среднем, прибывает самолетов в день в каждый город в течение одного месяца."
   ]
  },
  {
   "cell_type": "markdown",
   "metadata": {},
   "source": [
    "* Также, было показано что спрос на билеты во время прохождения фестивалей в городе Москва не отличается от спроса на билеты, когда фестивалей не проходит. Тут еще надо сказать, что речь идет о Москве, и в нем количество рейсов прибывающих в город в несколько раз превышает количество рейсов в других городах. И на этом фоне влияния прохождений отдельных фестивалей незаметно. Если бы в качестве исследования был выбран любой другой город, то, скорее всего, спрос на билеты во время прохождения фестиваля увеличился."
   ]
  },
  {
   "cell_type": "markdown",
   "metadata": {},
   "source": [
    "------"
   ]
  }
 ],
 "metadata": {
  "kernelspec": {
   "display_name": "Python 3",
   "language": "python",
   "name": "python3"
  },
  "language_info": {
   "codemirror_mode": {
    "name": "ipython",
    "version": 3
   },
   "file_extension": ".py",
   "mimetype": "text/x-python",
   "name": "python",
   "nbconvert_exporter": "python",
   "pygments_lexer": "ipython3",
   "version": "3.7.6"
  }
 },
 "nbformat": 4,
 "nbformat_minor": 2
}
